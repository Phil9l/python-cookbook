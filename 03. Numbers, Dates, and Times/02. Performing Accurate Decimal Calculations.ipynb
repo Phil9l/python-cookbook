{
 "metadata": {
  "name": ""
 },
 "nbformat": 3,
 "nbformat_minor": 0,
 "worksheets": [
  {
   "cells": [
    {
     "cell_type": "heading",
     "level": 1,
     "metadata": {},
     "source": [
      "3.2. Performing Accurate Decimal Calculations"
     ]
    },
    {
     "cell_type": "markdown",
     "metadata": {},
     "source": [
      "# Problem\n",
      "You need to perform accurate calculations with decimal numbers, and don\u2019t want the\n",
      "small errors that naturally occur with floats.\n",
      "\n",
      "# Solution\n",
      "A well-known issue with floating-point numbers is that they can\u2019t accurately represent\n",
      "all base-$10$ decimals. Moreover, even simple mathematical calculations introduce small\n",
      "errors. For example:"
     ]
    },
    {
     "cell_type": "code",
     "collapsed": false,
     "input": [
      "a = 4.2\n",
      "b = 2.1\n",
      "a + b"
     ],
     "language": "python",
     "metadata": {},
     "outputs": [
      {
       "metadata": {},
       "output_type": "pyout",
       "prompt_number": 1,
       "text": [
        "6.300000000000001"
       ]
      }
     ],
     "prompt_number": 1
    },
    {
     "cell_type": "code",
     "collapsed": false,
     "input": [
      "(a + b) == 6.3"
     ],
     "language": "python",
     "metadata": {},
     "outputs": [
      {
       "metadata": {},
       "output_type": "pyout",
       "prompt_number": 2,
       "text": [
        "False"
       ]
      }
     ],
     "prompt_number": 2
    },
    {
     "cell_type": "markdown",
     "metadata": {},
     "source": [
      "These errors are a \u201cfeature\u201d of the underlying CPU and the IEEE 754 arithmetic performed \n",
      "by its floating-point unit. Since Python\u2019s float data type stores data using the\n",
      "native representation, there\u2019s nothing you can do to avoid such errors if you write your\n",
      "code using `float` instances.\n",
      "\n",
      "If you want more accuracy (and are willing to give up some performance), you can use\n",
      "the `decimal` module:"
     ]
    },
    {
     "cell_type": "code",
     "collapsed": false,
     "input": [
      "from decimal import Decimal\n",
      "a = Decimal('4.2')\n",
      "b = Decimal('2.1')\n",
      "a + b"
     ],
     "language": "python",
     "metadata": {},
     "outputs": [
      {
       "metadata": {},
       "output_type": "pyout",
       "prompt_number": 3,
       "text": [
        "Decimal('6.3')"
       ]
      }
     ],
     "prompt_number": 3
    },
    {
     "cell_type": "code",
     "collapsed": false,
     "input": [
      "print(a + b)"
     ],
     "language": "python",
     "metadata": {},
     "outputs": [
      {
       "output_type": "stream",
       "stream": "stdout",
       "text": [
        "6.3\n"
       ]
      }
     ],
     "prompt_number": 4
    },
    {
     "cell_type": "code",
     "collapsed": false,
     "input": [
      "(a + b) == Decimal('6.3')"
     ],
     "language": "python",
     "metadata": {},
     "outputs": [
      {
       "metadata": {},
       "output_type": "pyout",
       "prompt_number": 5,
       "text": [
        "True"
       ]
      }
     ],
     "prompt_number": 5
    },
    {
     "cell_type": "markdown",
     "metadata": {},
     "source": [
      "At first glance, it might look a little weird (i.e., specifying numbers as strings). However,\n",
      "`Decimal` objects work in every way that you would expect them to (supporting all of the\n",
      "usual math operations, etc.). If you print them or use them in string formatting functions, \n",
      "they look like normal numbers.\n",
      "\n",
      "A major feature of `decimal` is that it allows you to control different aspects of \n",
      "calculations, including number of digits and rounding. To do this, you create a local context\n",
      "and change its settings. For example:"
     ]
    },
    {
     "cell_type": "code",
     "collapsed": false,
     "input": [
      "from decimal import localcontext\n",
      "a = Decimal('1.3')\n",
      "b = Decimal('1.7')\n",
      "print(a / b)"
     ],
     "language": "python",
     "metadata": {},
     "outputs": [
      {
       "output_type": "stream",
       "stream": "stdout",
       "text": [
        "0.7647058823529411764705882353\n"
       ]
      }
     ],
     "prompt_number": 6
    },
    {
     "cell_type": "code",
     "collapsed": false,
     "input": [
      "with localcontext() as ctx:\n",
      "    ctx.prec = 3\n",
      "    print(a / b)"
     ],
     "language": "python",
     "metadata": {},
     "outputs": [
      {
       "output_type": "stream",
       "stream": "stdout",
       "text": [
        "0.765\n"
       ]
      }
     ],
     "prompt_number": 7
    },
    {
     "cell_type": "code",
     "collapsed": false,
     "input": [
      "with localcontext() as ctx:\n",
      "    ctx.prec = 50\n",
      "    print(a / b)"
     ],
     "language": "python",
     "metadata": {},
     "outputs": [
      {
       "output_type": "stream",
       "stream": "stdout",
       "text": [
        "0.76470588235294117647058823529411764705882352941176\n"
       ]
      }
     ],
     "prompt_number": 8
    },
    {
     "cell_type": "markdown",
     "metadata": {},
     "source": [
      "# Discussion\n",
      "The `decimal` module implements IBM\u2019s \u201cGeneral Decimal Arithmetic Specification.\u201d\n",
      "Needless to say, there are a huge number of configuration options that are beyond the\n",
      "scope of this book.\n",
      "\n",
      "Newcomers to Python might be inclined to use the `decimal` module to work around\n",
      "perceived accuracy problems with the `float` data type. However, it\u2019s really important\n",
      "to understand your application domain. If you\u2019re working with science or engineering\n",
      "problems, computer graphics, or most things of a scientific nature, it\u2019s simply more\n",
      "common to use the normal floating-point type. For one, very few things in the real world\n",
      "are measured to the $17$ digits of accuracy that floats provide. Thus, tiny errors introduced\n",
      "in calculations just don\u2019t matter. Second, the performance of native floats is significantly\n",
      "faster\u2014something that\u2019s important if you\u2019re performing a large number of calculations.\n",
      "\n",
      "That said, you can\u2019t ignore the errors completely. Mathematicians have spent a lot of\n",
      "time studying various algorithms, and some handle errors better than others. You also\n",
      "have to be a little careful with effects due to things such as subtractive cancellation and\n",
      "adding large and small numbers together. For example:"
     ]
    },
    {
     "cell_type": "code",
     "collapsed": false,
     "input": [
      "nums = [1.23e+18, 1, -1.23e+18]\n",
      "sum(nums)  # Notice how 1 disappears"
     ],
     "language": "python",
     "metadata": {},
     "outputs": [
      {
       "metadata": {},
       "output_type": "pyout",
       "prompt_number": 9,
       "text": [
        "0.0"
       ]
      }
     ],
     "prompt_number": 9
    },
    {
     "cell_type": "markdown",
     "metadata": {},
     "source": [
      "This latter example can be addressed by using a more accurate implementation in\n",
      "`math.fsum()`:"
     ]
    },
    {
     "cell_type": "code",
     "collapsed": false,
     "input": [
      "import math\n",
      "math.fsum(nums)"
     ],
     "language": "python",
     "metadata": {},
     "outputs": [
      {
       "metadata": {},
       "output_type": "pyout",
       "prompt_number": 10,
       "text": [
        "1.0"
       ]
      }
     ],
     "prompt_number": 10
    },
    {
     "cell_type": "markdown",
     "metadata": {},
     "source": [
      "However, for other algorithms, you really need to study the algorithm and understand\n",
      "its error propagation properties.\n",
      "\n",
      "All of this said, the main use of the `decimal` module is in programs involving things\n",
      "such as finance. In such programs, it is extremely annoying to have small errors creep\n",
      "into the calculation. Thus, `decimal` provides a way to avoid that. It is also common to\n",
      "encounter `Decimal` objects when Python interfaces with databases\u2014again, especially\n",
      "when accessing financial data."
     ]
    }
   ],
   "metadata": {}
  }
 ]
}