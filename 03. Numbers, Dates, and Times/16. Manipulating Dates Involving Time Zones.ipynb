{
 "metadata": {
  "name": ""
 },
 "nbformat": 3,
 "nbformat_minor": 0,
 "worksheets": [
  {
   "cells": [
    {
     "cell_type": "heading",
     "level": 1,
     "metadata": {},
     "source": [
      "3.16. Manipulating Dates Involving Time Zones"
     ]
    },
    {
     "cell_type": "markdown",
     "metadata": {},
     "source": [
      "# Problem\n",
      "You had a conference call scheduled for December 21, 2012, at 9:30 a.m. in Chicago. At\n",
      "what local time did your friend in Bangalore, India, have to show up to attend?\n",
      "\n",
      "# Solution\n",
      "For almost any problem involving time zones, you should use the pytz module. This\n",
      "package provides the Olson time zone database, which is the de facto standard for time\n",
      "zone information found in many languages and operating systems.\n",
      "\n",
      "A major use of `pytz` is in localizing simple dates created with the `datetime` library. For\n",
      "example, here is how you would represent a date in Chicago time:"
     ]
    },
    {
     "cell_type": "code",
     "collapsed": false,
     "input": [
      "from datetime import datetime\n",
      "from pytz import timezone\n",
      "d = datetime(2012, 12, 21, 9, 30, 0)\n",
      "print(d)"
     ],
     "language": "python",
     "metadata": {},
     "outputs": [
      {
       "output_type": "stream",
       "stream": "stdout",
       "text": [
        "2012-12-21 09:30:00\n"
       ]
      }
     ],
     "prompt_number": 1
    },
    {
     "cell_type": "code",
     "collapsed": false,
     "input": [
      "# Localize the date for Chicago\n",
      "central = timezone('US/Central')\n",
      "loc_d = central.localize(d)\n",
      "print(loc_d)"
     ],
     "language": "python",
     "metadata": {},
     "outputs": [
      {
       "output_type": "stream",
       "stream": "stdout",
       "text": [
        "2012-12-21 09:30:00-06:00\n"
       ]
      }
     ],
     "prompt_number": 2
    },
    {
     "cell_type": "markdown",
     "metadata": {},
     "source": [
      "Once the date has been localized, it can be converted to other time zones. To find the\n",
      "same time in Bangalore, you would do this:"
     ]
    },
    {
     "cell_type": "code",
     "collapsed": false,
     "input": [
      "# Convert to Bangalore time\n",
      "bang_d = loc_d.astimezone(timezone('Asia/Kolkata'))\n",
      "print(bang_d)"
     ],
     "language": "python",
     "metadata": {},
     "outputs": [
      {
       "output_type": "stream",
       "stream": "stdout",
       "text": [
        "2012-12-21 21:00:00+05:30\n"
       ]
      }
     ],
     "prompt_number": 3
    },
    {
     "cell_type": "markdown",
     "metadata": {},
     "source": [
      "If you are going to perform arithmetic with localized dates, you need to be particularly\n",
      "aware of daylight saving transitions and other details. For example, in 2013, U.S. standard \n",
      "daylight saving time started on March 13, 2:00 a.m. local time (at which point, time\n",
      "skipped ahead one hour). If you\u2019re performing naive arithmetic, you\u2019ll get it wrong. For\n",
      "example:"
     ]
    },
    {
     "cell_type": "code",
     "collapsed": false,
     "input": [
      "d = datetime(2013, 3, 10, 1, 45)\n",
      "loc_d = central.localize(d)\n",
      "print(loc_d)"
     ],
     "language": "python",
     "metadata": {},
     "outputs": [
      {
       "output_type": "stream",
       "stream": "stdout",
       "text": [
        "2013-03-10 01:45:00-06:00\n"
       ]
      }
     ],
     "prompt_number": 4
    },
    {
     "cell_type": "code",
     "collapsed": false,
     "input": [
      "from datetime import timedelta\n",
      "later = loc_d + timedelta(minutes=30)\n",
      "print(later)"
     ],
     "language": "python",
     "metadata": {},
     "outputs": [
      {
       "output_type": "stream",
       "stream": "stdout",
       "text": [
        "2013-03-10 02:15:00-06:00\n"
       ]
      }
     ],
     "prompt_number": 5
    },
    {
     "cell_type": "markdown",
     "metadata": {},
     "source": [
      "The answer is wrong because it doesn\u2019t account for the one-hour skip in the local time.\n",
      "To fix this, use the `normalize()` method of the time zone. For example:"
     ]
    },
    {
     "cell_type": "code",
     "collapsed": false,
     "input": [
      "from datetime import timedelta\n",
      "later = central.normalize(loc_d + timedelta(minutes=30))\n",
      "print(later)"
     ],
     "language": "python",
     "metadata": {},
     "outputs": [
      {
       "output_type": "stream",
       "stream": "stdout",
       "text": [
        "2013-03-10 03:15:00-05:00\n"
       ]
      }
     ],
     "prompt_number": 6
    },
    {
     "cell_type": "markdown",
     "metadata": {},
     "source": [
      "# Discussion\n",
      "To keep your head from completely exploding, a common strategy for localized date\n",
      "handling is to convert all dates to UTC time and to use that for all internal storage and\n",
      "manipulation. For example:"
     ]
    },
    {
     "cell_type": "code",
     "collapsed": false,
     "input": [
      "print(loc_d)"
     ],
     "language": "python",
     "metadata": {},
     "outputs": [
      {
       "output_type": "stream",
       "stream": "stdout",
       "text": [
        "2013-03-10 01:45:00-06:00\n"
       ]
      }
     ],
     "prompt_number": 7
    },
    {
     "cell_type": "code",
     "collapsed": false,
     "input": [
      "import pytz\n",
      "utc_d = loc_d.astimezone(pytz.utc)\n",
      "print(utc_d)"
     ],
     "language": "python",
     "metadata": {},
     "outputs": [
      {
       "output_type": "stream",
       "stream": "stdout",
       "text": [
        "2013-03-10 07:45:00+00:00\n"
       ]
      }
     ],
     "prompt_number": 8
    },
    {
     "cell_type": "markdown",
     "metadata": {},
     "source": [
      "Once in UTC, you don\u2019t have to worry about issues related to daylight saving time and\n",
      "other matters. Thus, you can simply perform normal date arithmetic as before. Should\n",
      "you want to output the date in localized time, just convert it to the appropriate time\n",
      "zone afterward. For example:"
     ]
    },
    {
     "cell_type": "code",
     "collapsed": false,
     "input": [
      "later_utc = utc_d + timedelta(minutes=30)\n",
      "print(later_utc.astimezone(central))"
     ],
     "language": "python",
     "metadata": {},
     "outputs": [
      {
       "output_type": "stream",
       "stream": "stdout",
       "text": [
        "2013-03-10 03:15:00-05:00\n"
       ]
      }
     ],
     "prompt_number": 9
    },
    {
     "cell_type": "markdown",
     "metadata": {},
     "source": [
      "One issue in working with time zones is simply figuring out what time zone names to\n",
      "use. For example, in this recipe, how was it known that \u201cAsia/Kolkata\u201d was the correct\n",
      "time zone name for India? To find out, you can consult the `pytz.country_timezones`\n",
      "dictionary using the ISO 3166 country code as a key. For example:"
     ]
    },
    {
     "cell_type": "code",
     "collapsed": false,
     "input": [
      "pytz.country_timezones['IN']"
     ],
     "language": "python",
     "metadata": {},
     "outputs": [
      {
       "metadata": {},
       "output_type": "pyout",
       "prompt_number": 10,
       "text": [
        "['Asia/Kolkata']"
       ]
      }
     ],
     "prompt_number": 10
    },
    {
     "cell_type": "markdown",
     "metadata": {},
     "source": [
      "## Note\n",
      "By the time you read this, it\u2019s possible that the pytz module will be\n",
      "deprecated in favor of improved time zone support, as described in \n",
      "PEP 431. Many of the same issues will still apply, however (e.g., advice using\n",
      "UTC dates, etc.)."
     ]
    }
   ],
   "metadata": {}
  }
 ]
}