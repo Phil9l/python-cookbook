{
 "metadata": {
  "name": ""
 },
 "nbformat": 3,
 "nbformat_minor": 0,
 "worksheets": [
  {
   "cells": [
    {
     "cell_type": "heading",
     "level": 1,
     "metadata": {},
     "source": [
      "3.14. Finding the Date Range for the Current Month"
     ]
    },
    {
     "cell_type": "markdown",
     "metadata": {},
     "source": [
      "# Problem\n",
      "You have some code that needs to loop over each date in the current month, and want\n",
      "an efficient way to calculate that date range.\n",
      "\n",
      "# Solution\n",
      "Looping over the dates doesn\u2019t require building a list of all the dates ahead of time. You\n",
      "can just calculate the starting and stopping date in the range, then use `datetime.timedelta` \n",
      "objects to increment the date as you go.\n",
      "\n",
      "Here\u2019s a function that takes any `datetime` object, and returns a tuple containing the first\n",
      "date of the month and the starting date of the next month:"
     ]
    },
    {
     "cell_type": "code",
     "collapsed": false,
     "input": [
      "from datetime import datetime, date, timedelta\n",
      "import calendar\n",
      "\n",
      "def get_month_range(start_date=None):\n",
      "    if start_date is None:\n",
      "         start_date = date.today().replace(day=1)\n",
      "    _, days_in_month = calendar.monthrange(start_date.year, start_date.month)\n",
      "    end_date = start_date + timedelta(days=days_in_month)\n",
      "    return (start_date, end_date)"
     ],
     "language": "python",
     "metadata": {},
     "outputs": [],
     "prompt_number": 1
    },
    {
     "cell_type": "markdown",
     "metadata": {},
     "source": [
      "With this in place, it\u2019s pretty simple to loop over the date range:"
     ]
    },
    {
     "cell_type": "code",
     "collapsed": false,
     "input": [
      "a_day = timedelta(days=1)\n",
      "first_day, last_day = get_month_range()\n",
      "while first_day < last_day:\n",
      "    print(first_day)\n",
      "    first_day += a_day"
     ],
     "language": "python",
     "metadata": {},
     "outputs": [
      {
       "output_type": "stream",
       "stream": "stdout",
       "text": [
        "2016-12-01\n",
        "2016-12-02\n",
        "2016-12-03\n",
        "2016-12-04\n",
        "2016-12-05\n",
        "2016-12-06\n",
        "2016-12-07\n",
        "2016-12-08\n",
        "2016-12-09\n",
        "2016-12-10\n",
        "2016-12-11\n",
        "2016-12-12\n",
        "2016-12-13\n",
        "2016-12-14\n",
        "2016-12-15\n",
        "2016-12-16\n",
        "2016-12-17\n",
        "2016-12-18\n",
        "2016-12-19\n",
        "2016-12-20\n",
        "2016-12-21\n",
        "2016-12-22\n",
        "2016-12-23\n",
        "2016-12-24\n",
        "2016-12-25\n",
        "2016-12-26\n",
        "2016-12-27\n",
        "2016-12-28\n",
        "2016-12-29\n",
        "2016-12-30\n",
        "2016-12-31\n"
       ]
      }
     ],
     "prompt_number": 2
    },
    {
     "cell_type": "markdown",
     "metadata": {},
     "source": [
      "# Discussion\n",
      "This recipe works by first calculating a date correponding to the first day of the month.\n",
      "A quick way to do this is to use the `replace()` method of a `date` or `datetime` object to\n",
      "simply set the `days` attribute to $1$. One nice thing about the `replace()` method is that\n",
      "it creates the same kind of object that you started with. Thus, if the input was a date\n",
      "instance, the result is a `date`. Likewise, if the input was a `datetime` instance, you get a\n",
      "`datetime` instance.\n",
      "\n",
      "After that, the `calendar.monthrange()` function is used to find out how many days are\n",
      "in the month in question. Any time you need to get basic information about calendars,\n",
      "the calendar module can be useful. `monthrange()` is only one such function that returns\n",
      "a tuple containing the day of the week along with the number of days in the month.\n",
      "\n",
      "Once the number of days in the month is known, the ending date is calculated by adding\n",
      "an appropriate `timedelta` to the starting date. It\u2019s subtle, but an important aspect of this\n",
      "recipe is that the ending date is not to be included in the range (it is actually the first\n",
      "day of the next month). This mirrors the behavior of Python\u2019s slices and range operations, \n",
      "which also never include the end point.\n",
      "\n",
      "To loop over the date range, standard math and comparison operators are used. For\n",
      "example, `timedelta` instances can be used to increment the date. The `<` operator is used\n",
      "to check whether a date comes before the ending date.\n",
      "\n",
      "Ideally, it would be nice to create a function that works like the built-in `range()` function,\n",
      "but for dates. Fortunately, this is extremely easy to implement using a generator:"
     ]
    },
    {
     "cell_type": "code",
     "collapsed": false,
     "input": [
      "def date_range(start, stop, step):\n",
      "    while start < stop:\n",
      "        yield start\n",
      "        start += step"
     ],
     "language": "python",
     "metadata": {},
     "outputs": [],
     "prompt_number": 3
    },
    {
     "cell_type": "markdown",
     "metadata": {},
     "source": [
      "Here is an example of it in use:"
     ]
    },
    {
     "cell_type": "code",
     "collapsed": false,
     "input": [
      "for d in date_range(datetime(2012, 9, 1), datetime(2012,10,1),\n",
      "                    timedelta(hours=6)):\n",
      "    print(d)"
     ],
     "language": "python",
     "metadata": {},
     "outputs": [
      {
       "output_type": "stream",
       "stream": "stdout",
       "text": [
        "2012-09-01 00:00:00\n",
        "2012-09-01 06:00:00\n",
        "2012-09-01 12:00:00\n",
        "2012-09-01 18:00:00\n",
        "2012-09-02 00:00:00\n",
        "2012-09-02 06:00:00\n",
        "2012-09-02 12:00:00\n",
        "2012-09-02 18:00:00\n",
        "2012-09-03 00:00:00\n",
        "2012-09-03 06:00:00\n",
        "2012-09-03 12:00:00\n",
        "2012-09-03 18:00:00\n",
        "2012-09-04 00:00:00\n",
        "2012-09-04 06:00:00\n",
        "2012-09-04 12:00:00\n",
        "2012-09-04 18:00:00\n",
        "2012-09-05 00:00:00\n",
        "2012-09-05 06:00:00\n",
        "2012-09-05 12:00:00\n",
        "2012-09-05 18:00:00\n",
        "2012-09-06 00:00:00\n",
        "2012-09-06 06:00:00\n",
        "2012-09-06 12:00:00\n",
        "2012-09-06 18:00:00\n",
        "2012-09-07 00:00:00\n",
        "2012-09-07 06:00:00\n",
        "2012-09-07 12:00:00\n",
        "2012-09-07 18:00:00\n",
        "2012-09-08 00:00:00\n",
        "2012-09-08 06:00:00\n",
        "2012-09-08 12:00:00\n",
        "2012-09-08 18:00:00\n",
        "2012-09-09 00:00:00\n",
        "2012-09-09 06:00:00\n",
        "2012-09-09 12:00:00\n",
        "2012-09-09 18:00:00\n",
        "2012-09-10 00:00:00\n",
        "2012-09-10 06:00:00\n",
        "2012-09-10 12:00:00\n",
        "2012-09-10 18:00:00\n",
        "2012-09-11 00:00:00\n",
        "2012-09-11 06:00:00\n",
        "2012-09-11 12:00:00\n",
        "2012-09-11 18:00:00\n",
        "2012-09-12 00:00:00\n",
        "2012-09-12 06:00:00\n",
        "2012-09-12 12:00:00\n",
        "2012-09-12 18:00:00\n",
        "2012-09-13 00:00:00\n",
        "2012-09-13 06:00:00\n",
        "2012-09-13 12:00:00\n",
        "2012-09-13 18:00:00\n",
        "2012-09-14 00:00:00\n",
        "2012-09-14 06:00:00\n",
        "2012-09-14 12:00:00\n",
        "2012-09-14 18:00:00\n",
        "2012-09-15 00:00:00\n",
        "2012-09-15 06:00:00\n",
        "2012-09-15 12:00:00\n",
        "2012-09-15 18:00:00\n",
        "2012-09-16 00:00:00\n",
        "2012-09-16 06:00:00\n",
        "2012-09-16 12:00:00\n",
        "2012-09-16 18:00:00\n",
        "2012-09-17 00:00:00\n",
        "2012-09-17 06:00:00\n",
        "2012-09-17 12:00:00\n",
        "2012-09-17 18:00:00\n",
        "2012-09-18 00:00:00\n",
        "2012-09-18 06:00:00\n",
        "2012-09-18 12:00:00\n",
        "2012-09-18 18:00:00\n",
        "2012-09-19 00:00:00\n",
        "2012-09-19 06:00:00\n",
        "2012-09-19 12:00:00\n",
        "2012-09-19 18:00:00\n",
        "2012-09-20 00:00:00\n",
        "2012-09-20 06:00:00\n",
        "2012-09-20 12:00:00\n",
        "2012-09-20 18:00:00\n",
        "2012-09-21 00:00:00\n",
        "2012-09-21 06:00:00\n",
        "2012-09-21 12:00:00\n",
        "2012-09-21 18:00:00\n",
        "2012-09-22 00:00:00\n",
        "2012-09-22 06:00:00\n",
        "2012-09-22 12:00:00\n",
        "2012-09-22 18:00:00\n",
        "2012-09-23 00:00:00\n",
        "2012-09-23 06:00:00\n",
        "2012-09-23 12:00:00\n",
        "2012-09-23 18:00:00\n",
        "2012-09-24 00:00:00\n",
        "2012-09-24 06:00:00\n",
        "2012-09-24 12:00:00\n",
        "2012-09-24 18:00:00\n",
        "2012-09-25 00:00:00\n",
        "2012-09-25 06:00:00\n",
        "2012-09-25 12:00:00\n",
        "2012-09-25 18:00:00\n",
        "2012-09-26 00:00:00\n",
        "2012-09-26 06:00:00\n",
        "2012-09-26 12:00:00\n",
        "2012-09-26 18:00:00\n",
        "2012-09-27 00:00:00\n",
        "2012-09-27 06:00:00\n",
        "2012-09-27 12:00:00\n",
        "2012-09-27 18:00:00\n",
        "2012-09-28 00:00:00\n",
        "2012-09-28 06:00:00\n",
        "2012-09-28 12:00:00\n",
        "2012-09-28 18:00:00\n",
        "2012-09-29 00:00:00\n",
        "2012-09-29 06:00:00\n",
        "2012-09-29 12:00:00\n",
        "2012-09-29 18:00:00\n",
        "2012-09-30 00:00:00\n",
        "2012-09-30 06:00:00\n",
        "2012-09-30 12:00:00\n",
        "2012-09-30 18:00:00\n"
       ]
      }
     ],
     "prompt_number": 4
    },
    {
     "cell_type": "markdown",
     "metadata": {},
     "source": [
      "Again, a major part of the ease of implementation is that dates and times can be manipulated \n",
      "using standard math and comparison operators."
     ]
    }
   ],
   "metadata": {}
  }
 ]
}