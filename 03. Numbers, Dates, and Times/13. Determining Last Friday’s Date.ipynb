{
 "metadata": {
  "name": ""
 },
 "nbformat": 3,
 "nbformat_minor": 0,
 "worksheets": [
  {
   "cells": [
    {
     "cell_type": "heading",
     "level": 1,
     "metadata": {},
     "source": [
      "3.13. Determining Last Friday\u2019s Date"
     ]
    },
    {
     "cell_type": "markdown",
     "metadata": {},
     "source": [
      "# Problem\n",
      "You want a general solution for finding a date for the last occurrence of a day of the\n",
      "week. Last Friday, for example.\n",
      "\n",
      "# Solution\n",
      "Python\u2019s `datetime` module has utility functions and classes to help perform calculations\n",
      "like this. A decent, generic solution to this problem looks like this:"
     ]
    },
    {
     "cell_type": "code",
     "collapsed": false,
     "input": [
      "from datetime import datetime, timedelta\n",
      "\n",
      "weekdays = ['Monday', 'Tuesday', 'Wednesday', 'Thursday',\n",
      "            'Friday', 'Saturday', 'Sunday']\n",
      "\n",
      "def get_previous_byday(dayname, start_date=None):\n",
      "    if start_date is None:\n",
      "        start_date = datetime.today()\n",
      "    day_num = start_date.weekday()\n",
      "    day_num_target = weekdays.index(dayname)\n",
      "    days_ago = (7 + day_num - day_num_target) % 7\n",
      "    if days_ago == 0:\n",
      "        days_ago = 7\n",
      "    target_date = start_date - timedelta(days=days_ago)\n",
      "    return target_date"
     ],
     "language": "python",
     "metadata": {},
     "outputs": [],
     "prompt_number": 1
    },
    {
     "cell_type": "markdown",
     "metadata": {},
     "source": [
      "Using this in an interpreter session would look like this:"
     ]
    },
    {
     "cell_type": "code",
     "collapsed": false,
     "input": [
      "datetime.today()  # For reference"
     ],
     "language": "python",
     "metadata": {},
     "outputs": [
      {
       "metadata": {},
       "output_type": "pyout",
       "prompt_number": 2,
       "text": [
        "datetime.datetime(2012, 8, 28, 22, 4, 30, 263076)"
       ]
      }
     ],
     "prompt_number": 2
    },
    {
     "cell_type": "code",
     "collapsed": false,
     "input": [
      "get_previous_byday('Monday')"
     ],
     "language": "python",
     "metadata": {},
     "outputs": [
      {
       "metadata": {},
       "output_type": "pyout",
       "prompt_number": 3,
       "text": [
        "datetime.datetime(2012, 8, 27, 22, 4, 30, 263076)"
       ]
      }
     ],
     "prompt_number": 3
    },
    {
     "cell_type": "code",
     "collapsed": false,
     "input": [
      "get_previous_byday('Tuesday')  # Previous week, not today"
     ],
     "language": "python",
     "metadata": {},
     "outputs": [
      {
       "metadata": {},
       "output_type": "pyout",
       "prompt_number": 4,
       "text": [
        "datetime.datetime(2012, 8, 21, 22, 4, 30, 263076)"
       ]
      }
     ],
     "prompt_number": 4
    },
    {
     "cell_type": "code",
     "collapsed": false,
     "input": [
      "get_previous_byday('Friday')"
     ],
     "language": "python",
     "metadata": {},
     "outputs": [
      {
       "metadata": {},
       "output_type": "pyout",
       "prompt_number": 5,
       "text": [
        "datetime.datetime(2012, 8, 24, 22, 4, 30, 263076)"
       ]
      }
     ],
     "prompt_number": 5
    },
    {
     "cell_type": "markdown",
     "metadata": {},
     "source": [
      "The optional `start_date` can be supplied using another `datetime` instance. For\n",
      "example:"
     ]
    },
    {
     "cell_type": "code",
     "collapsed": false,
     "input": [
      "get_previous_byday('Sunday', datetime(2012, 12, 21))"
     ],
     "language": "python",
     "metadata": {},
     "outputs": [
      {
       "metadata": {},
       "output_type": "pyout",
       "prompt_number": 6,
       "text": [
        "datetime.datetime(2012, 12, 16, 0, 0)"
       ]
      }
     ],
     "prompt_number": 6
    },
    {
     "cell_type": "markdown",
     "metadata": {},
     "source": [
      "# Discussion\n",
      "This recipe works by mapping the start date and the target date to their numeric position\n",
      "in the week (with `Monday` as day $0$). Modular arithmetic is then used to figure out how\n",
      "many days ago the target date last occurred. From there, the desired date is calculated\n",
      "from the start date by subtracting an appropriate `timedelta` instance.\n",
      "\n",
      "If you\u2019re performing a lot of date calculations like this, you may be better off installing\n",
      "the python-dateutil package instead. For example, here is an example of performing\n",
      "the same calculation using the `relativedelta()` function from `dateutil`:"
     ]
    },
    {
     "cell_type": "code",
     "collapsed": false,
     "input": [
      "from datetime import datetime\n",
      "from dateutil.relativedelta import relativedelta\n",
      "from dateutil.rrule import *\n",
      "d = datetime.now()\n",
      "print(d)"
     ],
     "language": "python",
     "metadata": {},
     "outputs": [
      {
       "output_type": "stream",
       "stream": "stdout",
       "text": [
        "2012-08-28 22:04:30.263076\n"
       ]
      }
     ],
     "prompt_number": 7
    },
    {
     "cell_type": "code",
     "collapsed": false,
     "input": [
      "# Next Friday\n",
      "print(d + relativedelta(weekday=FR))"
     ],
     "language": "python",
     "metadata": {},
     "outputs": [
      {
       "output_type": "stream",
       "stream": "stdout",
       "text": [
        "2012-08-31 22:04:30.263076\n"
       ]
      }
     ],
     "prompt_number": 8
    },
    {
     "cell_type": "code",
     "collapsed": false,
     "input": [
      "# Last Friday\n",
      "print(d + relativedelta(weekday=FR(-1)))"
     ],
     "language": "python",
     "metadata": {},
     "outputs": [
      {
       "output_type": "stream",
       "stream": "stdout",
       "text": [
        "2012-08-24 22:04:30.263076\n"
       ]
      }
     ],
     "prompt_number": 9
    }
   ],
   "metadata": {}
  }
 ]
}