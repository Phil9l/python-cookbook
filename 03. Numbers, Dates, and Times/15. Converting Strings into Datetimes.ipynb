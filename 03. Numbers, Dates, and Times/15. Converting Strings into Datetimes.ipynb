{
 "metadata": {
  "name": ""
 },
 "nbformat": 3,
 "nbformat_minor": 0,
 "worksheets": [
  {
   "cells": [
    {
     "cell_type": "heading",
     "level": 1,
     "metadata": {},
     "source": [
      "3.15. Converting Strings into Datetimes"
     ]
    },
    {
     "cell_type": "markdown",
     "metadata": {},
     "source": [
      "# Problem\n",
      "Your application receives temporal data in string format, but you want to convert those\n",
      "strings into `datetime` objects in order to perform nonstring operations on them.\n",
      "\n",
      "# Solution\n",
      "Python\u2019s standard `datetime` module is typically the easy solution for this. For example:"
     ]
    },
    {
     "cell_type": "code",
     "collapsed": false,
     "input": [
      "from datetime import datetime\n",
      "text = '2012-09-20'\n",
      "y = datetime.strptime(text, '%Y-%m-%d')\n",
      "z = datetime.now()\n",
      "diff = z - y\n",
      "diff"
     ],
     "language": "python",
     "metadata": {},
     "outputs": [
      {
       "metadata": {},
       "output_type": "pyout",
       "prompt_number": 1,
       "text": [
        "datetime.timedelta(1557, 72152, 443051)"
       ]
      }
     ],
     "prompt_number": 1
    },
    {
     "cell_type": "markdown",
     "metadata": {},
     "source": [
      "# Discussion\n",
      "The `datetime.strptime()` method supports a host of formatting codes, like `%Y` for the\n",
      "four-digit year and `%m` for the two-digit month. It\u2019s also worth noting that these formatting \n",
      "placeholders also work in reverse, in case you need to represent a `datetime` object\n",
      "in string output and make it look nice.\n",
      "\n",
      "For example, let\u2019s say you have some code that generates a datetime object, but you need\n",
      "to format a nice, human-readable date to put in the header of an auto-generated letter\n",
      "or report:"
     ]
    },
    {
     "cell_type": "code",
     "collapsed": false,
     "input": [
      "z"
     ],
     "language": "python",
     "metadata": {},
     "outputs": [
      {
       "metadata": {},
       "output_type": "pyout",
       "prompt_number": 2,
       "text": [
        "datetime.datetime(2016, 12, 25, 20, 2, 32, 443051)"
       ]
      }
     ],
     "prompt_number": 2
    },
    {
     "cell_type": "code",
     "collapsed": false,
     "input": [
      "nice_z = datetime.strftime(z, '%A %B %d, %Y')\n",
      "nice_z"
     ],
     "language": "python",
     "metadata": {},
     "outputs": [
      {
       "metadata": {},
       "output_type": "pyout",
       "prompt_number": 3,
       "text": [
        "'Sunday December 25, 2016'"
       ]
      }
     ],
     "prompt_number": 3
    },
    {
     "cell_type": "markdown",
     "metadata": {},
     "source": [
      "It\u2019s worth noting that the performance of `strptime()` is often much worse than you\n",
      "might expect, due to the fact that it\u2019s written in pure Python and it has to deal with all\n",
      "sorts of system locale settings. If you are parsing a lot of dates in your code and you\n",
      "know the precise format, you will probably get much better performance by cooking\n",
      "up a custom solution instead. For example, if you knew that the dates were of the form\n",
      "\u201cYYYY-MM-DD,\u201d you could write a function like this:\n",
      "```python\n",
      "from datetime import datetime\n",
      "\n",
      "def parse_ymd(s):\n",
      "    year_s, mon_s, day_s = s.split('-')\n",
      "    return datetime(int(year_s), int(mon_s), int(day_s))\n",
      "```\n",
      "When tested, this function runs over seven times faster than `datetime.strptime()`.\n",
      "This is probably something to consider if you\u2019re processing large amounts of data involving \n",
      "dates."
     ]
    }
   ],
   "metadata": {}
  }
 ]
}