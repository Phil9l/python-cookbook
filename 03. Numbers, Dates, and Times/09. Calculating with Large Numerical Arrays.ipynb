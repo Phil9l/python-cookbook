{
 "metadata": {
  "name": ""
 },
 "nbformat": 3,
 "nbformat_minor": 0,
 "worksheets": [
  {
   "cells": [
    {
     "cell_type": "heading",
     "level": 1,
     "metadata": {},
     "source": [
      "3.9. Calculating with Large Numerical Arrays"
     ]
    },
    {
     "cell_type": "markdown",
     "metadata": {},
     "source": [
      "# Problem\n",
      "You need to perform calculations on large numerical datasets, such as arrays or grids.\n",
      "\n",
      "# Solution\n",
      "For any heavy computation involving arrays, use the NumPy library. The major feature\n",
      "of NumPy is that it gives Python an array object that is much more efficient and better\n",
      "suited for mathematical calculation than a standard Python list. Here is a short example\n",
      "illustrating important behavioral differences between lists and NumPy arrays:"
     ]
    },
    {
     "cell_type": "code",
     "collapsed": false,
     "input": [
      "# Python lists\n",
      "x = [1, 2, 3, 4]\n",
      "y = [5, 6, 7, 8]\n",
      "x * 2"
     ],
     "language": "python",
     "metadata": {},
     "outputs": [
      {
       "metadata": {},
       "output_type": "pyout",
       "prompt_number": 1,
       "text": [
        "[1, 2, 3, 4, 1, 2, 3, 4]"
       ]
      }
     ],
     "prompt_number": 1
    },
    {
     "cell_type": "code",
     "collapsed": false,
     "input": [
      "x + 10"
     ],
     "language": "python",
     "metadata": {},
     "outputs": [
      {
       "ename": "TypeError",
       "evalue": "can only concatenate list (not \"int\") to list",
       "output_type": "pyerr",
       "traceback": [
        "\u001b[0;31m---------------------------------------------------------------------------\u001b[0m\n\u001b[0;31mTypeError\u001b[0m                                 Traceback (most recent call last)",
        "\u001b[0;32m<ipython-input-2-f51880e8756d>\u001b[0m in \u001b[0;36m<module>\u001b[0;34m()\u001b[0m\n\u001b[0;32m----> 1\u001b[0;31m \u001b[0mx\u001b[0m \u001b[0;34m+\u001b[0m \u001b[0;36m10\u001b[0m\u001b[0;34m\u001b[0m\u001b[0m\n\u001b[0m",
        "\u001b[0;31mTypeError\u001b[0m: can only concatenate list (not \"int\") to list"
       ]
      }
     ],
     "prompt_number": 2
    },
    {
     "cell_type": "code",
     "collapsed": false,
     "input": [
      "x + y"
     ],
     "language": "python",
     "metadata": {},
     "outputs": [
      {
       "metadata": {},
       "output_type": "pyout",
       "prompt_number": 3,
       "text": [
        "[1, 2, 3, 4, 5, 6, 7, 8]"
       ]
      }
     ],
     "prompt_number": 3
    },
    {
     "cell_type": "code",
     "collapsed": false,
     "input": [
      "# Numpy arrays\n",
      "import numpy as np\n",
      "ax = np.array([1, 2, 3, 4])\n",
      "ay = np.array([5, 6, 7, 8])\n",
      "ax * 2"
     ],
     "language": "python",
     "metadata": {},
     "outputs": [
      {
       "metadata": {},
       "output_type": "pyout",
       "prompt_number": 4,
       "text": [
        "array([2, 4, 6, 8])"
       ]
      }
     ],
     "prompt_number": 4
    },
    {
     "cell_type": "code",
     "collapsed": false,
     "input": [
      "ax + 10"
     ],
     "language": "python",
     "metadata": {},
     "outputs": [
      {
       "metadata": {},
       "output_type": "pyout",
       "prompt_number": 5,
       "text": [
        "array([11, 12, 13, 14])"
       ]
      }
     ],
     "prompt_number": 5
    },
    {
     "cell_type": "code",
     "collapsed": false,
     "input": [
      "ax + ay"
     ],
     "language": "python",
     "metadata": {},
     "outputs": [
      {
       "metadata": {},
       "output_type": "pyout",
       "prompt_number": 6,
       "text": [
        "array([ 6,  8, 10, 12])"
       ]
      }
     ],
     "prompt_number": 6
    },
    {
     "cell_type": "code",
     "collapsed": false,
     "input": [
      "ax * ay"
     ],
     "language": "python",
     "metadata": {},
     "outputs": [
      {
       "metadata": {},
       "output_type": "pyout",
       "prompt_number": 7,
       "text": [
        "array([ 5, 12, 21, 32])"
       ]
      }
     ],
     "prompt_number": 7
    },
    {
     "cell_type": "markdown",
     "metadata": {},
     "source": [
      "As you can see, basic mathematical operations involving arrays behave differently.\n",
      "Specifically, scalar operations (e.g., `ax * 2` or `ax + 10`) apply the operation on an\n",
      "element-by-element basis. In addition, performing math operations when both\n",
      "operands are arrays applies the operation to all elements and produces a new array.\n",
      "\n",
      "The fact that math operations apply to all of the elements simultaneously makes it very\n",
      "easy and fast to compute functions across an entire array. For example, if you want to\n",
      "compute the value of a polynomial:"
     ]
    },
    {
     "cell_type": "code",
     "collapsed": false,
     "input": [
      "def f(x):\n",
      "    return 3 * x**2 - 2 * x + 7\n",
      "\n",
      "f(ax)"
     ],
     "language": "python",
     "metadata": {},
     "outputs": [
      {
       "metadata": {},
       "output_type": "pyout",
       "prompt_number": 8,
       "text": [
        "array([ 8, 15, 28, 47])"
       ]
      }
     ],
     "prompt_number": 8
    },
    {
     "cell_type": "markdown",
     "metadata": {},
     "source": [
      "NumPy provides a collection of \u201cuniversal functions\u201d that also allow for array opera\u2010\n",
      "tions. These are replacements for similar functions normally found in the `math` module.\n",
      "For example:"
     ]
    },
    {
     "cell_type": "code",
     "collapsed": false,
     "input": [
      "np.sqrt(ax)"
     ],
     "language": "python",
     "metadata": {},
     "outputs": [
      {
       "metadata": {},
       "output_type": "pyout",
       "prompt_number": 9,
       "text": [
        "array([ 1.        ,  1.41421356,  1.73205081,  2.        ])"
       ]
      }
     ],
     "prompt_number": 9
    },
    {
     "cell_type": "code",
     "collapsed": false,
     "input": [
      "np.cos(ax)"
     ],
     "language": "python",
     "metadata": {},
     "outputs": [
      {
       "metadata": {},
       "output_type": "pyout",
       "prompt_number": 10,
       "text": [
        "array([ 0.54030231, -0.41614684, -0.9899925 , -0.65364362])"
       ]
      }
     ],
     "prompt_number": 10
    },
    {
     "cell_type": "markdown",
     "metadata": {},
     "source": [
      "Using universal functions can be hundreds of times faster than looping over the array\n",
      "elements one at a time and performing calculations using functions in the math module.\n",
      "Thus, you should prefer their use whenever possible.\n",
      "\n",
      "Under the covers, NumPy arrays are allocated in the same manner as in C or Fortran.\n",
      "Namely, they are large, contiguous memory regions consisting of a homogenous data\n",
      "type. Because of this, it\u2019s possible to make arrays much larger than anything you would\n",
      "normally put into a Python list. For example, if you want to make a two-dimensional\n",
      "grid of $10,000$ by $10,000$ floats, it\u2019s not an issue:"
     ]
    },
    {
     "cell_type": "code",
     "collapsed": false,
     "input": [
      "grid = np.zeros(shape=(10000, 10000), dtype=float)\n",
      "grid"
     ],
     "language": "python",
     "metadata": {},
     "outputs": [
      {
       "metadata": {},
       "output_type": "pyout",
       "prompt_number": 11,
       "text": [
        "array([[ 0.,  0.,  0., ...,  0.,  0.,  0.],\n",
        "       [ 0.,  0.,  0., ...,  0.,  0.,  0.],\n",
        "       [ 0.,  0.,  0., ...,  0.,  0.,  0.],\n",
        "       ..., \n",
        "       [ 0.,  0.,  0., ...,  0.,  0.,  0.],\n",
        "       [ 0.,  0.,  0., ...,  0.,  0.,  0.],\n",
        "       [ 0.,  0.,  0., ...,  0.,  0.,  0.]])"
       ]
      }
     ],
     "prompt_number": 11
    },
    {
     "cell_type": "markdown",
     "metadata": {},
     "source": [
      "All of the usual operations still apply to all of the elements simultaneously:"
     ]
    },
    {
     "cell_type": "code",
     "collapsed": false,
     "input": [
      "grid += 10\n",
      "grid"
     ],
     "language": "python",
     "metadata": {},
     "outputs": [
      {
       "metadata": {},
       "output_type": "pyout",
       "prompt_number": 12,
       "text": [
        "array([[ 10.,  10.,  10., ...,  10.,  10.,  10.],\n",
        "       [ 10.,  10.,  10., ...,  10.,  10.,  10.],\n",
        "       [ 10.,  10.,  10., ...,  10.,  10.,  10.],\n",
        "       ..., \n",
        "       [ 10.,  10.,  10., ...,  10.,  10.,  10.],\n",
        "       [ 10.,  10.,  10., ...,  10.,  10.,  10.],\n",
        "       [ 10.,  10.,  10., ...,  10.,  10.,  10.]])"
       ]
      }
     ],
     "prompt_number": 12
    },
    {
     "cell_type": "code",
     "collapsed": false,
     "input": [
      "np.sin(grid)"
     ],
     "language": "python",
     "metadata": {},
     "outputs": [
      {
       "metadata": {},
       "output_type": "pyout",
       "prompt_number": 13,
       "text": [
        "array([[-0.54402111, -0.54402111, -0.54402111, ..., -0.54402111,\n",
        "        -0.54402111, -0.54402111],\n",
        "       [-0.54402111, -0.54402111, -0.54402111, ..., -0.54402111,\n",
        "        -0.54402111, -0.54402111],\n",
        "       [-0.54402111, -0.54402111, -0.54402111, ..., -0.54402111,\n",
        "        -0.54402111, -0.54402111],\n",
        "       ..., \n",
        "       [-0.54402111, -0.54402111, -0.54402111, ..., -0.54402111,\n",
        "        -0.54402111, -0.54402111],\n",
        "       [-0.54402111, -0.54402111, -0.54402111, ..., -0.54402111,\n",
        "        -0.54402111, -0.54402111],\n",
        "       [-0.54402111, -0.54402111, -0.54402111, ..., -0.54402111,\n",
        "        -0.54402111, -0.54402111]])"
       ]
      }
     ],
     "prompt_number": 13
    },
    {
     "cell_type": "markdown",
     "metadata": {},
     "source": [
      "One extremely notable aspect of NumPy is the manner in which it extends Python\u2019s list\n",
      "indexing functionality\u2014especially with multidimensional arrays. To illustrate, make a\n",
      "simple two-dimensional array and try some experiments:"
     ]
    },
    {
     "cell_type": "code",
     "collapsed": false,
     "input": [
      "a = np.array([[1, 2, 3, 4], [5, 6, 7, 8], [9, 10, 11, 12]])\n",
      "a"
     ],
     "language": "python",
     "metadata": {},
     "outputs": [
      {
       "metadata": {},
       "output_type": "pyout",
       "prompt_number": 14,
       "text": [
        "array([[ 1,  2,  3,  4],\n",
        "       [ 5,  6,  7,  8],\n",
        "       [ 9, 10, 11, 12]])"
       ]
      }
     ],
     "prompt_number": 14
    },
    {
     "cell_type": "code",
     "collapsed": false,
     "input": [
      "# Select row 1\n",
      "a[1]"
     ],
     "language": "python",
     "metadata": {},
     "outputs": [
      {
       "metadata": {},
       "output_type": "pyout",
       "prompt_number": 15,
       "text": [
        "array([5, 6, 7, 8])"
       ]
      }
     ],
     "prompt_number": 15
    },
    {
     "cell_type": "code",
     "collapsed": false,
     "input": [
      "# Select column 1\n",
      "a[:,1]"
     ],
     "language": "python",
     "metadata": {},
     "outputs": [
      {
       "metadata": {},
       "output_type": "pyout",
       "prompt_number": 16,
       "text": [
        "array([ 2,  6, 10])"
       ]
      }
     ],
     "prompt_number": 16
    },
    {
     "cell_type": "code",
     "collapsed": false,
     "input": [
      "# Select a subregion and change it\n",
      "a[1:3, 1:3]"
     ],
     "language": "python",
     "metadata": {},
     "outputs": [
      {
       "metadata": {},
       "output_type": "pyout",
       "prompt_number": 17,
       "text": [
        "array([[ 6,  7],\n",
        "       [10, 11]])"
       ]
      }
     ],
     "prompt_number": 17
    },
    {
     "cell_type": "code",
     "collapsed": false,
     "input": [
      "a[1:3, 1:3] += 10\n",
      "a"
     ],
     "language": "python",
     "metadata": {},
     "outputs": [
      {
       "metadata": {},
       "output_type": "pyout",
       "prompt_number": 18,
       "text": [
        "array([[ 1,  2,  3,  4],\n",
        "       [ 5, 16, 17,  8],\n",
        "       [ 9, 20, 21, 12]])"
       ]
      }
     ],
     "prompt_number": 18
    },
    {
     "cell_type": "code",
     "collapsed": false,
     "input": [
      "# Broadcast a row vector across an operation on all rows\n",
      "a + [100, 101, 102, 103]"
     ],
     "language": "python",
     "metadata": {},
     "outputs": [
      {
       "metadata": {},
       "output_type": "pyout",
       "prompt_number": 19,
       "text": [
        "array([[101, 103, 105, 107],\n",
        "       [105, 117, 119, 111],\n",
        "       [109, 121, 123, 115]])"
       ]
      }
     ],
     "prompt_number": 19
    },
    {
     "cell_type": "code",
     "collapsed": false,
     "input": [
      "a"
     ],
     "language": "python",
     "metadata": {},
     "outputs": [
      {
       "metadata": {},
       "output_type": "pyout",
       "prompt_number": 20,
       "text": [
        "array([[ 1,  2,  3,  4],\n",
        "       [ 5, 16, 17,  8],\n",
        "       [ 9, 20, 21, 12]])"
       ]
      }
     ],
     "prompt_number": 20
    },
    {
     "cell_type": "code",
     "collapsed": false,
     "input": [
      "# Conditional assignment on an array\n",
      "np.where(a < 10, a, 10)"
     ],
     "language": "python",
     "metadata": {},
     "outputs": [
      {
       "metadata": {},
       "output_type": "pyout",
       "prompt_number": 21,
       "text": [
        "array([[ 1,  2,  3,  4],\n",
        "       [ 5, 10, 10,  8],\n",
        "       [ 9, 10, 10, 10]])"
       ]
      }
     ],
     "prompt_number": 21
    },
    {
     "cell_type": "markdown",
     "metadata": {},
     "source": [
      "# Discussion\n",
      "NumPy is the foundation for a huge number of science and engineering libraries in\n",
      "Python. It is also one of the largest and most complicated modules in widespread use.\n",
      "That said, it\u2019s still possible to accomplish useful things with NumPy by starting with\n",
      "simple examples and playing around.\n",
      "\n",
      "One note about usage is that it is relatively common to use the statement \n",
      "`import numpy as np`, as shown in the solution. This simply shortens the \n",
      "name to something that\u2019s more convenient to type over and over again in your program.\n",
      "\n",
      "For more information, you definitely need to visit http://www.numpy.org. "
     ]
    }
   ],
   "metadata": {}
  }
 ]
}