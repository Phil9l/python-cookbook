{
 "metadata": {
  "name": ""
 },
 "nbformat": 3,
 "nbformat_minor": 0,
 "worksheets": [
  {
   "cells": [
    {
     "cell_type": "heading",
     "level": 1,
     "metadata": {},
     "source": [
      "4.7. Taking a Slice of an Iterator"
     ]
    },
    {
     "cell_type": "markdown",
     "metadata": {},
     "source": [
      "# Problem\n",
      "You want to take a slice of data produced by an iterator, but the normal slicing operator\n",
      "doesn\u2019t work.\n",
      "\n",
      "# Solution\n",
      "The `itertools.islice()` function is perfectly suited for taking slices of iterators and\n",
      "generators. For example:"
     ]
    },
    {
     "cell_type": "code",
     "collapsed": false,
     "input": [
      "def count(n):\n",
      "    while True:\n",
      "        yield n\n",
      "        n += 1\n",
      "\n",
      "c = count(0)\n",
      "c[10:20]"
     ],
     "language": "python",
     "metadata": {},
     "outputs": [
      {
       "ename": "TypeError",
       "evalue": "'generator' object is not subscriptable",
       "output_type": "pyerr",
       "traceback": [
        "\u001b[0;31m---------------------------------------------------------------------------\u001b[0m\n\u001b[0;31mTypeError\u001b[0m                                 Traceback (most recent call last)",
        "\u001b[0;32m<ipython-input-1-abec19143384>\u001b[0m in \u001b[0;36m<module>\u001b[0;34m()\u001b[0m\n\u001b[1;32m      5\u001b[0m \u001b[0;34m\u001b[0m\u001b[0m\n\u001b[1;32m      6\u001b[0m \u001b[0mc\u001b[0m \u001b[0;34m=\u001b[0m \u001b[0mcount\u001b[0m\u001b[0;34m(\u001b[0m\u001b[0;36m0\u001b[0m\u001b[0;34m)\u001b[0m\u001b[0;34m\u001b[0m\u001b[0m\n\u001b[0;32m----> 7\u001b[0;31m \u001b[0mc\u001b[0m\u001b[0;34m[\u001b[0m\u001b[0;36m10\u001b[0m\u001b[0;34m:\u001b[0m\u001b[0;36m20\u001b[0m\u001b[0;34m]\u001b[0m\u001b[0;34m\u001b[0m\u001b[0m\n\u001b[0m",
        "\u001b[0;31mTypeError\u001b[0m: 'generator' object is not subscriptable"
       ]
      }
     ],
     "prompt_number": 1
    },
    {
     "cell_type": "code",
     "collapsed": false,
     "input": [
      "# Now using islice()\n",
      "import itertools\n",
      "for x in itertools.islice(c, 10, 20):\n",
      "    print(x)"
     ],
     "language": "python",
     "metadata": {},
     "outputs": [
      {
       "output_type": "stream",
       "stream": "stdout",
       "text": [
        "10\n",
        "11\n",
        "12\n",
        "13\n",
        "14\n",
        "15\n",
        "16\n",
        "17\n",
        "18\n",
        "19\n"
       ]
      }
     ],
     "prompt_number": 2
    },
    {
     "cell_type": "markdown",
     "metadata": {},
     "source": [
      "# Discussion\n",
      "Iterators and generators can\u2019t normally be sliced, because no information is known about\n",
      "their length (and they don\u2019t implement indexing). The result of `islice()` is an iterator\n",
      "that produces the desired slice items, but it does this by consuming and discarding all\n",
      "of the items up to the starting slice index. Further items are then produced by the islice\n",
      "object until the ending index has been reached.\n",
      "\n",
      "It\u2019s important to emphasize that `islice()` will consume data on the supplied iterator.\n",
      "Since iterators can\u2019t be rewound, that is something to consider. If it\u2019s important to go\n",
      "back, you should probably just turn the data into a list first."
     ]
    }
   ],
   "metadata": {}
  }
 ]
}