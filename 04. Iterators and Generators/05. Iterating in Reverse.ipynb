{
 "metadata": {
  "name": ""
 },
 "nbformat": 3,
 "nbformat_minor": 0,
 "worksheets": [
  {
   "cells": [
    {
     "cell_type": "heading",
     "level": 1,
     "metadata": {},
     "source": [
      "4.5. Iterating in Reverse"
     ]
    },
    {
     "cell_type": "markdown",
     "metadata": {},
     "source": [
      "# Problem\n",
      "You want to iterate in reverse over a sequence.\n",
      "\n",
      "# Solution\n",
      "Use the built-in `reversed()` function. For example:"
     ]
    },
    {
     "cell_type": "code",
     "collapsed": false,
     "input": [
      "a = [1, 2, 3, 4]\n",
      "for x in reversed(a):\n",
      "    print(x)"
     ],
     "language": "python",
     "metadata": {},
     "outputs": [
      {
       "output_type": "stream",
       "stream": "stdout",
       "text": [
        "4\n",
        "3\n",
        "2\n",
        "1\n"
       ]
      }
     ],
     "prompt_number": 1
    },
    {
     "cell_type": "markdown",
     "metadata": {},
     "source": [
      "Reversed iteration only works if the object in question has a size that can be determined\n",
      "or if the object implements a `__reversed__()` special method. If neither of these can\n",
      "be satisfied, you\u2019ll have to convert the object into a list first. For example:\n",
      "```python\n",
      "# Print a file backwards\n",
      "f = open('somefile')\n",
      "for line in reversed(list(f)):\n",
      "    print(line, end='')\n",
      "```\n",
      "Be aware that turning an iterable into a list as shown could consume a lot of memory\n",
      "if it\u2019s large."
     ]
    },
    {
     "cell_type": "markdown",
     "metadata": {},
     "source": [
      "# Discussion\n",
      "Many programmers don\u2019t realize that reversed iteration can be customized on userdefined\n",
      "classes if they implement the `__reversed__()` method. For example:\n",
      "```python\n",
      "class Countdown:\n",
      "    def __init__(self, start):\n",
      "        self.start = start\n",
      "\n",
      "    # Forward iterator\n",
      "    def __iter__(self):\n",
      "        n = self.start\n",
      "        while n > 0:\n",
      "            yield n\n",
      "            n -= 1\n",
      "\n",
      "    # Reverse iterator\n",
      "    def __reversed__(self):\n",
      "        n = 1\n",
      "        while n <= self.start:\n",
      "            yield n\n",
      "            n += 1\n",
      "```\n",
      "Defining a reversed iterator makes the code much more efficient, as it\u2019s no longer necessary \n",
      "to pull the data into a list and iterate in reverse on the list."
     ]
    }
   ],
   "metadata": {}
  }
 ]
}