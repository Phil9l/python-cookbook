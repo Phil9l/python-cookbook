{
 "metadata": {
  "name": ""
 },
 "nbformat": 3,
 "nbformat_minor": 0,
 "worksheets": [
  {
   "cells": [
    {
     "cell_type": "heading",
     "level": 1,
     "metadata": {},
     "source": [
      "4.3. Creating New Iteration Patterns with Generators"
     ]
    },
    {
     "cell_type": "markdown",
     "metadata": {},
     "source": [
      "# Problem\n",
      "You want to implement a custom iteration pattern that\u2019s different than the usual builtin\n",
      "functions (e.g., `range()`, `reversed()`, etc.).\n",
      "\n",
      "# Solution\n",
      "If you want to implement a new kind of iteration pattern, define it using a generator\n",
      "function. Here\u2019s a generator that produces a range of floating-point numbers:"
     ]
    },
    {
     "cell_type": "code",
     "collapsed": false,
     "input": [
      "def frange(start, stop, increment):\n",
      "    x = start\n",
      "    while x < stop:\n",
      "        yield x\n",
      "        x += increment"
     ],
     "language": "python",
     "metadata": {},
     "outputs": [],
     "prompt_number": 1
    },
    {
     "cell_type": "markdown",
     "metadata": {},
     "source": [
      "To use such a function, you iterate over it using a `for` loop or use it with some other\n",
      "function that consumes an iterable (e.g., `sum()`, `list()`, etc.). For example:"
     ]
    },
    {
     "cell_type": "code",
     "collapsed": false,
     "input": [
      "for n in frange(0, 4, 0.5):\n",
      "    print(n)"
     ],
     "language": "python",
     "metadata": {},
     "outputs": [
      {
       "output_type": "stream",
       "stream": "stdout",
       "text": [
        "0\n",
        "0.5\n",
        "1.0\n",
        "1.5\n",
        "2.0\n",
        "2.5\n",
        "3.0\n",
        "3.5\n"
       ]
      }
     ],
     "prompt_number": 2
    },
    {
     "cell_type": "code",
     "collapsed": false,
     "input": [
      "list(frange(0, 1, 0.125))"
     ],
     "language": "python",
     "metadata": {},
     "outputs": [
      {
       "metadata": {},
       "output_type": "pyout",
       "prompt_number": 3,
       "text": [
        "[0, 0.125, 0.25, 0.375, 0.5, 0.625, 0.75, 0.875]"
       ]
      }
     ],
     "prompt_number": 3
    },
    {
     "cell_type": "markdown",
     "metadata": {},
     "source": [
      "# Discussion\n",
      "The mere presence of the `yield` statement in a function turns it into a generator. Unlike\n",
      "a normal function, a generator only runs in response to iteration. Here\u2019s an experiment\n",
      "you can try to see the underlying mechanics of how such a function works:"
     ]
    },
    {
     "cell_type": "code",
     "collapsed": false,
     "input": [
      "def countdown(n):\n",
      "    print('Starting to count from', n)\n",
      "    while n > 0:\n",
      "        yield n\n",
      "        n -= 1\n",
      "    print('Done!')\n",
      "\n",
      "# Create the generator, notice no output appears\n",
      "c = countdown(3)\n",
      "c"
     ],
     "language": "python",
     "metadata": {},
     "outputs": [
      {
       "metadata": {},
       "output_type": "pyout",
       "prompt_number": 4,
       "text": [
        "<generator object countdown at 0x7f3ca80674c8>"
       ]
      }
     ],
     "prompt_number": 4
    },
    {
     "cell_type": "code",
     "collapsed": false,
     "input": [
      "# Run to first yield and emit a value\n",
      "next(c)"
     ],
     "language": "python",
     "metadata": {},
     "outputs": [
      {
       "output_type": "stream",
       "stream": "stdout",
       "text": [
        "Starting to count from 3\n"
       ]
      },
      {
       "metadata": {},
       "output_type": "pyout",
       "prompt_number": 5,
       "text": [
        "3"
       ]
      }
     ],
     "prompt_number": 5
    },
    {
     "cell_type": "code",
     "collapsed": false,
     "input": [
      "# Run to the next yield\n",
      "next(c)"
     ],
     "language": "python",
     "metadata": {},
     "outputs": [
      {
       "metadata": {},
       "output_type": "pyout",
       "prompt_number": 6,
       "text": [
        "2"
       ]
      }
     ],
     "prompt_number": 6
    },
    {
     "cell_type": "code",
     "collapsed": false,
     "input": [
      "# Run to next yield\n",
      "next(c)"
     ],
     "language": "python",
     "metadata": {},
     "outputs": [
      {
       "metadata": {},
       "output_type": "pyout",
       "prompt_number": 7,
       "text": [
        "1"
       ]
      }
     ],
     "prompt_number": 7
    },
    {
     "cell_type": "code",
     "collapsed": false,
     "input": [
      "# Run to next yield (iteration stops)\n",
      "next(c)"
     ],
     "language": "python",
     "metadata": {},
     "outputs": [
      {
       "ename": "StopIteration",
       "evalue": "",
       "output_type": "pyerr",
       "traceback": [
        "\u001b[0;31m---------------------------------------------------------------------------\u001b[0m\n\u001b[0;31mStopIteration\u001b[0m                             Traceback (most recent call last)",
        "\u001b[0;32m<ipython-input-8-36aa117327eb>\u001b[0m in \u001b[0;36m<module>\u001b[0;34m()\u001b[0m\n\u001b[1;32m      1\u001b[0m \u001b[0;31m# Run to next yield (iteration stops)\u001b[0m\u001b[0;34m\u001b[0m\u001b[0;34m\u001b[0m\u001b[0m\n\u001b[0;32m----> 2\u001b[0;31m \u001b[0mnext\u001b[0m\u001b[0;34m(\u001b[0m\u001b[0mc\u001b[0m\u001b[0;34m)\u001b[0m\u001b[0;34m\u001b[0m\u001b[0m\n\u001b[0m",
        "\u001b[0;31mStopIteration\u001b[0m: "
       ]
      },
      {
       "output_type": "stream",
       "stream": "stdout",
       "text": [
        "Done!\n"
       ]
      }
     ],
     "prompt_number": 8
    },
    {
     "cell_type": "markdown",
     "metadata": {},
     "source": [
      "The key feature is that a generator function only runs in response to \u201cnext\u201d operations\n",
      "carried out in iteration. Once a generator function returns, iteration stops. However,\n",
      "the `for` statement that\u2019s usually used to iterate takes care of these details, so you don\u2019t\n",
      "normally need to worry about them."
     ]
    }
   ],
   "metadata": {}
  }
 ]
}