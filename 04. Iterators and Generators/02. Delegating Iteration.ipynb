{
 "metadata": {
  "name": ""
 },
 "nbformat": 3,
 "nbformat_minor": 0,
 "worksheets": [
  {
   "cells": [
    {
     "cell_type": "heading",
     "level": 1,
     "metadata": {},
     "source": [
      "4.2. Delegating Iteration"
     ]
    },
    {
     "cell_type": "markdown",
     "metadata": {},
     "source": [
      "# Problem\n",
      "You have built a custom container object that internally holds a list, tuple, or some other\n",
      "iterable. You would like to make iteration work with your new container.\n",
      "\n",
      "# Solution\n",
      "Typically, all you need to do is define an `__iter__()` method that delegates iteration to\n",
      "the internally held container. For example:"
     ]
    },
    {
     "cell_type": "code",
     "collapsed": false,
     "input": [
      "class Node:\n",
      "    def __init__(self, value):\n",
      "        self._value = value\n",
      "        self._children = []\n",
      "\n",
      "    def __repr__(self):\n",
      "        return 'Node({!r})'.format(self._value)\n",
      "\n",
      "    def add_child(self, node):\n",
      "        self._children.append(node)\n",
      "    \n",
      "    def __iter__(self):\n",
      "        return iter(self._children)\n",
      "\n",
      "# Example\n",
      "if __name__ == '__main__':\n",
      "    root = Node(0)\n",
      "    child1 = Node(1)\n",
      "    child2 = Node(2)\n",
      "    root.add_child(child1)\n",
      "    root.add_child(child2)\n",
      "    for ch in root:\n",
      "        print(ch)\n",
      "    # Outputs Node(1), Node(2)"
     ],
     "language": "python",
     "metadata": {},
     "outputs": [
      {
       "output_type": "stream",
       "stream": "stdout",
       "text": [
        "Node(1)\n",
        "Node(2)\n"
       ]
      }
     ],
     "prompt_number": 1
    },
    {
     "cell_type": "markdown",
     "metadata": {},
     "source": [
      "In this code, the `__iter__()` method simply forwards the iteration request to the internally \n",
      "held `_children` attribute."
     ]
    },
    {
     "cell_type": "markdown",
     "metadata": {},
     "source": [
      "# Discussion\n",
      "Python\u2019s iterator protocol requires `__iter__()` to return a special iterator object that\n",
      "implements a `__next__()` method to carry out the actual iteration. If all you are doing\n",
      "is iterating over the contents of another container, you don\u2019t really need to worry about\n",
      "the underlying details of how it works. All you need to do is to forward the iteration\n",
      "request along.\n",
      "\n",
      "The use of the `iter()` function here is a bit of a shortcut that cleans up the code. iter(s)\n",
      "simply returns the underlying iterator by calling `s.__iter__()`, much in the same way\n",
      "that `len(s)` invokes `s.__len__()`."
     ]
    }
   ],
   "metadata": {}
  }
 ]
}