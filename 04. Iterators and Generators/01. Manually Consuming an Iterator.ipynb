{
 "metadata": {
  "name": ""
 },
 "nbformat": 3,
 "nbformat_minor": 0,
 "worksheets": [
  {
   "cells": [
    {
     "cell_type": "heading",
     "level": 1,
     "metadata": {},
     "source": [
      "4.1. Manually Consuming an Iterator"
     ]
    },
    {
     "cell_type": "markdown",
     "metadata": {},
     "source": [
      "# Problem\n",
      "You need to process items in an iterable, but for whatever reason, you can\u2019t or don\u2019t want\n",
      "to use a `for` loop.\n",
      "\n",
      "# Solution\n",
      "To manually consume an iterable, use the `next()` function and write your code to catch\n",
      "the `StopIteration` exception. For example, this example manually reads lines from a\n",
      "file:\n",
      "```python\n",
      "with open('/etc/passwd') as f:\n",
      "    try:\n",
      "        while True:\n",
      "            line = next(f)\n",
      "            print(line, end='')\n",
      "    except StopIteration:\n",
      "        pass\n",
      "```\n",
      "Normally, `StopIteration` is used to signal the end of iteration. However, if you\u2019re using\n",
      "`next()` manually (as shown), you can also instruct it to return a terminating value, such\n",
      "as None, instead. For example:\n",
      "```python\n",
      "with open('/etc/passwd') as f:\n",
      "    while True:\n",
      "        line = next(f, None)\n",
      "        if line is None:\n",
      "            break\n",
      "        print(line, end='')\n",
      "```"
     ]
    },
    {
     "cell_type": "markdown",
     "metadata": {},
     "source": [
      "# Discussion\n",
      "In most cases, the `for` statement is used to consume an iterable. However, every now\n",
      "and then, a problem calls for more precise control over the underlying iteration mech\u2010\n",
      "anism. Thus, it is useful to know what actually happens.\n",
      "\n",
      "The following interactive example illustrates the basic mechanics of what happens dur\u2010\n",
      "ing iteration:"
     ]
    },
    {
     "cell_type": "code",
     "collapsed": false,
     "input": [
      "items = [1, 2, 3]\n",
      "# Get the iterator\n",
      "it = iter(items)  # Invokes items.__iter__()\n",
      "# Run the iterator\n",
      "next(it)  # Invokes it.__next__()"
     ],
     "language": "python",
     "metadata": {},
     "outputs": [
      {
       "metadata": {},
       "output_type": "pyout",
       "prompt_number": 1,
       "text": [
        "1"
       ]
      }
     ],
     "prompt_number": 1
    },
    {
     "cell_type": "code",
     "collapsed": false,
     "input": [
      "next(it)"
     ],
     "language": "python",
     "metadata": {},
     "outputs": [
      {
       "metadata": {},
       "output_type": "pyout",
       "prompt_number": 2,
       "text": [
        "2"
       ]
      }
     ],
     "prompt_number": 2
    },
    {
     "cell_type": "code",
     "collapsed": false,
     "input": [
      "next(it)"
     ],
     "language": "python",
     "metadata": {},
     "outputs": [
      {
       "metadata": {},
       "output_type": "pyout",
       "prompt_number": 3,
       "text": [
        "3"
       ]
      }
     ],
     "prompt_number": 3
    },
    {
     "cell_type": "code",
     "collapsed": false,
     "input": [
      "next(it)"
     ],
     "language": "python",
     "metadata": {},
     "outputs": [
      {
       "ename": "StopIteration",
       "evalue": "",
       "output_type": "pyerr",
       "traceback": [
        "\u001b[0;31m---------------------------------------------------------------------------\u001b[0m\n\u001b[0;31mStopIteration\u001b[0m                             Traceback (most recent call last)",
        "\u001b[0;32m<ipython-input-4-2cdb14c0d4d6>\u001b[0m in \u001b[0;36m<module>\u001b[0;34m()\u001b[0m\n\u001b[0;32m----> 1\u001b[0;31m \u001b[0mnext\u001b[0m\u001b[0;34m(\u001b[0m\u001b[0mit\u001b[0m\u001b[0;34m)\u001b[0m\u001b[0;34m\u001b[0m\u001b[0m\n\u001b[0m",
        "\u001b[0;31mStopIteration\u001b[0m: "
       ]
      }
     ],
     "prompt_number": 4
    },
    {
     "cell_type": "markdown",
     "metadata": {},
     "source": [
      "Subsequent recipes in this chapter expand on iteration techniques, and knowledge of\n",
      "the basic iterator protocol is assumed. Be sure to tuck this first recipe away in your\n",
      "memory."
     ]
    }
   ],
   "metadata": {}
  }
 ]
}