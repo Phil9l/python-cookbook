{
 "metadata": {
  "name": ""
 },
 "nbformat": 3,
 "nbformat_minor": 0,
 "worksheets": [
  {
   "cells": [
    {
     "cell_type": "heading",
     "level": 1,
     "metadata": {},
     "source": [
      "4.6. Defining Generator Functions with Extra State"
     ]
    },
    {
     "cell_type": "markdown",
     "metadata": {},
     "source": [
      "# Problem\n",
      "You would like to define a generator function, but it involves extra state that you would\n",
      "like to expose to the user somehow.\n",
      "\n",
      "# Solution\n",
      "If you want a generator to expose extra state to the user, don\u2019t forget that you can easily\n",
      "implement it as a class, putting the generator function code in the `__iter__()` method.\n",
      "For example:"
     ]
    },
    {
     "cell_type": "code",
     "collapsed": false,
     "input": [
      "from collections import deque\n",
      "\n",
      "class linehistory:\n",
      "    def __init__(self, lines, histlen=3):\n",
      "        self.lines = lines\n",
      "        self.history = deque(maxlen=histlen)\n",
      "\n",
      "    def __iter__(self):\n",
      "        for lineno, line in enumerate(self.lines,1):\n",
      "            self.history.append((lineno, line))\n",
      "            yield line\n",
      "\n",
      "    def clear(self):\n",
      "        self.history.clear()"
     ],
     "language": "python",
     "metadata": {},
     "outputs": [],
     "prompt_number": 1
    },
    {
     "cell_type": "markdown",
     "metadata": {},
     "source": [
      "To use this class, you would treat it like a normal generator function. However, since it\n",
      "creates an instance, you can access internal attributes, such as the `history` attribute or\n",
      "the `clear()` method. For example:\n",
      "```python\n",
      "with open('somefile.txt') as f:\n",
      "    lines = linehistory(f)\n",
      "    for line in lines:\n",
      "        if 'python' in line:\n",
      "            for lineno, hline in lines.history:\n",
      "                print('{}:{}'.format(lineno, hline), end='')\n",
      "```"
     ]
    },
    {
     "cell_type": "markdown",
     "metadata": {},
     "source": [
      "# Discussion\n",
      "With generators, it is easy to fall into a trap of trying to do everything with functions\n",
      "alone. This can lead to rather complicated code if the generator function needs to interact \n",
      "with other parts of your program in unusual ways (exposing attributes, allowing\n",
      "control via method calls, etc.). If this is the case, just use a class definition, as shown.\n",
      "Defining your generator in the `__iter__()` method doesn\u2019t change anything about how\n",
      "you write your algorithm. The fact that it\u2019s part of a class makes it easy for you to provide\n",
      "attributes and methods for users to interact with.\n",
      "\n",
      "One potential subtlety with the method shown is that it might require an extra step of\n",
      "calling `iter()` if you are going to drive iteration using a technique other than a `for`\n",
      "loop. For example:"
     ]
    },
    {
     "cell_type": "code",
     "collapsed": false,
     "input": [
      "f = open('somefile.txt')\n",
      "lines = linehistory(f)\n",
      "next(lines)"
     ],
     "language": "python",
     "metadata": {},
     "outputs": [
      {
       "ename": "TypeError",
       "evalue": "'linehistory' object is not an iterator",
       "output_type": "pyerr",
       "traceback": [
        "\u001b[0;31m---------------------------------------------------------------------------\u001b[0m\n\u001b[0;31mTypeError\u001b[0m                                 Traceback (most recent call last)",
        "\u001b[0;32m<ipython-input-2-699992cc8dec>\u001b[0m in \u001b[0;36m<module>\u001b[0;34m()\u001b[0m\n\u001b[1;32m      1\u001b[0m \u001b[0mf\u001b[0m \u001b[0;34m=\u001b[0m \u001b[0mopen\u001b[0m\u001b[0;34m(\u001b[0m\u001b[0;34m'somefile.txt'\u001b[0m\u001b[0;34m)\u001b[0m\u001b[0;34m\u001b[0m\u001b[0m\n\u001b[1;32m      2\u001b[0m \u001b[0mlines\u001b[0m \u001b[0;34m=\u001b[0m \u001b[0mlinehistory\u001b[0m\u001b[0;34m(\u001b[0m\u001b[0mf\u001b[0m\u001b[0;34m)\u001b[0m\u001b[0;34m\u001b[0m\u001b[0m\n\u001b[0;32m----> 3\u001b[0;31m \u001b[0mnext\u001b[0m\u001b[0;34m(\u001b[0m\u001b[0mlines\u001b[0m\u001b[0;34m)\u001b[0m\u001b[0;34m\u001b[0m\u001b[0m\n\u001b[0m",
        "\u001b[0;31mTypeError\u001b[0m: 'linehistory' object is not an iterator"
       ]
      }
     ],
     "prompt_number": 2
    },
    {
     "cell_type": "code",
     "collapsed": false,
     "input": [
      "# Call iter() first, then start iterating\n",
      "it = iter(lines)\n",
      "next(it)"
     ],
     "language": "python",
     "metadata": {},
     "outputs": [
      {
       "metadata": {},
       "output_type": "pyout",
       "prompt_number": 3,
       "text": [
        "'hello world\\n'"
       ]
      }
     ],
     "prompt_number": 3
    },
    {
     "cell_type": "code",
     "collapsed": false,
     "input": [
      "next(it)"
     ],
     "language": "python",
     "metadata": {},
     "outputs": [
      {
       "metadata": {},
       "output_type": "pyout",
       "prompt_number": 4,
       "text": [
        "'this is a test\\n'"
       ]
      }
     ],
     "prompt_number": 4
    }
   ],
   "metadata": {}
  }
 ]
}