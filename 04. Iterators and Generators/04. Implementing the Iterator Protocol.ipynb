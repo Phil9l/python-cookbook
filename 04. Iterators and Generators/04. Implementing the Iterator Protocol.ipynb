{
 "metadata": {
  "name": ""
 },
 "nbformat": 3,
 "nbformat_minor": 0,
 "worksheets": [
  {
   "cells": [
    {
     "cell_type": "heading",
     "level": 1,
     "metadata": {},
     "source": [
      "4.4. Implementing the Iterator Protocol"
     ]
    },
    {
     "cell_type": "markdown",
     "metadata": {},
     "source": [
      "# Problem\n",
      "You are building custom objects on which you would like to support iteration, but would\n",
      "like an easy way to implement the iterator protocol.\n",
      "\n",
      "# Solution\n",
      "By far, the easiest way to implement iteration on an object is to use a generator function.\n",
      "In Recipe 4.2, a Node class was presented for representing tree structures. Perhaps you\n",
      "want to implement an iterator that traverses nodes in a depth-first pattern. Here is how\n",
      "you could do it:"
     ]
    },
    {
     "cell_type": "code",
     "collapsed": false,
     "input": [
      "class Node:\n",
      "    def __init__(self, value):\n",
      "        self._value = value\n",
      "        self._children = []\n",
      "\n",
      "    def __repr__(self):\n",
      "        return 'Node({!r})'.format(self._value)\n",
      "\n",
      "    def add_child(self, node):\n",
      "        self._children.append(node)\n",
      "\n",
      "    def __iter__(self):\n",
      "        return iter(self._children)\n",
      "\n",
      "    def depth_first(self):\n",
      "        yield self\n",
      "        for c in self:\n",
      "            yield from c.depth_first()\n",
      "\n",
      "# Example\n",
      "if __name__ == '__main__':\n",
      "    root = Node(0)\n",
      "    child1 = Node(1)\n",
      "    child2 = Node(2)\n",
      "    root.add_child(child1)\n",
      "    root.add_child(child2)\n",
      "    child1.add_child(Node(3))\n",
      "    child1.add_child(Node(4))\n",
      "    child2.add_child(Node(5))\n",
      "\n",
      "    for ch in root.depth_first():\n",
      "        print(ch)\n",
      "    # Outputs Node(0), Node(1), Node(3), Node(4), Node(2), Node(5)"
     ],
     "language": "python",
     "metadata": {},
     "outputs": [
      {
       "output_type": "stream",
       "stream": "stdout",
       "text": [
        "Node(0)\n",
        "Node(1)\n",
        "Node(3)\n",
        "Node(4)\n",
        "Node(2)\n",
        "Node(5)\n"
       ]
      }
     ],
     "prompt_number": 1
    },
    {
     "cell_type": "markdown",
     "metadata": {},
     "source": [
      "In this code, the `depth_first()` method is simple to read and describe. It first yields\n",
      "itself and then iterates over each child yielding the items produced by the child\u2019s\n",
      "`depth_first()` method (using yield from)."
     ]
    },
    {
     "cell_type": "markdown",
     "metadata": {},
     "source": [
      "# Discussion\n",
      "Python\u2019s iterator protocol requires `__iter__()` to return a special iterator object that\n",
      "implements a `__next__()` operation and uses a `StopIteration` exception to signal\n",
      "completion. However, implementing such objects can often be a messy affair. For example, \n",
      "the following code shows an alternative implementation of the `depth_first()`\n",
      "method using an associated iterator class:"
     ]
    },
    {
     "cell_type": "code",
     "collapsed": false,
     "input": [
      "class Node:\n",
      "    def __init__(self, value):\n",
      "        self._value = value\n",
      "        self._children = []\n",
      "\n",
      "    def __repr__(self):\n",
      "        return 'Node({!r})'.format(self._value)\n",
      "\n",
      "    def add_child(self, other_node):\n",
      "        self._children.append(other_node)\n",
      "\n",
      "    def __iter__(self):\n",
      "        return iter(self._children)\n",
      "\n",
      "    def depth_first(self):\n",
      "        return DepthFirstIterator(self)\n",
      "\n",
      "class DepthFirstIterator(object):\n",
      "    '''\n",
      "    Depth-first traversal\n",
      "    '''\n",
      "    def __init__(self, start_node):\n",
      "        self._node = start_node\n",
      "        self._children_iter = None\n",
      "        self._child_iter = None\n",
      "\n",
      "    def __iter__(self):\n",
      "        return self\n",
      "\n",
      "    def __next__(self):\n",
      "        # Return myself if just started; create an iterator for children\n",
      "        if self._children_iter is None:\n",
      "            self._children_iter = iter(self._node)\n",
      "            return self._node\n",
      "        # If processing a child, return its next item\n",
      "        elif self._child_iter:\n",
      "            try:\n",
      "                nextchild = next(self._child_iter)\n",
      "                return nextchild\n",
      "            except StopIteration:\n",
      "                self._child_iter = None\n",
      "                return next(self)\n",
      "        # Advance to the next child and start its iteration\n",
      "        else:\n",
      "            self._child_iter = next(self._children_iter).depth_first()\n",
      "            return next(self)"
     ],
     "language": "python",
     "metadata": {},
     "outputs": [],
     "prompt_number": 2
    },
    {
     "cell_type": "markdown",
     "metadata": {},
     "source": [
      "The `DepthFirstIterator` class works in the same way as the generator version, but it\u2019s\n",
      "a mess because the iterator has to maintain a lot of complex state about where it is in\n",
      "the iteration process. Frankly, nobody likes to write mind-bending code like that. Define\n",
      "your iterator as a generator and be done with it."
     ]
    }
   ],
   "metadata": {}
  }
 ]
}