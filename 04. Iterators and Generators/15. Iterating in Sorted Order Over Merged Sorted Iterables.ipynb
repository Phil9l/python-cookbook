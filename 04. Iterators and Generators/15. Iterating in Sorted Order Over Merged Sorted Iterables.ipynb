{
 "metadata": {
  "name": ""
 },
 "nbformat": 3,
 "nbformat_minor": 0,
 "worksheets": [
  {
   "cells": [
    {
     "cell_type": "heading",
     "level": 1,
     "metadata": {},
     "source": [
      "4.15. Iterating in Sorted Order Over Merged Sorted\n",
      "Iterables"
     ]
    },
    {
     "cell_type": "markdown",
     "metadata": {},
     "source": [
      "# Problem\n",
      "You have a collection of sorted sequences and you want to iterate over a sorted sequence\n",
      "of them all merged together.\n",
      "\n",
      "# Solution\n",
      "The `heapq.merge()` function does exactly what you want. For example:"
     ]
    },
    {
     "cell_type": "code",
     "collapsed": false,
     "input": [
      "import heapq\n",
      "a = [1, 4, 7, 10]\n",
      "b = [2, 5, 6, 11]\n",
      "for c in heapq.merge(a, b):\n",
      "    print(c)"
     ],
     "language": "python",
     "metadata": {},
     "outputs": [
      {
       "output_type": "stream",
       "stream": "stdout",
       "text": [
        "1\n",
        "2\n",
        "4\n",
        "5\n",
        "6\n",
        "7\n",
        "10\n",
        "11\n"
       ]
      }
     ],
     "prompt_number": 1
    },
    {
     "cell_type": "markdown",
     "metadata": {},
     "source": [
      "# Discussion\n",
      "The iterative nature of `heapq.merge` means that it never reads any of the supplied sequences \n",
      "all at once. This means that you can use it on very long sequences with very\n",
      "little overhead. For instance, here is an example of how you would merge two sorted\n",
      "files:\n",
      "```python\n",
      "import heapq\n",
      "\n",
      "with open('sorted_file_1', 'rt') as file1, \\\n",
      "     open('sorted_file_2') 'rt' as file2, \\\n",
      "     open('merged_file', 'wt') as outf:\n",
      "\n",
      "    for line in heapq.merge(file1, file2):\n",
      "        outf.write(line)\n",
      "```\n",
      "It\u2019s important to emphasize that `heapq.merge()` requires that all of the input sequences\n",
      "already be sorted. In particular, it does not first read all of the data into a heap or do any\n",
      "preliminary sorting. Nor does it perform any kind of validation of the inputs to check\n",
      "if they meet the ordering requirements. Instead, it simply examines the set of items from\n",
      "the front of each input sequence and emits the smallest one found. A new item from\n",
      "the chosen sequence is then read, and the process repeats itself until all input sequences\n",
      "have been fully consumed."
     ]
    }
   ],
   "metadata": {}
  }
 ]
}