{
 "metadata": {
  "name": ""
 },
 "nbformat": 3,
 "nbformat_minor": 0,
 "worksheets": [
  {
   "cells": [
    {
     "cell_type": "heading",
     "level": 1,
     "metadata": {},
     "source": [
      "4.16. Replacing Infinite while Loops with an Iterator"
     ]
    },
    {
     "cell_type": "markdown",
     "metadata": {},
     "source": [
      "# Problem\n",
      "You have code that uses a `while` loop to iteratively process data because it involves a\n",
      "function or some kind of unusual test condition that doesn\u2019t fall into the usual iteration\n",
      "pattern.\n",
      "\n",
      "# Solution\n",
      "A somewhat common scenario in programs involving I/O is to write code like this:"
     ]
    },
    {
     "cell_type": "code",
     "collapsed": false,
     "input": [
      "CHUNKSIZE = 8192\n",
      "def reader(s):\n",
      "    while True:\n",
      "        data = s.recv(CHUNKSIZE)\n",
      "        if data == b'':\n",
      "            break\n",
      "        process_data(data)"
     ],
     "language": "python",
     "metadata": {},
     "outputs": [],
     "prompt_number": 1
    },
    {
     "cell_type": "markdown",
     "metadata": {},
     "source": [
      "Such code can often be replaced using `iter()`, as follows:"
     ]
    },
    {
     "cell_type": "code",
     "collapsed": false,
     "input": [
      "def reader(s):\n",
      "    for chunk in iter(lambda: s.recv(CHUNKSIZE), b''):\n",
      "        process_data(data)"
     ],
     "language": "python",
     "metadata": {},
     "outputs": [],
     "prompt_number": 2
    },
    {
     "cell_type": "markdown",
     "metadata": {},
     "source": [
      "If you\u2019re a bit skeptical that it might work, you can try a similar example involving files.\n",
      "For example:"
     ]
    },
    {
     "cell_type": "code",
     "collapsed": false,
     "input": [
      "import sys\n",
      "\n",
      "f = open('/etc/passwd')\n",
      "for chunk in iter(lambda: f.read(10), ''):\n",
      "    n = sys.stdout.write(chunk)"
     ],
     "language": "python",
     "metadata": {},
     "outputs": [
      {
       "output_type": "stream",
       "stream": "stdout",
       "text": [
        "...\n",
        "nobody:*:-2:-2:Unprivileged User:/var/empty:/usr/bin/false\n",
        "root:*:0:0:System Administrator:/var/root:/bin/sh\n",
        "daemon:*:1:1:System Services:/var/root:/usr/bin/false\n",
        "_uucp:*:4:4:Unix to Unix Copy Protocol:/var/spool/uucp:/usr/sbin/uucico\n",
        "...\n"
       ]
      }
     ],
     "prompt_number": 3
    },
    {
     "cell_type": "markdown",
     "metadata": {},
     "source": [
      "Discussion\n",
      "A little-known feature of the built-in `iter()` function is that it optionally accepts a zeroargument\n",
      "callable and sentinel (terminating) value as inputs. When used in this way, it\n",
      "creates an iterator that repeatedly calls the supplied callable over and over again until it\n",
      "returns the value given as a sentinel.\n",
      "\n",
      "This particular approach works well with certain kinds of repeatedly called functions,\n",
      "such as those involving I/O. For example, if you want to read data in chunks from sockets\n",
      "or files, you usually have to repeatedly execute `read()` or `recv()` calls followed by an\n",
      "end-of-file test. This recipe simply takes these two features and combines them together\n",
      "into a single `iter()` call. The use of `lambda` in the solution is needed to create a callable\n",
      "that takes no arguments, yet still supplies the desired size argument to `recv()` or `read()`."
     ]
    }
   ],
   "metadata": {}
  }
 ]
}