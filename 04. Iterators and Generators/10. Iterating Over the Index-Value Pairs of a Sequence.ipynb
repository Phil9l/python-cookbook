{
 "metadata": {
  "name": ""
 },
 "nbformat": 3,
 "nbformat_minor": 0,
 "worksheets": [
  {
   "cells": [
    {
     "cell_type": "heading",
     "level": 1,
     "metadata": {},
     "source": [
      "4.10. Iterating Over the Index-Value Pairs of a Sequence"
     ]
    },
    {
     "cell_type": "markdown",
     "metadata": {},
     "source": [
      "# Problem\n",
      "You want to iterate over a sequence, but would like to keep track of which element of\n",
      "the sequence is currently being processed.\n",
      "\n",
      "# Solution\n",
      "The built-in `enumerate()` function handles this quite nicely:"
     ]
    },
    {
     "cell_type": "code",
     "collapsed": false,
     "input": [
      "my_list = ['a', 'b', 'c']\n",
      "for idx, val in enumerate(my_list):\n",
      "    print(idx, val)"
     ],
     "language": "python",
     "metadata": {},
     "outputs": [
      {
       "output_type": "stream",
       "stream": "stdout",
       "text": [
        "0 a\n",
        "1 b\n",
        "2 c\n"
       ]
      }
     ],
     "prompt_number": 1
    },
    {
     "cell_type": "markdown",
     "metadata": {},
     "source": [
      "For printing output with canonical line numbers (where you typically start the \n",
      "numbering at $1$ instead of $0$), you can pass in a `start` argument:"
     ]
    },
    {
     "cell_type": "code",
     "collapsed": false,
     "input": [
      "my_list = ['a', 'b', 'c']\n",
      "for idx, val in enumerate(my_list, 1):\n",
      "    print(idx, val)"
     ],
     "language": "python",
     "metadata": {},
     "outputs": [
      {
       "output_type": "stream",
       "stream": "stdout",
       "text": [
        "1 a\n",
        "2 b\n",
        "3 c\n"
       ]
      }
     ],
     "prompt_number": 2
    },
    {
     "cell_type": "markdown",
     "metadata": {},
     "source": [
      "This case is especially useful for tracking line numbers in files should you want to use\n",
      "a line number in an error message:\n",
      "```python\n",
      "def parse_data(filename):\n",
      "    with open(filename, 'rt') as f:\n",
      "        for lineno, line in enumerate(f, 1):\n",
      "            fields = line.split()\n",
      "            try:\n",
      "                count = int(fields[1])\n",
      "                \u2026\n",
      "            except ValueError as e:\n",
      "                print('Line {}: Parse error: {}'.format(lineno, e))\n",
      "```\n",
      "`enumerate()` can be handy for keeping track of the offset into a list for occurrences of\n",
      "certain values, for example. So, if you want to map words in a file to the lines in which\n",
      "they occur, it can easily be accomplished using `enumerate()` to map each word to the\n",
      "line offset in the file where it was found:\n",
      "```python\n",
      "word_summary = defaultdict(list)\n",
      "\n",
      "with open('myfile.txt', 'r') as f:\n",
      "    lines = f.readlines()\n",
      "\n",
      "for idx, line in enumerate(lines):\n",
      "    # Create a list of words in current line\n",
      "    words = [w.strip().lower() for w in line.split()]\n",
      "    for word in words:\n",
      "        word_summary[word].append(idx)\n",
      "```\n",
      "If you print word_summary after processing the file, it\u2019ll be a dictionary (a `defaultdict` \n",
      "to be precise), and it\u2019ll have a key for each word. The value for each word-key will\n",
      "be a list of line numbers that word occurred on. If the word occurred twice on a single\n",
      "line, that line number will be listed twice, making it possible to identify various simple\n",
      "metrics about the text."
     ]
    },
    {
     "cell_type": "markdown",
     "metadata": {},
     "source": [
      "# Discussion\n",
      "`enumerate()` is a nice shortcut for situations where you might be inclined to keep your\n",
      "own counter variable. You could write code like this:\n",
      "```python\n",
      "lineno = 1\n",
      "for line in f:\n",
      "    # Process line\n",
      "    \u2026\n",
      "    lineno += 1\n",
      "```\n",
      "But it\u2019s usually much more elegant (and less error prone) to use `enumerate()` instead:\n",
      "```python\n",
      "for lineno, line in enumerate(f):\n",
      "    # Process line\n",
      "    \u2026\n",
      "```\n",
      "The value returned by `enumerate()` is an instance of an `enumerate` object, which is an\n",
      "iterator that returns successive tuples consisting of a counter and the value returned by\n",
      "calling `next()` on the sequence you\u2019ve passed in.\n",
      "\n",
      "Although a minor point, it\u2019s worth mentioning that sometimes it is easy to get tripped\n",
      "up when applying `enumerate()` to a sequence of tuples that are also being unpacked.\n",
      "To do it, you have to write code like this:\n",
      "```python\n",
      "data = [ (1, 2), (3, 4), (5, 6), (7, 8) ]\n",
      "\n",
      "# Correct!\n",
      "for n, (x, y) in enumerate(data):\n",
      "    \u2026\n",
      "# Error!\n",
      "for n, x, y in enumerate(data):\n",
      "    \u2026\n",
      "```"
     ]
    }
   ],
   "metadata": {}
  }
 ]
}