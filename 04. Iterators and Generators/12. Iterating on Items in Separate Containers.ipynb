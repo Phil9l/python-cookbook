{
 "metadata": {
  "name": ""
 },
 "nbformat": 3,
 "nbformat_minor": 0,
 "worksheets": [
  {
   "cells": [
    {
     "cell_type": "heading",
     "level": 1,
     "metadata": {},
     "source": [
      "4.12. Iterating on Items in Separate Containers"
     ]
    },
    {
     "cell_type": "markdown",
     "metadata": {},
     "source": [
      "# Problem\n",
      "You need to perform the same operation on many objects, but the objects are contained\n",
      "in different containers, and you\u2019d like to avoid nested loops without losing the readability\n",
      "of your code.\n",
      "\n",
      "# Solution\n",
      "The `itertools.chain()` method can be used to simplify this task. It takes a list of\n",
      "iterables as input, and returns an iterator that effectively masks the fact that you\u2019re really\n",
      "acting on multiple containers. To illustrate, consider this example:"
     ]
    },
    {
     "cell_type": "code",
     "collapsed": false,
     "input": [
      "from itertools import chain\n",
      "a = [1, 2, 3, 4]\n",
      "b = ['x', 'y', 'z']\n",
      "for x in chain(a, b):\n",
      "    print(x)"
     ],
     "language": "python",
     "metadata": {},
     "outputs": [
      {
       "output_type": "stream",
       "stream": "stdout",
       "text": [
        "1\n",
        "2\n",
        "3\n",
        "4\n",
        "x\n",
        "y\n",
        "z\n"
       ]
      }
     ],
     "prompt_number": 1
    },
    {
     "cell_type": "markdown",
     "metadata": {},
     "source": [
      "A common use of `chain()` is in programs where you would like to perform certain\n",
      "operations on all of the items at once but the items are pooled into different working\n",
      "sets. For example:\n",
      "```python\n",
      "# Various working sets of items\n",
      "active_items = set()\n",
      "inactive_items = set()\n",
      "\n",
      "# Iterate over all items\n",
      "for item in chain(active_items, inactive_items):\n",
      "    # Process item\n",
      "    \u2026\n",
      "```\n",
      "This solution is much more elegant than using two separate loops, as in the following:\n",
      "```python\n",
      "for item in active_items:\n",
      "    # Process item\n",
      "    \u2026\n",
      "for item in inactive_items:\n",
      "    # Process item\n",
      "    \u2026\n",
      "```"
     ]
    },
    {
     "cell_type": "markdown",
     "metadata": {},
     "source": [
      "# Discussion\n",
      "`itertools.chain()` accepts one or more iterables as arguments. It then works by creating \n",
      "an iterator that successively consumes and returns the items produced by each of\n",
      "the supplied iterables you provided. It\u2019s a subtle distinction, but `chain()` is more efficient\n",
      "than first combining the sequences and iterating. For example:\n",
      "```python\n",
      "# Inefficent\n",
      "for x in a + b:\n",
      "    \u2026\n",
      "\n",
      "# Better\n",
      "for x in chain(a, b):\n",
      "    \u2026\n",
      "```\n",
      "In the first case, the operation `a + b` creates an entirely new sequence and additionally\n",
      "requires `a` and `b` to be of the same type. `chain()` performs no such operation, so it\u2019s far\n",
      "more efficient with memory if the input sequences are large and it can be easily applied\n",
      "when the iterables in question are of different types."
     ]
    }
   ],
   "metadata": {}
  }
 ]
}