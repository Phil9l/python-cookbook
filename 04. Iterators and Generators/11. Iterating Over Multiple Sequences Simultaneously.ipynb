{
 "metadata": {
  "name": ""
 },
 "nbformat": 3,
 "nbformat_minor": 0,
 "worksheets": [
  {
   "cells": [
    {
     "cell_type": "heading",
     "level": 1,
     "metadata": {},
     "source": [
      "4.11. Iterating Over Multiple Sequences Simultaneously"
     ]
    },
    {
     "cell_type": "markdown",
     "metadata": {},
     "source": [
      "# Problem\n",
      "You want to iterate over the items contained in more than one sequence at a time.\n",
      "\n",
      "# Solution\n",
      "To iterate over more than one sequence simultaneously, use the `zip()` function. For\n",
      "example:"
     ]
    },
    {
     "cell_type": "code",
     "collapsed": false,
     "input": [
      "xpts = [1, 5, 4, 2, 10, 7]\n",
      "ypts = [101, 78, 37, 15, 62, 99]\n",
      "for x, y in zip(xpts, ypts):\n",
      "    print(x,y)"
     ],
     "language": "python",
     "metadata": {},
     "outputs": [
      {
       "output_type": "stream",
       "stream": "stdout",
       "text": [
        "1 101\n",
        "5 78\n",
        "4 37\n",
        "2 15\n",
        "10 62\n",
        "7 99\n"
       ]
      }
     ],
     "prompt_number": 1
    },
    {
     "cell_type": "markdown",
     "metadata": {},
     "source": [
      "`zip(a, b)` works by creating an iterator that produces tuples `(x, y)` where `x` is taken\n",
      "from `a` and `y` is taken from `b`. Iteration stops whenever one of the input sequences is\n",
      "exhausted. Thus, the length of the iteration is the same as the length of the shortest\n",
      "input. For example:"
     ]
    },
    {
     "cell_type": "code",
     "collapsed": false,
     "input": [
      "a = [1, 2, 3]\n",
      "b = ['w', 'x', 'y', 'z']\n",
      "for i in zip(a, b):\n",
      "    print(i)"
     ],
     "language": "python",
     "metadata": {},
     "outputs": [
      {
       "output_type": "stream",
       "stream": "stdout",
       "text": [
        "(1, 'w')\n",
        "(2, 'x')\n",
        "(3, 'y')\n"
       ]
      }
     ],
     "prompt_number": 2
    },
    {
     "cell_type": "markdown",
     "metadata": {},
     "source": [
      "If this behavior is not desired, use `itertools.zip_longest()` instead. For example:"
     ]
    },
    {
     "cell_type": "code",
     "collapsed": false,
     "input": [
      "from itertools import zip_longest\n",
      "for i in zip_longest(a, b):\n",
      "    print(i)"
     ],
     "language": "python",
     "metadata": {},
     "outputs": [
      {
       "output_type": "stream",
       "stream": "stdout",
       "text": [
        "(1, 'w')\n",
        "(2, 'x')\n",
        "(3, 'y')\n",
        "(None, 'z')\n"
       ]
      }
     ],
     "prompt_number": 3
    },
    {
     "cell_type": "code",
     "collapsed": false,
     "input": [
      "for i in zip_longest(a, b, fillvalue=0):\n",
      "    print(i)"
     ],
     "language": "python",
     "metadata": {},
     "outputs": [
      {
       "output_type": "stream",
       "stream": "stdout",
       "text": [
        "(1, 'w')\n",
        "(2, 'x')\n",
        "(3, 'y')\n",
        "(0, 'z')\n"
       ]
      }
     ],
     "prompt_number": 4
    },
    {
     "cell_type": "markdown",
     "metadata": {},
     "source": [
      "# Discussion\n",
      "`zip()` is commonly used whenever you need to pair data together. For example, suppose\n",
      "you have a list of column headers and column values like this:"
     ]
    },
    {
     "cell_type": "code",
     "collapsed": false,
     "input": [
      "headers = ['name', 'shares', 'price']\n",
      "values = ['ACME', 100, 490.1]"
     ],
     "language": "python",
     "metadata": {},
     "outputs": [],
     "prompt_number": 5
    },
    {
     "cell_type": "markdown",
     "metadata": {},
     "source": [
      "Using `zip()`, you can pair the values together to make a dictionary like this:"
     ]
    },
    {
     "cell_type": "code",
     "collapsed": false,
     "input": [
      "s = dict(zip(headers,values))\n",
      "s"
     ],
     "language": "python",
     "metadata": {},
     "outputs": [
      {
       "metadata": {},
       "output_type": "pyout",
       "prompt_number": 6,
       "text": [
        "{'name': 'ACME', 'price': 490.1, 'shares': 100}"
       ]
      }
     ],
     "prompt_number": 6
    },
    {
     "cell_type": "markdown",
     "metadata": {},
     "source": [
      "Alternatively, if you are trying to produce output, you can write code like this:"
     ]
    },
    {
     "cell_type": "code",
     "collapsed": false,
     "input": [
      "for name, val in zip(headers, values):\n",
      "    print(name, '=', val)"
     ],
     "language": "python",
     "metadata": {},
     "outputs": [
      {
       "output_type": "stream",
       "stream": "stdout",
       "text": [
        "name = ACME\n",
        "shares = 100\n",
        "price = 490.1\n"
       ]
      }
     ],
     "prompt_number": 7
    },
    {
     "cell_type": "markdown",
     "metadata": {},
     "source": [
      "It\u2019s less common, but `zip()` can be passed more than two sequences as input. For this\n",
      "case, the resulting tuples have the same number of items in them as the number of input\n",
      "sequences. For example:"
     ]
    },
    {
     "cell_type": "code",
     "collapsed": false,
     "input": [
      "a = [1, 2, 3]\n",
      "b = [10, 11, 12]\n",
      "c = ['x','y','z']\n",
      "for i in zip(a, b, c):\n",
      "    print(i)"
     ],
     "language": "python",
     "metadata": {},
     "outputs": [
      {
       "output_type": "stream",
       "stream": "stdout",
       "text": [
        "(1, 10, 'x')\n",
        "(2, 11, 'y')\n",
        "(3, 12, 'z')\n"
       ]
      }
     ],
     "prompt_number": 8
    },
    {
     "cell_type": "markdown",
     "metadata": {},
     "source": [
      "Last, but not least, it\u2019s important to emphasize that `zip()` creates an iterator as a result.\n",
      "If you need the paired values stored in a list, use the `list()` function. For example:"
     ]
    },
    {
     "cell_type": "code",
     "collapsed": false,
     "input": [
      "zip(a, b)"
     ],
     "language": "python",
     "metadata": {},
     "outputs": [
      {
       "metadata": {},
       "output_type": "pyout",
       "prompt_number": 9,
       "text": [
        "<builtins.zip at 0x7fbaac2b8808>"
       ]
      }
     ],
     "prompt_number": 9
    },
    {
     "cell_type": "code",
     "collapsed": false,
     "input": [
      "list(zip(a, b))"
     ],
     "language": "python",
     "metadata": {},
     "outputs": [
      {
       "metadata": {},
       "output_type": "pyout",
       "prompt_number": 10,
       "text": [
        "[(1, 10), (2, 11), (3, 12)]"
       ]
      }
     ],
     "prompt_number": 10
    }
   ],
   "metadata": {}
  }
 ]
}