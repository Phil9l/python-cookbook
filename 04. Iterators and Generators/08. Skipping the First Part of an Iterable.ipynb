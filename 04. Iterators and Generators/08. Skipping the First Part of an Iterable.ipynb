{
 "metadata": {
  "name": ""
 },
 "nbformat": 3,
 "nbformat_minor": 0,
 "worksheets": [
  {
   "cells": [
    {
     "cell_type": "heading",
     "level": 1,
     "metadata": {},
     "source": [
      "4.8. Skipping the First Part of an Iterable"
     ]
    },
    {
     "cell_type": "markdown",
     "metadata": {},
     "source": [
      "# Problem\n",
      "You want to iterate over items in an iterable, but the first few items aren\u2019t of interest and\n",
      "you just want to discard them.\n",
      "\n",
      "# Solution\n",
      "The itertools module has a few functions that can be used to address this task. The\n",
      "first is the `itertools.dropwhile()` function. To use it, you supply a function and an\n",
      "iterable. The returned iterator discards the first items in the sequence as long as the\n",
      "supplied function returns `True`. Afterward, the entirety of the sequence is produced.\n",
      "To illustrate, suppose you are reading a file that starts with a series of comment lines.\n",
      "For example:"
     ]
    },
    {
     "cell_type": "code",
     "collapsed": false,
     "input": [
      "with open('/etc/passwd') as f:\n",
      "    for line in f:\n",
      "        print(line, end='')"
     ],
     "language": "python",
     "metadata": {},
     "outputs": [
      {
       "output_type": "stream",
       "stream": "stdout",
       "text": [
        "##\n",
        "# User Database\n",
        "#\n",
        "# Note that this file is consulted directly only when the system is running\n",
        "# in single-user mode. At other times, this information is provided by\n",
        "# Open Directory.\n",
        "#\n",
        "##\n",
        "nobody:*:-2:-2:Unprivileged User:/var/empty:/usr/bin/false\n",
        "root:*:0:0:System Administrator:/var/root:/bin/sh\n",
        "...\n"
       ]
      }
     ],
     "prompt_number": 1
    },
    {
     "cell_type": "markdown",
     "metadata": {},
     "source": [
      "If you want to skip all of the initial comment lines, here\u2019s one way to do it:"
     ]
    },
    {
     "cell_type": "code",
     "collapsed": false,
     "input": [
      "from itertools import dropwhile\n",
      "with open('/etc/passwd') as f:\n",
      "    for line in dropwhile(lambda line: line.startswith('#'), f):\n",
      "        print(line, end='')"
     ],
     "language": "python",
     "metadata": {},
     "outputs": [
      {
       "output_type": "stream",
       "stream": "stdout",
       "text": [
        "nobody:*:-2:-2:Unprivileged User:/var/empty:/usr/bin/false\n",
        "root:*:0:0:System Administrator:/var/root:/bin/sh\n",
        "...\n"
       ]
      }
     ],
     "prompt_number": 2
    },
    {
     "cell_type": "markdown",
     "metadata": {},
     "source": [
      "This example is based on skipping the first items according to a test function. If you\n",
      "happen to know the exact number of items you want to skip, then you can use \n",
      "`itertools.islice()` instead. For example:"
     ]
    },
    {
     "cell_type": "code",
     "collapsed": false,
     "input": [
      "from itertools import islice\n",
      "items = ['a', 'b', 'c', 1, 4, 10, 15]\n",
      "for x in islice(items, 3, None):\n",
      "    print(x)"
     ],
     "language": "python",
     "metadata": {},
     "outputs": [
      {
       "output_type": "stream",
       "stream": "stdout",
       "text": [
        "1\n",
        "4\n",
        "10\n",
        "15\n"
       ]
      }
     ],
     "prompt_number": 3
    },
    {
     "cell_type": "markdown",
     "metadata": {},
     "source": [
      "In this example, the last `None` argument to `islice()` is required to indicate that you\n",
      "want everything `beyond` the first three items as opposed to only the first three items\n",
      "(e.g., a slice of `[3:]` as opposed to a slice of `[:3]`)."
     ]
    },
    {
     "cell_type": "markdown",
     "metadata": {},
     "source": [
      "# Discussion\n",
      "The `dropwhile()` and `islice()` functions are mainly convenience functions that you\n",
      "can use to avoid writing rather messy code such as this:\n",
      "with open('/etc/passwd') as f:\n",
      "```python\n",
      "# Skip over initial comments\n",
      "while True:\n",
      "    line = next(f, '')\n",
      "    if not line.startswith('#'):\n",
      "        break\n",
      "\n",
      "    # Process remaining lines\n",
      "    while line:\n",
      "        # Replace with useful processing\n",
      "        print(line, end='')\n",
      "        line = next(f, None)\n",
      "```\n",
      "Discarding the first part of an iterable is also slightly different than simply filtering all\n",
      "of it. For example, the first part of this recipe might be rewritten as follows:\n",
      "```python\n",
      "with open('/etc/passwd') as f:\n",
      "    lines = (line for line in f if not line.startswith('#'))\n",
      "    for line in lines:\n",
      "        print(line, end='')\n",
      "```"
     ]
    }
   ],
   "metadata": {}
  }
 ]
}