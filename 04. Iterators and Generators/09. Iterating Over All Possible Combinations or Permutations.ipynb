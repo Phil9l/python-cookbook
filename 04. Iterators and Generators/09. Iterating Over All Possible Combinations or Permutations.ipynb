{
 "metadata": {
  "name": ""
 },
 "nbformat": 3,
 "nbformat_minor": 0,
 "worksheets": [
  {
   "cells": [
    {
     "cell_type": "heading",
     "level": 1,
     "metadata": {},
     "source": [
      "4.9. Iterating Over All Possible Combinations or\n",
      "Permutations"
     ]
    },
    {
     "cell_type": "markdown",
     "metadata": {},
     "source": [
      "# Problem\n",
      "You want to iterate over all of the possible combinations or permutations of a collection\n",
      "of items.\n",
      "\n",
      "# Solution\n",
      "The `itertools` module provides three functions for this task. The first of these \u2014\n",
      "`itertools.permutations()` \u2014 takes a collection of items and produces a sequence of tuples\n",
      "that rearranges all of the items into all possible permutations (i.e., it shuffles them into\n",
      "all possible configurations). For example:"
     ]
    },
    {
     "cell_type": "code",
     "collapsed": false,
     "input": [
      "items = ['a', 'b', 'c']\n",
      "from itertools import permutations\n",
      "for p in permutations(items):\n",
      "    print(p)"
     ],
     "language": "python",
     "metadata": {},
     "outputs": [
      {
       "output_type": "stream",
       "stream": "stdout",
       "text": [
        "('a', 'b', 'c')\n",
        "('a', 'c', 'b')\n",
        "('b', 'a', 'c')\n",
        "('b', 'c', 'a')\n",
        "('c', 'a', 'b')\n",
        "('c', 'b', 'a')\n"
       ]
      }
     ],
     "prompt_number": 1
    },
    {
     "cell_type": "markdown",
     "metadata": {},
     "source": [
      "If you want all permutations of a smaller length, you can give an optional length \n",
      "argument. For example:"
     ]
    },
    {
     "cell_type": "code",
     "collapsed": false,
     "input": [
      "for p in permutations(items, 2):\n",
      "    print(p)"
     ],
     "language": "python",
     "metadata": {},
     "outputs": [
      {
       "output_type": "stream",
       "stream": "stdout",
       "text": [
        "('a', 'b')\n",
        "('a', 'c')\n",
        "('b', 'a')\n",
        "('b', 'c')\n",
        "('c', 'a')\n",
        "('c', 'b')\n"
       ]
      }
     ],
     "prompt_number": 2
    },
    {
     "cell_type": "markdown",
     "metadata": {},
     "source": [
      "Use `itertools.combinations()` to produce a sequence of combinations of items taken\n",
      "from the input. For example:"
     ]
    },
    {
     "cell_type": "code",
     "collapsed": false,
     "input": [
      "from itertools import combinations\n",
      "for c in combinations(items, 3):\n",
      "    print(c)"
     ],
     "language": "python",
     "metadata": {},
     "outputs": [
      {
       "output_type": "stream",
       "stream": "stdout",
       "text": [
        "('a', 'b', 'c')\n"
       ]
      }
     ],
     "prompt_number": 3
    },
    {
     "cell_type": "code",
     "collapsed": false,
     "input": [
      "for c in combinations(items, 2):\n",
      "    print(c)"
     ],
     "language": "python",
     "metadata": {},
     "outputs": [
      {
       "output_type": "stream",
       "stream": "stdout",
       "text": [
        "('a', 'b')\n",
        "('a', 'c')\n",
        "('b', 'c')\n"
       ]
      }
     ],
     "prompt_number": 4
    },
    {
     "cell_type": "code",
     "collapsed": false,
     "input": [
      "for c in combinations(items, 1):\n",
      "    print(c)"
     ],
     "language": "python",
     "metadata": {},
     "outputs": [
      {
       "output_type": "stream",
       "stream": "stdout",
       "text": [
        "('a',)\n",
        "('b',)\n",
        "('c',)\n"
       ]
      }
     ],
     "prompt_number": 5
    },
    {
     "cell_type": "markdown",
     "metadata": {},
     "source": [
      "For `combinations()`, the actual order of the elements is not considered. That is, the\n",
      "`combination ('a', 'b')` is considered to be the same as `('b', 'a')` (which is not\n",
      "produced).\n",
      "\n",
      "When producing combinations, chosen items are removed from the collection of possible \n",
      "candidates (i.e., if `'a'` has already been chosen, then it is removed from consideration). \n",
      "The `itertools.combinations_with_replacement()` function relaxes this, and\n",
      "allows the same item to be chosen more than once. For example:"
     ]
    },
    {
     "cell_type": "code",
     "collapsed": false,
     "input": [
      "from itertools import combinations_with_replacement\n",
      "for c in combinations_with_replacement(items, 3):\n",
      "    print(c)"
     ],
     "language": "python",
     "metadata": {},
     "outputs": [
      {
       "output_type": "stream",
       "stream": "stdout",
       "text": [
        "('a', 'a', 'a')\n",
        "('a', 'a', 'b')\n",
        "('a', 'a', 'c')\n",
        "('a', 'b', 'b')\n",
        "('a', 'b', 'c')\n",
        "('a', 'c', 'c')\n",
        "('b', 'b', 'b')\n",
        "('b', 'b', 'c')\n",
        "('b', 'c', 'c')\n",
        "('c', 'c', 'c')\n"
       ]
      }
     ],
     "prompt_number": 6
    },
    {
     "cell_type": "markdown",
     "metadata": {},
     "source": [
      "# Discussion\n",
      "This recipe demonstrates only some of the power found in the `itertools` module.\n",
      "Although you could certainly write code to produce permutations and combinations\n",
      "yourself, doing so would probably require more than a fair bit of thought. When faced\n",
      "with seemingly complicated iteration problems, it always pays to look at `itertools` first.\n",
      "If the problem is common, chances are a solution is already available."
     ]
    }
   ],
   "metadata": {}
  }
 ]
}