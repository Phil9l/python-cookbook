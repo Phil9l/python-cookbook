{
 "metadata": {
  "name": ""
 },
 "nbformat": 3,
 "nbformat_minor": 0,
 "worksheets": [
  {
   "cells": [
    {
     "cell_type": "heading",
     "level": 1,
     "metadata": {},
     "source": [
      "4.14. Flattening a Nested Sequence"
     ]
    },
    {
     "cell_type": "markdown",
     "metadata": {},
     "source": [
      "# Problem\n",
      "You have a nested sequence that you want to flatten into a single list of values.\n",
      "\n",
      "# Solution\n",
      "This is easily solved by writing a recursive generator function involving a `yield from`\n",
      "statement. For example:"
     ]
    },
    {
     "cell_type": "code",
     "collapsed": false,
     "input": [
      "from collections import Iterable\n",
      "\n",
      "def flatten(items, ignore_types=(str, bytes)):\n",
      "    for x in items:\n",
      "        if isinstance(x, Iterable) and not isinstance(x, ignore_types):\n",
      "            yield from flatten(x)\n",
      "        else:\n",
      "            yield x\n",
      "\n",
      "items = [1, 2, [3, 4, [5, 6], 7], 8]\n",
      "\n",
      "# Produces 1 2 3 4 5 6 7 8\n",
      "for x in flatten(items):\n",
      "    print(x)"
     ],
     "language": "python",
     "metadata": {},
     "outputs": [
      {
       "output_type": "stream",
       "stream": "stdout",
       "text": [
        "1\n",
        "2\n",
        "3\n",
        "4\n",
        "5\n",
        "6\n",
        "7\n",
        "8\n"
       ]
      }
     ],
     "prompt_number": 1
    },
    {
     "cell_type": "markdown",
     "metadata": {},
     "source": [
      "In the code, the `isinstance(x, Iterable)` simply checks to see if an item is iterable.\n",
      "If so, `yield` from is used to emit all of its values as a kind of subroutine. The end result\n",
      "is a single sequence of output with no nesting.\n",
      "\n",
      "The extra argument `ignore_types` and the check for `not isinstance(x, ignore_types)` \n",
      "is there to prevent strings and bytes from being interpreted as iterables\n",
      "and expanded as individual characters. This allows nested lists of strings to work in the\n",
      "way that most people would expect. For example:"
     ]
    },
    {
     "cell_type": "code",
     "collapsed": false,
     "input": [
      "items = ['Dave', 'Paula', ['Thomas', 'Lewis']]\n",
      "for x in flatten(items):\n",
      "    print(x)"
     ],
     "language": "python",
     "metadata": {},
     "outputs": [
      {
       "output_type": "stream",
       "stream": "stdout",
       "text": [
        "Dave\n",
        "Paula\n",
        "Thomas\n",
        "Lewis\n"
       ]
      }
     ],
     "prompt_number": 2
    },
    {
     "cell_type": "markdown",
     "metadata": {},
     "source": [
      "# Discussion\n",
      "The `yield from` statement is a nice shortcut to use if you ever want to write generators\n",
      "that call other generators as subroutines. If you don\u2019t use it, you need to write code that\n",
      "uses an extra `for` loop. For example:"
     ]
    },
    {
     "cell_type": "code",
     "collapsed": false,
     "input": [
      "def flatten(items, ignore_types=(str, bytes)):\n",
      "    for x in items:\n",
      "        if isinstance(x, Iterable) and not isinstance(x, ignore_types):\n",
      "            for i in flatten(x):\n",
      "                yield i\n",
      "        else:\n",
      "            yield x"
     ],
     "language": "python",
     "metadata": {},
     "outputs": [],
     "prompt_number": 3
    },
    {
     "cell_type": "markdown",
     "metadata": {},
     "source": [
      "Although it\u2019s only a minor change, the `yield from` statement just feels better and leads\n",
      "to cleaner code.\n",
      "\n",
      "As noted, the extra check for strings and bytes is there to prevent the expansion of those\n",
      "types into individual characters. If there are other types that you don\u2019t want expanded,\n",
      "you can supply a different value for the `ignore_types` argument.\n",
      "\n",
      "Finally, it should be noted that `yield from` has a more important role in advanced\n",
      "programs involving coroutines and generator-based concurrency. See Recipe 12.12 for\n",
      "another example."
     ]
    }
   ],
   "metadata": {}
  }
 ]
}