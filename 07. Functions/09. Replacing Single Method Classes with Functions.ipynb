{
 "metadata": {
  "name": ""
 },
 "nbformat": 3,
 "nbformat_minor": 0,
 "worksheets": [
  {
   "cells": [
    {
     "cell_type": "heading",
     "level": 1,
     "metadata": {},
     "source": [
      "7.9. Replacing Single Method Classes with Functions"
     ]
    },
    {
     "cell_type": "markdown",
     "metadata": {},
     "source": [
      "# Problem\n",
      "You have a class that only defines a single method besides `__init__()`. However, to\n",
      "simplify your code, you would much rather just have a simple function.\n",
      "\n",
      "# Solution\n",
      "In many cases, single-method classes can be turned into functions using closures. Con\u2010\n",
      "sider, as an example, the following class, which allows a user to fetch URLs using a kind\n",
      "of templating scheme.\n",
      "```python\n",
      "from urllib.request import urlopen\n",
      "\n",
      "class UrlTemplate:\n",
      "    def __init__(self, template):\n",
      "        self.template = template\n",
      "\n",
      "    def open(self, **kwargs):\n",
      "        return urlopen(self.template.format_map(kwargs))\n",
      "\n",
      "# Example use. Download stock data from yahoo\n",
      "yahoo = UrlTemplate('http://finance.yahoo.com/d/quotes.csv?s={names}&f={fields}')\n",
      "for line in yahoo.open(names='IBM,AAPL,FB', fields='sl1c1v'):\n",
      "    print(line.decode('utf-8'))\n",
      "```\n",
      "The class could be replaced with a much simpler function:\n",
      "```python\n",
      "def urltemplate(template):\n",
      "    def opener(**kwargs):\n",
      "        return urlopen(template.format_map(kwargs))\n",
      "    return opener\n",
      "\n",
      "# Example use\n",
      "yahoo = urltemplate('http://finance.yahoo.com/d/quotes.csv?s={names}&f={fields}')\n",
      "for line in yahoo(names='IBM,AAPL,FB', fields='sl1c1v'):\n",
      "    print(line.decode('utf-8'))\n",
      "```"
     ]
    },
    {
     "cell_type": "markdown",
     "metadata": {},
     "source": [
      "# Discussion\n",
      "In many cases, the only reason you might have a single-method class is to store \n",
      "additional state for use in the method. For example, the only purpose of the `UrlTemplate`\n",
      "class is to hold the `template` value someplace so that it can be used in the `open()` method.\n",
      "\n",
      "Using an inner function or closure, as shown in the solution, is often more elegant.\n",
      "Simply stated, a closure is just a function, but with an extra environment of the variables\n",
      "that are used inside the function. A key feature of a closure is that it remembers the\n",
      "environment in which it was defined. Thus, in the solution, the `opener()` function\n",
      "remembers the value of the `template` argument, and uses it in subsequent calls.\n",
      "\n",
      "Whenever you\u2019re writing code and you encounter the problem of attaching additional\n",
      "state to a function, think closures. They are often a more minimal and elegant solution\n",
      "than the alternative of turning your function into a full-fledged class."
     ]
    }
   ],
   "metadata": {}
  }
 ]
}