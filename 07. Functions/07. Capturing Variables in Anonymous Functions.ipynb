{
 "metadata": {
  "name": ""
 },
 "nbformat": 3,
 "nbformat_minor": 0,
 "worksheets": [
  {
   "cells": [
    {
     "cell_type": "heading",
     "level": 1,
     "metadata": {},
     "source": [
      "7.7. Capturing Variables in Anonymous Functions"
     ]
    },
    {
     "cell_type": "markdown",
     "metadata": {},
     "source": [
      "# Problem\n",
      "You\u2019ve defined an anonymous function using `lambda`, but you also need to capture the\n",
      "values of certain variables at the time of definition."
     ]
    },
    {
     "cell_type": "markdown",
     "metadata": {},
     "source": [
      "# Solution\n",
      "Consider the behavior of the following code:"
     ]
    },
    {
     "cell_type": "code",
     "collapsed": false,
     "input": [
      "x = 10\n",
      "a = lambda y: x + y\n",
      "x = 20\n",
      "b = lambda y: x + y"
     ],
     "language": "python",
     "metadata": {},
     "outputs": [],
     "prompt_number": 1
    },
    {
     "cell_type": "markdown",
     "metadata": {},
     "source": [
      "Now ask yourself a question. What are the values of `a(10)` and `b(10)`? If you think the\n",
      "results might be $20$ and $30$, you would be wrong:"
     ]
    },
    {
     "cell_type": "code",
     "collapsed": false,
     "input": [
      "a(10)"
     ],
     "language": "python",
     "metadata": {},
     "outputs": [
      {
       "metadata": {},
       "output_type": "pyout",
       "prompt_number": 2,
       "text": [
        "30"
       ]
      }
     ],
     "prompt_number": 2
    },
    {
     "cell_type": "code",
     "collapsed": false,
     "input": [
      "b(10)"
     ],
     "language": "python",
     "metadata": {},
     "outputs": [
      {
       "metadata": {},
       "output_type": "pyout",
       "prompt_number": 3,
       "text": [
        "30"
       ]
      }
     ],
     "prompt_number": 3
    },
    {
     "cell_type": "markdown",
     "metadata": {},
     "source": [
      "The problem here is that the value of `x` used in the lambda expression is a free variable\n",
      "that gets bound at runtime, not definition time. Thus, the value of `x` in the lambda\n",
      "expressions is whatever the value of the `x` variable happens to be at the time of execution.\n",
      "For example:"
     ]
    },
    {
     "cell_type": "code",
     "collapsed": false,
     "input": [
      "x = 15\n",
      "a(10)"
     ],
     "language": "python",
     "metadata": {},
     "outputs": [
      {
       "metadata": {},
       "output_type": "pyout",
       "prompt_number": 4,
       "text": [
        "25"
       ]
      }
     ],
     "prompt_number": 4
    },
    {
     "cell_type": "code",
     "collapsed": false,
     "input": [
      "x = 3\n",
      "a(10)"
     ],
     "language": "python",
     "metadata": {},
     "outputs": [
      {
       "metadata": {},
       "output_type": "pyout",
       "prompt_number": 5,
       "text": [
        "13"
       ]
      }
     ],
     "prompt_number": 5
    },
    {
     "cell_type": "markdown",
     "metadata": {},
     "source": [
      "If you want an anonymous function to capture a value at the point of definition and\n",
      "keep it, include the value as a default value, like this:"
     ]
    },
    {
     "cell_type": "code",
     "collapsed": false,
     "input": [
      "x = 10\n",
      "a = lambda y, x=x: x + y\n",
      "x = 20\n",
      "b = lambda y, x=x: x + y"
     ],
     "language": "python",
     "metadata": {},
     "outputs": [],
     "prompt_number": 6
    },
    {
     "cell_type": "code",
     "collapsed": false,
     "input": [
      "a(10)"
     ],
     "language": "python",
     "metadata": {},
     "outputs": [
      {
       "metadata": {},
       "output_type": "pyout",
       "prompt_number": 7,
       "text": [
        "20"
       ]
      }
     ],
     "prompt_number": 7
    },
    {
     "cell_type": "code",
     "collapsed": false,
     "input": [
      "b(10)"
     ],
     "language": "python",
     "metadata": {},
     "outputs": [
      {
       "metadata": {},
       "output_type": "pyout",
       "prompt_number": 8,
       "text": [
        "30"
       ]
      }
     ],
     "prompt_number": 8
    },
    {
     "cell_type": "markdown",
     "metadata": {},
     "source": [
      "# Discussion\n",
      "The problem addressed in this recipe is something that tends to come up in code that\n",
      "tries to be just a little bit too clever with the use of lambda functions. For example,\n",
      "creating a list of lambda expressions using a list comprehension or in a loop of some,\n",
      "kind and expecting the lambda functions to remember the iteration variable at the time\n",
      "of definition. For example:"
     ]
    },
    {
     "cell_type": "code",
     "collapsed": false,
     "input": [
      "funcs = [lambda x: x+n for n in range(5)]\n",
      "for f in funcs:\n",
      "    print(f(0))"
     ],
     "language": "python",
     "metadata": {},
     "outputs": [
      {
       "output_type": "stream",
       "stream": "stdout",
       "text": [
        "4\n",
        "4\n",
        "4\n",
        "4\n",
        "4\n"
       ]
      }
     ],
     "prompt_number": 9
    },
    {
     "cell_type": "markdown",
     "metadata": {},
     "source": [
      "Notice how all functions think that `n` has the last value during iteration. Now compare\n",
      "to the following:"
     ]
    },
    {
     "cell_type": "code",
     "collapsed": false,
     "input": [
      "funcs = [lambda x, n=n: x+n for n in range(5)]\n",
      "for f in funcs:\n",
      "    print(f(0))"
     ],
     "language": "python",
     "metadata": {},
     "outputs": [
      {
       "output_type": "stream",
       "stream": "stdout",
       "text": [
        "0\n",
        "1\n",
        "2\n",
        "3\n",
        "4\n"
       ]
      }
     ],
     "prompt_number": 10
    },
    {
     "cell_type": "markdown",
     "metadata": {},
     "source": [
      "As you can see, the functions now capture the value of `n` at the time of definition"
     ]
    }
   ],
   "metadata": {}
  }
 ]
}