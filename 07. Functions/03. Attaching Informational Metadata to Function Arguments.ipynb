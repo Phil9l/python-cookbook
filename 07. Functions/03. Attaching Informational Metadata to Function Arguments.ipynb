{
 "metadata": {
  "name": ""
 },
 "nbformat": 3,
 "nbformat_minor": 0,
 "worksheets": [
  {
   "cells": [
    {
     "cell_type": "heading",
     "level": 1,
     "metadata": {},
     "source": [
      "7.3. Attaching Informational Metadata to Function\n",
      "Arguments"
     ]
    },
    {
     "cell_type": "markdown",
     "metadata": {},
     "source": [
      "# Problem\n",
      "You\u2019ve written a function, but would like to attach some additional information to the\n",
      "arguments so that others know more about how a function is supposed to be used.\n",
      "\n",
      "# Solution\n",
      "Function argument annotations can be a useful way to give programmers hints about\n",
      "how a function is supposed to be used. For example, consider the following annotated\n",
      "function:"
     ]
    },
    {
     "cell_type": "code",
     "collapsed": false,
     "input": [
      "def add(x:int, y:int) -> int:\n",
      "    return x + y"
     ],
     "language": "python",
     "metadata": {},
     "outputs": [],
     "prompt_number": 1
    },
    {
     "cell_type": "markdown",
     "metadata": {},
     "source": [
      "The Python interpreter does not attach any semantic meaning to the attached \n",
      "annotations. They are not type checks, nor do they make Python behave any differently than\n",
      "it did before. However, they might give useful hints to others reading the source code\n",
      "about what you had in mind. Third-party tools and frameworks might also attach \n",
      "semantic meaning to the annotations. They also appear in documentation:"
     ]
    },
    {
     "cell_type": "code",
     "collapsed": false,
     "input": [
      "help(add)"
     ],
     "language": "python",
     "metadata": {},
     "outputs": [
      {
       "output_type": "stream",
       "stream": "stdout",
       "text": [
        "Help on function add in module __main__:\n",
        "\n",
        "add(x:int, y:int) -> int\n",
        "\n"
       ]
      }
     ],
     "prompt_number": 2
    },
    {
     "cell_type": "markdown",
     "metadata": {},
     "source": [
      "Although you can attach any kind of object to a function as an annotation (e.g., numbers,\n",
      "strings, instances, etc.), classes or strings often seem to make the most sense."
     ]
    },
    {
     "cell_type": "markdown",
     "metadata": {},
     "source": [
      "Discussion\n",
      "Function annotations are merely stored in a function\u2019s `__annotations__` attribute. For\n",
      "example:"
     ]
    },
    {
     "cell_type": "code",
     "collapsed": false,
     "input": [
      "add.__annotations__"
     ],
     "language": "python",
     "metadata": {},
     "outputs": [
      {
       "metadata": {},
       "output_type": "pyout",
       "prompt_number": 3,
       "text": [
        "{'return': builtins.int, 'x': builtins.int, 'y': builtins.int}"
       ]
      }
     ],
     "prompt_number": 3
    },
    {
     "cell_type": "markdown",
     "metadata": {},
     "source": [
      "Although there are many potential uses of annotations, their primary utility is probably\n",
      "just documentation. Because Python doesn\u2019t have type declarations, it can often be \n",
      "difficult to know what you\u2019re supposed to pass into a function if you\u2019re simply reading its\n",
      "source code in isolation. An annotation gives someone more of a hint.\n",
      "\n",
      "See Recipe 9.20 for an advanced example showing how to use annotations to implement\n",
      "multiple dispatch (i.e., overloaded functions)."
     ]
    }
   ],
   "metadata": {}
  }
 ]
}