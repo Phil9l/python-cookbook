{
 "metadata": {
  "name": ""
 },
 "nbformat": 3,
 "nbformat_minor": 0,
 "worksheets": [
  {
   "cells": [
    {
     "cell_type": "heading",
     "level": 1,
     "metadata": {},
     "source": [
      "7.1. Writing Functions That Accept Any Number of\n",
      "Arguments"
     ]
    },
    {
     "cell_type": "markdown",
     "metadata": {},
     "source": [
      "# Problem\n",
      "You want to write a function that accepts any number of input arguments.\n",
      "\n",
      "# Solution\n",
      "To write a function that accepts any number of positional arguments, use a `*` argument.\n",
      "For example:"
     ]
    },
    {
     "cell_type": "code",
     "collapsed": false,
     "input": [
      "def avg(first, *rest):\n",
      "    return (first + sum(rest)) / (1 + len(rest))"
     ],
     "language": "python",
     "metadata": {},
     "outputs": [],
     "prompt_number": 1
    },
    {
     "cell_type": "code",
     "collapsed": false,
     "input": [
      "# Sample use\n",
      "avg(1, 2) # 1.5"
     ],
     "language": "python",
     "metadata": {},
     "outputs": [
      {
       "metadata": {},
       "output_type": "pyout",
       "prompt_number": 2,
       "text": [
        "1.5"
       ]
      }
     ],
     "prompt_number": 2
    },
    {
     "cell_type": "code",
     "collapsed": false,
     "input": [
      "avg(1, 2, 3, 4) # 2.5"
     ],
     "language": "python",
     "metadata": {},
     "outputs": [
      {
       "metadata": {},
       "output_type": "pyout",
       "prompt_number": 3,
       "text": [
        "2.5"
       ]
      }
     ],
     "prompt_number": 3
    },
    {
     "cell_type": "markdown",
     "metadata": {},
     "source": [
      "In this example, `rest` is a tuple of all the extra positional arguments passed. The code\n",
      "treats it as a sequence in performing subsequent calculations.\n",
      "\n",
      "To accept any number of keyword arguments, use an argument that starts with `**`. For\n",
      "example:"
     ]
    },
    {
     "cell_type": "code",
     "collapsed": false,
     "input": [
      "import html\n",
      "\n",
      "def make_element(name, value, **attrs):\n",
      "    keyvals = [' %s=\"%s\"' % item for item in attrs.items()]\n",
      "    attr_str = ''.join(keyvals)\n",
      "    element = '<{name}{attrs}>{value}</{name}>'.format(name=name,\n",
      "                                                       attrs=attr_str,\n",
      "                                                       value=html.escape(value))\n",
      "    return element"
     ],
     "language": "python",
     "metadata": {},
     "outputs": [],
     "prompt_number": 4
    },
    {
     "cell_type": "code",
     "collapsed": false,
     "input": [
      "# Example\n",
      "# Creates '<item size=\"large\" quantity=\"6\">Albatross</item>'\n",
      "make_element('item', 'Albatross', size='large', quantity=6)"
     ],
     "language": "python",
     "metadata": {},
     "outputs": [
      {
       "metadata": {},
       "output_type": "pyout",
       "prompt_number": 5,
       "text": [
        "'<item size=\"large\" quantity=\"6\">Albatross</item>'"
       ]
      }
     ],
     "prompt_number": 5
    },
    {
     "cell_type": "code",
     "collapsed": false,
     "input": [
      "# Creates '<p>&lt;spam&gt;</p>'\n",
      "make_element('p', '<spam>')"
     ],
     "language": "python",
     "metadata": {},
     "outputs": [
      {
       "metadata": {},
       "output_type": "pyout",
       "prompt_number": 6,
       "text": [
        "'<p>&lt;spam&gt;</p>'"
       ]
      }
     ],
     "prompt_number": 6
    },
    {
     "cell_type": "markdown",
     "metadata": {},
     "source": [
      "Here, `attrs` is a dictionary that holds the passed keyword arguments (if any).\n",
      "\n",
      "If you want a function that can accept both any number of positional and keyword-only\n",
      "arguments, use `*` and `**` together. For example:\n",
      "```python\n",
      "def anyargs(*args, **kwargs):\n",
      "    print(args)    # A tuple\n",
      "    print(kwargs)  # A dict\n",
      "```\n",
      "With this function, all of the positional arguments are placed into a tuple `args`, and all\n",
      "of the keyword arguments are placed into a dictionary `kwargs`."
     ]
    },
    {
     "cell_type": "markdown",
     "metadata": {},
     "source": [
      "# Discussion\n",
      "A `*` argument can only appear as the last positional argument in a function definition.\n",
      "A `**` argument can only appear as the last argument. A subtle aspect of function \n",
      "definitions is that arguments can still appear after a `*` argument.\n",
      "```python\n",
      "def a(x, *args, y):\n",
      "    pass\n",
      "\n",
      "def b(x, *args, y, **kwargs):\n",
      "    pass\n",
      "```\n",
      "Such arguments are known as keyword-only arguments, and are discussed further in\n",
      "Recipe 7.2."
     ]
    }
   ],
   "metadata": {}
  }
 ]
}