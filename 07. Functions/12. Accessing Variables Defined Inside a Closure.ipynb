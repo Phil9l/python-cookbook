{
 "metadata": {
  "name": ""
 },
 "nbformat": 3,
 "nbformat_minor": 0,
 "worksheets": [
  {
   "cells": [
    {
     "cell_type": "heading",
     "level": 1,
     "metadata": {},
     "source": [
      "7.12. Accessing Variables Defined Inside a Closure"
     ]
    },
    {
     "cell_type": "markdown",
     "metadata": {},
     "source": [
      "# Problem\n",
      "You would like to extend a closure with functions that allow the inner variables to be\n",
      "accessed and modified.\n",
      "\n",
      "# Solution\n",
      "Normally, the inner variables of a closure are completely hidden to the outside world.\n",
      "However, you can provide access by writing accessor functions and attaching them to\n",
      "the closure as function attributes. For example:"
     ]
    },
    {
     "cell_type": "code",
     "collapsed": false,
     "input": [
      "def sample():\n",
      "    n = 0\n",
      "    # Closure function\n",
      "    def func():\n",
      "        print('n=', n)\n",
      "\n",
      "    # Accessor methods for n\n",
      "    def get_n():\n",
      "        return n\n",
      "\n",
      "    def set_n(value):\n",
      "        nonlocal n\n",
      "        n = value\n",
      "\n",
      "    # Attach as function attributes\n",
      "    func.get_n = get_n\n",
      "    func.set_n = set_n\n",
      "    return func"
     ],
     "language": "python",
     "metadata": {},
     "outputs": [],
     "prompt_number": 1
    },
    {
     "cell_type": "markdown",
     "metadata": {},
     "source": [
      "Here is an example of using this code:"
     ]
    },
    {
     "cell_type": "code",
     "collapsed": false,
     "input": [
      "f = sample()\n",
      "f()"
     ],
     "language": "python",
     "metadata": {},
     "outputs": [
      {
       "output_type": "stream",
       "stream": "stdout",
       "text": [
        "n= 0\n"
       ]
      }
     ],
     "prompt_number": 2
    },
    {
     "cell_type": "code",
     "collapsed": false,
     "input": [
      "f.set_n(10)\n",
      "f()"
     ],
     "language": "python",
     "metadata": {},
     "outputs": [
      {
       "output_type": "stream",
       "stream": "stdout",
       "text": [
        "n= 10\n"
       ]
      }
     ],
     "prompt_number": 3
    },
    {
     "cell_type": "code",
     "collapsed": false,
     "input": [
      "f.get_n()"
     ],
     "language": "python",
     "metadata": {},
     "outputs": [
      {
       "metadata": {},
       "output_type": "pyout",
       "prompt_number": 4,
       "text": [
        "10"
       ]
      }
     ],
     "prompt_number": 4
    },
    {
     "cell_type": "markdown",
     "metadata": {},
     "source": [
      "# Discussion\n",
      "There are two main features that make this recipe work. First, `nonlocal` declarations\n",
      "make it possible to write functions that change inner variables. Second, function \n",
      "attributes allow the accessor methods to be attached to the closure function in a \n",
      "straightforward manner where they work a lot like instance methods (even though no class is\n",
      "involved).\n",
      "\n",
      "A slight extension to this recipe can be made to have closures emulate instances of a\n",
      "class. All you need to do is copy the inner functions over to the dictionary of an instance\n",
      "and return it. For example:"
     ]
    },
    {
     "cell_type": "code",
     "collapsed": false,
     "input": [
      "import sys\n",
      "\n",
      "class ClosureInstance:\n",
      "    def __init__(self, locals=None):\n",
      "        if locals is None:\n",
      "            locals = sys._getframe(1).f_locals\n",
      "\n",
      "        # Update instance dictionary with callables\n",
      "        self.__dict__.update((key,value) for key, value in locals.items()\n",
      "                             if callable(value))\n",
      "\n",
      "    # Redirect special methods\n",
      "    def __len__(self):\n",
      "        return self.__dict__['__len__']()\n",
      "\n",
      "# Example use\n",
      "def Stack():\n",
      "    items = []\n",
      "\n",
      "    def push(item):\n",
      "        items.append(item)\n",
      "\n",
      "    def pop():\n",
      "        return items.pop()\n",
      "\n",
      "    def __len__():\n",
      "        return len(items)\n",
      "\n",
      "    return ClosureInstance()"
     ],
     "language": "python",
     "metadata": {},
     "outputs": [],
     "prompt_number": 5
    },
    {
     "cell_type": "markdown",
     "metadata": {},
     "source": [
      "Here\u2019s an interactive session to show that it actually works:"
     ]
    },
    {
     "cell_type": "code",
     "collapsed": false,
     "input": [
      "s = Stack()\n",
      "s"
     ],
     "language": "python",
     "metadata": {},
     "outputs": [
      {
       "metadata": {},
       "output_type": "pyout",
       "prompt_number": 6,
       "text": [
        "<__main__.ClosureInstance at 0x7fc548bdeac8>"
       ]
      }
     ],
     "prompt_number": 6
    },
    {
     "cell_type": "code",
     "collapsed": false,
     "input": [
      "s.push(10)\n",
      "s.push(20)\n",
      "s.push('Hello')"
     ],
     "language": "python",
     "metadata": {},
     "outputs": [],
     "prompt_number": 7
    },
    {
     "cell_type": "code",
     "collapsed": false,
     "input": [
      "len(s)"
     ],
     "language": "python",
     "metadata": {},
     "outputs": [
      {
       "metadata": {},
       "output_type": "pyout",
       "prompt_number": 8,
       "text": [
        "3"
       ]
      }
     ],
     "prompt_number": 8
    },
    {
     "cell_type": "code",
     "collapsed": false,
     "input": [
      "s.pop()"
     ],
     "language": "python",
     "metadata": {},
     "outputs": [
      {
       "metadata": {},
       "output_type": "pyout",
       "prompt_number": 9,
       "text": [
        "'Hello'"
       ]
      }
     ],
     "prompt_number": 9
    },
    {
     "cell_type": "code",
     "collapsed": false,
     "input": [
      "s.pop()"
     ],
     "language": "python",
     "metadata": {},
     "outputs": [
      {
       "metadata": {},
       "output_type": "pyout",
       "prompt_number": 10,
       "text": [
        "20"
       ]
      }
     ],
     "prompt_number": 10
    },
    {
     "cell_type": "code",
     "collapsed": false,
     "input": [
      "s.pop()"
     ],
     "language": "python",
     "metadata": {},
     "outputs": [
      {
       "metadata": {},
       "output_type": "pyout",
       "prompt_number": 11,
       "text": [
        "10"
       ]
      }
     ],
     "prompt_number": 11
    },
    {
     "cell_type": "markdown",
     "metadata": {},
     "source": [
      "Interestingly, this code runs a bit faster than using a normal class definition. For example,\n",
      "you might be inclined to test the performance against a class like this:"
     ]
    },
    {
     "cell_type": "code",
     "collapsed": false,
     "input": [
      "class Stack2:\n",
      "    def __init__(self):\n",
      "        self.items = []\n",
      "\n",
      "    def push(self, item):\n",
      "        self.items.append(item)\n",
      "\n",
      "    def pop(self):\n",
      "        return self.items.pop()\n",
      "\n",
      "    def __len__(self):\n",
      "        return len(self.items)"
     ],
     "language": "python",
     "metadata": {},
     "outputs": [],
     "prompt_number": 12
    },
    {
     "cell_type": "markdown",
     "metadata": {},
     "source": [
      "If you do, you\u2019ll get results similar to the following:"
     ]
    },
    {
     "cell_type": "code",
     "collapsed": false,
     "input": [
      "from timeit import timeit\n",
      "\n",
      "# Test involving closures\n",
      "s = Stack()\n",
      "timeit('s.push(1);s.pop()', 'from __main__ import s')"
     ],
     "language": "python",
     "metadata": {},
     "outputs": [
      {
       "metadata": {},
       "output_type": "pyout",
       "prompt_number": 13,
       "text": [
        "0.48367974199936725"
       ]
      }
     ],
     "prompt_number": 13
    },
    {
     "cell_type": "code",
     "collapsed": false,
     "input": [
      "# Test involving a class\n",
      "s = Stack2()\n",
      "timeit('s.push(1);s.pop()', 'from __main__ import s')"
     ],
     "language": "python",
     "metadata": {},
     "outputs": [
      {
       "metadata": {},
       "output_type": "pyout",
       "prompt_number": 14,
       "text": [
        "0.5436354960111203"
       ]
      }
     ],
     "prompt_number": 14
    },
    {
     "cell_type": "markdown",
     "metadata": {},
     "source": [
      "As shown, the closure version runs about $8$% faster. Most of that is coming from\n",
      "streamlined access to the instance variables. Closures are faster because there\u2019s no extra\n",
      "`self` variable involved.\n",
      "\n",
      "Raymond Hettinger has devised an even more [diabolical variant of this idea](http://bit.ly/11DSni2). However,\n",
      "should you be inclined to do something like this in your code, be aware that it\u2019s still a\n",
      "rather weird substitute for a real class. For example, major features such as inheritance,\n",
      "properties, descriptors, or class methods don\u2019t work. You also have to play some tricks\n",
      "to get special methods to work (e.g., see the implementation of `__len__()` in `ClosureInstance`)."
     ]
    }
   ],
   "metadata": {}
  }
 ]
}