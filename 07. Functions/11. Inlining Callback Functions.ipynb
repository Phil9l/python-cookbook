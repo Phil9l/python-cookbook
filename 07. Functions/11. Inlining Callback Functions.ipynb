{
 "metadata": {
  "name": ""
 },
 "nbformat": 3,
 "nbformat_minor": 0,
 "worksheets": [
  {
   "cells": [
    {
     "cell_type": "heading",
     "level": 1,
     "metadata": {},
     "source": [
      "7.11. Inlining Callback Functions"
     ]
    },
    {
     "cell_type": "markdown",
     "metadata": {},
     "source": [
      "# Problem\n",
      "You\u2019re writing code that uses callback functions, but you\u2019re concerned about the pro\u2010\n",
      "liferation of small functions and mind boggling control flow. You would like some way\n",
      "to make the code look more like a normal sequence of procedural steps.\n",
      "\n",
      "# Solution\n",
      "Callback functions can be inlined into a function using generators and coroutines. To\n",
      "illustrate, suppose you have a function that performs work and invokes a callback as\n",
      "follows (see Recipe 7.10):"
     ]
    },
    {
     "cell_type": "code",
     "collapsed": false,
     "input": [
      "def apply_async(func, args, *, callback):\n",
      "    # Compute the result\n",
      "    result = func(*args)\n",
      "    # Invoke the callback with the result\n",
      "    callback(result)"
     ],
     "language": "python",
     "metadata": {},
     "outputs": [],
     "prompt_number": 1
    },
    {
     "cell_type": "markdown",
     "metadata": {},
     "source": [
      "Now take a look at the following supporting code, which involves an `Async` class and\n",
      "an `inlined_async` decorator:"
     ]
    },
    {
     "cell_type": "code",
     "collapsed": false,
     "input": [
      "from queue import Queue\n",
      "from functools import wraps\n",
      "\n",
      "class Async:\n",
      "    def __init__(self, func, args):\n",
      "        self.func = func\n",
      "        self.args = args\n",
      "\n",
      "    def inlined_async(func):\n",
      "        @wraps(func)\n",
      "        def wrapper(*args):\n",
      "            f = func(*args)\n",
      "            result_queue = Queue()\n",
      "            result_queue.put(None)\n",
      "            while True:\n",
      "                result = result_queue.get()\n",
      "                try:\n",
      "                    a = f.send(result)\n",
      "                    apply_async(a.func, a.args, callback=result_queue.put)\n",
      "                except StopIteration:\n",
      "                    break\n",
      "        return wrapper"
     ],
     "language": "python",
     "metadata": {},
     "outputs": [],
     "prompt_number": 2
    },
    {
     "cell_type": "markdown",
     "metadata": {},
     "source": [
      "These two fragments of code will allow you to inline the callback steps using `yield`\n",
      "statements. For example:"
     ]
    },
    {
     "cell_type": "code",
     "collapsed": false,
     "input": [
      "def add(x, y):\n",
      "    return x + y\n",
      "\n",
      "@Async.inlined_async\n",
      "def test():\n",
      "    r = yield Async(add, (2, 3))\n",
      "    print(r)\n",
      "    r = yield Async(add, ('hello', 'world'))\n",
      "    print(r)\n",
      "    for n in range(10):\n",
      "        r = yield Async(add, (n, n))\n",
      "        print(r)\n",
      "    print('Goodbye')"
     ],
     "language": "python",
     "metadata": {},
     "outputs": [],
     "prompt_number": 3
    },
    {
     "cell_type": "markdown",
     "metadata": {},
     "source": [
      "If you call `test()`, you\u2019ll get output like this:\n",
      "```\n",
      "5\n",
      "helloworld\n",
      "0\n",
      "2\n",
      "4\n",
      "6\n",
      "8\n",
      "10\n",
      "12\n",
      "14\n",
      "16\n",
      "18\n",
      "Goodbye\n",
      "```"
     ]
    },
    {
     "cell_type": "code",
     "collapsed": false,
     "input": [
      "test()"
     ],
     "language": "python",
     "metadata": {},
     "outputs": [
      {
       "output_type": "stream",
       "stream": "stdout",
       "text": [
        "5\n",
        "helloworld\n",
        "0\n",
        "2\n",
        "4\n",
        "6\n",
        "8\n",
        "10\n",
        "12\n",
        "14\n",
        "16\n",
        "18\n",
        "Goodbye\n"
       ]
      }
     ],
     "prompt_number": 5
    },
    {
     "cell_type": "markdown",
     "metadata": {},
     "source": [
      "Aside from the special decorator and use of `yield`, you will notice that no callback\n",
      "functions appear anywhere (except behind the scenes)."
     ]
    },
    {
     "cell_type": "markdown",
     "metadata": {},
     "source": [
      "# Discussion\n",
      "This recipe will really test your knowledge of callback functions, generators, and control\n",
      "flow.\n",
      "\n",
      "First, in code involving callbacks, the whole point is that the current calculation will\n",
      "suspend and resume at some later point in time (e.g., asynchronously). When the \n",
      "calculation resumes, the callback will get executed to continue the processing. The \n",
      "`apply_async()` function illustrates the essential parts of executing the callback, although\n",
      "in reality it might be much more complicated (involving threads, processes, event \n",
      "handlers, etc.).\n",
      "\n",
      "The idea that a calculation will suspend and resume naturally maps to the execution\n",
      "model of a generator function. Specifically, the `yield` operation makes a generator\n",
      "function emit a value and suspend. Subsequent calls to the `__next__()` or `send()`\n",
      "method of a generator will make it start again.\n",
      "\n",
      "With this in mind, the core of this recipe is found in the `inline_async()` decorator\n",
      "function. The key idea is that the decorator will step the generator function through all\n",
      "of its `yield` statements, one at a time. To do this, a result queue is created and initially\n",
      "populated with a value of `None`. A loop is then initiated in which a result is popped off\n",
      "the queue and sent into the generator. This advances to the next yield, at which point\n",
      "an instance of `Async` is received. The loop then looks at the function and arguments,\n",
      "and initiates the asynchronous calculation `apply_async()`. However, the sneakiest part\n",
      "of this calculation is that instead of using a normal callback function, the callback is set\n",
      "to the queue `put()` method.\n",
      "\n",
      "At this point, it is left somewhat open as to precisely what happens. The main loop\n",
      "immediately goes back to the top and simply executes a `get()` operation on the queue.\n",
      "If data is present, it must be the result placed there by the `put()` callback. If nothing is\n",
      "there, the operation blocks, waiting for a result to arrive at some future time. How that\n",
      "might happen depends on the precise implementation of the `apply_async()` function.\n",
      "\n",
      "If you\u2019re doubtful that anything this crazy would work, you can try it with the \n",
      "multiprocessing library and have async operations executed in separate processes:\n",
      "```python\n",
      "if __name__ == '__main__':\n",
      "    import multiprocessing\n",
      "    pool = multiprocessing.Pool()\n",
      "    apply_async = pool.apply_async\n",
      "\n",
      "    # Run the test function\n",
      "    test()\n",
      "```\n",
      "Indeed, you\u2019ll find that it works, but unraveling the control flow might require more\n",
      "coffee.\n",
      "\n",
      "Hiding tricky control flow behind generator functions is found elsewhere in the \n",
      "standard library and third-party packages. For example, the `@contextmanager` decorator in\n",
      "the `contextlib` performs a similar mind-bending trick that glues the entry and exit\n",
      "from a context manager together across a yield statement. The popular \n",
      "[Twisted package](http://twistedmatrix.com/) has inlined callbacks that are also similar."
     ]
    }
   ],
   "metadata": {}
  }
 ]
}