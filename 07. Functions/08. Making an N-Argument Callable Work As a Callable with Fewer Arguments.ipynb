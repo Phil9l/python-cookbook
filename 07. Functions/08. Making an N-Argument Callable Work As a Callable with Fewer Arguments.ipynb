{
 "metadata": {
  "name": ""
 },
 "nbformat": 3,
 "nbformat_minor": 0,
 "worksheets": [
  {
   "cells": [
    {
     "cell_type": "heading",
     "level": 1,
     "metadata": {},
     "source": [
      "7.8. Making an N-Argument Callable Work As a Callable\n",
      "with Fewer Arguments"
     ]
    },
    {
     "cell_type": "markdown",
     "metadata": {},
     "source": [
      "# Problem\n",
      "You have a callable that you would like to use with some other Python code, possibly as\n",
      "a callback function or handler, but it takes too many arguments and causes an exception\n",
      "when called.\n",
      "\n",
      "# Solution\n",
      "If you need to reduce the number of arguments to a function, you should use \n",
      "`functools.partial()`. The `partial()` function allows you to assign fixed values to one or\n",
      "more of the arguments, thus reducing the number of arguments that need to be supplied\n",
      "to subsequent calls. To illustrate, suppose you have this function:"
     ]
    },
    {
     "cell_type": "code",
     "collapsed": false,
     "input": [
      "def spam(a, b, c, d):\n",
      "    print(a, b, c, d)"
     ],
     "language": "python",
     "metadata": {},
     "outputs": [],
     "prompt_number": 1
    },
    {
     "cell_type": "markdown",
     "metadata": {},
     "source": [
      "Now consider the use of `partial()` to fix certain argument values:"
     ]
    },
    {
     "cell_type": "code",
     "collapsed": false,
     "input": [
      "from functools import partial\n",
      "s1 = partial(spam, 1)  # a = 1\n",
      "s1(2, 3, 4)"
     ],
     "language": "python",
     "metadata": {},
     "outputs": [
      {
       "output_type": "stream",
       "stream": "stdout",
       "text": [
        "1 2 3 4\n"
       ]
      }
     ],
     "prompt_number": 2
    },
    {
     "cell_type": "code",
     "collapsed": false,
     "input": [
      "s1(4, 5, 6)"
     ],
     "language": "python",
     "metadata": {},
     "outputs": [
      {
       "output_type": "stream",
       "stream": "stdout",
       "text": [
        "1 4 5 6\n"
       ]
      }
     ],
     "prompt_number": 3
    },
    {
     "cell_type": "code",
     "collapsed": false,
     "input": [
      "s2 = partial(spam, d=42)  # d = 42\n",
      "s2(1, 2, 3)"
     ],
     "language": "python",
     "metadata": {},
     "outputs": [
      {
       "output_type": "stream",
       "stream": "stdout",
       "text": [
        "1 2 3 42\n"
       ]
      }
     ],
     "prompt_number": 4
    },
    {
     "cell_type": "code",
     "collapsed": false,
     "input": [
      "s2(4, 5, 5)"
     ],
     "language": "python",
     "metadata": {},
     "outputs": [
      {
       "output_type": "stream",
       "stream": "stdout",
       "text": [
        "4 5 5 42\n"
       ]
      }
     ],
     "prompt_number": 5
    },
    {
     "cell_type": "code",
     "collapsed": false,
     "input": [
      "s3 = partial(spam, 1, 2, d=42)  # a = 1, b = 2, d = 42\n",
      "s3(3)"
     ],
     "language": "python",
     "metadata": {},
     "outputs": [
      {
       "output_type": "stream",
       "stream": "stdout",
       "text": [
        "1 2 3 42\n"
       ]
      }
     ],
     "prompt_number": 6
    },
    {
     "cell_type": "code",
     "collapsed": false,
     "input": [
      "s3(4)"
     ],
     "language": "python",
     "metadata": {},
     "outputs": [
      {
       "output_type": "stream",
       "stream": "stdout",
       "text": [
        "1 2 4 42\n"
       ]
      }
     ],
     "prompt_number": 7
    },
    {
     "cell_type": "code",
     "collapsed": false,
     "input": [
      "s3(5)"
     ],
     "language": "python",
     "metadata": {},
     "outputs": [
      {
       "output_type": "stream",
       "stream": "stdout",
       "text": [
        "1 2 5 42\n"
       ]
      }
     ],
     "prompt_number": 8
    },
    {
     "cell_type": "markdown",
     "metadata": {},
     "source": [
      "Observe that `partial()` fixes the values for certain arguments and returns a new callable\n",
      "as a result. This new callable accepts the still unassigned arguments, combines them\n",
      "with the arguments given to `partial()`, and passes everything to the original function."
     ]
    },
    {
     "cell_type": "markdown",
     "metadata": {},
     "source": [
      "# Discussion\n",
      "This recipe is really related to the problem of making seemingly incompatible bits of\n",
      "code work together. A series of examples will help illustrate.\n",
      "As a first example, suppose you have a list of points represented as tuples of (x,y) co\u2010\n",
      "ordinates. You could use the following function to compute the distance between two\n",
      "points:"
     ]
    },
    {
     "cell_type": "code",
     "collapsed": false,
     "input": [
      "points = [ (1, 2), (3, 4), (5, 6), (7, 8) ]\n",
      "\n",
      "import math\n",
      "def distance(p1, p2):\n",
      "    x1, y1 = p1\n",
      "    x2, y2 = p2\n",
      "    return math.hypot(x2 - x1, y2 - y1)"
     ],
     "language": "python",
     "metadata": {},
     "outputs": [],
     "prompt_number": 9
    },
    {
     "cell_type": "markdown",
     "metadata": {},
     "source": [
      "Now suppose you want to sort all of the points according to their distance from some\n",
      "other point. The `sort()` method of lists accepts a `key` argument that can be used to\n",
      "customize sorting, but it only works with functions that take a single argument (thus,\n",
      "`distance()` is not suitable). Here\u2019s how you might use `partial()` to fix it:"
     ]
    },
    {
     "cell_type": "code",
     "collapsed": false,
     "input": [
      "pt = (4, 3)\n",
      "points.sort(key=partial(distance,pt))\n",
      "points"
     ],
     "language": "python",
     "metadata": {},
     "outputs": [
      {
       "metadata": {},
       "output_type": "pyout",
       "prompt_number": 10,
       "text": [
        "[(3, 4), (1, 2), (5, 6), (7, 8)]"
       ]
      }
     ],
     "prompt_number": 10
    },
    {
     "cell_type": "markdown",
     "metadata": {},
     "source": [
      "As an extension of this idea, `partial()` can often be used to tweak the argument \n",
      "signatures of callback functions used in other libraries. For example, here\u2019s a bit of code\n",
      "that uses `multiprocessing` to asynchronously compute a result which is handed to a\n",
      "callback function that accepts both the result and an optional logging argument:\n",
      "```python\n",
      "def output_result(result, log=None):\n",
      "    if log is not None:\n",
      "        log.debug('Got: %r', result)\n",
      "\n",
      "# A sample function\n",
      "def add(x, y):\n",
      "    return x + y\n",
      "\n",
      "if __name__ == '__main__':\n",
      "    import logging\n",
      "    from multiprocessing import Pool\n",
      "    from functools import partial\n",
      "\n",
      "    logging.basicConfig(level=logging.DEBUG)\n",
      "    log = logging.getLogger('test')\n",
      "    \n",
      "    p = Pool()\n",
      "    p.apply_async(add, (3, 4), callback=partial(output_result, log=log))\n",
      "    p.close()\n",
      "    p.join()\n",
      "```\n",
      "When supplying the callback function using `apply_async()`, the extra logging argument \n",
      "is given using `partial()`. `multiprocessing` is none the wiser about all of this \u2014 \n",
      "it simply invokes the callback function with a single value.\n",
      "\n",
      "As a similar example, consider the problem of writing network servers. The \n",
      "`socketserver` module makes it relatively easy. For example, here is a simple echo server:\n",
      "```python\n",
      "from socketserver import StreamRequestHandler, TCPServer\n",
      "class EchoHandler(StreamRequestHandler):\n",
      "\n",
      "def handle(self):\n",
      "    for line in self.rfile:\n",
      "        self.wfile.write(b'GOT:' + line)\n",
      "\n",
      "serv = TCPServer(('', 15000), EchoHandler)\n",
      "serv.serve_forever()\n",
      "```\n",
      "However, suppose you want to give the `EchoHandler` class an `__init__()` method that\n",
      "accepts an additional configuration argument. For example:\n",
      "```python\n",
      "class EchoHandler(StreamRequestHandler):\n",
      "    # ack is added keyword-only argument. *args, **kwargs are\n",
      "    # any normal parameters supplied (which are passed on)\n",
      "    def __init__(self, *args, ack, **kwargs):\n",
      "        self.ack = ack\n",
      "        super().__init__(*args, **kwargs)\n",
      "    \n",
      "    def handle(self):\n",
      "        for line in self.rfile:\n",
      "            self.wfile.write(self.ack + line)\n",
      "```\n",
      "If you make this change, you\u2019ll find there is no longer an obvious way to plug it into the\n",
      "`TCPServer` class. In fact, you\u2019ll find that the code now starts generating exceptions like\n",
      "this:\n",
      "```\n",
      "Exception happened during processing of request from ('127.0.0.1', 59834)\n",
      "Traceback (most recent call last):\n",
      " ...\n",
      "TypeError: __init__() missing 1 required keyword-only argument: 'ack'\n",
      "```\n",
      "At first glance, it seems impossible to fix this code, short of modifying the source code\n",
      "to `socketserver` or coming up with some kind of weird workaround. However, it\u2019s easy\n",
      "to resolve using `partial()` \u2014 just use it to supply the value of the `ack` argument, like\n",
      "this:\n",
      "```python\n",
      "from functools import partial\n",
      "serv = TCPServer(('', 15000), partial(EchoHandler, ack=b'RECEIVED:'))\n",
      "serv.serve_forever()\n",
      "```\n",
      "In this example, the specification of the `ack` argument in the `__init__()` method might\n",
      "look a little funny, but it\u2019s being specified as a keyword-only argument. This is discussed\n",
      "further in Recipe 7.2.\n",
      "\n",
      "The functionality of `partial()` is sometimes replaced with a `lambda` expression. For\n",
      "example, the previous examples might use statements such as this:\n",
      "```python\n",
      "points.sort(key=lambda p: distance(pt, p))\n",
      "\n",
      "p.apply_async(add, (3, 4), callback=lambda result: output_result(result,log))\n",
      "\n",
      "serv = TCPServer(('', 15000),\n",
      "                 lambda *args, **kwargs: EchoHandler(*args,\n",
      "                                                     ack=b'RECEIVED:',\n",
      "                                                     **kwargs))\n",
      "```\n",
      "This code works, but it\u2019s more verbose and potentially a lot more confusing to someone\n",
      "reading it. Using `partial()` is a bit more explicit about your intentions (supplying\n",
      "values for some of the arguments).)"
     ]
    },
    {
     "cell_type": "code",
     "collapsed": false,
     "input": [],
     "language": "python",
     "metadata": {},
     "outputs": []
    }
   ],
   "metadata": {}
  }
 ]
}