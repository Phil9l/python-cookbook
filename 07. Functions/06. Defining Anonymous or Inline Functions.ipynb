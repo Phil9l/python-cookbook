{
 "metadata": {
  "name": ""
 },
 "nbformat": 3,
 "nbformat_minor": 0,
 "worksheets": [
  {
   "cells": [
    {
     "cell_type": "heading",
     "level": 1,
     "metadata": {},
     "source": [
      "7.6. Defining Anonymous or Inline Functions"
     ]
    },
    {
     "cell_type": "markdown",
     "metadata": {},
     "source": [
      "# Problem\n",
      "You need to supply a short callback function for use with an operation such as `sort()`,\n",
      "but you don\u2019t want to write a separate one-line function using the `def` statement. Instead,\n",
      "you\u2019d like a shortcut that allows you to specify the function \u201cin line.\u201d\n",
      "\n",
      "# Solution\n",
      "Simple functions that do nothing more than evaluate an expression can be replaced by\n",
      "a `lambda` expression. For example:"
     ]
    },
    {
     "cell_type": "code",
     "collapsed": false,
     "input": [
      "add = lambda x, y: x + y\n",
      "add(2,3)"
     ],
     "language": "python",
     "metadata": {},
     "outputs": [
      {
       "metadata": {},
       "output_type": "pyout",
       "prompt_number": 1,
       "text": [
        "5"
       ]
      }
     ],
     "prompt_number": 1
    },
    {
     "cell_type": "code",
     "collapsed": false,
     "input": [
      "add('hello', 'world')"
     ],
     "language": "python",
     "metadata": {},
     "outputs": [
      {
       "metadata": {},
       "output_type": "pyout",
       "prompt_number": 2,
       "text": [
        "'helloworld'"
       ]
      }
     ],
     "prompt_number": 2
    },
    {
     "cell_type": "markdown",
     "metadata": {},
     "source": [
      "The use of `lambda` here is the same as having typed this:"
     ]
    },
    {
     "cell_type": "code",
     "collapsed": false,
     "input": [
      "def add(x, y):\n",
      "    return x + y"
     ],
     "language": "python",
     "metadata": {},
     "outputs": [],
     "prompt_number": 3
    },
    {
     "cell_type": "code",
     "collapsed": false,
     "input": [
      "add(2,3)"
     ],
     "language": "python",
     "metadata": {},
     "outputs": [
      {
       "metadata": {},
       "output_type": "pyout",
       "prompt_number": 4,
       "text": [
        "5"
       ]
      }
     ],
     "prompt_number": 4
    },
    {
     "cell_type": "markdown",
     "metadata": {},
     "source": [
      "Typically, `lambda` is used in the context of some other operation, such as sorting or a\n",
      "data reduction:"
     ]
    },
    {
     "cell_type": "code",
     "collapsed": false,
     "input": [
      "names = ['David Beazley', 'Brian Jones',\n",
      "         'Raymond Hettinger', 'Ned Batchelder']\n",
      "sorted(names, key=lambda name: name.split()[-1].lower())"
     ],
     "language": "python",
     "metadata": {},
     "outputs": [
      {
       "metadata": {},
       "output_type": "pyout",
       "prompt_number": 5,
       "text": [
        "['Ned Batchelder', 'David Beazley', 'Raymond Hettinger', 'Brian Jones']"
       ]
      }
     ],
     "prompt_number": 5
    },
    {
     "cell_type": "markdown",
     "metadata": {},
     "source": [
      "# Discussion\n",
      "Although `lambda` allows you to define a simple function, its use is highly restricted. In\n",
      "particular, only a single expression can be specified, the result of which is the return\n",
      "value. This means that no other language features, including multiple statements, \n",
      "conditionals, iteration, and exception handling, can be included.\n",
      "\n",
      "You can quite happily write a lot of Python code without ever using lambda. However,\n",
      "you\u2019ll occasionally encounter it in programs where someone is writing a lot of tiny\n",
      "functions that evaluate various expressions, or in programs that require users to supply\n",
      "callback functions."
     ]
    }
   ],
   "metadata": {}
  }
 ]
}