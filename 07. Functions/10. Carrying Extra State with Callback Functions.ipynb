{
 "metadata": {
  "name": ""
 },
 "nbformat": 3,
 "nbformat_minor": 0,
 "worksheets": [
  {
   "cells": [
    {
     "cell_type": "heading",
     "level": 1,
     "metadata": {},
     "source": [
      "7.10. Carrying Extra State with Callback Functions"
     ]
    },
    {
     "cell_type": "markdown",
     "metadata": {},
     "source": [
      "# Problem\n",
      "You\u2019re writing code that relies on the use of callback functions (e.g., event handlers,\n",
      "completion callbacks, etc.), but you want to have the callback function carry extra state\n",
      "for use inside the callback function.\n",
      "\n",
      "# Solution\n",
      "This recipe pertains to the use of callback functions that are found in many libraries\n",
      "and frameworks \u2014 especially those related to asynchronous processing. To illustrate and\n",
      "for the purposes of testing, define the following function, which invokes a callback:"
     ]
    },
    {
     "cell_type": "code",
     "collapsed": false,
     "input": [
      "def apply_async(func, args, *, callback):\n",
      "    # Compute the result\n",
      "    result = func(*args)\n",
      "    \n",
      "    # Invoke the callback with the result\n",
      "    callback(result)"
     ],
     "language": "python",
     "metadata": {},
     "outputs": [],
     "prompt_number": 1
    },
    {
     "cell_type": "markdown",
     "metadata": {},
     "source": [
      "In reality, such code might do all sorts of advanced processing involving threads, \n",
      "processes, and timers, but that\u2019s not the main focus here. Instead, we\u2019re simply focused on\n",
      "the invocation of the callback. Here\u2019s an example that shows how the preceding code\n",
      "gets used:"
     ]
    },
    {
     "cell_type": "code",
     "collapsed": false,
     "input": [
      "def print_result(result):\n",
      "    print('Got:', result)\n",
      "    \n",
      "def add(x, y):\n",
      "    return x + y"
     ],
     "language": "python",
     "metadata": {},
     "outputs": [],
     "prompt_number": 2
    },
    {
     "cell_type": "code",
     "collapsed": false,
     "input": [
      "apply_async(add, (2, 3), callback=print_result)"
     ],
     "language": "python",
     "metadata": {},
     "outputs": [
      {
       "output_type": "stream",
       "stream": "stdout",
       "text": [
        "Got: 5\n"
       ]
      }
     ],
     "prompt_number": 3
    },
    {
     "cell_type": "code",
     "collapsed": false,
     "input": [
      "apply_async(add, ('hello', 'world'), callback=print_result)"
     ],
     "language": "python",
     "metadata": {},
     "outputs": [
      {
       "output_type": "stream",
       "stream": "stdout",
       "text": [
        "Got: helloworld\n"
       ]
      }
     ],
     "prompt_number": 4
    },
    {
     "cell_type": "markdown",
     "metadata": {},
     "source": [
      "As you will notice, the `print_result()` function only accepts a single argument, which\n",
      "is the result. No other information is passed in. This lack of information can sometimes\n",
      "present problems when you want the callback to interact with other variables or parts\n",
      "of the environment.\n",
      "\n",
      "One way to carry extra information in a callback is to use a bound-method instead of\n",
      "a simple function. For example, this class keeps an internal sequence number that is\n",
      "incremented every time a result is received:"
     ]
    },
    {
     "cell_type": "code",
     "collapsed": false,
     "input": [
      "class ResultHandler:\n",
      "    def __init__(self):\n",
      "        self.sequence = 0\n",
      "\n",
      "    def handler(self, result):\n",
      "        self.sequence += 1\n",
      "        print('[{}] Got: {}'.format(self.sequence, result))"
     ],
     "language": "python",
     "metadata": {},
     "outputs": [],
     "prompt_number": 5
    },
    {
     "cell_type": "markdown",
     "metadata": {},
     "source": [
      "To use this class, you would create an instance and use the bound method `handler` as\n",
      "the callback:"
     ]
    },
    {
     "cell_type": "code",
     "collapsed": false,
     "input": [
      "r = ResultHandler()\n",
      "apply_async(add, (2, 3), callback=r.handler)"
     ],
     "language": "python",
     "metadata": {},
     "outputs": [
      {
       "output_type": "stream",
       "stream": "stdout",
       "text": [
        "[1] Got: 5\n"
       ]
      }
     ],
     "prompt_number": 6
    },
    {
     "cell_type": "code",
     "collapsed": false,
     "input": [
      "apply_async(add, ('hello', 'world'), callback=r.handler)"
     ],
     "language": "python",
     "metadata": {},
     "outputs": [
      {
       "output_type": "stream",
       "stream": "stdout",
       "text": [
        "[2] Got: helloworld\n"
       ]
      }
     ],
     "prompt_number": 7
    },
    {
     "cell_type": "markdown",
     "metadata": {},
     "source": [
      "As an alternative to a class, you can also use a closure to capture state. For example:"
     ]
    },
    {
     "cell_type": "code",
     "collapsed": false,
     "input": [
      "def make_handler():\n",
      "    sequence = 0\n",
      "    def handler(result):\n",
      "        nonlocal sequence\n",
      "        sequence += 1\n",
      "        print('[{}] Got: {}'.format(sequence, result))\n",
      "    return handler"
     ],
     "language": "python",
     "metadata": {},
     "outputs": [],
     "prompt_number": 8
    },
    {
     "cell_type": "markdown",
     "metadata": {},
     "source": [
      "Here is an example of this variant:"
     ]
    },
    {
     "cell_type": "code",
     "collapsed": false,
     "input": [
      "handler = make_handler()\n",
      "apply_async(add, (2, 3), callback=handler)"
     ],
     "language": "python",
     "metadata": {},
     "outputs": [
      {
       "output_type": "stream",
       "stream": "stdout",
       "text": [
        "[1] Got: 5\n"
       ]
      }
     ],
     "prompt_number": 9
    },
    {
     "cell_type": "code",
     "collapsed": false,
     "input": [
      "apply_async(add, ('hello', 'world'), callback=handler)"
     ],
     "language": "python",
     "metadata": {},
     "outputs": [
      {
       "output_type": "stream",
       "stream": "stdout",
       "text": [
        "[2] Got: helloworld\n"
       ]
      }
     ],
     "prompt_number": 10
    },
    {
     "cell_type": "markdown",
     "metadata": {},
     "source": [
      "As yet another variation on this theme, you can sometimes use a coroutine to accomplish\n",
      "the same thing:"
     ]
    },
    {
     "cell_type": "code",
     "collapsed": false,
     "input": [
      "def make_handler():\n",
      "    sequence = 0\n",
      "    while True:\n",
      "        result = yield\n",
      "        sequence += 1\n",
      "        print('[{}] Got: {}'.format(sequence, result))"
     ],
     "language": "python",
     "metadata": {},
     "outputs": [],
     "prompt_number": 11
    },
    {
     "cell_type": "markdown",
     "metadata": {},
     "source": [
      "For a coroutine, you would use its `send()` method as the callback, like this:"
     ]
    },
    {
     "cell_type": "code",
     "collapsed": false,
     "input": [
      "handler = make_handler()\n",
      "next(handler)  # Advance to the yield"
     ],
     "language": "python",
     "metadata": {},
     "outputs": [],
     "prompt_number": 12
    },
    {
     "cell_type": "code",
     "collapsed": false,
     "input": [
      "apply_async(add, (2, 3), callback=handler.send)"
     ],
     "language": "python",
     "metadata": {},
     "outputs": [
      {
       "output_type": "stream",
       "stream": "stdout",
       "text": [
        "[1] Got: 5\n"
       ]
      }
     ],
     "prompt_number": 13
    },
    {
     "cell_type": "code",
     "collapsed": false,
     "input": [
      "apply_async(add, ('hello', 'world'), callback=handler.send)"
     ],
     "language": "python",
     "metadata": {},
     "outputs": [
      {
       "output_type": "stream",
       "stream": "stdout",
       "text": [
        "[2] Got: helloworld\n"
       ]
      }
     ],
     "prompt_number": 14
    },
    {
     "cell_type": "markdown",
     "metadata": {},
     "source": [
      "Last, but not least, you can also carry state into a callback using an extra argument and\n",
      "partial function application. For example:"
     ]
    },
    {
     "cell_type": "code",
     "collapsed": false,
     "input": [
      "class SequenceNo:\n",
      "    def __init__(self):\n",
      "        self.sequence = 0\n",
      "\n",
      "def handler(result, seq):\n",
      "    seq.sequence += 1\n",
      "    print('[{}] Got: {}'.format(seq.sequence, result))\n",
      "\n",
      "seq = SequenceNo()\n",
      "from functools import partial\n",
      "apply_async(add, (2, 3), callback=partial(handler, seq=seq))"
     ],
     "language": "python",
     "metadata": {},
     "outputs": [
      {
       "output_type": "stream",
       "stream": "stdout",
       "text": [
        "[1] Got: 5\n"
       ]
      }
     ],
     "prompt_number": 15
    },
    {
     "cell_type": "code",
     "collapsed": false,
     "input": [
      "apply_async(add, ('hello', 'world'), callback=partial(handler, seq=seq))"
     ],
     "language": "python",
     "metadata": {},
     "outputs": [
      {
       "output_type": "stream",
       "stream": "stdout",
       "text": [
        "[2] Got: helloworld\n"
       ]
      }
     ],
     "prompt_number": 16
    },
    {
     "cell_type": "markdown",
     "metadata": {},
     "source": [
      "# Discussion\n",
      "Software based on callback functions often runs the risk of turning into a huge tangled\n",
      "mess. Part of the issue is that the callback function is often disconnected from the code\n",
      "that made the initial request leading to callback execution. Thus, the execution \n",
      "environment between making the request and handling the result is effectively lost. If you\n",
      "want the callback function to continue with a procedure involving multiple steps, you\n",
      "have to figure out how to save and restore the associated state.\n",
      "\n",
      "There are really two main approaches that are useful for capturing and carrying state.\n",
      "You can carry it around on an instance (attached to a bound method perhaps) or you\n",
      "can carry it around in a closure (an inner function). Of the two techniques, closures are\n",
      "perhaps a bit more lightweight and natural in that they are simply built from functions.\n",
      "They also automatically capture all of the variables being used. Thus, it frees you from\n",
      "having to worry about the exact state needs to be stored (it\u2019s determined automatically\n",
      "from your code).\n",
      "\n",
      "If using closures, you need to pay careful attention to mutable variables. In the solution,\n",
      "the `nonlocal` declaration is used to indicate that the `sequence` variable is being modified\n",
      "from within the callback. Without this declaration, you\u2019ll get an error.\n",
      "\n",
      "The use of a coroutine as a callback handler is interesting in that it is closely related to\n",
      "the closure approach. In some sense, it\u2019s even cleaner, since there is just a single function.\n",
      "Moreover, variables can be freely modified without worrying about `nonlocal` declarations. \n",
      "The potential downside is that coroutines don\u2019t tend to be as well understood as\n",
      "other parts of Python. There are also a few tricky bits such as the need to call `next()` on\n",
      "a coroutine prior to using it. That\u2019s something that could be easy to forget in practice.\n",
      "Nevertheless, coroutines have other potential uses here, such as the definition of an\n",
      "inlined callback (covered in the next recipe).\n",
      "\n",
      "The last technique involving `partial()` is useful if all you need to do is pass extra values\n",
      "into a callback. Instead of using `partial()`, you\u2019ll sometimes see the same thing \n",
      "accomplished with the use of a `lambda`:"
     ]
    },
    {
     "cell_type": "code",
     "collapsed": false,
     "input": [
      "apply_async(add, (2, 3), callback=lambda r: handler(r, seq))"
     ],
     "language": "python",
     "metadata": {},
     "outputs": [
      {
       "output_type": "stream",
       "stream": "stdout",
       "text": [
        "[3] Got: 5\n"
       ]
      }
     ],
     "prompt_number": 17
    },
    {
     "cell_type": "markdown",
     "metadata": {},
     "source": [
      "For more examples, see Recipe 7.8, which shows how to use `partial()` to change \n",
      "argument signatures."
     ]
    }
   ],
   "metadata": {}
  }
 ]
}