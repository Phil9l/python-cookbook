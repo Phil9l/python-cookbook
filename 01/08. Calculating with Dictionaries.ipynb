{
 "metadata": {
  "name": ""
 },
 "nbformat": 3,
 "nbformat_minor": 0,
 "worksheets": [
  {
   "cells": [
    {
     "cell_type": "heading",
     "level": 1,
     "metadata": {},
     "source": [
      "1.8. Calculating with Dictionaries"
     ]
    },
    {
     "cell_type": "markdown",
     "metadata": {},
     "source": [
      "# Problem\n",
      "You want to perform various calculations (e.g., minimum value, maximum value, sorting, \n",
      "etc.) on a dictionary of data.\n",
      "\n",
      "# Solution\n",
      "Consider a dictionary that maps stock names to prices:"
     ]
    },
    {
     "cell_type": "code",
     "collapsed": false,
     "input": [
      "prices = {\n",
      "    'ACME': 45.23,\n",
      "    'AAPL': 612.78,\n",
      "    'IBM': 205.55,\n",
      "    'HPQ': 37.20,\n",
      "    'FB': 10.75\n",
      "}"
     ],
     "language": "python",
     "metadata": {},
     "outputs": [],
     "prompt_number": 1
    },
    {
     "cell_type": "markdown",
     "metadata": {},
     "source": [
      "In order to perform useful calculations on the dictionary contents, it is often useful to\n",
      "invert the keys and values of the dictionary using `zip()` . For example, here is how to\n",
      "find the minimum and maximum price and stock name:"
     ]
    },
    {
     "cell_type": "code",
     "collapsed": false,
     "input": [
      "min_price = min(zip(prices.values(), prices.keys()))\n",
      "# min_price is (10.75, 'FB')"
     ],
     "language": "python",
     "metadata": {},
     "outputs": [],
     "prompt_number": 2
    },
    {
     "cell_type": "code",
     "collapsed": false,
     "input": [
      "max_price = max(zip(prices.values(), prices.keys()))\n",
      "# max_price is (612.78, 'AAPL')"
     ],
     "language": "python",
     "metadata": {},
     "outputs": [],
     "prompt_number": 3
    },
    {
     "cell_type": "markdown",
     "metadata": {},
     "source": [
      "Similarly, to rank the data, use `zip()` with `sorted()` , as in the following:"
     ]
    },
    {
     "cell_type": "code",
     "collapsed": false,
     "input": [
      "prices_sorted = sorted(zip(prices.values(), prices.keys()))\n",
      "# prices_sorted is [(10.75, 'FB'), (37.2, 'HPQ'),\n",
      "#                   (45.23, 'ACME'), (205.55, 'IBM'),\n",
      "#                   (612.78, 'AAPL')]"
     ],
     "language": "python",
     "metadata": {},
     "outputs": [],
     "prompt_number": 4
    },
    {
     "cell_type": "markdown",
     "metadata": {},
     "source": [
      "When doing these calculations, be aware that `zip()` creates an iterator that can only be\n",
      "consumed once. For example, the following code is an error:"
     ]
    },
    {
     "cell_type": "code",
     "collapsed": false,
     "input": [
      "prices_and_names = zip(prices.values(), prices.keys())"
     ],
     "language": "python",
     "metadata": {},
     "outputs": [],
     "prompt_number": 5
    },
    {
     "cell_type": "code",
     "collapsed": false,
     "input": [
      "print(min(prices_and_names))  # OK"
     ],
     "language": "python",
     "metadata": {},
     "outputs": [
      {
       "output_type": "stream",
       "stream": "stdout",
       "text": [
        "(10.75, 'FB')\n"
       ]
      }
     ],
     "prompt_number": 6
    },
    {
     "cell_type": "code",
     "collapsed": false,
     "input": [
      "print(max(prices_and_names))  # ValueError: max() arg is an empty sequence"
     ],
     "language": "python",
     "metadata": {},
     "outputs": [
      {
       "ename": "ValueError",
       "evalue": "max() arg is an empty sequence",
       "output_type": "pyerr",
       "traceback": [
        "\u001b[0;31m---------------------------------------------------------------------------\u001b[0m\n\u001b[0;31mValueError\u001b[0m                                Traceback (most recent call last)",
        "\u001b[0;32m<ipython-input-7-b673cef773b6>\u001b[0m in \u001b[0;36m<module>\u001b[0;34m()\u001b[0m\n\u001b[0;32m----> 1\u001b[0;31m \u001b[0mprint\u001b[0m\u001b[0;34m(\u001b[0m\u001b[0mmax\u001b[0m\u001b[0;34m(\u001b[0m\u001b[0mprices_and_names\u001b[0m\u001b[0;34m)\u001b[0m\u001b[0;34m)\u001b[0m  \u001b[0;31m# ValueError: max() arg is an empty sequence\u001b[0m\u001b[0;34m\u001b[0m\u001b[0m\n\u001b[0m",
        "\u001b[0;31mValueError\u001b[0m: max() arg is an empty sequence"
       ]
      }
     ],
     "prompt_number": 7
    },
    {
     "cell_type": "markdown",
     "metadata": {},
     "source": [
      "# Discussion\n",
      "If you try to perform common data reductions on a dictionary, you\u2019ll find that they only\n",
      "process the keys, not the values. For example:"
     ]
    },
    {
     "cell_type": "code",
     "collapsed": false,
     "input": [
      "min(prices)  # Returns 'AAPL'"
     ],
     "language": "python",
     "metadata": {},
     "outputs": [
      {
       "metadata": {},
       "output_type": "pyout",
       "prompt_number": 8,
       "text": [
        "'AAPL'"
       ]
      }
     ],
     "prompt_number": 8
    },
    {
     "cell_type": "code",
     "collapsed": false,
     "input": [
      "max(prices)  # Returns 'IBM'"
     ],
     "language": "python",
     "metadata": {},
     "outputs": [
      {
       "metadata": {},
       "output_type": "pyout",
       "prompt_number": 9,
       "text": [
        "'IBM'"
       ]
      }
     ],
     "prompt_number": 9
    },
    {
     "cell_type": "markdown",
     "metadata": {},
     "source": [
      "This is probably not what you want because you\u2019re actually trying to perform a calcu\u2010\n",
      "lation involving the dictionary values. You might try to fix this using the `values()`\n",
      "method of a dictionary:"
     ]
    },
    {
     "cell_type": "code",
     "collapsed": false,
     "input": [
      "min(prices.values()) # Returns 10.75"
     ],
     "language": "python",
     "metadata": {},
     "outputs": [
      {
       "metadata": {},
       "output_type": "pyout",
       "prompt_number": 10,
       "text": [
        "10.75"
       ]
      }
     ],
     "prompt_number": 10
    },
    {
     "cell_type": "code",
     "collapsed": false,
     "input": [
      "max(prices.values()) # Returns 612.78"
     ],
     "language": "python",
     "metadata": {},
     "outputs": [
      {
       "metadata": {},
       "output_type": "pyout",
       "prompt_number": 11,
       "text": [
        "612.78"
       ]
      }
     ],
     "prompt_number": 11
    },
    {
     "cell_type": "markdown",
     "metadata": {},
     "source": [
      "Unfortunately, this is often not exactly what you want either. For example, you may want\n",
      "to know information about the corresponding keys (e.g., which stock has the lowest\n",
      "price?).\n",
      "\n",
      "You can get the key corresponding to the min or max value if you supply a key function\n",
      "to `min()` and `max()`. For example:"
     ]
    },
    {
     "cell_type": "code",
     "collapsed": false,
     "input": [
      "min(prices, key=lambda k: prices[k])  # Returns 'FB'"
     ],
     "language": "python",
     "metadata": {},
     "outputs": [
      {
       "metadata": {},
       "output_type": "pyout",
       "prompt_number": 12,
       "text": [
        "'FB'"
       ]
      }
     ],
     "prompt_number": 12
    },
    {
     "cell_type": "code",
     "collapsed": false,
     "input": [
      "max(prices, key=lambda k: prices[k])  # Returns 'AAPL'"
     ],
     "language": "python",
     "metadata": {},
     "outputs": [
      {
       "metadata": {},
       "output_type": "pyout",
       "prompt_number": 13,
       "text": [
        "'AAPL'"
       ]
      }
     ],
     "prompt_number": 13
    },
    {
     "cell_type": "markdown",
     "metadata": {},
     "source": [
      "However, to get the minimum value, you\u2019ll need to perform an extra lookup step. For\n",
      "example:"
     ]
    },
    {
     "cell_type": "code",
     "collapsed": false,
     "input": [
      "min_value = prices[min(prices, key=lambda k: prices[k])]"
     ],
     "language": "python",
     "metadata": {},
     "outputs": [],
     "prompt_number": 14
    },
    {
     "cell_type": "markdown",
     "metadata": {},
     "source": [
      "The solution involving `zip()` solves the problem by \u201cinverting\u201d the dictionary into a\n",
      "sequence of (value, key) pairs. When performing comparisons on such tuples, the\n",
      "value element is compared first, followed by the key. This gives you exactly the behavior\n",
      "that you want and allows reductions and sorting to be easily performed on the dictionary\n",
      "contents using a single statement.\n",
      "\n",
      "It should be noted that in calculations involving `(value, key)` pairs, the key will be\n",
      "used to determine the result in instances where multiple entries happen to have the same\n",
      "value. For instance, in calculations such as `min()` and `max()` , the entry with the smallest\n",
      "or largest key will be returned if there happen to be duplicate values. For example:"
     ]
    },
    {
     "cell_type": "code",
     "collapsed": false,
     "input": [
      "prices = { 'AAA' : 45.23, 'ZZZ': 45.23 }\n",
      "min(zip(prices.values(), prices.keys()))"
     ],
     "language": "python",
     "metadata": {},
     "outputs": [
      {
       "metadata": {},
       "output_type": "pyout",
       "prompt_number": 15,
       "text": [
        "(45.23, 'AAA')"
       ]
      }
     ],
     "prompt_number": 15
    },
    {
     "cell_type": "code",
     "collapsed": false,
     "input": [
      "max(zip(prices.values(), prices.keys()))"
     ],
     "language": "python",
     "metadata": {},
     "outputs": [
      {
       "metadata": {},
       "output_type": "pyout",
       "prompt_number": 16,
       "text": [
        "(45.23, 'ZZZ')"
       ]
      }
     ],
     "prompt_number": 16
    },
    {
     "cell_type": "code",
     "collapsed": false,
     "input": [],
     "language": "python",
     "metadata": {},
     "outputs": []
    }
   ],
   "metadata": {}
  }
 ]
}