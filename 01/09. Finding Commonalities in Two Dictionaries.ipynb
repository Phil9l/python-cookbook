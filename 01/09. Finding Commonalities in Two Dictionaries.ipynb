{
 "metadata": {
  "name": ""
 },
 "nbformat": 3,
 "nbformat_minor": 0,
 "worksheets": [
  {
   "cells": [
    {
     "cell_type": "heading",
     "level": 1,
     "metadata": {},
     "source": [
      "1.9. Finding Commonalities in Two Dictionaries"
     ]
    },
    {
     "cell_type": "markdown",
     "metadata": {},
     "source": [
      "# Problem\n",
      "You have two dictionaries and want to find out what they might have in common (same\n",
      "keys, same values, etc.).\n",
      "\n",
      "# Solution\n",
      "Consider two dictionaries:"
     ]
    },
    {
     "cell_type": "code",
     "collapsed": false,
     "input": [
      "a = {\n",
      "    'x' : 1,\n",
      "    'y' : 2,\n",
      "    'z' : 3\n",
      "}\n",
      "\n",
      "b = {\n",
      "    'w' : 10,\n",
      "    'x' : 11,\n",
      "    'y' : 2\n",
      "}"
     ],
     "language": "python",
     "metadata": {},
     "outputs": [],
     "prompt_number": 1
    },
    {
     "cell_type": "markdown",
     "metadata": {},
     "source": [
      "To find out what the two dictionaries have in common, simply perform common set\n",
      "operations using the `keys()` or `items()` methods. For example:"
     ]
    },
    {
     "cell_type": "code",
     "collapsed": false,
     "input": [
      "# Find keys in common\n",
      "a.keys() & b.keys()  # { 'x', 'y' }"
     ],
     "language": "python",
     "metadata": {},
     "outputs": [
      {
       "metadata": {},
       "output_type": "pyout",
       "prompt_number": 2,
       "text": [
        "{'x', 'y'}"
       ]
      }
     ],
     "prompt_number": 2
    },
    {
     "cell_type": "code",
     "collapsed": false,
     "input": [
      "# Find keys in a that are not in b\n",
      "a.keys() - b.keys()  # { 'z' }"
     ],
     "language": "python",
     "metadata": {},
     "outputs": [
      {
       "metadata": {},
       "output_type": "pyout",
       "prompt_number": 3,
       "text": [
        "{'z'}"
       ]
      }
     ],
     "prompt_number": 3
    },
    {
     "cell_type": "code",
     "collapsed": false,
     "input": [
      "# Find (key,value) pairs in common\n",
      "a.items() & b.items()  # { ('y', 2) }"
     ],
     "language": "python",
     "metadata": {},
     "outputs": [
      {
       "metadata": {},
       "output_type": "pyout",
       "prompt_number": 4,
       "text": [
        "{('y', 2)}"
       ]
      }
     ],
     "prompt_number": 4
    },
    {
     "cell_type": "markdown",
     "metadata": {},
     "source": [
      "These kinds of operations can also be used to alter or filter dictionary contents. For\n",
      "example, suppose you want to make a new dictionary with selected keys removed. Here\n",
      "is some sample code using a dictionary comprehension:"
     ]
    },
    {
     "cell_type": "code",
     "collapsed": false,
     "input": [
      "# Make a new dictionary with certain keys removed\n",
      "c = {key:a[key] for key in a.keys() - {'z', 'w'}}\n",
      "# c is {'x': 1, 'y': 2}"
     ],
     "language": "python",
     "metadata": {},
     "outputs": [],
     "prompt_number": 5
    },
    {
     "cell_type": "code",
     "collapsed": false,
     "input": [
      "c"
     ],
     "language": "python",
     "metadata": {},
     "outputs": [
      {
       "metadata": {},
       "output_type": "pyout",
       "prompt_number": 6,
       "text": [
        "{'x': 1, 'y': 2}"
       ]
      }
     ],
     "prompt_number": 6
    },
    {
     "cell_type": "markdown",
     "metadata": {},
     "source": [
      "# Discussion\n",
      "A dictionary is a mapping between a set of keys and values. The `keys()` method of a\n",
      "dictionary returns a keys-view object that exposes the keys. A little-known feature of\n",
      "keys views is that they also support common set operations such as unions, intersections,\n",
      "and differences. Thus, if you need to perform common set operations with dictionary\n",
      "keys, you can often just use the keys-view objects directly without first converting them\n",
      "into a set.\n",
      "\n",
      "The `items()` method of a dictionary returns an items-view object consisting of \n",
      "`(key, value)` pairs. This object supports similar set operations and can be used to \n",
      "perform operations such as finding out which key-value pairs two dictionaries have in common.\n",
      "\n",
      "Although similar, the `values()` method of a dictionary does not support the set oper\u2010\n",
      "ations described in this recipe. In part, this is due to the fact that unlike keys, the items\n",
      "contained in a values view aren\u2019t guaranteed to be unique. This alone makes certain set\n",
      "operations of questionable utility. However, if you must perform such calculations, they\n",
      "can be accomplished by simply converting the values to a set first."
     ]
    }
   ],
   "metadata": {}
  }
 ]
}