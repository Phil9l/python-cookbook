{
 "metadata": {
  "name": ""
 },
 "nbformat": 3,
 "nbformat_minor": 0,
 "worksheets": [
  {
   "cells": [
    {
     "cell_type": "heading",
     "level": 1,
     "metadata": {},
     "source": [
      "1.14. Sorting Objects Without Native Comparison Support"
     ]
    },
    {
     "cell_type": "markdown",
     "metadata": {},
     "source": [
      "# Problem\n",
      "You want to sort objects of the same class, but they don\u2019t natively support comparison\n",
      "operations.\n",
      "\n",
      "# Solution\n",
      "The built-in `sorted()` function takes a key argument that can be passed a callable that\n",
      "will return some value in the object that sorted will use to compare the objects. For\n",
      "example, if you have a sequence of User instances in your application, and you want to\n",
      "sort them by their `user_id` attribute, you would supply a callable that takes a `User`\n",
      "instance as input and returns the `user_id`. For example:"
     ]
    },
    {
     "cell_type": "code",
     "collapsed": false,
     "input": [
      ">>> class User:\n",
      "    def __init__(self, user_id):\n",
      "        self.user_id = user_id\n",
      "\n",
      "    def __repr__(self):\n",
      "        return 'User({})'.format(self.user_id)\n",
      "\n",
      "users = [User(23), User(3), User(99)]\n",
      "users"
     ],
     "language": "python",
     "metadata": {},
     "outputs": [
      {
       "metadata": {},
       "output_type": "pyout",
       "prompt_number": 1,
       "text": [
        "[User(23), User(3), User(99)]"
       ]
      }
     ],
     "prompt_number": 1
    },
    {
     "cell_type": "code",
     "collapsed": false,
     "input": [
      "sorted(users, key=lambda u: u.user_id)"
     ],
     "language": "python",
     "metadata": {},
     "outputs": [
      {
       "metadata": {},
       "output_type": "pyout",
       "prompt_number": 2,
       "text": [
        "[User(3), User(23), User(99)]"
       ]
      }
     ],
     "prompt_number": 2
    },
    {
     "cell_type": "markdown",
     "metadata": {},
     "source": [
      "Instead of using lambda , an alternative approach is to use `operator.attrgetter()`:"
     ]
    },
    {
     "cell_type": "code",
     "collapsed": false,
     "input": [
      "from operator import attrgetter\n",
      "sorted(users, key=attrgetter('user_id'))"
     ],
     "language": "python",
     "metadata": {},
     "outputs": [
      {
       "metadata": {},
       "output_type": "pyout",
       "prompt_number": 3,
       "text": [
        "[User(3), User(23), User(99)]"
       ]
      }
     ],
     "prompt_number": 3
    },
    {
     "cell_type": "markdown",
     "metadata": {},
     "source": [
      "# Discussion\n",
      "The choice of whether or not to use `lambda` or `attrgetter()` may be one of personal\n",
      "preference. However, `attrgetter()` is often a tad bit faster and also has the added\n",
      "feature of allowing multiple fields to be extracted simultaneously. This is analogous to\n",
      "the use of `operator.itemgetter()` for dictionaries (see Recipe 1.13). For example, if\n",
      "User instances also had a first_name and last_name attribute, you could perform a\n",
      "sort like this:\n",
      "```python\n",
      "by_name = sorted(users, key=attrgetter('last_name', 'first_name'))\n",
      "```\n",
      "It is also worth noting that the technique used in this recipe can be applied to functions\n",
      "such as `min()` and `max()`. For example:"
     ]
    },
    {
     "cell_type": "code",
     "collapsed": false,
     "input": [
      "min(users, key=attrgetter('user_id'))"
     ],
     "language": "python",
     "metadata": {},
     "outputs": [
      {
       "metadata": {},
       "output_type": "pyout",
       "prompt_number": 4,
       "text": [
        "User(3)"
       ]
      }
     ],
     "prompt_number": 4
    },
    {
     "cell_type": "code",
     "collapsed": false,
     "input": [
      "max(users, key=attrgetter('user_id'))"
     ],
     "language": "python",
     "metadata": {},
     "outputs": [
      {
       "metadata": {},
       "output_type": "pyout",
       "prompt_number": 5,
       "text": [
        "User(99)"
       ]
      }
     ],
     "prompt_number": 5
    }
   ],
   "metadata": {}
  }
 ]
}