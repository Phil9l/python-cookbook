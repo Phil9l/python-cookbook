{
 "metadata": {
  "name": ""
 },
 "nbformat": 3,
 "nbformat_minor": 0,
 "worksheets": [
  {
   "cells": [
    {
     "cell_type": "heading",
     "level": 1,
     "metadata": {},
     "source": [
      "1.15. Grouping Records Together Based on a Field"
     ]
    },
    {
     "cell_type": "markdown",
     "metadata": {},
     "source": [
      "# Problem\n",
      "You have a sequence of dictionaries or instances and you want to iterate over the data\n",
      "in groups based on the value of a particular field, such as date.\n",
      "\n",
      "# Solution\n",
      "The `itertools.groupby()` function is particularly useful for grouping data together\n",
      "like this. To illustrate, suppose you have the following list of dictionaries:"
     ]
    },
    {
     "cell_type": "code",
     "collapsed": false,
     "input": [
      "rows = [\n",
      "    {'address': '5412 N CLARK', 'date': '07/01/2012'},\n",
      "    {'address': '5148 N CLARK', 'date': '07/04/2012'},\n",
      "    {'address': '5800 E 58TH', 'date': '07/02/2012'},\n",
      "    {'address': '2122 N CLARK', 'date': '07/03/2012'},\n",
      "    {'address': '5645 N RAVENSWOOD', 'date': '07/02/2012'},\n",
      "    {'address': '1060 W ADDISON', 'date': '07/02/2012'},\n",
      "    {'address': '4801 N BROADWAY', 'date': '07/01/2012'},\n",
      "    {'address': '1039 W GRANVILLE', 'date': '07/04/2012'},\n",
      "]"
     ],
     "language": "python",
     "metadata": {},
     "outputs": [],
     "prompt_number": 1
    },
    {
     "cell_type": "markdown",
     "metadata": {},
     "source": [
      "Now suppose you want to iterate over the data in chunks grouped by date. To do it, first\n",
      "sort by the desired field (in this case, date) and then use `itertools.groupby()`:"
     ]
    },
    {
     "cell_type": "code",
     "collapsed": false,
     "input": [
      "from operator import itemgetter\n",
      "from itertools import groupby\n",
      "\n",
      "# Sort by the desired field first\n",
      "rows.sort(key=itemgetter('date'))\n",
      "\n",
      "# Iterate in groups\n",
      "for date, items in groupby(rows, key=itemgetter('date')):\n",
      "    print(date)\n",
      "    for i in items:\n",
      "        print('\\t', i)"
     ],
     "language": "python",
     "metadata": {},
     "outputs": [
      {
       "output_type": "stream",
       "stream": "stdout",
       "text": [
        "07/01/2012\n",
        "\t {'date': '07/01/2012', 'address': '5412 N CLARK'}\n",
        "\t {'date': '07/01/2012', 'address': '4801 N BROADWAY'}\n",
        "07/02/2012\n",
        "\t {'date': '07/02/2012', 'address': '5800 E 58TH'}\n",
        "\t {'date': '07/02/2012', 'address': '5645 N RAVENSWOOD'}\n",
        "\t {'date': '07/02/2012', 'address': '1060 W ADDISON'}\n",
        "07/03/2012\n",
        "\t {'date': '07/03/2012', 'address': '2122 N CLARK'}\n",
        "07/04/2012\n",
        "\t {'date': '07/04/2012', 'address': '5148 N CLARK'}\n",
        "\t {'date': '07/04/2012', 'address': '1039 W GRANVILLE'}\n"
       ]
      }
     ],
     "prompt_number": 2
    },
    {
     "cell_type": "markdown",
     "metadata": {},
     "source": [
      "# Discussion\n",
      "The `groupby()` function works by scanning a sequence and finding sequential \u201cruns\u201d\n",
      "of identical values (or values returned by the given key function). On each iteration, it\n",
      "returns the value along with an iterator that produces all of the items in a group with\n",
      "the same value.\n",
      "\n",
      "An important preliminary step is sorting the data according to the field of interest. Since\n",
      "`groupby()` only examines consecutive items, failing to sort first won\u2019t group the records\n",
      "as you want.\n",
      "\n",
      "If your goal is to simply group the data together by dates into a large data structure that\n",
      "allows random access, you may have better luck using `defaultdict()` to build a\n",
      "multidict, as described in Recipe 1.6. For example:"
     ]
    },
    {
     "cell_type": "code",
     "collapsed": false,
     "input": [
      "from collections import defaultdict\n",
      "\n",
      "rows_by_date = defaultdict(list)\n",
      "for row in rows:\n",
      "    rows_by_date[row['date']].append(row)"
     ],
     "language": "python",
     "metadata": {},
     "outputs": [],
     "prompt_number": 3
    },
    {
     "cell_type": "markdown",
     "metadata": {},
     "source": [
      "This allows the records for each date to be accessed easily like this:"
     ]
    },
    {
     "cell_type": "code",
     "collapsed": false,
     "input": [
      "for r in rows_by_date['07/01/2012']:\n",
      "    print(r)"
     ],
     "language": "python",
     "metadata": {},
     "outputs": [
      {
       "output_type": "stream",
       "stream": "stdout",
       "text": [
        "{'date': '07/01/2012', 'address': '5412 N CLARK'}\n",
        "{'date': '07/01/2012', 'address': '4801 N BROADWAY'}\n"
       ]
      }
     ],
     "prompt_number": 4
    },
    {
     "cell_type": "markdown",
     "metadata": {},
     "source": [
      "For this latter example, it\u2019s not necessary to sort the records first. Thus, if memory is no\n",
      "concern, it may be faster to do this than to first sort the records and iterate using\n",
      "`groupby()`."
     ]
    }
   ],
   "metadata": {}
  }
 ]
}