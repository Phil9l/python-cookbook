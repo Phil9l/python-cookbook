{
 "metadata": {
  "name": ""
 },
 "nbformat": 3,
 "nbformat_minor": 0,
 "worksheets": [
  {
   "cells": [
    {
     "cell_type": "heading",
     "level": 1,
     "metadata": {},
     "source": [
      "1.10. Removing Duplicates from a Sequence while\n",
      "Maintaining Order"
     ]
    },
    {
     "cell_type": "markdown",
     "metadata": {},
     "source": [
      "# Problem\n",
      "You want to eliminate the duplicate values in a sequence, but preserve the order of the\n",
      "remaining items.\n",
      "\n",
      "# Solution\n",
      "If the values in the sequence are hashable, the problem can be easily solved using a set\n",
      "and a generator. For example:"
     ]
    },
    {
     "cell_type": "code",
     "collapsed": false,
     "input": [
      "def dedupe(items):\n",
      "    seen = set()\n",
      "    for item in items:\n",
      "        if item not in seen:\n",
      "            yield item\n",
      "            seen.add(item)"
     ],
     "language": "python",
     "metadata": {},
     "outputs": [],
     "prompt_number": 1
    },
    {
     "cell_type": "markdown",
     "metadata": {},
     "source": [
      "Here is an example of how to use your function:"
     ]
    },
    {
     "cell_type": "code",
     "collapsed": false,
     "input": [
      "a = [1, 5, 2, 1, 9, 1, 5, 10]\n",
      "list(dedupe(a))"
     ],
     "language": "python",
     "metadata": {},
     "outputs": [
      {
       "metadata": {},
       "output_type": "pyout",
       "prompt_number": 2,
       "text": [
        "[1, 5, 2, 9, 10]"
       ]
      }
     ],
     "prompt_number": 2
    },
    {
     "cell_type": "markdown",
     "metadata": {},
     "source": [
      "This only works if the items in the sequence are hashable. If you are trying to eliminate\n",
      "duplicates in a sequence of unhashable types (such as dicts), you can make a slight\n",
      "change to this recipe, as follows:"
     ]
    },
    {
     "cell_type": "code",
     "collapsed": false,
     "input": [
      "def dedupe(items, key=None):\n",
      "    seen = set()\n",
      "    for item in items:\n",
      "        val = item if key is None else key(item)\n",
      "        if val not in seen:\n",
      "            yield item\n",
      "            seen.add(val)"
     ],
     "language": "python",
     "metadata": {},
     "outputs": [],
     "prompt_number": 3
    },
    {
     "cell_type": "markdown",
     "metadata": {},
     "source": [
      "Here, the purpose of the key argument is to specify a function that converts sequence\n",
      "items into a hashable type for the purposes of duplicate detection. Here\u2019s how it works:"
     ]
    },
    {
     "cell_type": "code",
     "collapsed": false,
     "input": [
      "a = [\n",
      "     {'x': 1, 'y': 2}, \n",
      "     {'x': 1, 'y': 3}, \n",
      "     {'x': 1, 'y': 2}, \n",
      "     {'x': 2, 'y': 4}\n",
      "]\n",
      "list(dedupe(a, key=lambda d: (d['x'],d['y'])))"
     ],
     "language": "python",
     "metadata": {},
     "outputs": [
      {
       "metadata": {},
       "output_type": "pyout",
       "prompt_number": 4,
       "text": [
        "[{'x': 1, 'y': 2}, {'x': 1, 'y': 3}, {'x': 2, 'y': 4}]"
       ]
      }
     ],
     "prompt_number": 4
    },
    {
     "cell_type": "code",
     "collapsed": false,
     "input": [
      "list(dedupe(a, key=lambda d: d['x']))"
     ],
     "language": "python",
     "metadata": {},
     "outputs": [
      {
       "metadata": {},
       "output_type": "pyout",
       "prompt_number": 5,
       "text": [
        "[{'x': 1, 'y': 2}, {'x': 2, 'y': 4}]"
       ]
      }
     ],
     "prompt_number": 5
    },
    {
     "cell_type": "markdown",
     "metadata": {},
     "source": [
      "This latter solution also works nicely if you want to eliminate duplicates based on the\n",
      "value of a single field or attribute or a larger data structure."
     ]
    },
    {
     "cell_type": "markdown",
     "metadata": {},
     "source": [
      "# Discussion\n",
      "If all you want to do is eliminate duplicates, it is often easy enough to make a set. For\n",
      "example:"
     ]
    },
    {
     "cell_type": "code",
     "collapsed": false,
     "input": [
      "a = [1, 5, 2, 1, 9, 1, 5, 10]\n",
      "set(a)"
     ],
     "language": "python",
     "metadata": {},
     "outputs": [
      {
       "metadata": {},
       "output_type": "pyout",
       "prompt_number": 6,
       "text": [
        "{1, 2, 5, 9, 10}"
       ]
      }
     ],
     "prompt_number": 6
    },
    {
     "cell_type": "markdown",
     "metadata": {},
     "source": [
      "However, this approach doesn\u2019t preserve any kind of ordering. So, the resulting data will\n",
      "be scrambled afterward. The solution shown avoids this.\n",
      "\n",
      "The use of a generator function in this recipe reflects the fact that you might want the\n",
      "function to be extremely general purpose\u2014not necessarily tied directly to list process\u2010\n",
      "ing. For example, if you want to read a file, eliminating duplicate lines, you could simply\n",
      "do this:\n",
      "\n",
      "```python\n",
      "with open(somefile,'r') as f:\n",
      "    for line in dedupe(f):\n",
      "        \u2026\n",
      "```\n",
      "The specification of a key function mimics similar functionality in built-in functions\n",
      "such as `sorted()`, `min()`, and `max()`. For instance, see Recipes 1.8 and 1.13."
     ]
    }
   ],
   "metadata": {}
  }
 ]
}