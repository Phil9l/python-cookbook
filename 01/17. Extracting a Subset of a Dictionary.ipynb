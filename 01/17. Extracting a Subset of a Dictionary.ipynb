{
 "metadata": {
  "name": ""
 },
 "nbformat": 3,
 "nbformat_minor": 0,
 "worksheets": [
  {
   "cells": [
    {
     "cell_type": "heading",
     "level": 1,
     "metadata": {},
     "source": [
      "1.17. Extracting a Subset of a Dictionary"
     ]
    },
    {
     "cell_type": "markdown",
     "metadata": {},
     "source": [
      "# Problem\n",
      "You want to make a dictionary that is a subset of another dictionary.\n",
      "\n",
      "# Solution\n",
      "This is easily accomplished using a dictionary comprehension. For example:"
     ]
    },
    {
     "cell_type": "code",
     "collapsed": false,
     "input": [
      "prices = {\n",
      "    'ACME': 45.23,\n",
      "    'AAPL': 612.78,\n",
      "    'IBM': 205.55,\n",
      "    'HPQ': 37.20,\n",
      "    'FB': 10.75\n",
      "}\n",
      "\n",
      "# Make a dictionary of all prices over 200\n",
      "p1 = {key: value for key, value in prices.items() if value > 200}\n",
      "p1"
     ],
     "language": "python",
     "metadata": {},
     "outputs": [
      {
       "metadata": {},
       "output_type": "pyout",
       "prompt_number": 1,
       "text": [
        "{'AAPL': 612.78, 'IBM': 205.55}"
       ]
      }
     ],
     "prompt_number": 1
    },
    {
     "cell_type": "code",
     "collapsed": false,
     "input": [
      "# Make a dictionary of tech stocks\n",
      "tech_names = {'AAPL', 'IBM', 'HPQ', 'MSFT'}\n",
      "p2 = {key: value for key, value in prices.items() if key in tech_names}\n",
      "p2"
     ],
     "language": "python",
     "metadata": {},
     "outputs": [
      {
       "metadata": {},
       "output_type": "pyout",
       "prompt_number": 2,
       "text": [
        "{'AAPL': 612.78, 'HPQ': 37.2, 'IBM': 205.55}"
       ]
      }
     ],
     "prompt_number": 2
    },
    {
     "cell_type": "markdown",
     "metadata": {},
     "source": [
      "# Discussion\n",
      "Much of what can be accomplished with a dictionary comprehension might also be done\n",
      "by creating a sequence of tuples and passing them to the `dict()` function. For example:\n",
      "```python\n",
      "p1 = dict((key, value) for key, value in prices.items() if value > 200)\n",
      "```\n",
      "\n",
      "However, the dictionary comprehension solution is a bit clearer and actually runs quite\n",
      "a bit faster (over twice as fast when tested on the `prices` dictionary used in the example).\n",
      "\n",
      "Sometimes there are multiple ways of accomplishing the same thing. For instance, the\n",
      "second example could be rewritten as:"
     ]
    },
    {
     "cell_type": "code",
     "collapsed": false,
     "input": [
      "# Make a dictionary of tech stocks\n",
      "tech_names = {'AAPL', 'IBM', 'HPQ', 'MSFT'}\n",
      "p2 = {key: prices[key] for key in prices.keys() & tech_names}\n",
      "p2"
     ],
     "language": "python",
     "metadata": {},
     "outputs": [
      {
       "metadata": {},
       "output_type": "pyout",
       "prompt_number": 3,
       "text": [
        "{'AAPL': 612.78, 'HPQ': 37.2, 'IBM': 205.55}"
       ]
      }
     ],
     "prompt_number": 3
    },
    {
     "cell_type": "markdown",
     "metadata": {},
     "source": [
      "However, a timing study reveals that this solution is almost 1.6 times slower than the\n",
      "first solution. If performance matters, it usually pays to spend a bit of time studying it.\n",
      "See Recipe 14.13 for specific information about timing and profiling."
     ]
    }
   ],
   "metadata": {}
  }
 ]
}