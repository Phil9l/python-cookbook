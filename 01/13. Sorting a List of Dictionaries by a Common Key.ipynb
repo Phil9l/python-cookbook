{
 "metadata": {
  "name": ""
 },
 "nbformat": 3,
 "nbformat_minor": 0,
 "worksheets": [
  {
   "cells": [
    {
     "cell_type": "heading",
     "level": 1,
     "metadata": {},
     "source": [
      "1.13. Sorting a List of Dictionaries by a Common Key"
     ]
    },
    {
     "cell_type": "markdown",
     "metadata": {},
     "source": [
      "# Problem\n",
      "You have a list of dictionaries and you would like to sort the entries according to one\n",
      "or more of the dictionary values."
     ]
    },
    {
     "cell_type": "markdown",
     "metadata": {},
     "source": [
      "# Solution\n",
      "Sorting this type of structure is easy using the operator module\u2019s itemgetter function.\n",
      "Let\u2019s say you\u2019ve queried a database table to get a listing of the members on your website,\n",
      "and you receive the following data structure in return:"
     ]
    },
    {
     "cell_type": "code",
     "collapsed": false,
     "input": [
      "rows = [\n",
      "    {'fname': 'Brian', 'lname': 'Jones', 'uid': 1003},\n",
      "    {'fname': 'David', 'lname': 'Beazley', 'uid': 1002},\n",
      "    {'fname': 'John', 'lname': 'Cleese', 'uid': 1001},\n",
      "    {'fname': 'Big', 'lname': 'Jones', 'uid': 1004}\n",
      "]"
     ],
     "language": "python",
     "metadata": {},
     "outputs": [],
     "prompt_number": 1
    },
    {
     "cell_type": "markdown",
     "metadata": {},
     "source": [
      "It\u2019s fairly easy to output these rows ordered by any of the fields common to all of the\n",
      "dictionaries. For example:"
     ]
    },
    {
     "cell_type": "code",
     "collapsed": false,
     "input": [
      "from operator import itemgetter\n",
      "\n",
      "rows_by_fname = sorted(rows, key=itemgetter('fname'))\n",
      "rows_by_uid = sorted(rows, key=itemgetter('uid'))\n",
      "\n",
      "print(rows_by_fname)\n",
      "print(rows_by_uid)"
     ],
     "language": "python",
     "metadata": {},
     "outputs": [
      {
       "output_type": "stream",
       "stream": "stdout",
       "text": [
        "[{'fname': 'Big', 'lname': 'Jones', 'uid': 1004}, {'fname': 'Brian', 'lname': 'Jones', 'uid': 1003}, {'fname': 'David', 'lname': 'Beazley', 'uid': 1002}, {'fname': 'John', 'lname': 'Cleese', 'uid': 1001}]\n",
        "[{'fname': 'John', 'lname': 'Cleese', 'uid': 1001}, {'fname': 'David', 'lname': 'Beazley', 'uid': 1002}, {'fname': 'Brian', 'lname': 'Jones', 'uid': 1003}, {'fname': 'Big', 'lname': 'Jones', 'uid': 1004}]\n"
       ]
      }
     ],
     "prompt_number": 2
    },
    {
     "cell_type": "markdown",
     "metadata": {},
     "source": [
      "The preceding code would output the following:\n",
      "\n",
      "```python\n",
      "[{'fname': 'Big', 'uid': 1004, 'lname': 'Jones'},\n",
      " {'fname': 'Brian', 'uid': 1003, 'lname': 'Jones'},\n",
      " {'fname': 'David', 'uid': 1002, 'lname': 'Beazley'},\n",
      " {'fname': 'John', 'uid': 1001, 'lname': 'Cleese'}]\n",
      "\n",
      "[{'fname': 'John', 'uid': 1001, 'lname': 'Cleese'},\n",
      " {'fname': 'David', 'uid': 1002, 'lname': 'Beazley'},\n",
      " {'fname': 'Brian', 'uid': 1003, 'lname': 'Jones'},\n",
      " {'fname': 'Big', 'uid': 1004, 'lname': 'Jones'}]\n",
      "```\n",
      "\n",
      "The `itemgetter()` function can also accept multiple keys. For example, this code"
     ]
    },
    {
     "cell_type": "code",
     "collapsed": false,
     "input": [
      "rows_by_lfname = sorted(rows, key=itemgetter('lname','fname'))\n",
      "print(rows_by_lfname)"
     ],
     "language": "python",
     "metadata": {},
     "outputs": [
      {
       "output_type": "stream",
       "stream": "stdout",
       "text": [
        "[{'fname': 'David', 'lname': 'Beazley', 'uid': 1002}, {'fname': 'John', 'lname': 'Cleese', 'uid': 1001}, {'fname': 'Big', 'lname': 'Jones', 'uid': 1004}, {'fname': 'Brian', 'lname': 'Jones', 'uid': 1003}]\n"
       ]
      }
     ],
     "prompt_number": 3
    },
    {
     "cell_type": "markdown",
     "metadata": {},
     "source": [
      "Produces output like this:\n",
      "```python\n",
      "[{'fname': 'David', 'uid': 1002, 'lname': 'Beazley'},\n",
      " {'fname': 'John', 'uid': 1001, 'lname': 'Cleese'},\n",
      " {'fname': 'Big', 'uid': 1004, 'lname': 'Jones'},\n",
      " {'fname': 'Brian', 'uid': 1003, 'lname': 'Jones'}]\n",
      "```"
     ]
    },
    {
     "cell_type": "markdown",
     "metadata": {},
     "source": [
      "# Discussion\n",
      "In this example, rows is passed to the built-in `sorted()` function, which accepts a keyword \n",
      "argument key . This argument is expected to be a callable that accepts a single item\n",
      "from rows as input and returns a value that will be used as the basis for sorting. The\n",
      "`itemgetter()` function creates just such a callable.\n",
      "\n",
      "The `operator.itemgetter()` function takes as arguments the lookup indices used to\n",
      "extract the desired values from the records in rows. It can be a dictionary key name, a\n",
      "numeric list element, or any value that can be fed to an object\u2019s `__getitem__()` method.\n",
      "If you give multiple indices to `itemgetter()` , the callable it produces will return a tuple\n",
      "with all of the elements in it, and `sorted()` will order the output according to the sorted\n",
      "order of the tuples. This can be useful if you want to simultaneously sort on multiple\n",
      "fields (such as last and first name, as shown in the example).\n",
      "\n",
      "The functionality of `itemgetter()` is sometimes replaced by lambda expressions. For\n",
      "example:\n",
      "```python\n",
      "rows_by_fname = sorted(rows, key=lambda r: r['fname'])\n",
      "rows_by_lfname = sorted(rows, key=lambda r: (r['lname'],r['fname']))\n",
      "```\n",
      "This solution often works just fine. However, the solution involving `itemgetter()`\n",
      "typically runs a bit faster. Thus, you might prefer it if performance is a concern.\n",
      "\n",
      "Last, but not least, don\u2019t forget that the technique shown in this recipe can be applied\n",
      "to functions such as `min()` and `max()`. For example:"
     ]
    },
    {
     "cell_type": "code",
     "collapsed": false,
     "input": [
      "min(rows, key=itemgetter('uid'))"
     ],
     "language": "python",
     "metadata": {},
     "outputs": [
      {
       "metadata": {},
       "output_type": "pyout",
       "prompt_number": 4,
       "text": [
        "{'fname': 'John', 'lname': 'Cleese', 'uid': 1001}"
       ]
      }
     ],
     "prompt_number": 4
    },
    {
     "cell_type": "code",
     "collapsed": false,
     "input": [
      "max(rows, key=itemgetter('uid'))"
     ],
     "language": "python",
     "metadata": {},
     "outputs": [
      {
       "metadata": {},
       "output_type": "pyout",
       "prompt_number": 5,
       "text": [
        "{'fname': 'Big', 'lname': 'Jones', 'uid': 1004}"
       ]
      }
     ],
     "prompt_number": 5
    }
   ],
   "metadata": {}
  }
 ]
}