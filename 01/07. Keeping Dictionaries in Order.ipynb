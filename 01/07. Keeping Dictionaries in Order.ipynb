{
 "metadata": {
  "name": ""
 },
 "nbformat": 3,
 "nbformat_minor": 0,
 "worksheets": [
  {
   "cells": [
    {
     "cell_type": "heading",
     "level": 1,
     "metadata": {},
     "source": [
      "1.7. Keeping Dictionaries in Order"
     ]
    },
    {
     "cell_type": "markdown",
     "metadata": {},
     "source": [
      "# Problem\n",
      "You want to create a dictionary, and you also want to control the order of items when\n",
      "iterating or serializing.\n",
      "\n",
      "# Solution\n",
      "To control the order of items in a dictionary, you can use an OrderedDict from the\n",
      "collections module. It exactly preserves the original insertion order of data when\n",
      "iterating. For example:"
     ]
    },
    {
     "cell_type": "code",
     "collapsed": false,
     "input": [
      "from collections import OrderedDict\n",
      "d = OrderedDict()\n",
      "d['foo'] = 1\n",
      "d['bar'] = 2\n",
      "d['spam'] = 3\n",
      "d['grok'] = 4\n",
      "\n",
      "# Outputs \"foo 1\", \"bar 2\", \"spam 3\", \"grok 4\"\n",
      "for key in d:\n",
      "    print(key, d[key])"
     ],
     "language": "python",
     "metadata": {},
     "outputs": [
      {
       "output_type": "stream",
       "stream": "stdout",
       "text": [
        "foo 1\n",
        "bar 2\n",
        "spam 3\n",
        "grok 4\n"
       ]
      }
     ],
     "prompt_number": 1
    },
    {
     "cell_type": "markdown",
     "metadata": {},
     "source": [
      "An OrderedDict can be particularly useful when you want to build a mapping that you may want to later serialize or encode into a different format. For example, if you want to precisely control the order of fields appearing in a JSON encoding, first building the data in an OrderedDict will do the trick:"
     ]
    },
    {
     "cell_type": "code",
     "collapsed": false,
     "input": [
      "import json\n",
      "json.dumps(d)"
     ],
     "language": "python",
     "metadata": {},
     "outputs": [
      {
       "metadata": {},
       "output_type": "pyout",
       "prompt_number": 2,
       "text": [
        "'{\"foo\": 1, \"bar\": 2, \"spam\": 3, \"grok\": 4}'"
       ]
      }
     ],
     "prompt_number": 2
    },
    {
     "cell_type": "markdown",
     "metadata": {},
     "source": [
      "# Discussion\n",
      "An `OrderedDict` internally maintains a doubly linked list that orders the keys according\n",
      "to insertion order. When a new item is first inserted, it is placed at the end of this list.\n",
      "Subsequent reassignment of an existing key doesn\u2019t change the order.\n",
      "Be aware that the size of an `OrderedDict` is more than twice as large as a normal dictionary \n",
      "due to the extra linked list that\u2019s created. Thus, if you are going to build a data\n",
      "structure involving a large number of `OrderedDict` instances (e.g., reading $100,000$ lines\n",
      "of a CSV file into a list of `OrderedDict` instances), you would need to study the requirements \n",
      "of your application to determine if the benefits of using an `OrderedDict` outweighed the \n",
      "extra memory overhead."
     ]
    }
   ],
   "metadata": {}
  }
 ]
}