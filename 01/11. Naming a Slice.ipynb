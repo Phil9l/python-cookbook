{
 "metadata": {
  "name": ""
 },
 "nbformat": 3,
 "nbformat_minor": 0,
 "worksheets": [
  {
   "cells": [
    {
     "cell_type": "heading",
     "level": 1,
     "metadata": {},
     "source": [
      "1.11. Naming a Slice"
     ]
    },
    {
     "cell_type": "markdown",
     "metadata": {},
     "source": [
      "# Problem\n",
      "Your program has become an unreadable mess of hardcoded slice indices and you want\n",
      "to clean it up.\n",
      "\n",
      "# Solution\n",
      "Suppose you have some code that is pulling specific data fields out of a record string\n",
      "with fixed fields (e.g., from a flat file or similar format):\n",
      "\n",
      "```python\n",
      "######    0123456789012345678901234567890123456789012345678901234567890'\n",
      "record = '....................100          .......513.25     ..........'\n",
      "cost = int(record[20:32]) * float(record[40:48])\n",
      "```\n",
      "\n",
      "Instead of doing that, why not name the slices like this?\n",
      "```python\n",
      "SHARES = slice(20,32)\n",
      "PRICE = slice(40,48)\n",
      "\n",
      "cost = int(record[SHARES]) * float(record[PRICE])\n",
      "```\n",
      "\n",
      "In the latter version, you avoid having a lot of mysterious hardcoded indices, and what\n",
      "you\u2019re doing becomes much clearer."
     ]
    },
    {
     "cell_type": "markdown",
     "metadata": {},
     "source": [
      "#Discussion\n",
      "As a general rule, writing code with a lot of hardcoded index values leads to a readability\n",
      "and maintenance mess. For example, if you come back to the code a year later, you\u2019ll\n",
      "look at it and wonder what you were thinking when you wrote it. The solution shown\n",
      "is simply a way of more clearly stating what your code is actually doing.\n",
      "\n",
      "In general, the built-in `slice()` creates a slice object that can be used anywhere a slice\n",
      "is allowed. For example:"
     ]
    },
    {
     "cell_type": "code",
     "collapsed": false,
     "input": [
      "items = [0, 1, 2, 3, 4, 5, 6]\n",
      "a = slice(2, 4)\n",
      "items[2:4]"
     ],
     "language": "python",
     "metadata": {},
     "outputs": [
      {
       "metadata": {},
       "output_type": "pyout",
       "prompt_number": 1,
       "text": [
        "[2, 3]"
       ]
      }
     ],
     "prompt_number": 1
    },
    {
     "cell_type": "code",
     "collapsed": false,
     "input": [
      "items[a]"
     ],
     "language": "python",
     "metadata": {},
     "outputs": [
      {
       "metadata": {},
       "output_type": "pyout",
       "prompt_number": 2,
       "text": [
        "[2, 3]"
       ]
      }
     ],
     "prompt_number": 2
    },
    {
     "cell_type": "code",
     "collapsed": false,
     "input": [
      "items[a] = [10, 11]"
     ],
     "language": "python",
     "metadata": {},
     "outputs": [],
     "prompt_number": 3
    },
    {
     "cell_type": "code",
     "collapsed": false,
     "input": [
      "items"
     ],
     "language": "python",
     "metadata": {},
     "outputs": [
      {
       "metadata": {},
       "output_type": "pyout",
       "prompt_number": 4,
       "text": [
        "[0, 1, 10, 11, 4, 5, 6]"
       ]
      }
     ],
     "prompt_number": 4
    },
    {
     "cell_type": "code",
     "collapsed": false,
     "input": [
      "del items[a]\n",
      "items"
     ],
     "language": "python",
     "metadata": {},
     "outputs": [
      {
       "metadata": {},
       "output_type": "pyout",
       "prompt_number": 5,
       "text": [
        "[0, 1, 4, 5, 6]"
       ]
      }
     ],
     "prompt_number": 5
    },
    {
     "cell_type": "markdown",
     "metadata": {},
     "source": [
      "If you have a slice instance s , you can get more information about it by looking at its\n",
      "`s.start`, `s.stop`, and `s.step` attributes, respectively. For example:"
     ]
    },
    {
     "cell_type": "code",
     "collapsed": false,
     "input": [
      "a = slice(5, 50, 2)\n",
      "a.start"
     ],
     "language": "python",
     "metadata": {},
     "outputs": [
      {
       "metadata": {},
       "output_type": "pyout",
       "prompt_number": 6,
       "text": [
        "5"
       ]
      }
     ],
     "prompt_number": 6
    },
    {
     "cell_type": "code",
     "collapsed": false,
     "input": [
      "a.stop"
     ],
     "language": "python",
     "metadata": {},
     "outputs": [
      {
       "metadata": {},
       "output_type": "pyout",
       "prompt_number": 7,
       "text": [
        "50"
       ]
      }
     ],
     "prompt_number": 7
    },
    {
     "cell_type": "code",
     "collapsed": false,
     "input": [
      "a.step"
     ],
     "language": "python",
     "metadata": {},
     "outputs": [
      {
       "metadata": {},
       "output_type": "pyout",
       "prompt_number": 8,
       "text": [
        "2"
       ]
      }
     ],
     "prompt_number": 8
    },
    {
     "cell_type": "markdown",
     "metadata": {},
     "source": [
      "In addition, you can map a slice onto a sequence of a specific size by using its \n",
      "`indices(size)` method. This returns a tuple `(start, stop, step)` where all values have\n",
      "been suitably limited to fit within bounds (as to avoid IndexError exceptions when\n",
      "indexing). For example:"
     ]
    },
    {
     "cell_type": "code",
     "collapsed": false,
     "input": [
      "s = 'HelloWorld'\n",
      "a.indices(len(s))"
     ],
     "language": "python",
     "metadata": {},
     "outputs": [
      {
       "metadata": {},
       "output_type": "pyout",
       "prompt_number": 9,
       "text": [
        "(5, 10, 2)"
       ]
      }
     ],
     "prompt_number": 9
    },
    {
     "cell_type": "code",
     "collapsed": false,
     "input": [
      "for i in range(*a.indices(len(s))):\n",
      "    print(s[i])"
     ],
     "language": "python",
     "metadata": {},
     "outputs": [
      {
       "output_type": "stream",
       "stream": "stdout",
       "text": [
        "W\n",
        "r\n",
        "d\n"
       ]
      }
     ],
     "prompt_number": 10
    }
   ],
   "metadata": {}
  }
 ]
}