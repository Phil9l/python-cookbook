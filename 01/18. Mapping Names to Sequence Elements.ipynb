{
 "metadata": {
  "name": ""
 },
 "nbformat": 3,
 "nbformat_minor": 0,
 "worksheets": [
  {
   "cells": [
    {
     "cell_type": "heading",
     "level": 1,
     "metadata": {},
     "source": [
      "1.18. Mapping Names to Sequence Elements"
     ]
    },
    {
     "cell_type": "markdown",
     "metadata": {},
     "source": [
      "# Problem\n",
      "You have code that accesses list or tuple elements by position, but this makes the code\n",
      "somewhat difficult to read at times. You\u2019d also like to be less dependent on position in\n",
      "the structure, by accessing the elements by name.\n",
      "\n",
      "# Solution\n",
      "`collections.namedtuple()` provides these benefits, while adding minimal overhead\n",
      "over using a normal tuple object. `collections.namedtuple()` is actually a factory\n",
      "method that returns a subclass of the standard Python tuple type. You feed it a type\n",
      "name, and the fields it should have, and it returns a class that you can instantiate, passing\n",
      "in values for the fields you\u2019ve defined, and so on. For example:"
     ]
    },
    {
     "cell_type": "code",
     "collapsed": false,
     "input": [
      "from collections import namedtuple\n",
      "Subscriber = namedtuple('Subscriber', ['addr', 'joined'])\n",
      "sub = Subscriber('jonesy@example.com', '2012-10-19')\n",
      "sub"
     ],
     "language": "python",
     "metadata": {},
     "outputs": [
      {
       "metadata": {},
       "output_type": "pyout",
       "prompt_number": 1,
       "text": [
        "Subscriber(addr='jonesy@example.com', joined='2012-10-19')"
       ]
      }
     ],
     "prompt_number": 1
    },
    {
     "cell_type": "code",
     "collapsed": false,
     "input": [
      "sub.addr"
     ],
     "language": "python",
     "metadata": {},
     "outputs": [
      {
       "metadata": {},
       "output_type": "pyout",
       "prompt_number": 2,
       "text": [
        "'jonesy@example.com'"
       ]
      }
     ],
     "prompt_number": 2
    },
    {
     "cell_type": "code",
     "collapsed": false,
     "input": [
      "sub.joined"
     ],
     "language": "python",
     "metadata": {},
     "outputs": [
      {
       "metadata": {},
       "output_type": "pyout",
       "prompt_number": 3,
       "text": [
        "'2012-10-19'"
       ]
      }
     ],
     "prompt_number": 3
    },
    {
     "cell_type": "markdown",
     "metadata": {},
     "source": [
      "Although an instance of a `namedtuple` looks like a normal class instance, it is interchangeable\n",
      "with a tuple and supports all of the usual tuple operations such as indexing\n",
      "and unpacking. For example:"
     ]
    },
    {
     "cell_type": "code",
     "collapsed": false,
     "input": [
      "len(sub)"
     ],
     "language": "python",
     "metadata": {},
     "outputs": [
      {
       "metadata": {},
       "output_type": "pyout",
       "prompt_number": 4,
       "text": [
        "2"
       ]
      }
     ],
     "prompt_number": 4
    },
    {
     "cell_type": "code",
     "collapsed": false,
     "input": [
      "addr, joined = sub"
     ],
     "language": "python",
     "metadata": {},
     "outputs": [],
     "prompt_number": 5
    },
    {
     "cell_type": "code",
     "collapsed": false,
     "input": [
      "addr"
     ],
     "language": "python",
     "metadata": {},
     "outputs": [
      {
       "metadata": {},
       "output_type": "pyout",
       "prompt_number": 6,
       "text": [
        "'jonesy@example.com'"
       ]
      }
     ],
     "prompt_number": 6
    },
    {
     "cell_type": "code",
     "collapsed": false,
     "input": [
      "joined"
     ],
     "language": "python",
     "metadata": {},
     "outputs": [
      {
       "metadata": {},
       "output_type": "pyout",
       "prompt_number": 7,
       "text": [
        "'2012-10-19'"
       ]
      }
     ],
     "prompt_number": 7
    },
    {
     "cell_type": "markdown",
     "metadata": {},
     "source": [
      "A major use case for named tuples is decoupling your code from the position of the\n",
      "elements it manipulates. So, if you get back a large list of tuples from a database call,\n",
      "then manipulate them by accessing the positional elements, your code could break if,\n",
      "say, you added a new column to your table. Not so if you first cast the returned tuples\n",
      "to namedtuples.\n",
      "\n",
      "To illustrate, here is some code using ordinary tuples:"
     ]
    },
    {
     "cell_type": "code",
     "collapsed": false,
     "input": [
      "def compute_cost(records):\n",
      "    total = 0.0\n",
      "    for rec in records:\n",
      "        total += rec[1] * rec[2]\n",
      "    return total"
     ],
     "language": "python",
     "metadata": {},
     "outputs": [],
     "prompt_number": 8
    },
    {
     "cell_type": "markdown",
     "metadata": {},
     "source": [
      "References to positional elements often make the code a bit less expressive and more\n",
      "dependent on the structure of the records. Here is a version that uses a `namedtuple`:"
     ]
    },
    {
     "cell_type": "code",
     "collapsed": false,
     "input": [
      "from collections import namedtuple\n",
      "\n",
      "Stock = namedtuple('Stock', ['name', 'shares', 'price'])\n",
      "\n",
      "def compute_cost(records):\n",
      "    total = 0.0\n",
      "    for rec in records:\n",
      "        s = Stock(*rec)\n",
      "        total += s.shares * s.price\n",
      "    return total"
     ],
     "language": "python",
     "metadata": {},
     "outputs": [],
     "prompt_number": 9
    },
    {
     "cell_type": "markdown",
     "metadata": {},
     "source": [
      "Naturally, you can avoid the explicit conversion to the `Stock` namedtuple if the records\n",
      "sequence in the example already contained such instances."
     ]
    },
    {
     "cell_type": "markdown",
     "metadata": {},
     "source": [
      "# Discussion\n",
      "One possible use of a `namedtuple` is as a replacement for a dictionary, which requires\n",
      "more space to store. Thus, if you are building large data structures involving dictionaries,\n",
      "use of a namedtuple will be more efficient. However, be aware that unlike a dictionary,\n",
      "a `namedtuple` is immutable. For example:"
     ]
    },
    {
     "cell_type": "code",
     "collapsed": false,
     "input": [
      "s = Stock('ACME', 100, 123.45)\n",
      "s"
     ],
     "language": "python",
     "metadata": {},
     "outputs": [
      {
       "metadata": {},
       "output_type": "pyout",
       "prompt_number": 10,
       "text": [
        "Stock(name='ACME', shares=100, price=123.45)"
       ]
      }
     ],
     "prompt_number": 10
    },
    {
     "cell_type": "code",
     "collapsed": false,
     "input": [
      "s.shares = 75"
     ],
     "language": "python",
     "metadata": {},
     "outputs": [
      {
       "ename": "AttributeError",
       "evalue": "can't set attribute",
       "output_type": "pyerr",
       "traceback": [
        "\u001b[0;31m---------------------------------------------------------------------------\u001b[0m\n\u001b[0;31mAttributeError\u001b[0m                            Traceback (most recent call last)",
        "\u001b[0;32m<ipython-input-11-b592c031d9bc>\u001b[0m in \u001b[0;36m<module>\u001b[0;34m()\u001b[0m\n\u001b[0;32m----> 1\u001b[0;31m \u001b[0ms\u001b[0m\u001b[0;34m.\u001b[0m\u001b[0mshares\u001b[0m \u001b[0;34m=\u001b[0m \u001b[0;36m75\u001b[0m\u001b[0;34m\u001b[0m\u001b[0m\n\u001b[0m",
        "\u001b[0;31mAttributeError\u001b[0m: can't set attribute"
       ]
      }
     ],
     "prompt_number": 11
    },
    {
     "cell_type": "markdown",
     "metadata": {},
     "source": [
      "If you need to change any of the attributes, it can be done using the `_replace()` method\n",
      "of a namedtuple instance, which makes an entirely new namedtuple with specified values \n",
      "replaced. For example:"
     ]
    },
    {
     "cell_type": "code",
     "collapsed": false,
     "input": [
      "from collections import namedtuple\n",
      "\n",
      "Stock = namedtuple('Stock', ['name', 'shares', 'price', 'date', 'time'])\n",
      "\n",
      "# Create a prototype instance\n",
      "stock_prototype = Stock('', 0, 0.0, None, None)\n",
      "\n",
      "# Function to convert a dictionary to a Stock\n",
      "def dict_to_stock(s):\n",
      "    return stock_prototype._replace(**s)"
     ],
     "language": "python",
     "metadata": {},
     "outputs": [],
     "prompt_number": 12
    },
    {
     "cell_type": "markdown",
     "metadata": {},
     "source": [
      "Here is an example of how this code would work:"
     ]
    },
    {
     "cell_type": "code",
     "collapsed": false,
     "input": [
      "a = {'name': 'ACME', 'shares': 100, 'price': 123.45}\n",
      "dict_to_stock(a)"
     ],
     "language": "python",
     "metadata": {},
     "outputs": [
      {
       "metadata": {},
       "output_type": "pyout",
       "prompt_number": 13,
       "text": [
        "Stock(name='ACME', shares=100, price=123.45, date=None, time=None)"
       ]
      }
     ],
     "prompt_number": 13
    },
    {
     "cell_type": "code",
     "collapsed": false,
     "input": [
      "b = {'name': 'ACME', 'shares': 100, 'price': 123.45, 'date': '12/17/2012'}\n",
      "dict_to_stock(b)"
     ],
     "language": "python",
     "metadata": {},
     "outputs": [
      {
       "metadata": {},
       "output_type": "pyout",
       "prompt_number": 14,
       "text": [
        "Stock(name='ACME', shares=100, price=123.45, date='12/17/2012', time=None)"
       ]
      }
     ],
     "prompt_number": 14
    },
    {
     "cell_type": "markdown",
     "metadata": {},
     "source": [
      "Last, but not least, it should be noted that if your goal is to define an efficient data\n",
      "structure where you will be changing various instance attributes, using namedtuple is\n",
      "not your best choice. Instead, consider defining a class using `__slots__` instead (see\n",
      "Recipe 8.4)."
     ]
    }
   ],
   "metadata": {}
  }
 ]
}