{
 "metadata": {
  "name": ""
 },
 "nbformat": 3,
 "nbformat_minor": 0,
 "worksheets": [
  {
   "cells": [
    {
     "cell_type": "heading",
     "level": 1,
     "metadata": {},
     "source": [
      "8.1. Changing the String Representation of Instances"
     ]
    },
    {
     "cell_type": "markdown",
     "metadata": {},
     "source": [
      "# Problem\n",
      "You want to change the output produced by printing or viewing instances to something\n",
      "more sensible.\n",
      "\n",
      "# Solution\n",
      "To change the string representation of an instance, define the `__str__()` and\n",
      "`__repr__()` methods. For example:"
     ]
    },
    {
     "cell_type": "code",
     "collapsed": false,
     "input": [
      "class Pair:\n",
      "    def __init__(self, x, y):\n",
      "        self.x = x\n",
      "        self.y = y\n",
      "\n",
      "    def __repr__(self):\n",
      "        return 'Pair({0.x!r}, {0.y!r})'.format(self)\n",
      "\n",
      "    def __str__(self):\n",
      "        return '({0.x!s}, {0.y!s})'.format(self)"
     ],
     "language": "python",
     "metadata": {},
     "outputs": [],
     "prompt_number": 1
    },
    {
     "cell_type": "markdown",
     "metadata": {},
     "source": [
      "The `__repr__()` method returns the code representation of an instance, and is usually\n",
      "the text you would type to re-create the instance. The built-in `repr()` function returns\n",
      "this text, as does the interactive interpreter when inspecting values. The `__str__()`\n",
      "method converts the instance to a string, and is the output produced by the `str()` and\n",
      "`print()` functions. For example:"
     ]
    },
    {
     "cell_type": "code",
     "collapsed": false,
     "input": [
      "p = Pair(3, 4)\n",
      "p  # __repr__() output"
     ],
     "language": "python",
     "metadata": {},
     "outputs": [
      {
       "metadata": {},
       "output_type": "pyout",
       "prompt_number": 2,
       "text": [
        "Pair(3, 4)"
       ]
      }
     ],
     "prompt_number": 2
    },
    {
     "cell_type": "code",
     "collapsed": false,
     "input": [
      "print(p)  # __str__() output"
     ],
     "language": "python",
     "metadata": {},
     "outputs": [
      {
       "output_type": "stream",
       "stream": "stdout",
       "text": [
        "(3, 4)\n"
       ]
      }
     ],
     "prompt_number": 3
    },
    {
     "cell_type": "markdown",
     "metadata": {},
     "source": [
      "The implementation of this recipe also shows how different string representations may\n",
      "be used during formatting. Specifically, the special `!r` formatting code indicates that the\n",
      "output of `__repr__()` should be used instead of `__str__()`, the default. You can try this\n",
      "experiment with the preceding class to see this:"
     ]
    },
    {
     "cell_type": "code",
     "collapsed": false,
     "input": [
      "p = Pair(3, 4)\n",
      "print('p is {0!r}'.format(p))"
     ],
     "language": "python",
     "metadata": {},
     "outputs": [
      {
       "output_type": "stream",
       "stream": "stdout",
       "text": [
        "p is Pair(3, 4)\n"
       ]
      }
     ],
     "prompt_number": 4
    },
    {
     "cell_type": "code",
     "collapsed": false,
     "input": [
      "print('p is {0}'.format(p))"
     ],
     "language": "python",
     "metadata": {},
     "outputs": [
      {
       "output_type": "stream",
       "stream": "stdout",
       "text": [
        "p is (3, 4)\n"
       ]
      }
     ],
     "prompt_number": 5
    },
    {
     "cell_type": "markdown",
     "metadata": {},
     "source": [
      "# Discussion\n",
      "Defining `__repr__()` and `__str__()` is often good practice, as it can simplify debugging\n",
      "and instance output. For example, by merely printing or logging an instance, a \n",
      "programmer will be shown more useful information about the instance contents.\n",
      "\n",
      "It is standard practice for the output of `__repr__()` to produce text such that\n",
      "`eval(repr(x)) == x`. If this is not possible or desired, then it is common to create a\n",
      "useful textual representation enclosed in `<` and `>` instead. For example:"
     ]
    },
    {
     "cell_type": "code",
     "collapsed": false,
     "input": [
      "f = open('file.dat')\n",
      "f"
     ],
     "language": "python",
     "metadata": {},
     "outputs": [
      {
       "metadata": {},
       "output_type": "pyout",
       "prompt_number": 6,
       "text": [
        "<_io.TextIOWrapper name='file.dat' mode='r' encoding='UTF-8'>"
       ]
      }
     ],
     "prompt_number": 6
    },
    {
     "cell_type": "markdown",
     "metadata": {},
     "source": [
      "If no `__str__()` is defined, the output of `__repr__()` is used as a fallback.\n",
      "\n",
      "The use of `format()` in the solution might look a little funny, but the format code `{0.x}`\n",
      "specifies the `x`-attribute of argument $0$. So, in the following function, the `0` is actually\n",
      "the instance `self`:\n",
      "```python\n",
      "def __repr__(self):\n",
      "    return 'Pair({0.x!r}, {0.y!r})'.format(self)\n",
      "```\n",
      "As an alternative to this implementation, you could also use the `%` operator and the\n",
      "following code:\n",
      "```python\n",
      "def __repr__(self):\n",
      "    return 'Pair(%r, %r)' % (self.x, self.y)\n",
      "```"
     ]
    }
   ],
   "metadata": {}
  }
 ]
}