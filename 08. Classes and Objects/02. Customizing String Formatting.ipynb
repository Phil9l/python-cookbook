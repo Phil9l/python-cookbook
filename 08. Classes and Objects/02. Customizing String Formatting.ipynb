{
 "metadata": {
  "name": ""
 },
 "nbformat": 3,
 "nbformat_minor": 0,
 "worksheets": [
  {
   "cells": [
    {
     "cell_type": "heading",
     "level": 1,
     "metadata": {},
     "source": [
      "8.2. Customizing String Formatting"
     ]
    },
    {
     "cell_type": "markdown",
     "metadata": {},
     "source": [
      "# Problem\n",
      "You want an object to support customized formatting through the format() function\n",
      "and string method.\n",
      "\n",
      "# Solution\n",
      "To customize string formatting, define the `__format__()` method on a class. For\n",
      "example:"
     ]
    },
    {
     "cell_type": "code",
     "collapsed": false,
     "input": [
      "_formats = {\n",
      "    'ymd' : '{d.year}-{d.month}-{d.day}',\n",
      "    'mdy' : '{d.month}/{d.day}/{d.year}',\n",
      "    'dmy' : '{d.day}/{d.month}/{d.year}'\n",
      "}\n",
      "\n",
      "class Date:\n",
      "    def __init__(self, year, month, day):\n",
      "        self.year = year\n",
      "        self.month = month\n",
      "        self.day = day\n",
      "\n",
      "    def __format__(self, code):\n",
      "        if code == '':\n",
      "            code = 'ymd'\n",
      "        fmt = _formats[code]\n",
      "        return fmt.format(d=self)"
     ],
     "language": "python",
     "metadata": {},
     "outputs": [],
     "prompt_number": 1
    },
    {
     "cell_type": "markdown",
     "metadata": {},
     "source": [
      "Instances of the `Date` class now support formatting operations such as the following:"
     ]
    },
    {
     "cell_type": "code",
     "collapsed": false,
     "input": [
      "d = Date(2012, 12, 21)\n",
      "format(d)"
     ],
     "language": "python",
     "metadata": {},
     "outputs": [
      {
       "metadata": {},
       "output_type": "pyout",
       "prompt_number": 2,
       "text": [
        "'2012-12-21'"
       ]
      }
     ],
     "prompt_number": 2
    },
    {
     "cell_type": "code",
     "collapsed": false,
     "input": [
      "format(d, 'mdy')"
     ],
     "language": "python",
     "metadata": {},
     "outputs": [
      {
       "metadata": {},
       "output_type": "pyout",
       "prompt_number": 3,
       "text": [
        "'12/21/2012'"
       ]
      }
     ],
     "prompt_number": 3
    },
    {
     "cell_type": "code",
     "collapsed": false,
     "input": [
      "'The date is {:ymd}'.format(d)"
     ],
     "language": "python",
     "metadata": {},
     "outputs": [
      {
       "metadata": {},
       "output_type": "pyout",
       "prompt_number": 4,
       "text": [
        "'The date is 2012-12-21'"
       ]
      }
     ],
     "prompt_number": 4
    },
    {
     "cell_type": "code",
     "collapsed": false,
     "input": [
      "'The date is {:mdy}'.format(d)"
     ],
     "language": "python",
     "metadata": {},
     "outputs": [
      {
       "metadata": {},
       "output_type": "pyout",
       "prompt_number": 5,
       "text": [
        "'The date is 12/21/2012'"
       ]
      }
     ],
     "prompt_number": 5
    },
    {
     "cell_type": "markdown",
     "metadata": {},
     "source": [
      "# Discussion\n",
      "The `__format__()` method provides a hook into Python\u2019s string formatting \n",
      "functionality. It\u2019s important to emphasize that the interpretation of format codes is entirely up\n",
      "to the class itself. Thus, the codes can be almost anything at all. For example, consider\n",
      "the following from the `datetime` module:"
     ]
    },
    {
     "cell_type": "code",
     "collapsed": false,
     "input": [
      "from datetime import date\n",
      "d = date(2012, 12, 21)\n",
      "format(d)"
     ],
     "language": "python",
     "metadata": {},
     "outputs": [
      {
       "metadata": {},
       "output_type": "pyout",
       "prompt_number": 6,
       "text": [
        "'2012-12-21'"
       ]
      }
     ],
     "prompt_number": 6
    },
    {
     "cell_type": "code",
     "collapsed": false,
     "input": [
      "format(d,'%A, %B %d, %Y')"
     ],
     "language": "python",
     "metadata": {},
     "outputs": [
      {
       "metadata": {},
       "output_type": "pyout",
       "prompt_number": 7,
       "text": [
        "'Friday, December 21, 2012'"
       ]
      }
     ],
     "prompt_number": 7
    },
    {
     "cell_type": "code",
     "collapsed": false,
     "input": [
      "'The end is {:%d %b %Y}. Goodbye'.format(d)"
     ],
     "language": "python",
     "metadata": {},
     "outputs": [
      {
       "metadata": {},
       "output_type": "pyout",
       "prompt_number": 8,
       "text": [
        "'The end is 21 Dec 2012. Goodbye'"
       ]
      }
     ],
     "prompt_number": 8
    },
    {
     "cell_type": "markdown",
     "metadata": {},
     "source": [
      "There are some standard conventions for the formatting of the built-in types. See the\n",
      "[documentation for the `string` module](http://docs.python.org/3/library/string.html) for a formal specification."
     ]
    }
   ],
   "metadata": {}
  }
 ]
}