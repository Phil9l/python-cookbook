{
 "metadata": {
  "name": ""
 },
 "nbformat": 3,
 "nbformat_minor": 0,
 "worksheets": [
  {
   "cells": [
    {
     "cell_type": "heading",
     "level": 1,
     "metadata": {},
     "source": [
      "8.4. Saving Memory When Creating a Large Number of\n",
      "Instances"
     ]
    },
    {
     "cell_type": "markdown",
     "metadata": {},
     "source": [
      "# Problem\n",
      "Your program creates a large number (e.g., millions) of instances and uses a large\n",
      "amount of memory.\n",
      "\n",
      "# Solution\n",
      "For classes that primarily serve as simple data structures, you can often greatly reduce\n",
      "the memory footprint of instances by adding the `__slots__` attribute to the class \n",
      "definition. For example:"
     ]
    },
    {
     "cell_type": "code",
     "collapsed": false,
     "input": [
      "class Date:\n",
      "    __slots__ = ['year', 'month', 'day']\n",
      "    def __init__(self, year, month, day):\n",
      "        self.year = year\n",
      "        self.month = month\n",
      "        self.day = day"
     ],
     "language": "python",
     "metadata": {},
     "outputs": [],
     "prompt_number": 1
    },
    {
     "cell_type": "markdown",
     "metadata": {},
     "source": [
      "When you define `__slots__`, Python uses a much more compact internal representation\n",
      "for instances. Instead of each instance consisting of a dictionary, instances are built\n",
      "around a small fixed-sized array, much like a tuple or list. Attribute names listed in the\n",
      "`__slots__` specifier are internally mapped to specific indices within this array. A side\n",
      "effect of using slots is that it is no longer possible to add new attributes to \n",
      "instances \u2014 you are restricted to only those attribute names listed in the `__slots__` specifier."
     ]
    },
    {
     "cell_type": "markdown",
     "metadata": {},
     "source": [
      "# Discussion\n",
      "The memory saved by using slots varies according to the number and type of attributes\n",
      "stored. However, in general, the resulting memory use is comparable to that of storing\n",
      "data in a tuple. To give you an idea, storing a single `Date` instance without slots requires\n",
      "$428$ bytes of memory on a 64-bit version of Python. If slots is defined, it drops to $156$\n",
      "bytes. In a program that manipulated a large number of dates all at once, this would\n",
      "make a significant reduction in overall memory use.\n",
      "\n",
      "Although slots may seem like a feature that could be generally useful, you should resist\n",
      "the urge to use it in most code. There are many parts of Python that rely on the normal\n",
      "dictionary-based implementation. In addition, classes that define slots don\u2019t support\n",
      "certain features such as multiple inheritance. For the most part, you should only use\n",
      "slots on classes that are going to serve as frequently used data structures in your program\n",
      "(e.g., if your program created millions of instances of a particular class).\n",
      "\n",
      "A common misperception of `__slots__` is that it is an encapsulation tool that prevents\n",
      "users from adding new attributes to instances. Although this is a side effect of using\n",
      "slots, this was never the original purpose. Instead, `__slots__` was always intended to\n",
      "be an optimization tool."
     ]
    }
   ],
   "metadata": {}
  }
 ]
}