{
 "metadata": {
  "name": ""
 },
 "nbformat": 3,
 "nbformat_minor": 0,
 "worksheets": [
  {
   "cells": [
    {
     "cell_type": "heading",
     "level": 1,
     "metadata": {},
     "source": [
      "8.5. Encapsulating Names in a Class"
     ]
    },
    {
     "cell_type": "markdown",
     "metadata": {},
     "source": [
      "# Problem\n",
      "You want to encapsulate \u201cprivate\u201d data on instances of a class, but are concerned about\n",
      "Python\u2019s lack of access control.\n",
      "\n",
      "# Solution\n",
      "Rather than relying on language features to encapsulate data, Python programmers are\n",
      "expected to observe certain naming conventions concerning the intended usage of data\n",
      "and methods. The first convention is that any name that starts with a single leading\n",
      "underscore (`_`) should always be assumed to be internal implementation. For example:\n",
      "```python\n",
      "class A:\n",
      "    def __init__(self):\n",
      "        self._internal = 0 # An internal attribute\n",
      "        self.public = 1 # A public attribute\n",
      "\n",
      "    def public_method(self):\n",
      "        '''\n",
      "        A public method\n",
      "        '''\n",
      "        ...\n",
      "\n",
      "    def _internal_method(self):\n",
      "        ...\n",
      "```\n",
      "Python doesn\u2019t actually prevent someone from accessing internal names. However, \n",
      "doing so is considered impolite, and may result in fragile code. It should be noted, too,\n",
      "that the use of the leading underscore is also used for module names and module-level\n",
      "functions. For example, if you ever see a module name that starts with a leading \n",
      "underscore (e.g., `_socket`), it\u2019s internal implementation. Likewise, module-level functions\n",
      "such as `sys._getframe()` should only be used with great caution.\n",
      "\n",
      "You may also encounter the use of two leading underscores (`__`) on names within class\n",
      "definitions. For example:\n",
      "```python\n",
      "class B:\n",
      "    def __init__(self):\n",
      "        self.__private = 0\n",
      "\n",
      "    def __private_method(self):\n",
      "        ...\n",
      "\n",
      "    def public_method(self):\n",
      "        ...\n",
      "        self.__private_method()\n",
      "        ...\n",
      "```\n",
      "The use of double leading underscores causes the name to be mangled to something\n",
      "else. Specifically, the private attributes in the preceding class get renamed to `_B__private` \n",
      "and `_B__private_method`, respectively. At this point, you might ask what purpose\n",
      "such name mangling serves. The answer is inheritance\u2014such attributes cannot be\n",
      "overridden via inheritance. For example:\n",
      "```python\n",
      "class C(B):\n",
      "    def __init__(self):\n",
      "        super().__init__()\n",
      "        self.__private = 1 # Does not override B.__private\n",
      "    # Does not override B.__private_method()\n",
      "    def __private_method(self):\n",
      "        ...\n",
      "```\n",
      "Here, the private names `__private` and `__private_method` get renamed to \n",
      "`_C__private` and `_C__private_method`, which are different than the mangled names in the base\n",
      "class `B`."
     ]
    },
    {
     "cell_type": "markdown",
     "metadata": {},
     "source": [
      "# Discussion\n",
      "The fact that there are two different conventions (single underscore versus double \n",
      "underscore) for \u201cprivate\u201d attributes leads to the obvious question of which style you should\n",
      "use. For most code, you should probably just make your nonpublic names start with a\n",
      "single underscore. If, however, you know that your code will involve subclassing, and\n",
      "there are internal attributes that should be hidden from subclasses, use the double un\u2010\n",
      "derscore instead.\n",
      "\n",
      "It should also be noted that sometimes you may want to define a variable that clashes\n",
      "with the name of a reserved word. For this, you should use a single trailing underscore.\n",
      "For example:\n",
      "```python\n",
      "lambda_ = 2.0  # Trailing _ to avoid clash with lambda keyword\n",
      "```\n",
      "The reason for not using a leading underscore here is that it avoids confusion about the\n",
      "intended usage (i.e., the use of a leading underscore could be interpreted as a way to\n",
      "avoid a name collision rather than as an indication that the value is private). Using a\n",
      "single trailing underscore solves this problem."
     ]
    }
   ],
   "metadata": {}
  }
 ]
}