{
 "metadata": {
  "name": ""
 },
 "nbformat": 3,
 "nbformat_minor": 0,
 "worksheets": [
  {
   "cells": [
    {
     "cell_type": "heading",
     "level": 1,
     "metadata": {},
     "source": [
      "2.14. Combining and Concatenating Strings"
     ]
    },
    {
     "cell_type": "markdown",
     "metadata": {},
     "source": [
      "# Problem\n",
      "You want to combine many small strings together into a larger string.\n",
      "\n",
      "# Solution\n",
      "If the strings you wish to combine are found in a sequence or iterable, the fastest way\n",
      "to combine them is to use the `join()` method. For example:"
     ]
    },
    {
     "cell_type": "code",
     "collapsed": false,
     "input": [
      "parts = ['Is', 'Chicago', 'Not', 'Chicago?']\n",
      "' '.join(parts)"
     ],
     "language": "python",
     "metadata": {},
     "outputs": [
      {
       "metadata": {},
       "output_type": "pyout",
       "prompt_number": 1,
       "text": [
        "'Is Chicago Not Chicago?'"
       ]
      }
     ],
     "prompt_number": 1
    },
    {
     "cell_type": "code",
     "collapsed": false,
     "input": [
      "','.join(parts)"
     ],
     "language": "python",
     "metadata": {},
     "outputs": [
      {
       "metadata": {},
       "output_type": "pyout",
       "prompt_number": 2,
       "text": [
        "'Is,Chicago,Not,Chicago?'"
       ]
      }
     ],
     "prompt_number": 2
    },
    {
     "cell_type": "code",
     "collapsed": false,
     "input": [
      "''.join(parts)"
     ],
     "language": "python",
     "metadata": {},
     "outputs": [
      {
       "metadata": {},
       "output_type": "pyout",
       "prompt_number": 3,
       "text": [
        "'IsChicagoNotChicago?'"
       ]
      }
     ],
     "prompt_number": 3
    },
    {
     "cell_type": "markdown",
     "metadata": {},
     "source": [
      "At first glance, this syntax might look really odd, but the `join()` operation is specified\n",
      "as a method on strings. Partly this is because the objects you want to join could come\n",
      "from any number of different data sequences (e.g., lists, tuples, dicts, files, sets, or \n",
      "generators), and it would be redundant to have `join()` implemented as a method on all of\n",
      "those objects separately. So you just specify the separator string that you want and use\n",
      "the `join()` method on it to glue text fragments together.\n",
      "\n",
      "If you\u2019re only combining a few strings, using `+` usually works well enough:"
     ]
    },
    {
     "cell_type": "code",
     "collapsed": false,
     "input": [
      "a = 'Is Chicago'\n",
      "b = 'Not Chicago?'\n",
      "a + ' ' + b"
     ],
     "language": "python",
     "metadata": {},
     "outputs": [
      {
       "metadata": {},
       "output_type": "pyout",
       "prompt_number": 4,
       "text": [
        "'Is Chicago Not Chicago?'"
       ]
      }
     ],
     "prompt_number": 4
    },
    {
     "cell_type": "markdown",
     "metadata": {},
     "source": [
      "The `+` operator also works fine as a substitute for more complicated string formatting\n",
      "operations. For example:"
     ]
    },
    {
     "cell_type": "code",
     "collapsed": false,
     "input": [
      "print('{} {}'.format(a,b))"
     ],
     "language": "python",
     "metadata": {},
     "outputs": [
      {
       "output_type": "stream",
       "stream": "stdout",
       "text": [
        "Is Chicago Not Chicago?\n"
       ]
      }
     ],
     "prompt_number": 5
    },
    {
     "cell_type": "code",
     "collapsed": false,
     "input": [
      "print(a + ' ' + b)"
     ],
     "language": "python",
     "metadata": {},
     "outputs": [
      {
       "output_type": "stream",
       "stream": "stdout",
       "text": [
        "Is Chicago Not Chicago?\n"
       ]
      }
     ],
     "prompt_number": 6
    },
    {
     "cell_type": "markdown",
     "metadata": {},
     "source": [
      "If you\u2019re trying to combine string literals together in source code, you can simply place\n",
      "them adjacent to each other with no `+` operator. For example:"
     ]
    },
    {
     "cell_type": "code",
     "collapsed": false,
     "input": [
      "a = 'Hello' 'World'\n",
      "a"
     ],
     "language": "python",
     "metadata": {},
     "outputs": [
      {
       "metadata": {},
       "output_type": "pyout",
       "prompt_number": 7,
       "text": [
        "'HelloWorld'"
       ]
      }
     ],
     "prompt_number": 7
    },
    {
     "cell_type": "markdown",
     "metadata": {},
     "source": [
      "# Discussion\n",
      "Joining strings together might not seem advanced enough to warrant an entire recipe,\n",
      "but it\u2019s often an area where programmers make programming choices that severely\n",
      "impact the performance of their code.\n",
      "\n",
      "The most important thing to know is that using the `+` operator to join a lot of strings\n",
      "together is grossly inefficient due to the memory copies and garbage collection that\n",
      "occurs. In particular, you never want to write code that joins strings together like this:\n",
      "```python\n",
      "s = ''\n",
      "for p in parts:\n",
      "    s += p\n",
      "```\n",
      "This runs quite a bit slower than using the `join()` method, mainly because each `+=`\n",
      "operation creates a new string object. You\u2019re better off just collecting all of the parts first\n",
      "and then joining them together at the end.\n",
      "\n",
      "One related (and pretty neat) trick is the conversion of data to strings and concatenation\n",
      "at the same time using a generator expression, as described in Recipe 1.19. For example:"
     ]
    },
    {
     "cell_type": "code",
     "collapsed": false,
     "input": [
      "data = ['ACME', 50, 91.1]\n",
      "','.join(str(d) for d in data)"
     ],
     "language": "python",
     "metadata": {},
     "outputs": [
      {
       "metadata": {},
       "output_type": "pyout",
       "prompt_number": 8,
       "text": [
        "'ACME,50,91.1'"
       ]
      }
     ],
     "prompt_number": 8
    },
    {
     "cell_type": "markdown",
     "metadata": {},
     "source": [
      "Also be on the lookout for unnecessary string concatenations. Sometimes programmers\n",
      "get carried away with concatenation when it\u2019s really not technically necessary. \n",
      "For example, when printing:\n",
      "```python\n",
      "print(a + ':' + b + ':' + c)   # Ugly\n",
      "print(':'.join([a, b, c]))     # Still ugly\n",
      "print(a, b, c, sep=':')        # Better\n",
      "```\n",
      "Mixing I/O operations and string concatenation is something that might require study\n",
      "in your application. For example, consider the following two code fragments:\n",
      "\n",
      "```python\n",
      "# Version 1 (string concatenation)\n",
      "f.write(chunk1 + chunk2)\n",
      "\n",
      "# Version 2 (separate I/O operations)\n",
      "f.write(chunk1)\n",
      "f.write(chunk2)\n",
      "```\n",
      "\n",
      "If the two strings are small, the first version might offer much better performance due\n",
      "to the inherent expense of carrying out an I/O system call. On the other hand, if the two\n",
      "strings are large, the second version may be more efficient, since it avoids making a large\n",
      "temporary result and copying large blocks of memory around. Again, it must be stressed\n",
      "that this is something you would have to study in relation to your own data in order to\n",
      "determine which performs best.\n",
      "\n",
      "Last, but not least, if you\u2019re writing code that is building output from lots of small strings,\n",
      "you might consider writing that code as a generator function, using `yield` to emit fragments. \n",
      "For example:\n",
      "```python\n",
      "def sample():\n",
      "    yield 'Is'\n",
      "    yield 'Chicago'\n",
      "    yield 'Not'\n",
      "    yield 'Chicago?'\n",
      "```\n",
      "The interesting thing about this approach is that it makes no assumption about how the\n",
      "fragments are to be assembled together. For example, you could simply join the fragments \n",
      "using `join()`:\n",
      "```python\n",
      "text = ''.join(sample())\n",
      "```\n",
      "Or you could redirect the fragments to I/O:\n",
      "```python\n",
      "for part in sample():\n",
      "    f.write(part)\n",
      "```\n",
      "Or you could come up with some kind of hybrid scheme that\u2019s smart about combining\n",
      "I/O operations:\n",
      "```python\n",
      "def combine(source, maxsize):\n",
      "    parts = []\n",
      "    size = 0\n",
      "    for part in source:\n",
      "        parts.append(part)\n",
      "        size += len(part)\n",
      "        if size > maxsize:\n",
      "            yield ''.join(parts)\n",
      "            parts = []\n",
      "            size = 0\n",
      "    yield ''.join(parts)\n",
      "\n",
      "for part in combine(sample(), 32768):\n",
      "    f.write(part)\n",
      "```\n",
      "\n",
      "The key point is that the original generator function doesn\u2019t have to know the precise\n",
      "details. It just yields the parts."
     ]
    }
   ],
   "metadata": {}
  }
 ]
}