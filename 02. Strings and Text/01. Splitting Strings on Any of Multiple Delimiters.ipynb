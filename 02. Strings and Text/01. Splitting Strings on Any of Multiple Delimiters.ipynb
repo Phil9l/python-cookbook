{
 "metadata": {
  "name": ""
 },
 "nbformat": 3,
 "nbformat_minor": 0,
 "worksheets": [
  {
   "cells": [
    {
     "cell_type": "heading",
     "level": 1,
     "metadata": {},
     "source": [
      "2.1. Splitting Strings on Any of Multiple Delimiters"
     ]
    },
    {
     "cell_type": "markdown",
     "metadata": {},
     "source": [
      "# Problem\n",
      "You need to split a string into fields, but the delimiters (and spacing around them) aren\u2019t\n",
      "consistent throughout the string.\n",
      "\n",
      "# Solution\n",
      "The `split()` method of string objects is really meant for very simple cases, and does\n",
      "not allow for multiple delimiters or account for possible whitespace around the delimiters. \n",
      "In cases when you need a bit more flexibility, use the `re.split()` method:"
     ]
    },
    {
     "cell_type": "code",
     "collapsed": false,
     "input": [
      "line = 'asdf fjdk; afed, fjek,asdf,     foo'\n",
      "import re\n",
      "re.split(r'[;,\\s]\\s*', line)"
     ],
     "language": "python",
     "metadata": {},
     "outputs": [
      {
       "metadata": {},
       "output_type": "pyout",
       "prompt_number": 1,
       "text": [
        "['asdf', 'fjdk', 'afed', 'fjek', 'asdf', 'foo']"
       ]
      }
     ],
     "prompt_number": 1
    },
    {
     "cell_type": "markdown",
     "metadata": {},
     "source": [
      "Discussion\n",
      "The `re.split()` function is useful because you can specify multiple patterns for the\n",
      "separator. For example, as shown in the solution, the separator is either a comma (`,`),\n",
      "semicolon (`;`), or whitespace followed by any amount of extra whitespace. Whenever\n",
      "that pattern is found, the entire match becomes the delimiter between whatever fields\n",
      "lie on either side of the match. The result is a list of fields, just as with `str.split()`.\n",
      "\n",
      "When using `re.split()`, you need to be a bit careful should the regular expression\n",
      "pattern involve a capture group enclosed in parentheses. If capture groups are used,\n",
      "then the matched text is also included in the result. For example, watch what happens\n",
      "here:"
     ]
    },
    {
     "cell_type": "code",
     "collapsed": false,
     "input": [
      "fields = re.split(r'(;|,|\\s)\\s*', line)\n",
      "fields"
     ],
     "language": "python",
     "metadata": {},
     "outputs": [
      {
       "metadata": {},
       "output_type": "pyout",
       "prompt_number": 2,
       "text": [
        "['asdf', ' ', 'fjdk', ';', 'afed', ',', 'fjek', ',', 'asdf', ',', 'foo']"
       ]
      }
     ],
     "prompt_number": 2
    },
    {
     "cell_type": "markdown",
     "metadata": {},
     "source": [
      "Getting the split characters might be useful in certain contexts. For example, maybe you\n",
      "need the split characters later on to reform an output string:"
     ]
    },
    {
     "cell_type": "code",
     "collapsed": false,
     "input": [
      "values = fields[::2]\n",
      "delimiters = fields[1::2] + ['']\n",
      "values"
     ],
     "language": "python",
     "metadata": {},
     "outputs": [
      {
       "metadata": {},
       "output_type": "pyout",
       "prompt_number": 3,
       "text": [
        "['asdf', 'fjdk', 'afed', 'fjek', 'asdf', 'foo']"
       ]
      }
     ],
     "prompt_number": 3
    },
    {
     "cell_type": "code",
     "collapsed": false,
     "input": [
      "delimiters"
     ],
     "language": "python",
     "metadata": {},
     "outputs": [
      {
       "metadata": {},
       "output_type": "pyout",
       "prompt_number": 4,
       "text": [
        "[' ', ';', ',', ',', ',', '']"
       ]
      }
     ],
     "prompt_number": 4
    },
    {
     "cell_type": "code",
     "collapsed": false,
     "input": [
      "# Reform the line using the same delimiters\n",
      "''.join(v+d for v,d in zip(values, delimiters))"
     ],
     "language": "python",
     "metadata": {},
     "outputs": [
      {
       "metadata": {},
       "output_type": "pyout",
       "prompt_number": 5,
       "text": [
        "'asdf fjdk;afed,fjek,asdf,foo'"
       ]
      }
     ],
     "prompt_number": 5
    },
    {
     "cell_type": "markdown",
     "metadata": {},
     "source": [
      "If you don\u2019t want the separator characters in the result, but still need to use parentheses\n",
      "to group parts of the regular expression pattern, make sure you use a noncapture group,\n",
      "specified as `(?:...)`. For example:"
     ]
    },
    {
     "cell_type": "code",
     "collapsed": false,
     "input": [
      "re.split(r'(?:,|;|\\s)\\s*', line)"
     ],
     "language": "python",
     "metadata": {},
     "outputs": [
      {
       "metadata": {},
       "output_type": "pyout",
       "prompt_number": 6,
       "text": [
        "['asdf', 'fjdk', 'afed', 'fjek', 'asdf', 'foo']"
       ]
      }
     ],
     "prompt_number": 6
    }
   ],
   "metadata": {}
  }
 ]
}