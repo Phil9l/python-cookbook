{
 "metadata": {
  "name": ""
 },
 "nbformat": 3,
 "nbformat_minor": 0,
 "worksheets": [
  {
   "cells": [
    {
     "cell_type": "heading",
     "level": 1,
     "metadata": {},
     "source": [
      "2.4. Matching and Searching for Text Patterns"
     ]
    },
    {
     "cell_type": "markdown",
     "metadata": {},
     "source": [
      "# Problem\n",
      "You want to match or search text for a specific pattern.\n",
      "\n",
      "# Solution\n",
      "If the text you\u2019re trying to match is a simple literal, you can often just use the basic string\n",
      "methods, such as `str.find()`, `str.endswith()`, `str.startswith()`, or similar. For\n",
      "example:"
     ]
    },
    {
     "cell_type": "code",
     "collapsed": false,
     "input": [
      "text = 'yeah, but no, but yeah, but no, but yeah'\n",
      "# Exact match\n",
      "text == 'yeah'"
     ],
     "language": "python",
     "metadata": {},
     "outputs": [
      {
       "metadata": {},
       "output_type": "pyout",
       "prompt_number": 1,
       "text": [
        "False"
       ]
      }
     ],
     "prompt_number": 1
    },
    {
     "cell_type": "code",
     "collapsed": false,
     "input": [
      "# Match at start or end\n",
      "text.startswith('yeah')"
     ],
     "language": "python",
     "metadata": {},
     "outputs": [
      {
       "metadata": {},
       "output_type": "pyout",
       "prompt_number": 2,
       "text": [
        "True"
       ]
      }
     ],
     "prompt_number": 2
    },
    {
     "cell_type": "code",
     "collapsed": false,
     "input": [
      "text.endswith('no')"
     ],
     "language": "python",
     "metadata": {},
     "outputs": [
      {
       "metadata": {},
       "output_type": "pyout",
       "prompt_number": 3,
       "text": [
        "False"
       ]
      }
     ],
     "prompt_number": 3
    },
    {
     "cell_type": "code",
     "collapsed": false,
     "input": [
      "# Search for the location of the first occurrence\n",
      "text.find('no')"
     ],
     "language": "python",
     "metadata": {},
     "outputs": [
      {
       "metadata": {},
       "output_type": "pyout",
       "prompt_number": 4,
       "text": [
        "10"
       ]
      }
     ],
     "prompt_number": 4
    },
    {
     "cell_type": "markdown",
     "metadata": {},
     "source": [
      "For more complicated matching, use regular expressions and the `re` module. To illustrate\n",
      "the basic mechanics of using regular expressions, suppose you want to match dates\n",
      "specified as digits, such as \u201c11/27/2012.\u201d Here is a sample of how you would do it:"
     ]
    },
    {
     "cell_type": "code",
     "collapsed": false,
     "input": [
      "text1 = '11/27/2012'\n",
      "text2 = 'Nov 27, 2012'\n",
      "\n",
      "import re\n",
      "# Simple matching: \\d+ means match one or more digits\n",
      "if re.match(r'\\d+/\\d+/\\d+', text1):\n",
      "    print('yes')\n",
      "else:\n",
      "    print('no')"
     ],
     "language": "python",
     "metadata": {},
     "outputs": [
      {
       "output_type": "stream",
       "stream": "stdout",
       "text": [
        "yes\n"
       ]
      }
     ],
     "prompt_number": 5
    },
    {
     "cell_type": "code",
     "collapsed": false,
     "input": [
      "if re.match(r'\\d+/\\d+/\\d+', text2):\n",
      "    print('yes')\n",
      "else:\n",
      "    print('no')"
     ],
     "language": "python",
     "metadata": {},
     "outputs": [
      {
       "output_type": "stream",
       "stream": "stdout",
       "text": [
        "no\n"
       ]
      }
     ],
     "prompt_number": 6
    },
    {
     "cell_type": "markdown",
     "metadata": {},
     "source": [
      "If you\u2019re going to perform a lot of matches using the same pattern, it usually pays to\n",
      "precompile the regular expression pattern into a pattern object first. For example:"
     ]
    },
    {
     "cell_type": "code",
     "collapsed": false,
     "input": [
      "datepat = re.compile(r'\\d+/\\d+/\\d+')\n",
      "if datepat.match(text1):\n",
      "    print('yes')\n",
      "else:\n",
      "    print('no')"
     ],
     "language": "python",
     "metadata": {},
     "outputs": [
      {
       "output_type": "stream",
       "stream": "stdout",
       "text": [
        "yes\n"
       ]
      }
     ],
     "prompt_number": 7
    },
    {
     "cell_type": "code",
     "collapsed": false,
     "input": [
      "if datepat.match(text2):\n",
      "    print('yes')\n",
      "else:\n",
      "    print('no')"
     ],
     "language": "python",
     "metadata": {},
     "outputs": [
      {
       "output_type": "stream",
       "stream": "stdout",
       "text": [
        "no\n"
       ]
      }
     ],
     "prompt_number": 8
    },
    {
     "cell_type": "markdown",
     "metadata": {},
     "source": [
      "`match()` always tries to find the match at the start of a string. If you want to search text\n",
      "for all occurrences of a pattern, use the `findall()` method instead. For example:"
     ]
    },
    {
     "cell_type": "code",
     "collapsed": false,
     "input": [
      "text = 'Today is 11/27/2012. PyCon starts 3/13/2013.'\n",
      "datepat.findall(text)"
     ],
     "language": "python",
     "metadata": {},
     "outputs": [
      {
       "metadata": {},
       "output_type": "pyout",
       "prompt_number": 9,
       "text": [
        "['11/27/2012', '3/13/2013']"
       ]
      }
     ],
     "prompt_number": 9
    },
    {
     "cell_type": "markdown",
     "metadata": {},
     "source": [
      "When defining regular expressions, it is common to introduce capture groups by en\u2010\n",
      "closing parts of the pattern in parentheses. For example:"
     ]
    },
    {
     "cell_type": "code",
     "collapsed": false,
     "input": [
      "datepat = re.compile(r'(\\d+)/(\\d+)/(\\d+)')"
     ],
     "language": "python",
     "metadata": {},
     "outputs": [],
     "prompt_number": 11
    },
    {
     "cell_type": "markdown",
     "metadata": {},
     "source": [
      "Capture groups often simplify subsequent processing of the matched text because the\n",
      "contents of each group can be extracted individually. For example:"
     ]
    },
    {
     "cell_type": "code",
     "collapsed": false,
     "input": [
      "m = datepat.match('11/27/2012')\n",
      "m"
     ],
     "language": "python",
     "metadata": {},
     "outputs": [
      {
       "metadata": {},
       "output_type": "pyout",
       "prompt_number": 12,
       "text": [
        "<_sre.SRE_Match object; span=(0, 10), match='11/27/2012'>"
       ]
      }
     ],
     "prompt_number": 12
    },
    {
     "cell_type": "code",
     "collapsed": false,
     "input": [
      "# Extract the contents of each group\n",
      "m.group(0)"
     ],
     "language": "python",
     "metadata": {},
     "outputs": [
      {
       "metadata": {},
       "output_type": "pyout",
       "prompt_number": 13,
       "text": [
        "'11/27/2012'"
       ]
      }
     ],
     "prompt_number": 13
    },
    {
     "cell_type": "code",
     "collapsed": false,
     "input": [
      "m.group(1)"
     ],
     "language": "python",
     "metadata": {},
     "outputs": [
      {
       "metadata": {},
       "output_type": "pyout",
       "prompt_number": 14,
       "text": [
        "'11'"
       ]
      }
     ],
     "prompt_number": 14
    },
    {
     "cell_type": "code",
     "collapsed": false,
     "input": [
      "m.group(2)"
     ],
     "language": "python",
     "metadata": {},
     "outputs": [
      {
       "metadata": {},
       "output_type": "pyout",
       "prompt_number": 15,
       "text": [
        "'27'"
       ]
      }
     ],
     "prompt_number": 15
    },
    {
     "cell_type": "code",
     "collapsed": false,
     "input": [
      "m.group(3)"
     ],
     "language": "python",
     "metadata": {},
     "outputs": [
      {
       "metadata": {},
       "output_type": "pyout",
       "prompt_number": 16,
       "text": [
        "'2012'"
       ]
      }
     ],
     "prompt_number": 16
    },
    {
     "cell_type": "code",
     "collapsed": false,
     "input": [
      "m.groups()"
     ],
     "language": "python",
     "metadata": {},
     "outputs": [
      {
       "metadata": {},
       "output_type": "pyout",
       "prompt_number": 17,
       "text": [
        "('11', '27', '2012')"
       ]
      }
     ],
     "prompt_number": 17
    },
    {
     "cell_type": "code",
     "collapsed": false,
     "input": [
      "month, day, year = m.groups()"
     ],
     "language": "python",
     "metadata": {},
     "outputs": [],
     "prompt_number": 18
    },
    {
     "cell_type": "code",
     "collapsed": false,
     "input": [
      "text"
     ],
     "language": "python",
     "metadata": {},
     "outputs": [
      {
       "metadata": {},
       "output_type": "pyout",
       "prompt_number": 19,
       "text": [
        "'Today is 11/27/2012. PyCon starts 3/13/2013.'"
       ]
      }
     ],
     "prompt_number": 19
    },
    {
     "cell_type": "code",
     "collapsed": false,
     "input": [
      "datepat.findall(text)"
     ],
     "language": "python",
     "metadata": {},
     "outputs": [
      {
       "metadata": {},
       "output_type": "pyout",
       "prompt_number": 20,
       "text": [
        "[('11', '27', '2012'), ('3', '13', '2013')]"
       ]
      }
     ],
     "prompt_number": 20
    },
    {
     "cell_type": "code",
     "collapsed": false,
     "input": [
      "for month, day, year in datepat.findall(text):\n",
      "    print('{}-{}-{}'.format(year, month, day))"
     ],
     "language": "python",
     "metadata": {},
     "outputs": [
      {
       "output_type": "stream",
       "stream": "stdout",
       "text": [
        "2012-11-27\n",
        "2013-3-13\n"
       ]
      }
     ],
     "prompt_number": 21
    },
    {
     "cell_type": "markdown",
     "metadata": {},
     "source": [
      "The `findall()` method searches the text and finds all matches, returning them as a list.\n",
      "If you want to find matches iteratively, use the `finditer()` method instead. For example:"
     ]
    },
    {
     "cell_type": "code",
     "collapsed": false,
     "input": [
      "for m in datepat.finditer(text):\n",
      "    print(m.groups())"
     ],
     "language": "python",
     "metadata": {},
     "outputs": [
      {
       "output_type": "stream",
       "stream": "stdout",
       "text": [
        "('11', '27', '2012')\n",
        "('3', '13', '2013')\n"
       ]
      }
     ],
     "prompt_number": 22
    },
    {
     "cell_type": "markdown",
     "metadata": {},
     "source": [
      "# Discussion\n",
      "A basic tutorial on the theory of regular expressions is beyond the scope of this book.\n",
      "However, this recipe illustrates the absolute basics of using the `re` module to match and\n",
      "search for text. The essential functionality is first compiling a pattern using\n",
      "`re.compile()` and then using methods such as `match()`, `findall()`, or `finditer()`.\n",
      "\n",
      "When specifying patterns, it is relatively common to use raw strings such as\n",
      "`r'(\\d+)/(\\d+)/(\\d+)'`. Such strings leave the backslash character uninterpreted,\n",
      "which can be useful in the context of regular expressions. Otherwise, you need to use\n",
      "double backslashes such as `'(\\\\d+)/(\\\\d+)/(\\\\d+)'`.\n",
      "\n",
      "Be aware that the `match()` method only checks the beginning of a string. It\u2019s possible\n",
      "that it will match things you aren\u2019t expecting. For example:"
     ]
    },
    {
     "cell_type": "code",
     "collapsed": false,
     "input": [
      "m = datepat.match('11/27/2012abcdef')\n",
      "m"
     ],
     "language": "python",
     "metadata": {},
     "outputs": [
      {
       "metadata": {},
       "output_type": "pyout",
       "prompt_number": 23,
       "text": [
        "<_sre.SRE_Match object; span=(0, 10), match='11/27/2012'>"
       ]
      }
     ],
     "prompt_number": 23
    },
    {
     "cell_type": "code",
     "collapsed": false,
     "input": [
      "m.group()"
     ],
     "language": "python",
     "metadata": {},
     "outputs": [
      {
       "metadata": {},
       "output_type": "pyout",
       "prompt_number": 24,
       "text": [
        "'11/27/2012'"
       ]
      }
     ],
     "prompt_number": 24
    },
    {
     "cell_type": "markdown",
     "metadata": {},
     "source": [
      "If you want an exact match, make sure the pattern includes the end-marker (`$`), as in\n",
      "the following:"
     ]
    },
    {
     "cell_type": "code",
     "collapsed": false,
     "input": [
      "datepat = re.compile(r'(\\d+)/(\\d+)/(\\d+)$')\n",
      "datepat.match('11/27/2012abcdef')"
     ],
     "language": "python",
     "metadata": {},
     "outputs": [],
     "prompt_number": 25
    },
    {
     "cell_type": "code",
     "collapsed": false,
     "input": [
      "datepat.match('11/27/2012')"
     ],
     "language": "python",
     "metadata": {},
     "outputs": [
      {
       "metadata": {},
       "output_type": "pyout",
       "prompt_number": 26,
       "text": [
        "<_sre.SRE_Match object; span=(0, 10), match='11/27/2012'>"
       ]
      }
     ],
     "prompt_number": 26
    },
    {
     "cell_type": "markdown",
     "metadata": {},
     "source": [
      "Last, if you\u2019re just doing a simple text matching/searching operation, you can often skip\n",
      "the compilation step and use module-level functions in the `re` module instead. For\n",
      "example:"
     ]
    },
    {
     "cell_type": "code",
     "collapsed": false,
     "input": [
      "re.findall(r'(\\d+)/(\\d+)/(\\d+)', text)"
     ],
     "language": "python",
     "metadata": {},
     "outputs": [
      {
       "metadata": {},
       "output_type": "pyout",
       "prompt_number": 27,
       "text": [
        "[('11', '27', '2012'), ('3', '13', '2013')]"
       ]
      }
     ],
     "prompt_number": 27
    },
    {
     "cell_type": "markdown",
     "metadata": {},
     "source": [
      "Be aware, though, that if you\u2019re going to perform a lot of matching or searching, it usually\n",
      "pays to compile the pattern first and use it over and over again. The module-level func\u2010\n",
      "tions keep a cache of recently compiled patterns, so there isn\u2019t a huge performance hit,\n",
      "but you\u2019ll save a few lookups and extra processing by using your own compiled pattern."
     ]
    }
   ],
   "metadata": {}
  }
 ]
}