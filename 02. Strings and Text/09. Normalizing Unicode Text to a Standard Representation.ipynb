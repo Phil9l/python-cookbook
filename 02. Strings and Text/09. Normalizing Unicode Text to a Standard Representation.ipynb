{
 "metadata": {
  "name": ""
 },
 "nbformat": 3,
 "nbformat_minor": 0,
 "worksheets": [
  {
   "cells": [
    {
     "cell_type": "heading",
     "level": 1,
     "metadata": {},
     "source": [
      "2.9. Normalizing Unicode Text to a Standard\n",
      "Representation"
     ]
    },
    {
     "cell_type": "markdown",
     "metadata": {},
     "source": [
      "# Problem\n",
      "You\u2019re working with Unicode strings, but need to make sure that all of the strings have\n",
      "the same underlying representation.\n",
      "\n",
      "# Solution\n",
      "In Unicode, certain characters can be represented by more than one valid sequence of\n",
      "code points. To illustrate, consider the following example:"
     ]
    },
    {
     "cell_type": "code",
     "collapsed": false,
     "input": [
      "s1 = 'Spicy Jalape\\u00f1o'\n",
      "s2 = 'Spicy Jalapen\\u0303o'\n",
      "s1"
     ],
     "language": "python",
     "metadata": {},
     "outputs": [
      {
       "metadata": {},
       "output_type": "pyout",
       "prompt_number": 1,
       "text": [
        "'Spicy Jalape\u00f1o'"
       ]
      }
     ],
     "prompt_number": 1
    },
    {
     "cell_type": "code",
     "collapsed": false,
     "input": [
      "s2"
     ],
     "language": "python",
     "metadata": {},
     "outputs": [
      {
       "metadata": {},
       "output_type": "pyout",
       "prompt_number": 2,
       "text": [
        "'Spicy Jalapen\u0303o'"
       ]
      }
     ],
     "prompt_number": 2
    },
    {
     "cell_type": "code",
     "collapsed": false,
     "input": [
      "s1 == s2"
     ],
     "language": "python",
     "metadata": {},
     "outputs": [
      {
       "metadata": {},
       "output_type": "pyout",
       "prompt_number": 3,
       "text": [
        "False"
       ]
      }
     ],
     "prompt_number": 3
    },
    {
     "cell_type": "code",
     "collapsed": false,
     "input": [
      "len(s1)"
     ],
     "language": "python",
     "metadata": {},
     "outputs": [
      {
       "metadata": {},
       "output_type": "pyout",
       "prompt_number": 4,
       "text": [
        "14"
       ]
      }
     ],
     "prompt_number": 4
    },
    {
     "cell_type": "code",
     "collapsed": false,
     "input": [
      "len(s2)"
     ],
     "language": "python",
     "metadata": {},
     "outputs": [
      {
       "metadata": {},
       "output_type": "pyout",
       "prompt_number": 5,
       "text": [
        "15"
       ]
      }
     ],
     "prompt_number": 5
    },
    {
     "cell_type": "markdown",
     "metadata": {},
     "source": [
      "Here the text \u201cSpicy Jalape\u00f1o\u201d has been presented in two forms. The first uses the fully\n",
      "composed \u201c\u00f1\u201d character (U+00F1). The second uses the Latin letter \u201cn\u201d followed by a\n",
      "\u201c~\u201d combining character (U+0303).\n",
      "\n",
      "Having multiple representations is a problem for programs that compare strings. In\n",
      "order to fix this, you should first normalize the text into a standard representation using\n",
      "the unicodedata module:"
     ]
    },
    {
     "cell_type": "code",
     "collapsed": false,
     "input": [
      "import unicodedata\n",
      "t1 = unicodedata.normalize('NFC', s1)\n",
      "t2 = unicodedata.normalize('NFC', s2)\n",
      "t1 == t2"
     ],
     "language": "python",
     "metadata": {},
     "outputs": [
      {
       "metadata": {},
       "output_type": "pyout",
       "prompt_number": 6,
       "text": [
        "True"
       ]
      }
     ],
     "prompt_number": 6
    },
    {
     "cell_type": "code",
     "collapsed": false,
     "input": [
      "print(ascii(t1))"
     ],
     "language": "python",
     "metadata": {},
     "outputs": [
      {
       "output_type": "stream",
       "stream": "stdout",
       "text": [
        "'Spicy Jalape\\xf1o'\n"
       ]
      }
     ],
     "prompt_number": 7
    },
    {
     "cell_type": "code",
     "collapsed": false,
     "input": [
      "t3 = unicodedata.normalize('NFD', s1)\n",
      "t4 = unicodedata.normalize('NFD', s2)\n",
      "t3 == t4"
     ],
     "language": "python",
     "metadata": {},
     "outputs": [
      {
       "metadata": {},
       "output_type": "pyout",
       "prompt_number": 8,
       "text": [
        "True"
       ]
      }
     ],
     "prompt_number": 8
    },
    {
     "cell_type": "code",
     "collapsed": false,
     "input": [
      "print(ascii(t3))"
     ],
     "language": "python",
     "metadata": {},
     "outputs": [
      {
       "output_type": "stream",
       "stream": "stdout",
       "text": [
        "'Spicy Jalapen\\u0303o'\n"
       ]
      }
     ],
     "prompt_number": 9
    },
    {
     "cell_type": "markdown",
     "metadata": {},
     "source": [
      "The first argument to `normalize()` specifies how you want the string normalized. `NFC`\n",
      "means that characters should be fully composed (i.e., use a single code point if possible).\n",
      "`NFD` means that characters should be fully decomposed with the use of combining char\u2010\n",
      "acters.\n",
      "Python also supports the normalization forms `NFKC` and `NFKD`, which add extra compatibility \n",
      "features for dealing with certain kinds of characters. For example:"
     ]
    },
    {
     "cell_type": "code",
     "collapsed": false,
     "input": [
      "s = '\\ufb01' # A single character\n",
      "s"
     ],
     "language": "python",
     "metadata": {},
     "outputs": [
      {
       "metadata": {},
       "output_type": "pyout",
       "prompt_number": 10,
       "text": [
        "'\ufb01'"
       ]
      }
     ],
     "prompt_number": 10
    },
    {
     "cell_type": "code",
     "collapsed": false,
     "input": [
      "unicodedata.normalize('NFD', s)"
     ],
     "language": "python",
     "metadata": {},
     "outputs": [
      {
       "metadata": {},
       "output_type": "pyout",
       "prompt_number": 11,
       "text": [
        "'\ufb01'"
       ]
      }
     ],
     "prompt_number": 11
    },
    {
     "cell_type": "code",
     "collapsed": false,
     "input": [
      "# Notice how the combined letters are broken apart here\n",
      "unicodedata.normalize('NFKD', s)"
     ],
     "language": "python",
     "metadata": {},
     "outputs": [
      {
       "metadata": {},
       "output_type": "pyout",
       "prompt_number": 12,
       "text": [
        "'fi'"
       ]
      }
     ],
     "prompt_number": 12
    },
    {
     "cell_type": "code",
     "collapsed": false,
     "input": [
      "unicodedata.normalize('NFKC', s)"
     ],
     "language": "python",
     "metadata": {},
     "outputs": [
      {
       "metadata": {},
       "output_type": "pyout",
       "prompt_number": 13,
       "text": [
        "'fi'"
       ]
      }
     ],
     "prompt_number": 13
    },
    {
     "cell_type": "markdown",
     "metadata": {},
     "source": [
      "# Discussion\n",
      "Normalization is an important part of any code that needs to ensure that it processes\n",
      "Unicode text in a sane and consistent way. This is especially true when processing strings\n",
      "received as part of user input where you have little control of the encoding.\n",
      "\n",
      "Normalization can also be an important part of sanitizing and filtering text. For example,\n",
      "suppose you want to remove all diacritical marks from some text (possibly for the pur\u2010\n",
      "poses of searching or matching):"
     ]
    },
    {
     "cell_type": "code",
     "collapsed": false,
     "input": [
      "t1 = unicodedata.normalize('NFD', s1)\n",
      "''.join(c for c in t1 if not unicodedata.combining(c))"
     ],
     "language": "python",
     "metadata": {},
     "outputs": [
      {
       "metadata": {},
       "output_type": "pyout",
       "prompt_number": 14,
       "text": [
        "'Spicy Jalapeno'"
       ]
      }
     ],
     "prompt_number": 14
    },
    {
     "cell_type": "markdown",
     "metadata": {},
     "source": [
      "This last example shows another important aspect of the `unicodedata` module\u2014namely,\n",
      "utility functions for testing characters against character classes. The `combining()` \n",
      "function tests a character to see if it is a combining character. There are other functions in\n",
      "the module for finding character categories, testing digits, and so forth.\n",
      "\n",
      "Unicode is obviously a large topic. For more detailed reference information about nor\u2010\n",
      "malization, visit Unicode\u2019s page on the subject. Ned Batchelder has also given an excel\u2010\n",
      "lent presentation on Python Unicode handling issues at his website. "
     ]
    }
   ],
   "metadata": {}
  }
 ]
}