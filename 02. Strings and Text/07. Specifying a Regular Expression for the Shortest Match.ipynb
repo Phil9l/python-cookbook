{
 "metadata": {
  "name": ""
 },
 "nbformat": 3,
 "nbformat_minor": 0,
 "worksheets": [
  {
   "cells": [
    {
     "cell_type": "heading",
     "level": 1,
     "metadata": {},
     "source": [
      "2.7. Specifying a Regular Expression for the Shortest\n",
      "Match"
     ]
    },
    {
     "cell_type": "markdown",
     "metadata": {},
     "source": [
      "# Problem\n",
      "You\u2019re trying to match a text pattern using regular expressions, but it is identifying the\n",
      "longest possible matches of a pattern. Instead, you would like to change it to find the\n",
      "shortest possible match.\n",
      "\n",
      "# Solution\n",
      "This problem often arises in patterns that try to match text enclosed inside a pair of\n",
      "starting and ending delimiters (e.g., a quoted string). To illustrate, consider this example:"
     ]
    },
    {
     "cell_type": "code",
     "collapsed": false,
     "input": [
      "import re\n",
      "\n",
      "str_pat = re.compile(r'\\\"(.*)\\\"')\n",
      "text1 = 'Computer says \"no.\"'\n",
      "str_pat.findall(text1)"
     ],
     "language": "python",
     "metadata": {},
     "outputs": [
      {
       "metadata": {},
       "output_type": "pyout",
       "prompt_number": 1,
       "text": [
        "['no.']"
       ]
      }
     ],
     "prompt_number": 1
    },
    {
     "cell_type": "code",
     "collapsed": false,
     "input": [
      "text2 = 'Computer says \"no.\" Phone says \"yes.\"'\n",
      "str_pat.findall(text2)"
     ],
     "language": "python",
     "metadata": {},
     "outputs": [
      {
       "metadata": {},
       "output_type": "pyout",
       "prompt_number": 2,
       "text": [
        "['no.\" Phone says \"yes.']"
       ]
      }
     ],
     "prompt_number": 2
    },
    {
     "cell_type": "markdown",
     "metadata": {},
     "source": [
      "In this example, the pattern `r'\\\"(.*)\\\"'` is attempting to match text enclosed inside\n",
      "quotes. However, the `*` operator in a regular expression is greedy, so matching is based\n",
      "on finding the longest possible match. Thus, in the second example involving `text2`, it\n",
      "incorrectly matches the two quoted strings.\n",
      "To fix this, add the `?` modifier after the `*` operator in the pattern, like this:"
     ]
    },
    {
     "cell_type": "code",
     "collapsed": false,
     "input": [
      "str_pat = re.compile(r'\\\"(.*?)\\\"')\n",
      "str_pat.findall(text2)"
     ],
     "language": "python",
     "metadata": {},
     "outputs": [
      {
       "metadata": {},
       "output_type": "pyout",
       "prompt_number": 3,
       "text": [
        "['no.', 'yes.']"
       ]
      }
     ],
     "prompt_number": 3
    },
    {
     "cell_type": "markdown",
     "metadata": {},
     "source": [
      "This makes the matching nongreedy, and produces the shortest match instead."
     ]
    },
    {
     "cell_type": "markdown",
     "metadata": {},
     "source": [
      "Discussion\n",
      "This recipe addresses one of the more common problems encountered when writing\n",
      "regular expressions involving the dot (`.`) character. In a pattern, the dot matches any\n",
      "character except a newline. However, if you bracket the dot with starting and ending\n",
      "text (such as a quote), matching will try to find the longest possible match to the pattern.\n",
      "This causes multiple occurrences of the starting or ending text to be skipped altogether\n",
      "and included in the results of the longer match. Adding the `?` right after operators such\n",
      "as `*` or `+` forces the matching algorithm to look for the shortest possible match instead."
     ]
    }
   ],
   "metadata": {}
  }
 ]
}