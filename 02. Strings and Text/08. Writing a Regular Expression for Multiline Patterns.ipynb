{
 "metadata": {
  "name": ""
 },
 "nbformat": 3,
 "nbformat_minor": 0,
 "worksheets": [
  {
   "cells": [
    {
     "cell_type": "heading",
     "level": 1,
     "metadata": {},
     "source": [
      "2.8. Writing a Regular Expression for Multiline Patterns"
     ]
    },
    {
     "cell_type": "markdown",
     "metadata": {},
     "source": [
      "# Problem\n",
      "You\u2019re trying to match a block of text using a regular expression, but you need the match\n",
      "to span multiple lines.\n",
      "\n",
      "# Solution\n",
      "This problem typically arises in patterns that use the dot (`.`) to match any character but\n",
      "forget to account for the fact that it doesn\u2019t match newlines. For example, suppose you\n",
      "are trying to match C-style comments:"
     ]
    },
    {
     "cell_type": "code",
     "collapsed": false,
     "input": [
      "import re\n",
      "\n",
      "comment = re.compile(r'/\\*(.*?)\\*/')\n",
      "text1 = '/* this is a comment */'\n",
      "text2 = '''/* this is a\n",
      "              multiline comment */\n",
      "'''\n",
      "comment.findall(text1)"
     ],
     "language": "python",
     "metadata": {},
     "outputs": [
      {
       "metadata": {},
       "output_type": "pyout",
       "prompt_number": 1,
       "text": [
        "[' this is a comment ']"
       ]
      }
     ],
     "prompt_number": 1
    },
    {
     "cell_type": "code",
     "collapsed": false,
     "input": [
      "comment.findall(text2)"
     ],
     "language": "python",
     "metadata": {},
     "outputs": [
      {
       "metadata": {},
       "output_type": "pyout",
       "prompt_number": 2,
       "text": [
        "[]"
       ]
      }
     ],
     "prompt_number": 2
    },
    {
     "cell_type": "code",
     "collapsed": false,
     "input": [
      "comment = re.compile(r'/\\*((?:.|\\n)*?)\\*/')\n",
      "comment.findall(text2)"
     ],
     "language": "python",
     "metadata": {},
     "outputs": [
      {
       "metadata": {},
       "output_type": "pyout",
       "prompt_number": 3,
       "text": [
        "[' this is a\\n              multiline comment ']"
       ]
      }
     ],
     "prompt_number": 3
    },
    {
     "cell_type": "markdown",
     "metadata": {},
     "source": [
      "In this pattern, `(?:.|\\n)` specifies a noncapture group (i.e., it defines a group for the\n",
      "purposes of matching, but that group is not captured separately or numbered)."
     ]
    },
    {
     "cell_type": "markdown",
     "metadata": {},
     "source": [
      "# Discussion\n",
      "The `re.compile()` function accepts a flag, `re.DOTALL`, which is useful here. It makes\n",
      "the `.` in a regular expression match all characters, including newlines. For example:"
     ]
    },
    {
     "cell_type": "code",
     "collapsed": false,
     "input": [
      "comment = re.compile(r'/\\*(.*?)\\*/', re.DOTALL)\n",
      "comment.findall(text2)"
     ],
     "language": "python",
     "metadata": {},
     "outputs": [
      {
       "metadata": {},
       "output_type": "pyout",
       "prompt_number": 4,
       "text": [
        "[' this is a\\n              multiline comment ']"
       ]
      }
     ],
     "prompt_number": 4
    },
    {
     "cell_type": "markdown",
     "metadata": {},
     "source": [
      "Using the `re.DOTALL` flag works fine for simple cases, but might be problematic if you\u2019re\n",
      "working with extremely complicated patterns or a mix of separate regular expressions\n",
      "that have been combined together for the purpose of tokenizing, as described in\n",
      "Recipe 2.18. If given a choice, it\u2019s usually better to define your regular expression pattern\n",
      "so that it works correctly without the need for extra flags."
     ]
    }
   ],
   "metadata": {}
  }
 ]
}