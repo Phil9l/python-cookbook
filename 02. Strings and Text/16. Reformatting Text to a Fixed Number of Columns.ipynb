{
 "metadata": {
  "name": ""
 },
 "nbformat": 3,
 "nbformat_minor": 0,
 "worksheets": [
  {
   "cells": [
    {
     "cell_type": "heading",
     "level": 1,
     "metadata": {},
     "source": [
      "2.16. Reformatting Text to a Fixed Number of Columns"
     ]
    },
    {
     "cell_type": "markdown",
     "metadata": {},
     "source": [
      "# Problem\n",
      "You have long strings that you want to reformat so that they fill a user-specified number\n",
      "of columns.\n",
      "\n",
      "# Solution\n",
      "Use the `textwrap` module to reformat text for output. For example, suppose you have\n",
      "the following long string:"
     ]
    },
    {
     "cell_type": "code",
     "collapsed": false,
     "input": [
      "s = \"Look into my eyes, look into my eyes, the eyes, the eyes, \\\n",
      "the eyes, not around the eyes, don't look around the eyes, \\\n",
      "look into my eyes, you're under.\""
     ],
     "language": "python",
     "metadata": {},
     "outputs": [],
     "prompt_number": 1
    },
    {
     "cell_type": "markdown",
     "metadata": {},
     "source": [
      "Here\u2019s how you can use the textwrap module to reformat it in various ways:"
     ]
    },
    {
     "cell_type": "code",
     "collapsed": false,
     "input": [
      "import textwrap\n",
      "print(textwrap.fill(s, 70))"
     ],
     "language": "python",
     "metadata": {},
     "outputs": [
      {
       "output_type": "stream",
       "stream": "stdout",
       "text": [
        "Look into my eyes, look into my eyes, the eyes, the eyes, the eyes,\n",
        "not around the eyes, don't look around the eyes, look into my eyes,\n",
        "you're under.\n"
       ]
      }
     ],
     "prompt_number": 2
    },
    {
     "cell_type": "code",
     "collapsed": false,
     "input": [
      "print(textwrap.fill(s, 40))"
     ],
     "language": "python",
     "metadata": {},
     "outputs": [
      {
       "output_type": "stream",
       "stream": "stdout",
       "text": [
        "Look into my eyes, look into my eyes,\n",
        "the eyes, the eyes, the eyes, not around\n",
        "the eyes, don't look around the eyes,\n",
        "look into my eyes, you're under.\n"
       ]
      }
     ],
     "prompt_number": 3
    },
    {
     "cell_type": "code",
     "collapsed": false,
     "input": [
      "print(textwrap.fill(s, 40, initial_indent=' '))"
     ],
     "language": "python",
     "metadata": {},
     "outputs": [
      {
       "output_type": "stream",
       "stream": "stdout",
       "text": [
        " Look into my eyes, look into my eyes,\n",
        "the eyes, the eyes, the eyes, not around\n",
        "the eyes, don't look around the eyes,\n",
        "look into my eyes, you're under.\n"
       ]
      }
     ],
     "prompt_number": 4
    },
    {
     "cell_type": "code",
     "collapsed": false,
     "input": [
      "print(textwrap.fill(s, 40, subsequent_indent=' '))"
     ],
     "language": "python",
     "metadata": {},
     "outputs": [
      {
       "output_type": "stream",
       "stream": "stdout",
       "text": [
        "Look into my eyes, look into my eyes,\n",
        " the eyes, the eyes, the eyes, not\n",
        " around the eyes, don't look around the\n",
        " eyes, look into my eyes, you're under.\n"
       ]
      }
     ],
     "prompt_number": 5
    },
    {
     "cell_type": "markdown",
     "metadata": {},
     "source": [
      "# Discussion\n",
      "The `textwrap` module is a straightforward way to clean up text for printing\u2014especially\n",
      "if you want the output to fit nicely on the terminal. On the subject of the terminal size,\n",
      "you can obtain it using `os.get_terminal_size()`. For example:"
     ]
    },
    {
     "cell_type": "code",
     "collapsed": false,
     "input": [
      "import os\n",
      "os.get_terminal_size().columns"
     ],
     "language": "python",
     "metadata": {},
     "outputs": [
      {
       "metadata": {},
       "output_type": "pyout",
       "prompt_number": 6,
       "text": [
        "80"
       ]
      }
     ],
     "prompt_number": 6
    },
    {
     "cell_type": "markdown",
     "metadata": {},
     "source": [
      "The `fill()` method has a few additional options that control how it handles tabs, sen\u2010\n",
      "tence endings, and so on. Look at the documentation for the textwrap.TextWrapper\n",
      "class for further details."
     ]
    }
   ],
   "metadata": {}
  }
 ]
}