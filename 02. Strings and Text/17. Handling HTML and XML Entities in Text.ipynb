{
 "metadata": {
  "name": ""
 },
 "nbformat": 3,
 "nbformat_minor": 0,
 "worksheets": [
  {
   "cells": [
    {
     "cell_type": "heading",
     "level": 1,
     "metadata": {},
     "source": [
      "2.17. Handling HTML and XML Entities in Text"
     ]
    },
    {
     "cell_type": "markdown",
     "metadata": {},
     "source": [
      "# Problem\n",
      "You want to replace HTML or XML entities such as `&entity;` or `&#code;` with their\n",
      "corresponding text. Alternatively, you need to produce text, but escape certain characters \n",
      "(e.g., `<`, `>`, or `&`).\n",
      "\n",
      "# Solution\n",
      "If you are producing text, replacing special characters such as `<` or `>` is relatively easy if\n",
      "you use the `html.escape()` function. For example:"
     ]
    },
    {
     "cell_type": "code",
     "collapsed": false,
     "input": [
      "s = 'Elements are written as \"<tag>text</tag>\".'\n",
      "import html\n",
      "print(s)"
     ],
     "language": "python",
     "metadata": {},
     "outputs": [
      {
       "output_type": "stream",
       "stream": "stdout",
       "text": [
        "Elements are written as \"<tag>text</tag>\".\n"
       ]
      }
     ],
     "prompt_number": 1
    },
    {
     "cell_type": "code",
     "collapsed": false,
     "input": [
      "print(html.escape(s))"
     ],
     "language": "python",
     "metadata": {},
     "outputs": [
      {
       "output_type": "stream",
       "stream": "stdout",
       "text": [
        "Elements are written as &quot;&lt;tag&gt;text&lt;/tag&gt;&quot;.\n"
       ]
      }
     ],
     "prompt_number": 2
    },
    {
     "cell_type": "code",
     "collapsed": false,
     "input": [
      "# Disable escaping of quotes\n",
      "print(html.escape(s, quote=False))"
     ],
     "language": "python",
     "metadata": {},
     "outputs": [
      {
       "output_type": "stream",
       "stream": "stdout",
       "text": [
        "Elements are written as \"&lt;tag&gt;text&lt;/tag&gt;\".\n"
       ]
      }
     ],
     "prompt_number": 3
    },
    {
     "cell_type": "markdown",
     "metadata": {},
     "source": [
      "If you\u2019re trying to emit text as ASCII and want to embed character code entities for non-ASCII\n",
      "characters, you can use the `errors='xmlcharrefreplace'` argument to various\n",
      "I/O-related functions to do it. For example:"
     ]
    },
    {
     "cell_type": "code",
     "collapsed": false,
     "input": [
      "s = 'Spicy Jalape\u00f1o'\n",
      "s.encode('ascii', errors='xmlcharrefreplace')"
     ],
     "language": "python",
     "metadata": {},
     "outputs": [
      {
       "metadata": {},
       "output_type": "pyout",
       "prompt_number": 4,
       "text": [
        "b'Spicy Jalape&#241;o'"
       ]
      }
     ],
     "prompt_number": 4
    },
    {
     "cell_type": "markdown",
     "metadata": {},
     "source": [
      "To replace entities in text, a different approach is needed. If you\u2019re actually processing\n",
      "HTML or XML, try using a proper HTML or XML parser first. Normally, these tools\n",
      "will automatically take care of replacing the values for you during parsing and you don\u2019t\n",
      "need to worry about it.\n",
      "\n",
      "If, for some reason, you\u2019ve received bare text with some entities in it and you want them\n",
      "replaced manually, you can usually do it using various utility functions/methods asso\u2010\n",
      "ciated with HTML or XML parsers. For example:"
     ]
    },
    {
     "cell_type": "code",
     "collapsed": false,
     "input": [
      "s = 'Spicy &quot;Jalape&#241;o&quot.'\n",
      "from html.parser import HTMLParser\n",
      "p = HTMLParser()\n",
      "p.unescape(s)"
     ],
     "language": "python",
     "metadata": {},
     "outputs": [
      {
       "metadata": {},
       "output_type": "pyout",
       "prompt_number": 5,
       "text": [
        "'Spicy \"Jalape\u00f1o\".'"
       ]
      }
     ],
     "prompt_number": 5
    },
    {
     "cell_type": "code",
     "collapsed": false,
     "input": [
      "t = 'The prompt is &gt;&gt;&gt;'\n",
      "from xml.sax.saxutils import unescape\n",
      "unescape(t)"
     ],
     "language": "python",
     "metadata": {},
     "outputs": [
      {
       "metadata": {},
       "output_type": "pyout",
       "prompt_number": 6,
       "text": [
        "'The prompt is >>>'"
       ]
      }
     ],
     "prompt_number": 6
    },
    {
     "cell_type": "markdown",
     "metadata": {},
     "source": [
      "# Discussion\n",
      "Proper escaping of special characters is an easily overlooked detail of generating HTML\n",
      "or XML. This is especially true if you\u2019re generating such output yourself using `print()`\n",
      "or other basic string formatting features. Using a utility function such as \n",
      "`html.escape()` is an easy solution.\n",
      "\n",
      "If you need to process text in the other direction, various utility functions, such as\n",
      "`xml.sax.saxutils.unescape()`, can help. However, you really need to investigate the\n",
      "use of a proper parser. For example, if processing HTML or XML, using a parsing mod\u2010\n",
      "ule such as `html.parser` or `xml.etree.ElementTree` should already take care of details\n",
      "related to replacing entities in the input text for you."
     ]
    }
   ],
   "metadata": {}
  }
 ]
}