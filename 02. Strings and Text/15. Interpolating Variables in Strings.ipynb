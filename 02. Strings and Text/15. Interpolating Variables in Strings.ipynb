{
 "metadata": {
  "name": ""
 },
 "nbformat": 3,
 "nbformat_minor": 0,
 "worksheets": [
  {
   "cells": [
    {
     "cell_type": "heading",
     "level": 1,
     "metadata": {},
     "source": [
      "2.15. Interpolating Variables in Strings"
     ]
    },
    {
     "cell_type": "markdown",
     "metadata": {},
     "source": [
      "# Problem\n",
      "You want to create a string in which embedded variable names are substituted with a\n",
      "string representation of a variable\u2019s value.\n",
      "\n",
      "# Solution\n",
      "Python has no direct support for simply substituting variable values in strings. However,\n",
      "this feature can be approximated using the `format()` method of strings. For example:"
     ]
    },
    {
     "cell_type": "code",
     "collapsed": false,
     "input": [
      "s = '{name} has {n} messages.'\n",
      "s.format(name='Guido', n=37)"
     ],
     "language": "python",
     "metadata": {},
     "outputs": [
      {
       "metadata": {},
       "output_type": "pyout",
       "prompt_number": 1,
       "text": [
        "'Guido has 37 messages.'"
       ]
      }
     ],
     "prompt_number": 1
    },
    {
     "cell_type": "markdown",
     "metadata": {},
     "source": [
      "Alternatively, if the values to be substituted are truly found in variables, you can use the\n",
      "combination of `format_map()` and `vars()`, as in the following:"
     ]
    },
    {
     "cell_type": "code",
     "collapsed": false,
     "input": [
      "name = 'Guido'\n",
      "n = 37\n",
      "s.format_map(vars())"
     ],
     "language": "python",
     "metadata": {},
     "outputs": [
      {
       "metadata": {},
       "output_type": "pyout",
       "prompt_number": 2,
       "text": [
        "'Guido has 37 messages.'"
       ]
      }
     ],
     "prompt_number": 2
    },
    {
     "cell_type": "markdown",
     "metadata": {},
     "source": [
      "One subtle feature of `vars()` is that it also works with instances. For example:"
     ]
    },
    {
     "cell_type": "code",
     "collapsed": false,
     "input": [
      "class Info:\n",
      "    def __init__(self, name, n):\n",
      "        self.name = name\n",
      "        self.n = n\n",
      "\n",
      "a = Info('Guido', 37)\n",
      "s.format_map(vars(a))"
     ],
     "language": "python",
     "metadata": {},
     "outputs": [
      {
       "metadata": {},
       "output_type": "pyout",
       "prompt_number": 3,
       "text": [
        "'Guido has 37 messages.'"
       ]
      }
     ],
     "prompt_number": 3
    },
    {
     "cell_type": "markdown",
     "metadata": {},
     "source": [
      "One downside of `format()` and `format_map()` is that they do not deal gracefully with\n",
      "missing values. For example:"
     ]
    },
    {
     "cell_type": "code",
     "collapsed": false,
     "input": [
      "s.format(name='Guido')"
     ],
     "language": "python",
     "metadata": {},
     "outputs": [
      {
       "ename": "KeyError",
       "evalue": "'n'",
       "output_type": "pyerr",
       "traceback": [
        "\u001b[0;31m---------------------------------------------------------------------------\u001b[0m\n\u001b[0;31mKeyError\u001b[0m                                  Traceback (most recent call last)",
        "\u001b[0;32m<ipython-input-4-dac1742a40f0>\u001b[0m in \u001b[0;36m<module>\u001b[0;34m()\u001b[0m\n\u001b[0;32m----> 1\u001b[0;31m \u001b[0ms\u001b[0m\u001b[0;34m.\u001b[0m\u001b[0mformat\u001b[0m\u001b[0;34m(\u001b[0m\u001b[0mname\u001b[0m\u001b[0;34m=\u001b[0m\u001b[0;34m'Guido'\u001b[0m\u001b[0;34m)\u001b[0m\u001b[0;34m\u001b[0m\u001b[0m\n\u001b[0m",
        "\u001b[0;31mKeyError\u001b[0m: 'n'"
       ]
      }
     ],
     "prompt_number": 4
    },
    {
     "cell_type": "markdown",
     "metadata": {},
     "source": [
      "One way to avoid this is to define an alternative dictionary class with a \n",
      "`__missing__()` method, as in the following:"
     ]
    },
    {
     "cell_type": "code",
     "collapsed": false,
     "input": [
      "class safesub(dict):\n",
      "    def __missing__(self, key):\n",
      "        return '{' + key + '}'"
     ],
     "language": "python",
     "metadata": {},
     "outputs": [],
     "prompt_number": 5
    },
    {
     "cell_type": "markdown",
     "metadata": {},
     "source": [
      "Now use this class to wrap the inputs to `format_map()`:"
     ]
    },
    {
     "cell_type": "code",
     "collapsed": false,
     "input": [
      "del n  # Make sure n is undefined\n",
      "s.format_map(safesub(vars()))"
     ],
     "language": "python",
     "metadata": {},
     "outputs": [
      {
       "metadata": {},
       "output_type": "pyout",
       "prompt_number": 6,
       "text": [
        "'Guido has {n} messages.'"
       ]
      }
     ],
     "prompt_number": 6
    },
    {
     "cell_type": "markdown",
     "metadata": {},
     "source": [
      "If you find yourself frequently performing these steps in your code, you could hide the\n",
      "variable substitution process behind a small utility function that employs a so-called\n",
      "\u201cframe hack.\u201d For example:"
     ]
    },
    {
     "cell_type": "code",
     "collapsed": false,
     "input": [
      "import sys\n",
      "\n",
      "def sub(text):\n",
      "    return text.format_map(safesub(sys._getframe(1).f_locals))"
     ],
     "language": "python",
     "metadata": {},
     "outputs": [],
     "prompt_number": 7
    },
    {
     "cell_type": "markdown",
     "metadata": {},
     "source": [
      "Now you can type things like this:"
     ]
    },
    {
     "cell_type": "code",
     "collapsed": false,
     "input": [
      "name = 'Guido'\n",
      "n = 37\n",
      "print(sub('Hello {name}'))"
     ],
     "language": "python",
     "metadata": {},
     "outputs": [
      {
       "output_type": "stream",
       "stream": "stdout",
       "text": [
        "Hello Guido\n"
       ]
      }
     ],
     "prompt_number": 8
    },
    {
     "cell_type": "code",
     "collapsed": false,
     "input": [
      "print(sub('You have {n} messages.'))"
     ],
     "language": "python",
     "metadata": {},
     "outputs": [
      {
       "output_type": "stream",
       "stream": "stdout",
       "text": [
        "You have 37 messages.\n"
       ]
      }
     ],
     "prompt_number": 9
    },
    {
     "cell_type": "code",
     "collapsed": false,
     "input": [
      "print(sub('Your favorite color is {color}'))"
     ],
     "language": "python",
     "metadata": {},
     "outputs": [
      {
       "output_type": "stream",
       "stream": "stdout",
       "text": [
        "Your favorite color is {color}\n"
       ]
      }
     ],
     "prompt_number": 10
    },
    {
     "cell_type": "markdown",
     "metadata": {},
     "source": [
      "# Discussion\n",
      "The lack of true variable interpolation in Python has led to a variety of solutions over\n",
      "the years. As an alternative to the solution presented in this recipe, you will sometimes\n",
      "see string formatting like this:"
     ]
    },
    {
     "cell_type": "code",
     "collapsed": false,
     "input": [
      "name = 'Guido'\n",
      "n = 37\n",
      "'%(name)s has %(n)s messages.' % vars()"
     ],
     "language": "python",
     "metadata": {},
     "outputs": [
      {
       "metadata": {},
       "output_type": "pyout",
       "prompt_number": 11,
       "text": [
        "'Guido has 37 messages.'"
       ]
      }
     ],
     "prompt_number": 11
    },
    {
     "cell_type": "markdown",
     "metadata": {},
     "source": [
      "You may also see the use of template strings:"
     ]
    },
    {
     "cell_type": "code",
     "collapsed": false,
     "input": [
      "import string\n",
      "s = string.Template('$name has $n messages.')\n",
      "s.substitute(vars())"
     ],
     "language": "python",
     "metadata": {},
     "outputs": [
      {
       "metadata": {},
       "output_type": "pyout",
       "prompt_number": 12,
       "text": [
        "'Guido has 37 messages.'"
       ]
      }
     ],
     "prompt_number": 12
    },
    {
     "cell_type": "markdown",
     "metadata": {},
     "source": [
      "However, the `format()` and `format_map()` methods are more modern than either of\n",
      "these alternatives, and should be preferred. One benefit of using `format()` is that you\n",
      "also get all of the features related to string formatting (alignment, padding, numerical\n",
      "formatting, etc.), which is simply not possible with alternatives such as `Template` string\n",
      "objects.\n",
      "\n",
      "Parts of this recipe also illustrate a few interesting advanced features. The little-known\n",
      "`__missing__()` method of mapping/dict classes is a method that you can define to\n",
      "handle missing values. In the `safesub` class, this method has been defined to return\n",
      "missing values back as a placeholder. Instead of getting a `KeyError` exception, you\n",
      "would see the missing values appearing in the resulting string (potentially useful for\n",
      "debugging).\n",
      "\n",
      "The `sub()` function uses `sys._getframe(1)` to return the stack frame of the caller. From\n",
      "that, the `f_locals` attribute is accessed to get the local variables. It goes without saying\n",
      "that messing around with stack frames should probably be avoided in most code. How\u2010\n",
      "ever, for utility functions such as a string substitution feature, it can be useful. As an\n",
      "aside, it\u2019s probably worth noting that `f_locals` is a dictionary that is a copy of the local\n",
      "variables in the calling function. Although you can modify the contents of `f_locals`,\n",
      "the modifications don\u2019t actually have any lasting effect. Thus, even though accessing a\n",
      "different stack frame might look evil, it\u2019s not possible to accidentally overwrite variables\n",
      "or change the local environment of the caller."
     ]
    }
   ],
   "metadata": {}
  }
 ]
}