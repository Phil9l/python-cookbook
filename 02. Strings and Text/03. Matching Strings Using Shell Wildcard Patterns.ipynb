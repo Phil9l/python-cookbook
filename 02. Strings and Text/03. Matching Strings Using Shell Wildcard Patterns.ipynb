{
 "metadata": {
  "name": ""
 },
 "nbformat": 3,
 "nbformat_minor": 0,
 "worksheets": [
  {
   "cells": [
    {
     "cell_type": "heading",
     "level": 1,
     "metadata": {},
     "source": [
      "2.3. Matching Strings Using Shell Wildcard Patterns"
     ]
    },
    {
     "cell_type": "markdown",
     "metadata": {},
     "source": [
      "# Problem\n",
      "You want to match text using the same wildcard patterns as are commonly used when\n",
      "working in Unix shells (e.g., `*.py`, `Dat[0-9]*.csv`, etc.).\n",
      "\n",
      "# Solution\n",
      "The fnmatch module provides two functions \u2014 `fnmatch()` and `fnmatchcase()` \u2014 that\n",
      "can be used to perform such matching. The usage is simple:"
     ]
    },
    {
     "cell_type": "code",
     "collapsed": false,
     "input": [
      "from fnmatch import fnmatch, fnmatchcase\n",
      "fnmatch('foo.txt', '*.txt')"
     ],
     "language": "python",
     "metadata": {},
     "outputs": [
      {
       "metadata": {},
       "output_type": "pyout",
       "prompt_number": 1,
       "text": [
        "True"
       ]
      }
     ],
     "prompt_number": 1
    },
    {
     "cell_type": "code",
     "collapsed": false,
     "input": [
      "fnmatch('foo.txt', '?oo.txt')"
     ],
     "language": "python",
     "metadata": {},
     "outputs": [
      {
       "metadata": {},
       "output_type": "pyout",
       "prompt_number": 2,
       "text": [
        "True"
       ]
      }
     ],
     "prompt_number": 2
    },
    {
     "cell_type": "code",
     "collapsed": false,
     "input": [
      "fnmatch('Dat45.csv', 'Dat[0-9]*')"
     ],
     "language": "python",
     "metadata": {},
     "outputs": [
      {
       "metadata": {},
       "output_type": "pyout",
       "prompt_number": 3,
       "text": [
        "True"
       ]
      }
     ],
     "prompt_number": 3
    },
    {
     "cell_type": "code",
     "collapsed": false,
     "input": [
      "names = ['Dat1.csv', 'Dat2.csv', 'config.ini', 'foo.py']\n",
      "[name for name in names if fnmatch(name, 'Dat*.csv')]"
     ],
     "language": "python",
     "metadata": {},
     "outputs": [
      {
       "metadata": {},
       "output_type": "pyout",
       "prompt_number": 4,
       "text": [
        "['Dat1.csv', 'Dat2.csv']"
       ]
      }
     ],
     "prompt_number": 4
    },
    {
     "cell_type": "markdown",
     "metadata": {},
     "source": [
      "Normally, `fnmatch()` matches patterns using the same case-sensitivity rules as the system\u2019s \n",
      "underlying filesystem (which varies based on operating system). For example:"
     ]
    },
    {
     "cell_type": "code",
     "collapsed": false,
     "input": [
      "# On OS X (Mac)\n",
      "fnmatch('foo.txt', '*.TXT')"
     ],
     "language": "python",
     "metadata": {},
     "outputs": [
      {
       "metadata": {},
       "output_type": "pyout",
       "prompt_number": 5,
       "text": [
        "False"
       ]
      }
     ],
     "prompt_number": 5
    },
    {
     "cell_type": "code",
     "collapsed": false,
     "input": [
      "# On Windows\n",
      "fnmatch('foo.txt', '*.TXT')"
     ],
     "language": "python",
     "metadata": {},
     "outputs": [
      {
       "metadata": {},
       "output_type": "pyout",
       "prompt_number": 6,
       "text": [
        "True"
       ]
      }
     ],
     "prompt_number": 6
    },
    {
     "cell_type": "markdown",
     "metadata": {},
     "source": [
      "If this distinction matters, use `fnmatchcase()` instead. It matches exactly based on the\n",
      "lower- and uppercase conventions that you supply:"
     ]
    },
    {
     "cell_type": "code",
     "collapsed": false,
     "input": [
      "fnmatchcase('foo.txt', '*.TXT')"
     ],
     "language": "python",
     "metadata": {},
     "outputs": [
      {
       "metadata": {},
       "output_type": "pyout",
       "prompt_number": 7,
       "text": [
        "False"
       ]
      }
     ],
     "prompt_number": 7
    },
    {
     "cell_type": "markdown",
     "metadata": {},
     "source": [
      "An often overlooked feature of these functions is their potential use with data processing\n",
      "of nonfilename strings. For example, suppose you have a list of street addresses like this:"
     ]
    },
    {
     "cell_type": "code",
     "collapsed": false,
     "input": [
      "addresses = [\n",
      "    '5412 N CLARK ST',\n",
      "    '1060 W ADDISON ST',\n",
      "    '1039 W GRANVILLE AVE',\n",
      "    '2122 N CLARK ST',\n",
      "    '4802 N BROADWAY',\n",
      "]"
     ],
     "language": "python",
     "metadata": {},
     "outputs": [],
     "prompt_number": 8
    },
    {
     "cell_type": "markdown",
     "metadata": {},
     "source": [
      "You could write list comprehensions like this:"
     ]
    },
    {
     "cell_type": "code",
     "collapsed": false,
     "input": [
      "from fnmatch import fnmatchcase\n",
      "[addr for addr in addresses if fnmatchcase(addr, '* ST')]"
     ],
     "language": "python",
     "metadata": {},
     "outputs": [
      {
       "metadata": {},
       "output_type": "pyout",
       "prompt_number": 9,
       "text": [
        "['5412 N CLARK ST', '1060 W ADDISON ST', '2122 N CLARK ST']"
       ]
      }
     ],
     "prompt_number": 9
    },
    {
     "cell_type": "code",
     "collapsed": false,
     "input": [
      "[addr for addr in addresses if fnmatchcase(addr, '54[0-9][0-9] *CLARK*')]"
     ],
     "language": "python",
     "metadata": {},
     "outputs": [
      {
       "metadata": {},
       "output_type": "pyout",
       "prompt_number": 10,
       "text": [
        "['5412 N CLARK ST']"
       ]
      }
     ],
     "prompt_number": 10
    },
    {
     "cell_type": "markdown",
     "metadata": {},
     "source": [
      "# Discussion\n",
      "The matching performed by `fnmatch` sits somewhere between the functionality of simple \n",
      "string methods and the full power of regular expressions. If you\u2019re just trying to\n",
      "provide a simple mechanism for allowing wildcards in data processing operations, it\u2019s\n",
      "often a reasonable solution.\n",
      "\n",
      "If you\u2019re actually trying to write code that matches filenames, use the `glob` module\n",
      "instead. See Recipe 5.13."
     ]
    }
   ],
   "metadata": {}
  }
 ]
}