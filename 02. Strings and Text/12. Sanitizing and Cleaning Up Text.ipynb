{
 "metadata": {
  "name": ""
 },
 "nbformat": 3,
 "nbformat_minor": 0,
 "worksheets": [
  {
   "cells": [
    {
     "cell_type": "heading",
     "level": 1,
     "metadata": {},
     "source": [
      "2.12. Sanitizing and Cleaning Up Text"
     ]
    },
    {
     "cell_type": "markdown",
     "metadata": {},
     "source": [
      "# Problem\n",
      "Some bored script kiddie has entered the text \u201cp\u00fdt\u0125\u00f6\u00f1\u201d into a form on your web page\n",
      "and you\u2019d like to clean it up somehow.\n",
      "\n",
      "# Solution\n",
      "The problem of sanitizing and cleaning up text applies to a wide variety of problems\n",
      "involving text parsing and data handling. At a very simple level, you might use basic\n",
      "string functions (e.g., `str.upper()` and `str.lower()`) to convert text to a standard case.\n",
      "Simple replacements using `str.replace()` or `re.sub()` can focus on removing or\n",
      "changing very specific character sequences. You can also normalize text using unicode\n",
      "`data.normalize()`, as shown in Recipe 2.9.\n",
      "\n",
      "However, you might want to take the sanitation process a step further. Perhaps, for\n",
      "example, you want to eliminate whole ranges of characters or strip diacritical marks. To\n",
      "do so, you can turn to the often overlooked `str.translate()` method. To illustrate,\n",
      "suppose you\u2019ve got a messy string such as the following:"
     ]
    },
    {
     "cell_type": "code",
     "collapsed": false,
     "input": [
      "s = 'p\u00fdt\u0125\u00f6\u00f1\\fis\\tawesome\\r\\n'\n",
      "s"
     ],
     "language": "python",
     "metadata": {},
     "outputs": [
      {
       "metadata": {},
       "output_type": "pyout",
       "prompt_number": 1,
       "text": [
        "'p\u00fdt\u0125\u00f6\u00f1\\x0cis\\tawesome\\r\\n'"
       ]
      }
     ],
     "prompt_number": 1
    },
    {
     "cell_type": "markdown",
     "metadata": {},
     "source": [
      "The first step is to clean up the whitespace. To do this, make a small translation table\n",
      "and use `translate()`:"
     ]
    },
    {
     "cell_type": "code",
     "collapsed": false,
     "input": [
      " remap = {\n",
      "    ord('\\t') : ' ',\n",
      "    ord('\\f') : ' ',\n",
      "    ord('\\r') : None # Deleted\n",
      "}\n",
      "a = s.translate(remap)\n",
      "a"
     ],
     "language": "python",
     "metadata": {},
     "outputs": [
      {
       "metadata": {},
       "output_type": "pyout",
       "prompt_number": 2,
       "text": [
        "'p\u00fdt\u0125\u00f6\u00f1 is awesome\\n'"
       ]
      }
     ],
     "prompt_number": 2
    },
    {
     "cell_type": "markdown",
     "metadata": {},
     "source": [
      "As you can see here, whitespace characters such as `\\t` and `\\f` have been remapped to a\n",
      "single space. The carriage return `\\r` has been deleted entirely.\n",
      "\n",
      "You can take this remapping idea a step further and build much bigger tables. For example, \n",
      "let\u2019s remove all combining characters:"
     ]
    },
    {
     "cell_type": "code",
     "collapsed": false,
     "input": [
      "import unicodedata\n",
      "import sys\n",
      "cmb_chrs = dict.fromkeys(c for c in range(sys.maxunicode)\n",
      "                         if unicodedata.combining(chr(c)))\n",
      "\n",
      "b = unicodedata.normalize('NFD', a)\n",
      "b"
     ],
     "language": "python",
     "metadata": {},
     "outputs": [
      {
       "metadata": {},
       "output_type": "pyout",
       "prompt_number": 3,
       "text": [
        "'py\u0301th\u0302o\u0308n\u0303 is awesome\\n'"
       ]
      }
     ],
     "prompt_number": 3
    },
    {
     "cell_type": "code",
     "collapsed": false,
     "input": [
      "b.translate(cmb_chrs)"
     ],
     "language": "python",
     "metadata": {},
     "outputs": [
      {
       "metadata": {},
       "output_type": "pyout",
       "prompt_number": 4,
       "text": [
        "'python is awesome\\n'"
       ]
      }
     ],
     "prompt_number": 4
    },
    {
     "cell_type": "markdown",
     "metadata": {},
     "source": [
      "In this last example, a dictionary mapping every Unicode combining character to `None`\n",
      "is created using the `dict.fromkeys()`.\n",
      "\n",
      "The original input is then normalized into a decomposed form using `unicodedata.normalize()`. \n",
      "From there, the translate function is used to delete all of the accents. Similar\n",
      "techniques can be used to remove other kinds of characters (e.g., control characters,\n",
      "etc.).\n",
      "\n",
      "As another example, here is a translation table that maps all Unicode decimal digit\n",
      "characters to their equivalent in ASCII:"
     ]
    },
    {
     "cell_type": "code",
     "collapsed": false,
     "input": [
      "digitmap = {c: ord('0') + unicodedata.digit(chr(c))\n",
      "            for c in range(sys.maxunicode)\n",
      "            if unicodedata.category(chr(c)) == 'Nd'}\n",
      "len(digitmap)"
     ],
     "language": "python",
     "metadata": {},
     "outputs": [
      {
       "metadata": {},
       "output_type": "pyout",
       "prompt_number": 5,
       "text": [
        "460"
       ]
      }
     ],
     "prompt_number": 5
    },
    {
     "cell_type": "code",
     "collapsed": false,
     "input": [
      "# Arabic digits\n",
      "x = '\\u0661\\u0662\\u0663'\n",
      "x.translate(digitmap)"
     ],
     "language": "python",
     "metadata": {},
     "outputs": [
      {
       "metadata": {},
       "output_type": "pyout",
       "prompt_number": 6,
       "text": [
        "'123'"
       ]
      }
     ],
     "prompt_number": 6
    },
    {
     "cell_type": "markdown",
     "metadata": {},
     "source": [
      "Yet another technique for cleaning up text involves I/O decoding and encoding functions. \n",
      "The idea here is to first do some preliminary cleanup of the text, and then run it\n",
      "through a combination of `encode()` or `decode()` operations to strip or alter it. For\n",
      "example:"
     ]
    },
    {
     "cell_type": "code",
     "collapsed": false,
     "input": [
      "a"
     ],
     "language": "python",
     "metadata": {},
     "outputs": [
      {
       "metadata": {},
       "output_type": "pyout",
       "prompt_number": 7,
       "text": [
        "'p\u00fdt\u0125\u00f6\u00f1 is awesome\\n'"
       ]
      }
     ],
     "prompt_number": 7
    },
    {
     "cell_type": "code",
     "collapsed": false,
     "input": [
      "b = unicodedata.normalize('NFD', a)\n",
      "b.encode('ascii', 'ignore').decode('ascii')"
     ],
     "language": "python",
     "metadata": {},
     "outputs": [
      {
       "metadata": {},
       "output_type": "pyout",
       "prompt_number": 8,
       "text": [
        "'python is awesome\\n'"
       ]
      }
     ],
     "prompt_number": 8
    },
    {
     "cell_type": "markdown",
     "metadata": {},
     "source": [
      "Here the normalization process decomposed the original text into characters along with\n",
      "separate combining characters. The subsequent ASCII encoding/decoding simply discarded \n",
      "all of those characters in one fell swoop. Naturally, this would only work if getting\n",
      "an ASCII representation was the final goal."
     ]
    },
    {
     "cell_type": "markdown",
     "metadata": {},
     "source": [
      "# Discussion\n",
      "A major issue with sanitizing text can be runtime performance. As a general rule, the\n",
      "simpler it is, the faster it will run. For simple replacements, the `str.replace()` method\n",
      "is often the fastest approach\u2014even if you have to call it multiple times. For instance, to\n",
      "clean up whitespace, you could use code like this:\n",
      "```python\n",
      "def clean_spaces(s):\n",
      "    s = s.replace('\\r', '')\n",
      "    s = s.replace('\\t', ' ')\n",
      "    s = s.replace('\\f', ' ')\n",
      "    return s\n",
      "```\n",
      "\n",
      "If you try it, you\u2019ll find that it\u2019s quite a bit faster than using `translate()` or an approach\n",
      "using a regular expression.\n",
      "\n",
      "On the other hand, the `translate()` method is very fast if you need to perform any\n",
      "kind of nontrivial character-to-character remapping or deletion.\n",
      "\n",
      "In the big picture, performance is something you will have to study further in your\n",
      "particular application. Unfortunately, it\u2019s impossible to suggest one specific technique\n",
      "that works best for all cases, so try different approaches and measure it.\n",
      "\n",
      "Although the focus of this recipe has been text, similar techniques can be applied to\n",
      "bytes, including simple replacements, translation, and regular expressions."
     ]
    }
   ],
   "metadata": {}
  }
 ]
}