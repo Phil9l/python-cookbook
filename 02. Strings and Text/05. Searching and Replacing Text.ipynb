{
 "metadata": {
  "name": ""
 },
 "nbformat": 3,
 "nbformat_minor": 0,
 "worksheets": [
  {
   "cells": [
    {
     "cell_type": "heading",
     "level": 1,
     "metadata": {},
     "source": [
      "2.5. Searching and Replacing Text"
     ]
    },
    {
     "cell_type": "markdown",
     "metadata": {},
     "source": [
      "# Problem\n",
      "You want to search for and replace a text pattern in a string.\n",
      "\n",
      "# Solution\n",
      "For simple literal patterns, use the `str.replace()` method. For example:"
     ]
    },
    {
     "cell_type": "code",
     "collapsed": false,
     "input": [
      "text = 'yeah, but no, but yeah, but no, but yeah'"
     ],
     "language": "python",
     "metadata": {},
     "outputs": [],
     "prompt_number": 1
    },
    {
     "cell_type": "code",
     "collapsed": false,
     "input": [
      "text.replace('yeah', 'yep')"
     ],
     "language": "python",
     "metadata": {},
     "outputs": [
      {
       "metadata": {},
       "output_type": "pyout",
       "prompt_number": 2,
       "text": [
        "'yep, but no, but yep, but no, but yep'"
       ]
      }
     ],
     "prompt_number": 2
    },
    {
     "cell_type": "markdown",
     "metadata": {},
     "source": [
      "For more complicated patterns, use the `sub()` functions/methods in the `re` module. To\n",
      "illustrate, suppose you want to rewrite dates of the form \u201c11/27/2012\u201d as \u201c2012-11-27.\u201d\n",
      "Here is a sample of how to do it:"
     ]
    },
    {
     "cell_type": "code",
     "collapsed": false,
     "input": [
      "text = 'Today is 11/27/2012. PyCon starts 3/13/2013.'\n",
      "import re\n",
      "re.sub(r'(\\d+)/(\\d+)/(\\d+)', r'\\3-\\1-\\2', text)"
     ],
     "language": "python",
     "metadata": {},
     "outputs": [
      {
       "metadata": {},
       "output_type": "pyout",
       "prompt_number": 3,
       "text": [
        "'Today is 2012-11-27. PyCon starts 2013-3-13.'"
       ]
      }
     ],
     "prompt_number": 3
    },
    {
     "cell_type": "markdown",
     "metadata": {},
     "source": [
      "The first argument to `sub()` is the pattern to match and the second argument is the\n",
      "replacement pattern. Backslashed digits such as `\\3` refer to capture group numbers in\n",
      "the pattern.\n",
      "\n",
      "If you\u2019re going to perform repeated substitutions of the same pattern, consider compiling \n",
      "it first for better performance. For example:"
     ]
    },
    {
     "cell_type": "code",
     "collapsed": false,
     "input": [
      "import re\n",
      "datepat = re.compile(r'(\\d+)/(\\d+)/(\\d+)')\n",
      "datepat.sub(r'\\3-\\1-\\2', text)"
     ],
     "language": "python",
     "metadata": {},
     "outputs": [
      {
       "metadata": {},
       "output_type": "pyout",
       "prompt_number": 4,
       "text": [
        "'Today is 2012-11-27. PyCon starts 2013-3-13.'"
       ]
      }
     ],
     "prompt_number": 4
    },
    {
     "cell_type": "markdown",
     "metadata": {},
     "source": [
      "For more complicated substitutions, it\u2019s possible to specify a substitution callback func\u2010\n",
      "tion instead. For example:"
     ]
    },
    {
     "cell_type": "code",
     "collapsed": false,
     "input": [
      "from calendar import month_abbr\n",
      "def change_date(m):\n",
      "    mon_name = month_abbr[int(m.group(1))]\n",
      "    return '{} {} {}'.format(m.group(2), mon_name, m.group(3))\n",
      "\n",
      "datepat.sub(change_date, text)"
     ],
     "language": "python",
     "metadata": {},
     "outputs": [
      {
       "metadata": {},
       "output_type": "pyout",
       "prompt_number": 5,
       "text": [
        "'Today is 27 Nov 2012. PyCon starts 13 Mar 2013.'"
       ]
      }
     ],
     "prompt_number": 5
    },
    {
     "cell_type": "markdown",
     "metadata": {},
     "source": [
      "As input, the argument to the substitution callback is a match object, as returned by\n",
      "`match()` or `find()`. Use the `.group()` method to extract specific parts of the match. The\n",
      "function should return the replacement text.\n",
      "\n",
      "If you want to know how many substitutions were made in addition to getting the\n",
      "replacement text, use `re.subn()` instead. For example:"
     ]
    },
    {
     "cell_type": "code",
     "collapsed": false,
     "input": [
      "newtext, n = datepat.subn(r'\\3-\\1-\\2', text)\n",
      "newtext"
     ],
     "language": "python",
     "metadata": {},
     "outputs": [
      {
       "metadata": {},
       "output_type": "pyout",
       "prompt_number": 6,
       "text": [
        "'Today is 2012-11-27. PyCon starts 2013-3-13.'"
       ]
      }
     ],
     "prompt_number": 6
    },
    {
     "cell_type": "code",
     "collapsed": false,
     "input": [
      "n"
     ],
     "language": "python",
     "metadata": {},
     "outputs": [
      {
       "metadata": {},
       "output_type": "pyout",
       "prompt_number": 7,
       "text": [
        "2"
       ]
      }
     ],
     "prompt_number": 7
    },
    {
     "cell_type": "markdown",
     "metadata": {},
     "source": [
      "# Discussion\n",
      "There isn\u2019t much more to regular expression search and replace than the `sub()` method\n",
      "shown. The trickiest part is specifying the regular expression pattern\u2014something that\u2019s\n",
      "best left as an exercise to the reader. "
     ]
    }
   ],
   "metadata": {}
  }
 ]
}