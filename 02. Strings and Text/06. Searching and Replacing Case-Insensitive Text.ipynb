{
 "metadata": {
  "name": ""
 },
 "nbformat": 3,
 "nbformat_minor": 0,
 "worksheets": [
  {
   "cells": [
    {
     "cell_type": "heading",
     "level": 1,
     "metadata": {},
     "source": [
      "2.6. Searching and Replacing Case-Insensitive Text"
     ]
    },
    {
     "cell_type": "markdown",
     "metadata": {},
     "source": [
      "# Problem\n",
      "You need to search for and possibly replace text in a case-insensitive manner.\n",
      "\n",
      "# Solution\n",
      "To perform case-insensitive text operations, you need to use the `re` module and supply\n",
      "the `re.IGNORECASE` flag to various operations. For example:"
     ]
    },
    {
     "cell_type": "code",
     "collapsed": false,
     "input": [
      "import re\n",
      "\n",
      "text = 'UPPER PYTHON, lower python, Mixed Python'\n",
      "re.findall('python', text, flags=re.IGNORECASE)"
     ],
     "language": "python",
     "metadata": {},
     "outputs": [
      {
       "metadata": {},
       "output_type": "pyout",
       "prompt_number": 1,
       "text": [
        "['PYTHON', 'python', 'Python']"
       ]
      }
     ],
     "prompt_number": 1
    },
    {
     "cell_type": "code",
     "collapsed": false,
     "input": [
      "re.sub('python', 'snake', text, flags=re.IGNORECASE)"
     ],
     "language": "python",
     "metadata": {},
     "outputs": [
      {
       "metadata": {},
       "output_type": "pyout",
       "prompt_number": 2,
       "text": [
        "'UPPER snake, lower snake, Mixed snake'"
       ]
      }
     ],
     "prompt_number": 2
    },
    {
     "cell_type": "markdown",
     "metadata": {},
     "source": [
      "The last example reveals a limitation that replacing text won\u2019t match the case of the\n",
      "matched text. If you need to fix this, you might have to use a support function, as in the\n",
      "following:"
     ]
    },
    {
     "cell_type": "code",
     "collapsed": false,
     "input": [
      "def matchcase(word):\n",
      "    def replace(m):\n",
      "        text = m.group()\n",
      "        if text.isupper():\n",
      "            return word.upper()\n",
      "        elif text.islower():\n",
      "            return word.lower()\n",
      "        elif text[0].isupper():\n",
      "            return word.capitalize()\n",
      "        else:\n",
      "            return word\n",
      "    return replace"
     ],
     "language": "python",
     "metadata": {},
     "outputs": [],
     "prompt_number": 3
    },
    {
     "cell_type": "markdown",
     "metadata": {},
     "source": [
      "Here is an example of using this last function:"
     ]
    },
    {
     "cell_type": "code",
     "collapsed": false,
     "input": [
      "re.sub('python', matchcase('snake'), text, flags=re.IGNORECASE)"
     ],
     "language": "python",
     "metadata": {},
     "outputs": [
      {
       "metadata": {},
       "output_type": "pyout",
       "prompt_number": 4,
       "text": [
        "'UPPER SNAKE, lower snake, Mixed Snake'"
       ]
      }
     ],
     "prompt_number": 4
    },
    {
     "cell_type": "markdown",
     "metadata": {},
     "source": [
      "# Discussion\n",
      "For simple cases, simply providing the `re.IGNORECASE` is enough to perform caseinsensitive\n",
      "matching. However, be aware that this may not be enough for certain kinds\n",
      "of Unicode matching involving case folding. See Recipe 2.10 for more details"
     ]
    }
   ],
   "metadata": {}
  }
 ]
}