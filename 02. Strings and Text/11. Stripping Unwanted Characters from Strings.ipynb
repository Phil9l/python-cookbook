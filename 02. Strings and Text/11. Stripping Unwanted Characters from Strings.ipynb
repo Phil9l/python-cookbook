{
 "metadata": {
  "name": ""
 },
 "nbformat": 3,
 "nbformat_minor": 0,
 "worksheets": [
  {
   "cells": [
    {
     "cell_type": "heading",
     "level": 1,
     "metadata": {},
     "source": [
      "2.11. Stripping Unwanted Characters from Strings"
     ]
    },
    {
     "cell_type": "markdown",
     "metadata": {},
     "source": [
      "# Problem\n",
      "You want to strip unwanted characters, such as whitespace, from the beginning, end, or\n",
      "middle of a text string.\n",
      "\n",
      "# Solution\n",
      "The `strip()` method can be used to strip characters from the beginning or end of a\n",
      "string. `lstrip()` and `rstrip()` perform stripping from the left or right side, respectively.\n",
      "By default, these methods strip whitespace, but other characters can be given. For\n",
      "example:"
     ]
    },
    {
     "cell_type": "code",
     "collapsed": false,
     "input": [
      "# Whitespace stripping\n",
      "s = ' hello world \\n'\n",
      "s.strip()"
     ],
     "language": "python",
     "metadata": {},
     "outputs": [
      {
       "metadata": {},
       "output_type": "pyout",
       "prompt_number": 1,
       "text": [
        "'hello world'"
       ]
      }
     ],
     "prompt_number": 1
    },
    {
     "cell_type": "code",
     "collapsed": false,
     "input": [
      "s.lstrip()"
     ],
     "language": "python",
     "metadata": {},
     "outputs": [
      {
       "metadata": {},
       "output_type": "pyout",
       "prompt_number": 2,
       "text": [
        "'hello world \\n'"
       ]
      }
     ],
     "prompt_number": 2
    },
    {
     "cell_type": "code",
     "collapsed": false,
     "input": [
      "s.rstrip()"
     ],
     "language": "python",
     "metadata": {},
     "outputs": [
      {
       "metadata": {},
       "output_type": "pyout",
       "prompt_number": 3,
       "text": [
        "' hello world'"
       ]
      }
     ],
     "prompt_number": 3
    },
    {
     "cell_type": "code",
     "collapsed": false,
     "input": [
      "# Character stripping\n",
      "t = '-----hello====='\n",
      "t.lstrip('-')"
     ],
     "language": "python",
     "metadata": {},
     "outputs": [
      {
       "metadata": {},
       "output_type": "pyout",
       "prompt_number": 4,
       "text": [
        "'hello====='"
       ]
      }
     ],
     "prompt_number": 4
    },
    {
     "cell_type": "code",
     "collapsed": false,
     "input": [
      "t.strip('-=')"
     ],
     "language": "python",
     "metadata": {},
     "outputs": [
      {
       "metadata": {},
       "output_type": "pyout",
       "prompt_number": 5,
       "text": [
        "'hello'"
       ]
      }
     ],
     "prompt_number": 5
    },
    {
     "cell_type": "markdown",
     "metadata": {},
     "source": [
      "# Discussion\n",
      "The various `strip()` methods are commonly used when reading and cleaning up data\n",
      "for later processing. For example, you can use them to get rid of whitespace, remove\n",
      "quotations, and other tasks.\n",
      "\n",
      "Be aware that stripping does not apply to any text in the middle of a string. For example:"
     ]
    },
    {
     "cell_type": "code",
     "collapsed": false,
     "input": [
      "s = ' hello world \\n'\n",
      "s = s.strip()\n",
      "s"
     ],
     "language": "python",
     "metadata": {},
     "outputs": [
      {
       "metadata": {},
       "output_type": "pyout",
       "prompt_number": 6,
       "text": [
        "'hello world'"
       ]
      }
     ],
     "prompt_number": 6
    },
    {
     "cell_type": "markdown",
     "metadata": {},
     "source": [
      "If you needed to do something to the inner space, you would need to use another technique, \n",
      "such as using the `replace()` method or a regular expression substitution. For\n",
      "example:"
     ]
    },
    {
     "cell_type": "code",
     "collapsed": false,
     "input": [
      "s.replace(' ', '')"
     ],
     "language": "python",
     "metadata": {},
     "outputs": [
      {
       "metadata": {},
       "output_type": "pyout",
       "prompt_number": 7,
       "text": [
        "'helloworld'"
       ]
      }
     ],
     "prompt_number": 7
    },
    {
     "cell_type": "code",
     "collapsed": false,
     "input": [
      "import re\n",
      "re.sub('\\s+', ' ', s)"
     ],
     "language": "python",
     "metadata": {},
     "outputs": [
      {
       "metadata": {},
       "output_type": "pyout",
       "prompt_number": 8,
       "text": [
        "'hello world'"
       ]
      }
     ],
     "prompt_number": 8
    },
    {
     "cell_type": "markdown",
     "metadata": {},
     "source": [
      "It is often the case that you want to combine string stripping operations with some other\n",
      "kind of iterative processing, such as reading lines of data from a file. If so, this is one\n",
      "area where a generator expression can be useful. For example:\n",
      "```python\n",
      "with open(filename) as f:\n",
      "    lines = (line.strip() for line in f)\n",
      "    for line in lines:\n",
      "        \u2026\n",
      "```\n",
      "\n",
      "Here, the expression `lines = (line.strip() for line in f)` acts as a kind of data\n",
      "transform. It\u2019s efficient because it doesn\u2019t actually read the data into any kind of tem\u2010\n",
      "porary list first. It just creates an iterator where all of the lines produced have the strip\u2010\n",
      "ping operation applied to them.\n",
      "\n",
      "For even more advanced stripping, you might turn to the `translate()` method. See the\n",
      "next recipe on sanitizing strings for further details."
     ]
    }
   ],
   "metadata": {}
  }
 ]
}