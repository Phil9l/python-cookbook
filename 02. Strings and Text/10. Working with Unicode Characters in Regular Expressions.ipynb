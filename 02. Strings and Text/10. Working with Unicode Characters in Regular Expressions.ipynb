{
 "metadata": {
  "name": ""
 },
 "nbformat": 3,
 "nbformat_minor": 0,
 "worksheets": [
  {
   "cells": [
    {
     "cell_type": "heading",
     "level": 1,
     "metadata": {},
     "source": [
      "2.10. Working with Unicode Characters in Regular\n",
      "Expressions"
     ]
    },
    {
     "cell_type": "markdown",
     "metadata": {},
     "source": [
      "# Problem\n",
      "You are using regular expressions to process text, but are concerned about the handling\n",
      "of Unicode characters.\n",
      "\n",
      "# Solution\n",
      "By default, the `re` module is already programmed with rudimentary knowledge of cer\u2010\n",
      "tain Unicode character classes. For example, `\\d` already matches any unicode digit\n",
      "character:"
     ]
    },
    {
     "cell_type": "code",
     "collapsed": false,
     "input": [
      "import re\n",
      "num = re.compile('\\d+')\n",
      "# ASCII digits\n",
      "num.match('123')"
     ],
     "language": "python",
     "metadata": {},
     "outputs": [
      {
       "metadata": {},
       "output_type": "pyout",
       "prompt_number": 1,
       "text": [
        "<_sre.SRE_Match object; span=(0, 3), match='123'>"
       ]
      }
     ],
     "prompt_number": 1
    },
    {
     "cell_type": "code",
     "collapsed": false,
     "input": [
      "# Arabic digits\n",
      "num.match('\\u0661\\u0662\\u0663')"
     ],
     "language": "python",
     "metadata": {},
     "outputs": [
      {
       "metadata": {},
       "output_type": "pyout",
       "prompt_number": 2,
       "text": [
        "<_sre.SRE_Match object; span=(0, 3), match='\u0661\u0662\u0663'>"
       ]
      }
     ],
     "prompt_number": 2
    },
    {
     "cell_type": "markdown",
     "metadata": {},
     "source": [
      "If you need to include specific Unicode characters in patterns, you can use the usual\n",
      "escape sequence for Unicode characters (e.g., `\\uFFFF` or `\\UFFFFFFF`). For example, here\n",
      "is a regex that matches all characters in a few different Arabic code pages:"
     ]
    },
    {
     "cell_type": "code",
     "collapsed": false,
     "input": [
      "arabic = re.compile('[\\u0600-\\u06ff\\u0750-\\u077f\\u08a0-\\u08ff]+')"
     ],
     "language": "python",
     "metadata": {},
     "outputs": [],
     "prompt_number": 3
    },
    {
     "cell_type": "markdown",
     "metadata": {},
     "source": [
      "When performing matching and searching operations, it\u2019s a good idea to normalize and\n",
      "possibly sanitize all text to a standard form first (see Recipe 2.9). However, it\u2019s also\n",
      "important to be aware of special cases. For example, consider the behavior of caseinsensitive\n",
      "matching combined with case folding:"
     ]
    },
    {
     "cell_type": "code",
     "collapsed": false,
     "input": [
      "pat = re.compile('stra\\u00dfe', re.IGNORECASE)\n",
      "s = 'stra\u00dfe'\n",
      "pat.match(s)  # Matches"
     ],
     "language": "python",
     "metadata": {},
     "outputs": [
      {
       "metadata": {},
       "output_type": "pyout",
       "prompt_number": 4,
       "text": [
        "<_sre.SRE_Match object; span=(0, 6), match='stra\u00dfe'>"
       ]
      }
     ],
     "prompt_number": 4
    },
    {
     "cell_type": "code",
     "collapsed": false,
     "input": [
      "pat.match(s.upper())  # Doesn't match"
     ],
     "language": "python",
     "metadata": {},
     "outputs": [],
     "prompt_number": 5
    },
    {
     "cell_type": "code",
     "collapsed": false,
     "input": [
      "s.upper()  # Case folds"
     ],
     "language": "python",
     "metadata": {},
     "outputs": [
      {
       "metadata": {},
       "output_type": "pyout",
       "prompt_number": 6,
       "text": [
        "'STRASSE'"
       ]
      }
     ],
     "prompt_number": 6
    },
    {
     "cell_type": "markdown",
     "metadata": {},
     "source": [
      "# Discussion\n",
      "Mixing Unicode and regular expressions is often a good way to make your head explode.\n",
      "If you\u2019re going to do it seriously, you should consider installing the third-party regex\n",
      "library, which provides full support for Unicode case folding, as well as a variety of other\n",
      "interesting features, including approximate matching."
     ]
    }
   ],
   "metadata": {}
  }
 ]
}