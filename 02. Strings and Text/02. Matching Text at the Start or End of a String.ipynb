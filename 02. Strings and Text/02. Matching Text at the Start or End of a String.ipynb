{
 "metadata": {
  "name": ""
 },
 "nbformat": 3,
 "nbformat_minor": 0,
 "worksheets": [
  {
   "cells": [
    {
     "cell_type": "heading",
     "level": 1,
     "metadata": {},
     "source": [
      "2.2. Matching Text at the Start or End of a String"
     ]
    },
    {
     "cell_type": "markdown",
     "metadata": {},
     "source": [
      "# Problem\n",
      "You need to check the start or end of a string for specific text patterns, such as filename\n",
      "extensions, URL schemes, and so on.\n",
      "\n",
      "# Solution\n",
      "A simple way to check the beginning or end of a string is to use the `str.startswith()` \n",
      "or `str.endswith()` methods. For example:"
     ]
    },
    {
     "cell_type": "code",
     "collapsed": false,
     "input": [
      "filename = 'spam.txt'\n",
      "filename.endswith('.txt')"
     ],
     "language": "python",
     "metadata": {},
     "outputs": [
      {
       "metadata": {},
       "output_type": "pyout",
       "prompt_number": 1,
       "text": [
        "True"
       ]
      }
     ],
     "prompt_number": 1
    },
    {
     "cell_type": "code",
     "collapsed": false,
     "input": [
      "filename.startswith('file:')"
     ],
     "language": "python",
     "metadata": {},
     "outputs": [
      {
       "metadata": {},
       "output_type": "pyout",
       "prompt_number": 2,
       "text": [
        "False"
       ]
      }
     ],
     "prompt_number": 2
    },
    {
     "cell_type": "code",
     "collapsed": false,
     "input": [
      "url = 'http://www.python.org'\n",
      "url.startswith('http:')"
     ],
     "language": "python",
     "metadata": {},
     "outputs": [
      {
       "metadata": {},
       "output_type": "pyout",
       "prompt_number": 3,
       "text": [
        "True"
       ]
      }
     ],
     "prompt_number": 3
    },
    {
     "cell_type": "markdown",
     "metadata": {},
     "source": [
      "If you need to check against multiple choices, simply provide a tuple of possibilities to\n",
      "`startswith()` or `endswith()`:"
     ]
    },
    {
     "cell_type": "code",
     "collapsed": false,
     "input": [
      "import os\n",
      "filenames = os.listdir('.')\n",
      "filenames"
     ],
     "language": "python",
     "metadata": {},
     "outputs": [
      {
       "metadata": {},
       "output_type": "pyout",
       "prompt_number": 4,
       "text": [
        "['spam.c',\n",
        " '.ipynb_checkpoints',\n",
        " 'bar.py',\n",
        " '01. Splitting Strings on Any of Multiple Delimiters.ipynb',\n",
        " 'spam.h',\n",
        " '02. Matching Text at the Start or End of a String.ipynb',\n",
        " 'Makefile',\n",
        " 'foo.c']"
       ]
      }
     ],
     "prompt_number": 4
    },
    {
     "cell_type": "code",
     "collapsed": false,
     "input": [
      "[name for name in filenames if name.endswith(('.c', '.h'))]"
     ],
     "language": "python",
     "metadata": {},
     "outputs": [
      {
       "metadata": {},
       "output_type": "pyout",
       "prompt_number": 5,
       "text": [
        "['spam.c', 'spam.h', 'foo.c']"
       ]
      }
     ],
     "prompt_number": 5
    },
    {
     "cell_type": "code",
     "collapsed": false,
     "input": [
      "any(name.endswith('.py') for name in filenames)"
     ],
     "language": "python",
     "metadata": {},
     "outputs": [
      {
       "metadata": {},
       "output_type": "pyout",
       "prompt_number": 6,
       "text": [
        "True"
       ]
      }
     ],
     "prompt_number": 6
    },
    {
     "cell_type": "markdown",
     "metadata": {},
     "source": [
      "Here is another example:\n",
      "```python\n",
      "from urllib.request import urlopen\n",
      "\n",
      "def read_data(name):\n",
      "    if name.startswith(('http:', 'https:', 'ftp:')):\n",
      "        return urlopen(name).read()\n",
      "    else:\n",
      "        with open(name) as f:\n",
      "            return f.read()\n",
      "```\n",
      "Oddly, this is one part of Python where a tuple is actually required as input. If you happen\n",
      "to have the choices specified in a list or set, just make sure you convert them using\n",
      "`tuple()` first. For example:"
     ]
    },
    {
     "cell_type": "code",
     "collapsed": false,
     "input": [
      "choices = ['http:', 'ftp:']\n",
      "url = 'http://www.python.org'\n",
      "url.startswith(choices)"
     ],
     "language": "python",
     "metadata": {},
     "outputs": [
      {
       "ename": "TypeError",
       "evalue": "startswith first arg must be str or a tuple of str, not list",
       "output_type": "pyerr",
       "traceback": [
        "\u001b[0;31m---------------------------------------------------------------------------\u001b[0m\n\u001b[0;31mTypeError\u001b[0m                                 Traceback (most recent call last)",
        "\u001b[0;32m<ipython-input-7-7482b685742c>\u001b[0m in \u001b[0;36m<module>\u001b[0;34m()\u001b[0m\n\u001b[1;32m      1\u001b[0m \u001b[0mchoices\u001b[0m \u001b[0;34m=\u001b[0m \u001b[0;34m[\u001b[0m\u001b[0;34m'http:'\u001b[0m\u001b[0;34m,\u001b[0m \u001b[0;34m'ftp:'\u001b[0m\u001b[0;34m]\u001b[0m\u001b[0;34m\u001b[0m\u001b[0m\n\u001b[1;32m      2\u001b[0m \u001b[0murl\u001b[0m \u001b[0;34m=\u001b[0m \u001b[0;34m'http://www.python.org'\u001b[0m\u001b[0;34m\u001b[0m\u001b[0m\n\u001b[0;32m----> 3\u001b[0;31m \u001b[0murl\u001b[0m\u001b[0;34m.\u001b[0m\u001b[0mstartswith\u001b[0m\u001b[0;34m(\u001b[0m\u001b[0mchoices\u001b[0m\u001b[0;34m)\u001b[0m\u001b[0;34m\u001b[0m\u001b[0m\n\u001b[0m",
        "\u001b[0;31mTypeError\u001b[0m: startswith first arg must be str or a tuple of str, not list"
       ]
      }
     ],
     "prompt_number": 7
    },
    {
     "cell_type": "code",
     "collapsed": false,
     "input": [
      "url.startswith(tuple(choices))"
     ],
     "language": "python",
     "metadata": {},
     "outputs": [
      {
       "metadata": {},
       "output_type": "pyout",
       "prompt_number": 8,
       "text": [
        "True"
       ]
      }
     ],
     "prompt_number": 8
    },
    {
     "cell_type": "markdown",
     "metadata": {},
     "source": [
      "# Discussion\n",
      "The `startswith()` and `endswith()` methods provide a very convenient way to perform\n",
      "basic prefix and suffix checking. Similar operations can be performed with slices, but\n",
      "are far less elegant. For example:"
     ]
    },
    {
     "cell_type": "code",
     "collapsed": false,
     "input": [
      "filename = 'spam.txt'\n",
      "filename[-4:] == '.txt'"
     ],
     "language": "python",
     "metadata": {},
     "outputs": [
      {
       "metadata": {},
       "output_type": "pyout",
       "prompt_number": 9,
       "text": [
        "True"
       ]
      }
     ],
     "prompt_number": 9
    },
    {
     "cell_type": "code",
     "collapsed": false,
     "input": [
      "url = 'http://www.python.org'\n",
      "url[:5] == 'http:' or url[:6] == 'https:' or url[:4] == 'ftp:'"
     ],
     "language": "python",
     "metadata": {},
     "outputs": [
      {
       "metadata": {},
       "output_type": "pyout",
       "prompt_number": 10,
       "text": [
        "True"
       ]
      }
     ],
     "prompt_number": 10
    },
    {
     "cell_type": "markdown",
     "metadata": {},
     "source": [
      "You might also be inclined to use regular expressions as an alternative. For example:"
     ]
    },
    {
     "cell_type": "code",
     "collapsed": false,
     "input": [
      "import re\n",
      "url = 'http://www.python.org'\n",
      "re.match('http:|https:|ftp:', url)"
     ],
     "language": "python",
     "metadata": {},
     "outputs": [
      {
       "metadata": {},
       "output_type": "pyout",
       "prompt_number": 11,
       "text": [
        "<_sre.SRE_Match object; span=(0, 5), match='http:'>"
       ]
      }
     ],
     "prompt_number": 11
    },
    {
     "cell_type": "markdown",
     "metadata": {},
     "source": [
      "This works, but is often overkill for simple matching. Using this recipe is simpler and\n",
      "runs faster.\n",
      "\n",
      "Last, but not least, the `startswith()` and `endswith()` methods look nice when combined \n",
      "with other operations, such as common data reductions. For example, this statement that \n",
      "checks a directory for the presence of certain kinds of files:\n",
      "```python\n",
      "if any(name.endswith(('.c', '.h')) for name in listdir(dirname)):\n",
      "    \u2026\n",
      "```"
     ]
    }
   ],
   "metadata": {}
  }
 ]
}