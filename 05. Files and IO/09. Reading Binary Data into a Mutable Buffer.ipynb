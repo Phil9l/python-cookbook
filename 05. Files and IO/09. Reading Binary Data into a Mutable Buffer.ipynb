{
 "metadata": {
  "name": ""
 },
 "nbformat": 3,
 "nbformat_minor": 0,
 "worksheets": [
  {
   "cells": [
    {
     "cell_type": "heading",
     "level": 1,
     "metadata": {},
     "source": [
      "5.9. Reading Binary Data into a Mutable Buffer"
     ]
    },
    {
     "cell_type": "markdown",
     "metadata": {},
     "source": [
      "# Problem\n",
      "You want to read binary data directly into a mutable buffer without any intermediate\n",
      "copying. Perhaps you want to mutate the data in-place and write it back out to a file.\n",
      "\n",
      "# Solution\n",
      "To read data into a mutable array, use the `readinto()` method of files. For example:"
     ]
    },
    {
     "cell_type": "code",
     "collapsed": false,
     "input": [
      "import os.path\n",
      "\n",
      "def read_into_buffer(filename):\n",
      "    buf = bytearray(os.path.getsize(filename))\n",
      "    with open(filename, 'rb') as f:\n",
      "        f.readinto(buf)\n",
      "    return buf"
     ],
     "language": "python",
     "metadata": {},
     "outputs": [],
     "prompt_number": 1
    },
    {
     "cell_type": "markdown",
     "metadata": {},
     "source": [
      "Here is an example that illustrates the usage:"
     ]
    },
    {
     "cell_type": "code",
     "collapsed": false,
     "input": [
      "# Write a sample file\n",
      "with open('sample.bin', 'wb') as f:\n",
      "    f.write(b'Hello World')"
     ],
     "language": "python",
     "metadata": {},
     "outputs": [],
     "prompt_number": 2
    },
    {
     "cell_type": "code",
     "collapsed": false,
     "input": [
      "buf = read_into_buffer('sample.bin')\n",
      "buf"
     ],
     "language": "python",
     "metadata": {},
     "outputs": [
      {
       "metadata": {},
       "output_type": "pyout",
       "prompt_number": 3,
       "text": [
        "bytearray(b'Hello World')"
       ]
      }
     ],
     "prompt_number": 3
    },
    {
     "cell_type": "code",
     "collapsed": false,
     "input": [
      "buf[0:5] = b'Hallo'\n",
      "buf"
     ],
     "language": "python",
     "metadata": {},
     "outputs": [
      {
       "metadata": {},
       "output_type": "pyout",
       "prompt_number": 4,
       "text": [
        "bytearray(b'Hallo World')"
       ]
      }
     ],
     "prompt_number": 4
    },
    {
     "cell_type": "code",
     "collapsed": false,
     "input": [
      "with open('newsample.bin', 'wb') as f:\n",
      "    f.write(buf)"
     ],
     "language": "python",
     "metadata": {},
     "outputs": [],
     "prompt_number": 5
    },
    {
     "cell_type": "markdown",
     "metadata": {},
     "source": [
      "# Discussion\n",
      "The `readinto()` method of files can be used to fill any preallocated array with data. This\n",
      "even includes arrays created from the `array` module or libraries such as `numpy`. Unlike\n",
      "the normal `read()` method, `readinto()` fills the contents of an existing buffer rather\n",
      "than allocating new objects and returning them. Thus, you might be able to use it to\n",
      "avoid making extra memory allocations. For example, if you are reading a binary file\n",
      "consisting of equally sized records, you can write code like this:\n",
      "```python\n",
      "record_size = 32  # Size of each record (adjust value)\n",
      "\n",
      "buf = bytearray(record_size)\n",
      "with open('somefile', 'rb') as f:\n",
      "    while True:\n",
      "        n = f.readinto(buf)\n",
      "        if n < record_size:\n",
      "            break\n",
      "        # Use the contents of buf\n",
      "        \u2026\n",
      "```\n",
      "Another interesting feature to use here might be a memoryview, which lets you make\n",
      "zero-copy slices of an existing buffer and even change its contents. For example:"
     ]
    },
    {
     "cell_type": "code",
     "collapsed": false,
     "input": [
      "buf = bytearray(b'Hello World')\n",
      "buf"
     ],
     "language": "python",
     "metadata": {},
     "outputs": [
      {
       "metadata": {},
       "output_type": "pyout",
       "prompt_number": 6,
       "text": [
        "bytearray(b'Hello World')"
       ]
      }
     ],
     "prompt_number": 6
    },
    {
     "cell_type": "code",
     "collapsed": false,
     "input": [
      "m1 = memoryview(buf)\n",
      "m2 = m1[-5:]\n",
      "m2"
     ],
     "language": "python",
     "metadata": {},
     "outputs": [
      {
       "metadata": {},
       "output_type": "pyout",
       "prompt_number": 7,
       "text": [
        "<memory at 0x7f82c4adc048>"
       ]
      }
     ],
     "prompt_number": 7
    },
    {
     "cell_type": "code",
     "collapsed": false,
     "input": [
      "m2[:] = b'WORLD'\n",
      "buf"
     ],
     "language": "python",
     "metadata": {},
     "outputs": [
      {
       "metadata": {},
       "output_type": "pyout",
       "prompt_number": 8,
       "text": [
        "bytearray(b'Hello WORLD')"
       ]
      }
     ],
     "prompt_number": 8
    },
    {
     "cell_type": "markdown",
     "metadata": {},
     "source": [
      "One caution with using `f.readinto()` is that you must always make sure to check its\n",
      "return code, which is the number of bytes actually read.\n",
      "\n",
      "If the number of bytes is smaller than the size of the supplied buffer, it might indicate\n",
      "truncated or corrupted data (e.g., if you were expecting an exact number of bytes to be\n",
      "read).\n",
      "\n",
      "Finally, be on the lookout for other \u201cinto\u201d related functions in various library modules\n",
      "(e.g., `recv_into()`, `pack_into()`, etc.). Many other parts of Python have support for\n",
      "direct I/O or data access that can be used to fill or alter the contents of arrays and buffers.\n",
      "\n",
      "See Recipe 6.12 for a significantly more advanced example of interpreting binary structures \n",
      "and usage of memoryviews."
     ]
    }
   ],
   "metadata": {}
  }
 ]
}