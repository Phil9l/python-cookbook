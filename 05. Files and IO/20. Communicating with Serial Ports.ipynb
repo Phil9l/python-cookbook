{
 "metadata": {
  "name": ""
 },
 "nbformat": 3,
 "nbformat_minor": 0,
 "worksheets": [
  {
   "cells": [
    {
     "cell_type": "heading",
     "level": 1,
     "metadata": {},
     "source": [
      "5.20. Communicating with Serial Ports"
     ]
    },
    {
     "cell_type": "markdown",
     "metadata": {},
     "source": [
      "# Problem\n",
      "You want to read and write data over a serial port, typically to interact with some kind\n",
      "of hardware device (e.g., a robot or sensor).\n",
      "\n",
      "# Solution\n",
      "Although you can probably do this directly using Python\u2019s built-in I/O primitives, your\n",
      "best bet for serial communication is to use the [pySerial package](http://pyserial.sourceforge.net/). \n",
      "Getting started with the package is very easy. You simply open up a serial port using code like this:\n",
      "```python\n",
      "import serial\n",
      "ser = serial.Serial('/dev/tty.usbmodem641',  # Device name varies\n",
      "                    baudrate=9600,\n",
      "                    bytesize=8,\n",
      "                    parity='N',\n",
      "                    stopbits=1)\n",
      "```\n",
      "The device name will vary according to the kind of device and operating system. For\n",
      "instance, on Windows, you can use a device of 0, 1, and so on, to open up the commu\u2010\n",
      "nication ports such as \u201cCOM0\u201d and \u201cCOM1.\u201d Once open, you can read and write data\n",
      "using `read()`, `readline()`, and `write()` calls. For example:\n",
      "```python\n",
      "ser.write(b'G1 X50 Y50\\r\\n')\n",
      "resp = ser.readline()\n",
      "```\n",
      "For the most part, simple serial communication should be pretty simple from this point\n",
      "forward."
     ]
    },
    {
     "cell_type": "markdown",
     "metadata": {},
     "source": [
      "# Discussion\n",
      "Although simple on the surface, serial communication can sometimes get rather messy.\n",
      "One reason you should use a package such as pySerial is that it provides support for\n",
      "advanced features (e.g., timeouts, control flow, buffer flushing, handshaking, etc.). For\n",
      "instance, if you want to enable RTS-CTS handshaking, you simply provide a\n",
      "`rtscts=True` argument to `Serial()`. The provided documentation is excellent, so\n",
      "there\u2019s little benefit to paraphrasing it here.\n",
      "\n",
      "Keep in mind that all I/O involving serial ports is binary. Thus, make sure you write\n",
      "your code to use bytes instead of text (or perform proper text encoding/decoding as\n",
      "needed). The `struct` module may also be useful should you need to create binary-coded\n",
      "commands or packets."
     ]
    }
   ],
   "metadata": {}
  }
 ]
}