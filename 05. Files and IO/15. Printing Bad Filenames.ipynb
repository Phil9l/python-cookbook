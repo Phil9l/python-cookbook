{
 "metadata": {
  "name": ""
 },
 "nbformat": 3,
 "nbformat_minor": 0,
 "worksheets": [
  {
   "cells": [
    {
     "cell_type": "heading",
     "level": 1,
     "metadata": {},
     "source": [
      "5.15. Printing Bad Filenames"
     ]
    },
    {
     "cell_type": "markdown",
     "metadata": {},
     "source": [
      "# Problem\n",
      "Your program received a directory listing, but when it tried to print the filenames, it\n",
      "crashed with a `UnicodeEncodeError` exception and a cryptic message about \u201csurrogates\n",
      "not allowed.\u201d\n",
      "\n",
      "# Solution\n",
      "When printing filenames of unknown origin, use this convention to avoid errors:"
     ]
    },
    {
     "cell_type": "code",
     "collapsed": false,
     "input": [
      "def bad_filename(filename):\n",
      "    return repr(filename)[1:-1]"
     ],
     "language": "python",
     "metadata": {},
     "outputs": [],
     "prompt_number": 1
    },
    {
     "cell_type": "markdown",
     "metadata": {},
     "source": [
      "```python\n",
      "try:\n",
      "    print(filename)\n",
      "except UnicodeEncodeError:\n",
      "    print(bad_filename(filename))\n",
      "```"
     ]
    },
    {
     "cell_type": "markdown",
     "metadata": {},
     "source": [
      "# Discussion\n",
      "This recipe is about a potentially rare but very annoying problem regarding programs\n",
      "that must manipulate the filesystem. By default, Python assumes that all filenames are\n",
      "encoded according to the setting reported by `sys.getfilesystemencoding()`. However, \n",
      "certain filesystems don\u2019t necessarily enforce this encoding restriction, thereby allowing \n",
      "files to be created without proper filename encoding. It\u2019s not common, but there\n",
      "is always the danger that some user will do something silly and create such a file by\n",
      "accident (e.g., maybe passing a bad filename to `open()` in some buggy code).\n",
      "\n",
      "When executing a command such as `os.listdir()`, bad filenames leave Python in a\n",
      "bind. On the one hand, it can\u2019t just discard bad names. On the other hand, it still can\u2019t\n",
      "turn the filename into a proper text string. Python\u2019s solution to this problem is to take\n",
      "an undecodable byte value `\\xhh` in a filename and map it into a so-called \u201csurrogate\n",
      "encoding\u201d represented by the Unicode character `\\udchh`. Here is an example of how a\n",
      "bad directory listing might look if it contained a filename `b\u00e4d.txt`, encoded as Latin-1\n",
      "instead of UTF-8:"
     ]
    },
    {
     "cell_type": "code",
     "collapsed": false,
     "input": [
      "import os\n",
      "files = os.listdir('.')\n",
      "files"
     ],
     "language": "python",
     "metadata": {},
     "outputs": [
      {
       "metadata": {},
       "output_type": "pyout",
       "prompt_number": 2,
       "text": [
        "['b\\udce4d.txt', 'foo.txt', 'spam.py']"
       ]
      }
     ],
     "prompt_number": 2
    },
    {
     "cell_type": "markdown",
     "metadata": {},
     "source": [
      "If you have code that manipulates filenames or even passes them to functions such as\n",
      "`open()`, everything works normally. It\u2019s only in situations where you want to output the\n",
      "filename that you run into trouble (e.g., printing it to the screen, logging it, etc.). \n",
      "Specifically, if you tried to print the preceding listing, your program will crash:"
     ]
    },
    {
     "cell_type": "code",
     "collapsed": false,
     "input": [
      "for name in files:\n",
      "    print(name)"
     ],
     "language": "python",
     "metadata": {},
     "outputs": [
      {
       "output_type": "stream",
       "stream": "stdout",
       "text": [
        "b\ufffdd.txt\n",
        "foo.txt\n",
        "spam.py\n"
       ]
      }
     ],
     "prompt_number": 3
    },
    {
     "cell_type": "markdown",
     "metadata": {},
     "source": [
      "The reason it crashes is that the character `\\udce4` is technically invalid Unicode. It\u2019s\n",
      "actually the second half of a two-character combination known as a surrogate pair.\n",
      "However, since the first half is missing, it\u2019s invalid Unicode. Thus, the only way to pro\u2010\n",
      "duce successful output is to take corrective action when a bad filename is encountered.\n",
      "For example, changing the code to the recipe produces the following:"
     ]
    },
    {
     "cell_type": "code",
     "collapsed": false,
     "input": [
      "for name in files:\n",
      "    try:\n",
      "        print(name)\n",
      "    except UnicodeEncodeError:\n",
      "        print(bad_filename(name))"
     ],
     "language": "python",
     "metadata": {},
     "outputs": [
      {
       "output_type": "stream",
       "stream": "stdout",
       "text": [
        "b\ufffdd.txt\n",
        "foo.txt\n",
        "spam.py\n"
       ]
      }
     ],
     "prompt_number": 4
    },
    {
     "cell_type": "markdown",
     "metadata": {},
     "source": [
      "The choice of what to do for the `bad_filename()` function is largely up to you. Another\n",
      "option is to re-encode the value in some way, like this:\n",
      "```python\n",
      "def bad_filename(filename):\n",
      "    temp = filename.encode(sys.getfilesystemencoding(), errors='surrogateescape')\n",
      "    return temp.decode('latin-1')\n",
      "```\n",
      "Using this version produces the following output:"
     ]
    },
    {
     "cell_type": "code",
     "collapsed": false,
     "input": [
      "for name in files:\n",
      "    try:\n",
      "        print(name)\n",
      "    except UnicodeEncodeError:\n",
      "        print(bad_filename(name))"
     ],
     "language": "python",
     "metadata": {},
     "outputs": [
      {
       "output_type": "stream",
       "stream": "stdout",
       "text": [
        "b\ufffdd.txt\n",
        "foo.txt\n",
        "spam.py\n"
       ]
      }
     ],
     "prompt_number": 5
    },
    {
     "cell_type": "markdown",
     "metadata": {},
     "source": [
      "This recipe will likely be ignored by most readers. However, if you\u2019re writing missioncritical\n",
      "scripts that need to work reliably with filenames and the filesystem, it\u2019s something\n",
      "to think about. Otherwise, you might find yourself called back into the office over the\n",
      "weekend to debug a seemingly inscrutable error."
     ]
    }
   ],
   "metadata": {}
  }
 ]
}