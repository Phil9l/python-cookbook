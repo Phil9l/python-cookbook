{
 "metadata": {
  "name": ""
 },
 "nbformat": 3,
 "nbformat_minor": 0,
 "worksheets": [
  {
   "cells": [
    {
     "cell_type": "heading",
     "level": 1,
     "metadata": {},
     "source": [
      "5.1. Reading and Writing Text Data"
     ]
    },
    {
     "cell_type": "markdown",
     "metadata": {},
     "source": [
      "# Problem\n",
      "You need to read or write text data, possibly in different text encodings such as ASCII,\n",
      "UTF-8, or UTF-16.\n",
      "\n",
      "# Solution\n",
      "Use the `open()` function with mode `rt` to read a text file. For example:\n",
      "```python\n",
      "# Read the entire file as a single string\n",
      "with open('somefile.txt', 'rt') as f:\n",
      "    data = f.read()\n",
      "\n",
      "# Iterate over the lines of the file\n",
      "with open('somefile.txt', 'rt') as f:\n",
      "    for line in f:\n",
      "        # process line\n",
      "        \u2026\n",
      "```\n",
      "Similarly, to write a text file, use `open()` with mode `wt` to write a file, clearing and\n",
      "overwriting the previous contents (if any). For example:\n",
      "```python\n",
      "# Write chunks of text data\n",
      "with open('somefile.txt', 'wt') as f:\n",
      "    f.write(text1)\n",
      "    f.write(text2) \n",
      "    \u2026\n",
      "\n",
      "# Redirected print statement\n",
      "with open('somefile.txt', 'wt') as f:\n",
      "    print(line1, file=f)\n",
      "    print(line2, file=f)\n",
      "    \u2026\n",
      "```\n",
      "To append to the end of an existing file, use `open()` with mode `at`.\n",
      "\n",
      "By default, files are read/written using the system default text encoding, as can be found\n",
      "in `sys.getdefaultencoding()`. On most machines, this is set to `utf-8`. If you know\n",
      "that the text you are reading or writing is in a different encoding, supply the optional\n",
      "`encoding` parameter to `open()`. For example:\n",
      "```python\n",
      "with open('somefile.txt', 'rt', encoding='latin-1') as f:\n",
      "    \u2026\n",
      "```\n",
      "\n",
      "Python understands several hundred possible text encodings. However, some of the\n",
      "more common encodings are `ascii`, `latin-1`, `utf-8`, and `utf-16`. UTF-8 is usually a\n",
      "safe bet if working with web applications. ascii corresponds to the 7-bit characters in\n",
      "the range U+0000 to U+007F. `latin-1` is a direct mapping of bytes 0-255 to Unicode\n",
      "characters U+0000 to U+00FF. `latin-1` encoding is notable in that it will never produce\n",
      "a decoding error when reading text of a possibly unknown encoding. Reading a file as\n",
      "`latin-1` might not produce a completely correct text decoding, but it still might be\n",
      "enough to extract useful data out of it. Also, if you later write the data back out, the\n",
      "original input data will be preserved."
     ]
    },
    {
     "cell_type": "markdown",
     "metadata": {},
     "source": [
      "# Discussion\n",
      "Reading and writing text files is typically very straightforward. However, there are a\n",
      "number of subtle aspects to keep in mind. First, the use of the `with` statement in the\n",
      "examples establishes a context in which the file will be used. When control leaves the\n",
      "`with` block, the file will be closed automatically. You don\u2019t need to use the `with` statement,\n",
      "but if you don\u2019t use it, make sure you remember to close the file:\n",
      "```python\n",
      "f = open('somefile.txt', 'rt')\n",
      "data = f.read()\n",
      "f.close()\n",
      "```\n",
      "Another minor complication concerns the recognition of newlines, which are different\n",
      "on Unix and Windows (i.e., `\\n` versus `\\r\\n`). By default, Python operates in what\u2019s known\n",
      "as \u201cuniversal newline\u201d mode. In this mode, all common newline conventions are rec\u2010\n",
      "ognized, and newline characters are converted to a single `\\n` character while reading.\n",
      "Similarly, the newline character `\\n` is converted to the system default newline character\n",
      "on output. If you don\u2019t want this translation, supply the `newline=''` argument to\n",
      "`open()`, like this:\n",
      "```python\n",
      "# Read with disabled newline translation\n",
      "with open('somefile.txt', 'rt', newline='') as f:\n",
      "    \u2026\n",
      "```\n",
      "To illustrate the difference, here\u2019s what you will see on a Unix machine if you read the\n",
      "contents of a Windows-encoded text file containing the raw data `hello world!\\r\\n`:"
     ]
    },
    {
     "cell_type": "code",
     "collapsed": false,
     "input": [
      "# Newline translation enabled (the default)\n",
      "f = open('hello.txt', 'rt')\n",
      "f.read()"
     ],
     "language": "python",
     "metadata": {},
     "outputs": [
      {
       "metadata": {},
       "output_type": "pyout",
       "prompt_number": 1,
       "text": [
        "'hello world\\n'"
       ]
      }
     ],
     "prompt_number": 1
    },
    {
     "cell_type": "code",
     "collapsed": false,
     "input": [
      "# Newline translation disabled\n",
      "g = open('hello.txt', 'rt', newline='')\n",
      "g.read()"
     ],
     "language": "python",
     "metadata": {},
     "outputs": [
      {
       "metadata": {},
       "output_type": "pyout",
       "prompt_number": 2,
       "text": [
        "'hello world\\r\\n'"
       ]
      }
     ],
     "prompt_number": 2
    },
    {
     "cell_type": "markdown",
     "metadata": {},
     "source": [
      "A final issue concerns possible encoding errors in text files. When reading or writing a\n",
      "text file, you might encounter an encoding or decoding error. For instance:"
     ]
    },
    {
     "cell_type": "code",
     "collapsed": false,
     "input": [
      "f = open('sample.txt', 'rt', encoding='ascii')\n",
      "f.read()"
     ],
     "language": "python",
     "metadata": {},
     "outputs": [
      {
       "ename": "UnicodeDecodeError",
       "evalue": "'ascii' codec can't decode byte 0xc3 in position 12: ordinal not in range(128)",
       "output_type": "pyerr",
       "traceback": [
        "\u001b[0;31m---------------------------------------------------------------------------\u001b[0m\n\u001b[0;31mUnicodeDecodeError\u001b[0m                        Traceback (most recent call last)",
        "\u001b[0;32m<ipython-input-3-7565fcb4b73f>\u001b[0m in \u001b[0;36m<module>\u001b[0;34m()\u001b[0m\n\u001b[1;32m      1\u001b[0m \u001b[0mf\u001b[0m \u001b[0;34m=\u001b[0m \u001b[0mopen\u001b[0m\u001b[0;34m(\u001b[0m\u001b[0;34m'sample.txt'\u001b[0m\u001b[0;34m,\u001b[0m \u001b[0;34m'rt'\u001b[0m\u001b[0;34m,\u001b[0m \u001b[0mencoding\u001b[0m\u001b[0;34m=\u001b[0m\u001b[0;34m'ascii'\u001b[0m\u001b[0;34m)\u001b[0m\u001b[0;34m\u001b[0m\u001b[0m\n\u001b[0;32m----> 2\u001b[0;31m \u001b[0mf\u001b[0m\u001b[0;34m.\u001b[0m\u001b[0mread\u001b[0m\u001b[0;34m(\u001b[0m\u001b[0;34m)\u001b[0m\u001b[0;34m\u001b[0m\u001b[0m\n\u001b[0m",
        "\u001b[0;32m/usr/lib/python3.4/encodings/ascii.py\u001b[0m in \u001b[0;36mdecode\u001b[0;34m(self, input, final)\u001b[0m\n\u001b[1;32m     24\u001b[0m \u001b[0;32mclass\u001b[0m \u001b[0mIncrementalDecoder\u001b[0m\u001b[0;34m(\u001b[0m\u001b[0mcodecs\u001b[0m\u001b[0;34m.\u001b[0m\u001b[0mIncrementalDecoder\u001b[0m\u001b[0;34m)\u001b[0m\u001b[0;34m:\u001b[0m\u001b[0;34m\u001b[0m\u001b[0m\n\u001b[1;32m     25\u001b[0m     \u001b[0;32mdef\u001b[0m \u001b[0mdecode\u001b[0m\u001b[0;34m(\u001b[0m\u001b[0mself\u001b[0m\u001b[0;34m,\u001b[0m \u001b[0minput\u001b[0m\u001b[0;34m,\u001b[0m \u001b[0mfinal\u001b[0m\u001b[0;34m=\u001b[0m\u001b[0;32mFalse\u001b[0m\u001b[0;34m)\u001b[0m\u001b[0;34m:\u001b[0m\u001b[0;34m\u001b[0m\u001b[0m\n\u001b[0;32m---> 26\u001b[0;31m         \u001b[0;32mreturn\u001b[0m \u001b[0mcodecs\u001b[0m\u001b[0;34m.\u001b[0m\u001b[0mascii_decode\u001b[0m\u001b[0;34m(\u001b[0m\u001b[0minput\u001b[0m\u001b[0;34m,\u001b[0m \u001b[0mself\u001b[0m\u001b[0;34m.\u001b[0m\u001b[0merrors\u001b[0m\u001b[0;34m)\u001b[0m\u001b[0;34m[\u001b[0m\u001b[0;36m0\u001b[0m\u001b[0;34m]\u001b[0m\u001b[0;34m\u001b[0m\u001b[0m\n\u001b[0m\u001b[1;32m     27\u001b[0m \u001b[0;34m\u001b[0m\u001b[0m\n\u001b[1;32m     28\u001b[0m \u001b[0;32mclass\u001b[0m \u001b[0mStreamWriter\u001b[0m\u001b[0;34m(\u001b[0m\u001b[0mCodec\u001b[0m\u001b[0;34m,\u001b[0m\u001b[0mcodecs\u001b[0m\u001b[0;34m.\u001b[0m\u001b[0mStreamWriter\u001b[0m\u001b[0;34m)\u001b[0m\u001b[0;34m:\u001b[0m\u001b[0;34m\u001b[0m\u001b[0m\n",
        "\u001b[0;31mUnicodeDecodeError\u001b[0m: 'ascii' codec can't decode byte 0xc3 in position 12: ordinal not in range(128)"
       ]
      }
     ],
     "prompt_number": 3
    },
    {
     "cell_type": "markdown",
     "metadata": {},
     "source": [
      "If you get this error, it usually means that you\u2019re not reading the file in the correct\n",
      "encoding. You should carefully read the specification of whatever it is that you\u2019re reading\n",
      "and check that you\u2019re doing it right (e.g., reading data as UTF-8 instead of Latin-1 or\n",
      "whatever it needs to be). If encoding errors are still a possibility, you can supply an\n",
      "optional `errors` argument to `open()` to deal with the errors. Here are a few samples of\n",
      "common error handling schemes:"
     ]
    },
    {
     "cell_type": "code",
     "collapsed": false,
     "input": [
      "# Replace bad chars with Unicode U+fffd replacement char\n",
      "f = open('sample.txt', 'rt', encoding='ascii', errors='replace')\n",
      "f.read()"
     ],
     "language": "python",
     "metadata": {},
     "outputs": [
      {
       "metadata": {},
       "output_type": "pyout",
       "prompt_number": 4,
       "text": [
        "'Spicy Jalape\ufffd\ufffdo\\n'"
       ]
      }
     ],
     "prompt_number": 4
    },
    {
     "cell_type": "code",
     "collapsed": false,
     "input": [
      "# Ignore bad chars entirely\n",
      "g = open('sample.txt', 'rt', encoding='ascii', errors='ignore')\n",
      "g.read()"
     ],
     "language": "python",
     "metadata": {},
     "outputs": [
      {
       "metadata": {},
       "output_type": "pyout",
       "prompt_number": 5,
       "text": [
        "'Spicy Jalapeo\\n'"
       ]
      }
     ],
     "prompt_number": 5
    },
    {
     "cell_type": "markdown",
     "metadata": {},
     "source": [
      "If you\u2019re constantly fiddling with the `encoding` and `errors` arguments to `open()` and\n",
      "doing lots of hacks, you\u2019re probably making life more difficult than it needs to be. The\n",
      "number one rule with text is that you simply need to make sure you\u2019re always using the\n",
      "proper text encoding. When in doubt, use the default setting (typically UTF-8)."
     ]
    }
   ],
   "metadata": {}
  }
 ]
}