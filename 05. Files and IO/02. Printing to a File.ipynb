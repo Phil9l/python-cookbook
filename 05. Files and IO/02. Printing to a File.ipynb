{
 "metadata": {
  "name": ""
 },
 "nbformat": 3,
 "nbformat_minor": 0,
 "worksheets": [
  {
   "cells": [
    {
     "cell_type": "heading",
     "level": 1,
     "metadata": {},
     "source": [
      "5.2. Printing to a File"
     ]
    },
    {
     "cell_type": "markdown",
     "metadata": {},
     "source": [
      "# Problem\n",
      "You want to redirect the output of the `print()` function to a file.\n",
      "\n",
      "# Solution\n",
      "Use the file keyword argument to print(), like this:\n",
      "```python\n",
      "with open('somefile.txt', 'rt') as f:\n",
      "    print('Hello World!', file=f)\n",
      "```"
     ]
    },
    {
     "cell_type": "markdown",
     "metadata": {},
     "source": [
      "# Discussion\n",
      "There\u2019s not much more to printing to a file other than this. However, make sure that the\n",
      "file is opened in text mode. Printing will fail if the underlying file is in binary mode."
     ]
    }
   ],
   "metadata": {}
  }
 ]
}