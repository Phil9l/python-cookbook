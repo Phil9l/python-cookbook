{
 "metadata": {
  "name": ""
 },
 "nbformat": 3,
 "nbformat_minor": 0,
 "worksheets": [
  {
   "cells": [
    {
     "cell_type": "heading",
     "level": 1,
     "metadata": {},
     "source": [
      "5.19. Making Temporary Files and Directories"
     ]
    },
    {
     "cell_type": "markdown",
     "metadata": {},
     "source": [
      "# Problem\n",
      "You need to create a temporary file or directory for use when your program executes.\n",
      "Afterward, you possibly want the file or directory to be destroyed.\n",
      "\n",
      "# Solution\n",
      "The `tempfile` module has a variety of functions for performing this task. To make an\n",
      "unnamed temporary file, use `tempfile.TemporaryFile`:\n",
      "```python\n",
      "from tempfile import TemporaryFile\n",
      "\n",
      "with TemporaryFile('w+t') as f:\n",
      "    # Read/write to the file\n",
      "    f.write('Hello World\\n')\n",
      "    f.write('Testing\\n')\n",
      "\n",
      "    # Seek back to beginning and read the data\n",
      "    f.seek(0)\n",
      "    data = f.read()\n",
      "\n",
      "# Temporary file is destroyed\n",
      "```\n",
      "Or, if you prefer, you can also use the file like this:\n",
      "```python\n",
      "f = TemporaryFile('w+t')\n",
      "# Use the temporary file\n",
      "\u2026\n",
      "f.close()\n",
      "# File is destroyed\n",
      "```\n",
      "The first argument to `TemporaryFile()` is the file mode, which is usually `w+t` for text\n",
      "and `w+b` for binary. This mode simultaneously supports reading and writing, which is\n",
      "useful here since closing the file to change modes would actually destroy it. \n",
      "`TemporaryFile()` additionally accepts the same arguments as the built-in `open()` \n",
      "function. For example:\n",
      "```python\n",
      "with TemporaryFile('w+t', encoding='utf-8', errors='ignore') as f:\n",
      "    \u2026\n",
      "```\n",
      "On most Unix systems, the file created by `TemporaryFile()` is unnamed and won\u2019t even\n",
      "have a directory entry. If you want to relax this constraint, use `NamedTemporaryFile()` \n",
      "instead. For example:\n",
      "```python\n",
      "from tempfile import NamedTemporaryFile\n",
      "\n",
      "with NamedTemporaryFile('w+t') as f:\n",
      "    print('filename is:', f.name)\n",
      "    \u2026\n",
      "\n",
      "# File automatically destroyed\n",
      "```\n",
      "Here, the `f.name` attribute of the opened file contains the filename of the temporary file.\n",
      "This can be useful if it needs to be given to some other code that needs to open the file.\n",
      "As with `TemporaryFile()`, the resulting file is automatically deleted when it\u2019s closed. If\n",
      "you don\u2019t want this, supply a `delete=False` keyword argument. For example:\n",
      "```python\n",
      "with NamedTemporaryFile('w+t', delete=False) as f:\n",
      "    print('filename is:', f.name)\n",
      "    \u2026\n",
      "```\n",
      "To make a temporary directory, use `tempfile.TemporaryDirectory()`. For example:\n",
      "```python\n",
      "from tempfile import TemporaryDirectory\n",
      "with TemporaryDirectory() as dirname:\n",
      "    print('dirname is:', dirname)\n",
      "    # Use the directory\n",
      "    \u2026\n",
      "# Directory and all contents destroyed\n",
      "```"
     ]
    },
    {
     "cell_type": "markdown",
     "metadata": {},
     "source": [
      "# Discussion\n",
      "The `TemporaryFile()`, `NamedTemporaryFile()`, and `TemporaryDirectory()` functions\n",
      "are probably the most convenient way to work with temporary files and directories,\n",
      "because they automatically handle all of the steps of creation and subsequent cleanup.\n",
      "At a lower level, you can also use the `mkstemp()` and `mkdtemp()` to create temporary\n",
      "files and directories. For example:"
     ]
    },
    {
     "cell_type": "code",
     "collapsed": false,
     "input": [
      "import tempfile\n",
      "tempfile.mkstemp()"
     ],
     "language": "python",
     "metadata": {},
     "outputs": [
      {
       "metadata": {},
       "output_type": "pyout",
       "prompt_number": 1,
       "text": [
        "(39, '/tmp/tmpr4gqms7a')"
       ]
      }
     ],
     "prompt_number": 1
    },
    {
     "cell_type": "code",
     "collapsed": false,
     "input": [
      "tempfile.mkdtemp()"
     ],
     "language": "python",
     "metadata": {},
     "outputs": [
      {
       "metadata": {},
       "output_type": "pyout",
       "prompt_number": 2,
       "text": [
        "'/tmp/tmpxphaav22'"
       ]
      }
     ],
     "prompt_number": 2
    },
    {
     "cell_type": "markdown",
     "metadata": {},
     "source": [
      "However, these functions don\u2019t really take care of further management. For example,\n",
      "the `mkstemp()` function simply returns a raw OS file descriptor and leaves it up to you\n",
      "to turn it into a proper file. Similarly, it\u2019s up to you to clean up the files if you want.\n",
      "\n",
      "Normally, temporary files are created in the system\u2019s default location, such\n",
      "as _/var/tmp_ or similar. To find out the actual location, use the \n",
      "`tempfile.gettempdir()` function. For example:"
     ]
    },
    {
     "cell_type": "code",
     "collapsed": false,
     "input": [
      "tempfile.gettempdir()"
     ],
     "language": "python",
     "metadata": {},
     "outputs": [
      {
       "metadata": {},
       "output_type": "pyout",
       "prompt_number": 3,
       "text": [
        "'/tmp'"
       ]
      }
     ],
     "prompt_number": 3
    },
    {
     "cell_type": "markdown",
     "metadata": {},
     "source": [
      "All of the temporary-file-related functions allow you to override this directory as well\n",
      "as the naming conventions using the `prefix`, `suffix`, and `dir` keyword arguments. For\n",
      "example:"
     ]
    },
    {
     "cell_type": "code",
     "collapsed": false,
     "input": [
      "from tempfile import NamedTemporaryFile\n",
      "f = NamedTemporaryFile(prefix='mytemp', suffix='.txt', dir='/tmp')\n",
      "f.name"
     ],
     "language": "python",
     "metadata": {},
     "outputs": [
      {
       "metadata": {},
       "output_type": "pyout",
       "prompt_number": 4,
       "text": [
        "'/tmp/mytempz12doyhs.txt'"
       ]
      }
     ],
     "prompt_number": 4
    },
    {
     "cell_type": "markdown",
     "metadata": {},
     "source": [
      "Last, but not least, to the extent possible, the `tempfile()` module creates temporary\n",
      "files in the most secure manner possible. This includes only giving access permission\n",
      "to the current user and taking steps to avoid race conditions in file creation. Be aware\n",
      "that there can be differences between platforms. Thus, you should make sure to check\n",
      "[the official documentation](http://docs.python.org/3/library/tempfile.html) for the finer points."
     ]
    }
   ],
   "metadata": {}
  }
 ]
}