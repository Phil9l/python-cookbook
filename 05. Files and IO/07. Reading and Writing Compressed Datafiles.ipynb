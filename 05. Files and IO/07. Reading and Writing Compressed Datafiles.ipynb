{
 "metadata": {
  "name": ""
 },
 "nbformat": 3,
 "nbformat_minor": 0,
 "worksheets": [
  {
   "cells": [
    {
     "cell_type": "heading",
     "level": 1,
     "metadata": {},
     "source": [
      "5.7. Reading and Writing Compressed Datafiles"
     ]
    },
    {
     "cell_type": "markdown",
     "metadata": {},
     "source": [
      "# Problem\n",
      "You need to read or write data in a file with gzip or bz2 compression.\n",
      "\n",
      "# Solution\n",
      "The `gzip` and `bz2` modules make it easy to work with such files. Both modules provide\n",
      "an alternative implementation of `open()` that can be used for this purpose. For example,\n",
      "to read compressed files as text, do this:\n",
      "```python\n",
      "# gzip compression\n",
      "import gzip\n",
      "with gzip.open('somefile.gz', 'rt') as f:\n",
      "    text = f.read()\n",
      "\n",
      "# bz2 compression\n",
      "import bz2\n",
      "with bz2.open('somefile.bz2', 'rt') as f:\n",
      "    text = f.read()\n",
      "```\n",
      "Similarly, to write compressed data, do this:\n",
      "```python\n",
      "# gzip compression\n",
      "import gzip\n",
      "with gzip.open('somefile.gz', 'wt') as f:\n",
      "    f.write(text)\n",
      "\n",
      "# bz2 compression\n",
      "import bz2\n",
      "with bz2.open('somefile.bz2', 'wt') as f:\n",
      "    f.write(text)\n",
      "```\n",
      "As shown, all I/O will use text and perform Unicode encoding/decoding. If you want\n",
      "to work with binary data instead, use a file mode of `rb` or `wb`"
     ]
    },
    {
     "cell_type": "markdown",
     "metadata": {},
     "source": [
      "# Discussion\n",
      "For the most part, reading or writing compressed data is straightforward. However, be\n",
      "aware that choosing the correct file mode is critically important. If you don\u2019t specify a\n",
      "mode, the default mode is binary, which will break programs that expect to receive text.\n",
      "Both `gzip.open()` and `bz2.open()` accept the same parameters as the built-in `open()`\n",
      "function, including `encoding`, `errors`, `newline`, and so forth.\n",
      "\n",
      "When writing compressed data, the compression level can be optionally specified using\n",
      "the `compresslevel` keyword argument. For example:\n",
      "```python\n",
      "with gzip.open('somefile.gz', 'wt', compresslevel=5) as f:\n",
      "    f.write(text)\n",
      "```\n",
      "The default level is 9, which provides the highest level of compression. Lower levels offer\n",
      "better performance, but not as much compression.\n",
      "\n",
      "Finally, a little-known feature of `gzip.open()` and `bz2.open()` is that they can be layered\n",
      "on top of an existing file opened in binary mode. For example, this works:\n",
      "```python\n",
      "import gzip\n",
      "\n",
      "f = open('somefile.gz', 'rb')\n",
      "with gzip.open(f, 'rt') as g:\n",
      "    text = g.read()\n",
      "```\n",
      "This allows the `gzip` and `bz2` modules to work with various file-like objects such as\n",
      "sockets, pipes, and in-memory files."
     ]
    }
   ],
   "metadata": {}
  }
 ]
}