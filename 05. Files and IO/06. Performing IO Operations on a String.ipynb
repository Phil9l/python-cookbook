{
 "metadata": {
  "name": ""
 },
 "nbformat": 3,
 "nbformat_minor": 0,
 "worksheets": [
  {
   "cells": [
    {
     "cell_type": "heading",
     "level": 1,
     "metadata": {},
     "source": [
      "5.6. Performing I/O Operations on a String"
     ]
    },
    {
     "cell_type": "markdown",
     "metadata": {},
     "source": [
      "# Problem\n",
      "You want to feed a text or binary string to code that\u2019s been written to operate on filelike\n",
      "objects instead.\n",
      "\n",
      "# Solution\n",
      "Use the `io.StringIO()` and `io.BytesIO()` classes to create file-like objects that operate\n",
      "on string data. For example:"
     ]
    },
    {
     "cell_type": "code",
     "collapsed": false,
     "input": [
      "import io\n",
      "s = io.StringIO()\n",
      "s.write('Hello World\\n')"
     ],
     "language": "python",
     "metadata": {},
     "outputs": [
      {
       "metadata": {},
       "output_type": "pyout",
       "prompt_number": 1,
       "text": [
        "12"
       ]
      }
     ],
     "prompt_number": 1
    },
    {
     "cell_type": "code",
     "collapsed": false,
     "input": [
      "print('This is a test', file=s)"
     ],
     "language": "python",
     "metadata": {},
     "outputs": [],
     "prompt_number": 2
    },
    {
     "cell_type": "code",
     "collapsed": false,
     "input": [
      "# Get all of the data written so far\n",
      "s.getvalue()"
     ],
     "language": "python",
     "metadata": {},
     "outputs": [
      {
       "metadata": {},
       "output_type": "pyout",
       "prompt_number": 3,
       "text": [
        "'Hello World\\nThis is a test\\n'"
       ]
      }
     ],
     "prompt_number": 3
    },
    {
     "cell_type": "code",
     "collapsed": false,
     "input": [
      "# Wrap a file interface around an existing string\n",
      "s = io.StringIO('Hello\\nWorld\\n')\n",
      "s.read(4)"
     ],
     "language": "python",
     "metadata": {},
     "outputs": [
      {
       "metadata": {},
       "output_type": "pyout",
       "prompt_number": 4,
       "text": [
        "'Hell'"
       ]
      }
     ],
     "prompt_number": 4
    },
    {
     "cell_type": "code",
     "collapsed": false,
     "input": [
      "s.read()"
     ],
     "language": "python",
     "metadata": {},
     "outputs": [
      {
       "metadata": {},
       "output_type": "pyout",
       "prompt_number": 5,
       "text": [
        "'o\\nWorld\\n'"
       ]
      }
     ],
     "prompt_number": 5
    },
    {
     "cell_type": "markdown",
     "metadata": {},
     "source": [
      "The `io.StringIO` class should only be used for text. If you are operating with binary\n",
      "data, use the `io.BytesIO` class instead. For example:"
     ]
    },
    {
     "cell_type": "code",
     "collapsed": false,
     "input": [
      "s = io.BytesIO()\n",
      "s.write(b'binary data')\n",
      "s.getvalue()"
     ],
     "language": "python",
     "metadata": {},
     "outputs": [
      {
       "metadata": {},
       "output_type": "pyout",
       "prompt_number": 6,
       "text": [
        "b'binary data'"
       ]
      }
     ],
     "prompt_number": 6
    },
    {
     "cell_type": "markdown",
     "metadata": {},
     "source": [
      "# Discussion\n",
      "The `StringIO` and `BytesIO` classes are most useful in scenarios where you need to mimic\n",
      "a normal file for some reason. For example, in unit tests, you might use `StringIO` to\n",
      "create a file-like object containing test data that\u2019s fed into a function that would otherwise\n",
      "work with a normal file.\n",
      "\n",
      "Be aware that `StringIO` and `BytesIO` instances don\u2019t have a proper integer filedescriptor.\n",
      "Thus, they do not work with code that requires the use of a real system-level\n",
      "file such as a file, pipe, or socket."
     ]
    }
   ],
   "metadata": {}
  }
 ]
}