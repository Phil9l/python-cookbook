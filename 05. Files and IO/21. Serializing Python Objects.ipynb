{
 "metadata": {
  "name": ""
 },
 "nbformat": 3,
 "nbformat_minor": 0,
 "worksheets": [
  {
   "cells": [
    {
     "cell_type": "heading",
     "level": 1,
     "metadata": {},
     "source": [
      "5.21. Serializing Python Objects"
     ]
    },
    {
     "cell_type": "markdown",
     "metadata": {},
     "source": [
      "# Problem\n",
      "You need to serialize a Python object into a byte stream so that you can do things such\n",
      "as save it to a file, store it in a database, or transmit it over a network connection.\n",
      "\n",
      "# Solution\n",
      "The most common approach for serializing data is to use the `pickle` module. To dump\n",
      "an object to a file, you do this:\n",
      "```python\n",
      "import pickle\n",
      "\n",
      "data = ... # Some Python object\n",
      "f = open('somefile', 'wb')\n",
      "pickle.dump(data, f)\n",
      "```\n",
      "To dump an object to a string, use `pickle.dumps()`:\n",
      "```python\n",
      "s = pickle.dumps(data)\n",
      "```\n",
      "To re-create an object from a byte stream, use either the `pickle.load()` or \n",
      "`pickle.loads()` functions. For example:\n",
      "```python\n",
      "# Restore from a file\n",
      "f = open('somefile', 'rb')\n",
      "data = pickle.load(f)\n",
      "\n",
      "# Restore from a string\n",
      "data = pickle.loads(s)\n",
      "```"
     ]
    },
    {
     "cell_type": "markdown",
     "metadata": {},
     "source": [
      "# Discussion\n",
      "For most programs, usage of the `dump()` and `load()` function is all you need to effectively\n",
      "use pickle. It simply works with most Python data types and instances of user-defined\n",
      "classes. If you\u2019re working with any kind of library that lets you do things such as save/restore \n",
      "Python objects in databases or transmit objects over the network, there\u2019s a pretty\n",
      "good chance that `pickle` is being used.\n",
      "\n",
      "`pickle` is a Python-specific self-describing data encoding. By self-describing, the \n",
      "serialized data contains information related to the start and end of each object as well as\n",
      "information about its type. Thus, you don\u2019t need to worry about defining records \u2014 it\n",
      "simply works. For example, if working with multiple objects, you can do this:"
     ]
    },
    {
     "cell_type": "code",
     "collapsed": false,
     "input": [
      "import pickle\n",
      "f = open('somedata', 'wb')\n",
      "pickle.dump([1, 2, 3, 4], f)\n",
      "pickle.dump('hello', f)\n",
      "pickle.dump({'Apple', 'Pear', 'Banana'}, f)\n",
      "f.close()\n",
      "f = open('somedata', 'rb')\n",
      "pickle.load(f)"
     ],
     "language": "python",
     "metadata": {},
     "outputs": [
      {
       "metadata": {},
       "output_type": "pyout",
       "prompt_number": 1,
       "text": [
        "[1, 2, 3, 4]"
       ]
      }
     ],
     "prompt_number": 1
    },
    {
     "cell_type": "code",
     "collapsed": false,
     "input": [
      "pickle.load(f)"
     ],
     "language": "python",
     "metadata": {},
     "outputs": [
      {
       "metadata": {},
       "output_type": "pyout",
       "prompt_number": 2,
       "text": [
        "'hello'"
       ]
      }
     ],
     "prompt_number": 2
    },
    {
     "cell_type": "code",
     "collapsed": false,
     "input": [
      "pickle.load(f)"
     ],
     "language": "python",
     "metadata": {},
     "outputs": [
      {
       "metadata": {},
       "output_type": "pyout",
       "prompt_number": 3,
       "text": [
        "{'Apple', 'Banana', 'Pear'}"
       ]
      }
     ],
     "prompt_number": 3
    },
    {
     "cell_type": "markdown",
     "metadata": {},
     "source": [
      "You can pickle functions, classes, and instances, but the resulting data only encodes\n",
      "name references to the associated code objects. For example:"
     ]
    },
    {
     "cell_type": "code",
     "collapsed": false,
     "input": [
      "import math\n",
      "import pickle\n",
      "pickle.dumps(math.cos)"
     ],
     "language": "python",
     "metadata": {},
     "outputs": [
      {
       "metadata": {},
       "output_type": "pyout",
       "prompt_number": 4,
       "text": [
        "b'\\x80\\x03cmath\\ncos\\nq\\x00.'"
       ]
      }
     ],
     "prompt_number": 4
    },
    {
     "cell_type": "markdown",
     "metadata": {},
     "source": [
      "When the data is unpickled, it is assumed that all of the required source is available.\n",
      "Modules, classes, and functions will automatically be imported as needed. For applica\u2010\n",
      "tions where Python data is being shared between interpreters on different machines,\n",
      "this is a potential maintenance issue, as all machines must have access to the same source\n",
      "code.\n",
      "\n",
      "## Warning!\n",
      "`pickle.load()` should never be used on untrusted data. As a side effect\n",
      "of loading, pickle will automatically load modules and make instances.\n",
      "However, an evildoer who knows how pickle works can create \u201cmalformed\u201d \n",
      "data that causes Python to execute arbitrary system commands. \n",
      "Thus, it\u2019s essential that pickle only be used internally with \n",
      "interpreters that have some ability to authenticate one another.\n",
      "\n",
      "Certain kinds of objects can\u2019t be pickled. These are typically objects that involve some\n",
      "sort of external system state, such as open files, open network connections, threads,\n",
      "processes, stack frames, and so forth. User-defined classes can sometimes work around\n",
      "these limitations by providing `__getstate__()` and `__setstate__()` methods. If \n",
      "defined, `pickle.dump()` will call `__getstate__()` to get an object that can be pickled.\n",
      "Similarly, `__setstate__()` will be invoked on unpickling. To illustrate what\u2019s possible,\n",
      "here is a class that internally defines a thread but can still be pickled/unpickled:"
     ]
    },
    {
     "cell_type": "code",
     "collapsed": false,
     "input": [
      "# countdown.py\n",
      "import time\n",
      "import threading\n",
      "\n",
      "class Countdown:\n",
      "    def __init__(self, n):\n",
      "        self.n = n\n",
      "        self.thr = threading.Thread(target=self.run)\n",
      "        self.thr.daemon = True\n",
      "        self.thr.start()\n",
      "\n",
      "    def run(self):\n",
      "        while self.n > 0:\n",
      "            print('T-minus', self.n)\n",
      "            self.n -= 1\n",
      "            time.sleep(5)\n",
      "\n",
      "    def __getstate__(self):\n",
      "        return self.n\n",
      "\n",
      "    def __setstate__(self, n):\n",
      "        self.__init__(n)"
     ],
     "language": "python",
     "metadata": {},
     "outputs": [],
     "prompt_number": 5
    },
    {
     "cell_type": "markdown",
     "metadata": {},
     "source": [
      "Try the following experiment involving pickling:"
     ]
    },
    {
     "cell_type": "code",
     "collapsed": false,
     "input": [
      "# import countdown\n",
      "# c = countdown.Countdown(30)\n",
      "c = Countdown(30)"
     ],
     "language": "python",
     "metadata": {},
     "outputs": [
      {
       "output_type": "stream",
       "stream": "stdout",
       "text": [
        "T-minus 30\n"
       ]
      }
     ],
     "prompt_number": 6
    },
    {
     "cell_type": "code",
     "collapsed": false,
     "input": [
      "# After a few moments\n",
      "f = open('cstate.p', 'wb')\n",
      "import pickle\n",
      "pickle.dump(c, f)\n",
      "f.close()"
     ],
     "language": "python",
     "metadata": {},
     "outputs": [],
     "prompt_number": 7
    },
    {
     "cell_type": "code",
     "collapsed": false,
     "input": [
      "f = open('cstate.p', 'rb')\n",
      "pickle.load(f)"
     ],
     "language": "python",
     "metadata": {},
     "outputs": [
      {
       "output_type": "stream",
       "stream": "stdout",
       "text": [
        "T-minus 29\n",
        "T-minus 29\n"
       ]
      },
      {
       "metadata": {},
       "output_type": "pyout",
       "prompt_number": 8,
       "text": [
        "<__main__.Countdown at 0x7efea0132a58>"
       ]
      }
     ],
     "prompt_number": 8
    },
    {
     "cell_type": "markdown",
     "metadata": {},
     "source": [
      "You should see the thread magically spring to life again, picking up where it left off when\n",
      "you first pickled it.\n",
      "\n",
      "`pickle` is not a particularly efficient encoding for large data structures such as binary\n",
      "arrays created by libraries like the `array` module or `numpy`. If you\u2019re moving large\n",
      "amounts of array data around, you may be better off simply saving bulk array data in a\n",
      "file or using a more standardized encoding, such as HDF5 (supported by third-party\n",
      "libraries).\n",
      "\n",
      "Because of its Python-specific nature and attachment to source code, you probably\n",
      "shouldn\u2019t use `pickle` as a format for long-term storage. For example, if the source code\n",
      "changes, all of your stored data might break and become unreadable. Frankly, for storing\n",
      "data in databases and archival storage, you\u2019re probably better off using a more standard\n",
      "data encoding, such as XML, CSV, or JSON. These encodings are more standardized,\n",
      "supported by many different languages, and more likely to be better adapted to changes\n",
      "in your source code.\n",
      "\n",
      "Last, but not least, be aware that `pickle` has a huge variety of options and tricky corner\n",
      "cases. For the most common uses, you don\u2019t need to worry about them, but a look at\n",
      "the [official documentation](http://docs.python.org/3/library/pickle.html) should be \n",
      "required if you\u2019re going to build a signficant application that uses `pickle` for serialization."
     ]
    }
   ],
   "metadata": {}
  }
 ]
}