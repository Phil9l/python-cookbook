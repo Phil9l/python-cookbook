{
 "metadata": {
  "name": ""
 },
 "nbformat": 3,
 "nbformat_minor": 0,
 "worksheets": [
  {
   "cells": [
    {
     "cell_type": "heading",
     "level": 1,
     "metadata": {},
     "source": [
      "5.11. Manipulating Pathnames"
     ]
    },
    {
     "cell_type": "markdown",
     "metadata": {},
     "source": [
      "# Problem\n",
      "You need to manipulate pathnames in order to find the base filename, directory name,\n",
      "absolute path, and so on.\n",
      "\n",
      "# Solution\n",
      "To manipulate pathnames, use the functions in the `os.path` module. Here is an \n",
      "interactive example that illustrates a few key features:"
     ]
    },
    {
     "cell_type": "code",
     "collapsed": false,
     "input": [
      "import os\n",
      "path = '/Users/beazley/Data/data.csv'\n",
      "\n",
      "# Get the last component of the path\n",
      "os.path.basename(path)"
     ],
     "language": "python",
     "metadata": {},
     "outputs": [
      {
       "metadata": {},
       "output_type": "pyout",
       "prompt_number": 1,
       "text": [
        "'data.csv'"
       ]
      }
     ],
     "prompt_number": 1
    },
    {
     "cell_type": "code",
     "collapsed": false,
     "input": [
      "# Get the directory name\n",
      "os.path.dirname(path)"
     ],
     "language": "python",
     "metadata": {},
     "outputs": [
      {
       "metadata": {},
       "output_type": "pyout",
       "prompt_number": 2,
       "text": [
        "'/Users/beazley/Data'"
       ]
      }
     ],
     "prompt_number": 2
    },
    {
     "cell_type": "code",
     "collapsed": false,
     "input": [
      "# Join path components together\n",
      "os.path.join('tmp', 'data', os.path.basename(path))"
     ],
     "language": "python",
     "metadata": {},
     "outputs": [
      {
       "metadata": {},
       "output_type": "pyout",
       "prompt_number": 3,
       "text": [
        "'tmp/data/data.csv'"
       ]
      }
     ],
     "prompt_number": 3
    },
    {
     "cell_type": "code",
     "collapsed": false,
     "input": [
      "# Expand the user's home directory\n",
      "path = '~/Data/data.csv'\n",
      "os.path.expanduser(path)"
     ],
     "language": "python",
     "metadata": {},
     "outputs": [
      {
       "metadata": {},
       "output_type": "pyout",
       "prompt_number": 4,
       "text": [
        "'/home/phil9l/Data/data.csv'"
       ]
      }
     ],
     "prompt_number": 4
    },
    {
     "cell_type": "code",
     "collapsed": false,
     "input": [
      "# Split the file extension\n",
      "os.path.splitext(path)"
     ],
     "language": "python",
     "metadata": {},
     "outputs": [
      {
       "metadata": {},
       "output_type": "pyout",
       "prompt_number": 5,
       "text": [
        "('~/Data/data', '.csv')"
       ]
      }
     ],
     "prompt_number": 5
    },
    {
     "cell_type": "markdown",
     "metadata": {},
     "source": [
      "# Discussion\n",
      "For any manipulation of filenames, you should use the `os.path` module instead of trying\n",
      "to cook up your own code using the standard string operations. In part, this is for\n",
      "portability. The `os.path` module knows about differences between Unix and Windows\n",
      "and can reliably deal with filenames such as `Data/data.csv` and `Data\\data.csv`. Second,\n",
      "you really shouldn\u2019t spend your time reinventing the wheel. It\u2019s usually best to use the\n",
      "functionality that\u2019s already provided for you.\n",
      "\n",
      "It should be noted that the `os.path` module has many more features not shown in this\n",
      "recipe. Consult the documentation for more functions related to file testing, symbolic\n",
      "links, and so forth."
     ]
    }
   ],
   "metadata": {}
  }
 ]
}