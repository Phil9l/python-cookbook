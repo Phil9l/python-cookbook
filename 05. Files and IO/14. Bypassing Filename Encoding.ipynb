{
 "metadata": {
  "name": ""
 },
 "nbformat": 3,
 "nbformat_minor": 0,
 "worksheets": [
  {
   "cells": [
    {
     "cell_type": "heading",
     "level": 1,
     "metadata": {},
     "source": [
      "5.14. Bypassing Filename Encoding"
     ]
    },
    {
     "cell_type": "markdown",
     "metadata": {},
     "source": [
      "# Problem\n",
      "You want to perform file I/O operations using raw filenames that have not been decoded\n",
      "or encoded according to the default filename encoding.\n",
      "\n",
      "# Solution\n",
      "By default, all filenames are encoded and decoded according to the text encoding re\u2010\n",
      "turned by `sys.getfilesystemencoding()`. For example:"
     ]
    },
    {
     "cell_type": "code",
     "collapsed": false,
     "input": [
      "import sys\n",
      "sys.getfilesystemencoding()"
     ],
     "language": "python",
     "metadata": {},
     "outputs": [
      {
       "metadata": {},
       "output_type": "pyout",
       "prompt_number": 1,
       "text": [
        "'utf-8'"
       ]
      }
     ],
     "prompt_number": 1
    },
    {
     "cell_type": "markdown",
     "metadata": {},
     "source": [
      "If you want to bypass this encoding for some reason, specify a filename using a raw byte\n",
      "string instead. For example:"
     ]
    },
    {
     "cell_type": "code",
     "collapsed": false,
     "input": [
      "# Wrte a file using a unicode filename\n",
      "with open('jalape\\xf1o.txt', 'w') as f:\n",
      "    f.write('Spicy!')"
     ],
     "language": "python",
     "metadata": {},
     "outputs": [],
     "prompt_number": 2
    },
    {
     "cell_type": "code",
     "collapsed": false,
     "input": [
      "# Directory listing (decoded)\n",
      "os.listdir('.')"
     ],
     "language": "python",
     "metadata": {},
     "outputs": [
      {
       "metadata": {},
       "output_type": "pyout",
       "prompt_number": 3,
       "text": [
        "['jalape\u00f1o.txt']"
       ]
      }
     ],
     "prompt_number": 3
    },
    {
     "cell_type": "code",
     "collapsed": false,
     "input": [
      "# Directory listing (raw)\n",
      "os.listdir(b'.')  # Note: byte string"
     ],
     "language": "python",
     "metadata": {},
     "outputs": [
      {
       "metadata": {},
       "output_type": "pyout",
       "prompt_number": 4,
       "text": [
        "[b'jalape\\xc3\\xb1o.txt']"
       ]
      }
     ],
     "prompt_number": 4
    },
    {
     "cell_type": "code",
     "collapsed": false,
     "input": [
      "# Open file with raw filename\n",
      "with open(b'jalape\\xc3\\xb1o.txt') as f:\n",
      "    print(f.read())"
     ],
     "language": "python",
     "metadata": {},
     "outputs": [
      {
       "output_type": "stream",
       "stream": "stdout",
       "text": [
        "Spicy!\n"
       ]
      }
     ],
     "prompt_number": 5
    },
    {
     "cell_type": "markdown",
     "metadata": {},
     "source": [
      "As you can see in the last two operations, the filename handling changes ever so slightly\n",
      "when byte strings are supplied to file-related functions, such as `open()` and \n",
      "`os.listdir()`."
     ]
    },
    {
     "cell_type": "markdown",
     "metadata": {},
     "source": [
      "# Discussion\n",
      "Under normal circumstances, you shouldn\u2019t need to worry about filename encoding\n",
      "and decoding\u2014normal filename operations should just work. However, many operating\n",
      "systems may allow a user through accident or malice to create files with names that don\u2019t\n",
      "conform to the expected encoding rules. Such filenames may mysteriously break Python\n",
      "programs that work with a lot of files.\n",
      "\n",
      "Reading directories and working with filenames as raw undecoded bytes has the \n",
      "potential to avoid such problems, albeit at the cost of programming convenience.\n",
      "\n",
      "See Recipe 5.15 for a recipe on printing undecodable filenames."
     ]
    }
   ],
   "metadata": {}
  }
 ]
}