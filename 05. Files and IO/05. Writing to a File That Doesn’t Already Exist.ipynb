{
 "metadata": {
  "name": ""
 },
 "nbformat": 3,
 "nbformat_minor": 0,
 "worksheets": [
  {
   "cells": [
    {
     "cell_type": "heading",
     "level": 1,
     "metadata": {},
     "source": [
      "5.5. Writing to a File That Doesn\u2019t Already Exist"
     ]
    },
    {
     "cell_type": "markdown",
     "metadata": {},
     "source": [
      "# Problem\n",
      "You want to write data to a file, but only if it doesn\u2019t already exist on the filesystem.\n",
      "\n",
      "# Solution\n",
      "This problem is easily solved by using the little-known `x` mode to `open()` instead of the\n",
      "usual `w` mode. For example:"
     ]
    },
    {
     "cell_type": "code",
     "collapsed": false,
     "input": [
      "with open('somefile', 'wt') as f:\n",
      "    f.write('Hello\\n')"
     ],
     "language": "python",
     "metadata": {},
     "outputs": [],
     "prompt_number": 1
    },
    {
     "cell_type": "code",
     "collapsed": false,
     "input": [
      "with open('somefile', 'xt') as f:\n",
      "    f.write('Hello\\n')"
     ],
     "language": "python",
     "metadata": {},
     "outputs": [
      {
       "ename": "FileExistsError",
       "evalue": "[Errno 17] File exists: 'somefile'",
       "output_type": "pyerr",
       "traceback": [
        "\u001b[0;31m---------------------------------------------------------------------------\u001b[0m\n\u001b[0;31mFileExistsError\u001b[0m                           Traceback (most recent call last)",
        "\u001b[0;32m<ipython-input-2-7dd8105d4b09>\u001b[0m in \u001b[0;36m<module>\u001b[0;34m()\u001b[0m\n\u001b[0;32m----> 1\u001b[0;31m \u001b[0;32mwith\u001b[0m \u001b[0mopen\u001b[0m\u001b[0;34m(\u001b[0m\u001b[0;34m'somefile'\u001b[0m\u001b[0;34m,\u001b[0m \u001b[0;34m'xt'\u001b[0m\u001b[0;34m)\u001b[0m \u001b[0;32mas\u001b[0m \u001b[0mf\u001b[0m\u001b[0;34m:\u001b[0m\u001b[0;34m\u001b[0m\u001b[0m\n\u001b[0m\u001b[1;32m      2\u001b[0m     \u001b[0mf\u001b[0m\u001b[0;34m.\u001b[0m\u001b[0mwrite\u001b[0m\u001b[0;34m(\u001b[0m\u001b[0;34m'Hello\\n'\u001b[0m\u001b[0;34m)\u001b[0m\u001b[0;34m\u001b[0m\u001b[0m\n",
        "\u001b[0;31mFileExistsError\u001b[0m: [Errno 17] File exists: 'somefile'"
       ]
      }
     ],
     "prompt_number": 2
    },
    {
     "cell_type": "markdown",
     "metadata": {},
     "source": [
      "If the file is binary mode, use mode `xb` instead of `xt`."
     ]
    },
    {
     "cell_type": "markdown",
     "metadata": {},
     "source": [
      "# Discussion\n",
      "This recipe illustrates an extremely elegant solution to a problem that sometimes arises\n",
      "when writing files (i.e., accidentally overwriting an existing file). An alternative solution\n",
      "is to first test for the file like this:"
     ]
    },
    {
     "cell_type": "code",
     "collapsed": false,
     "input": [
      "import os\n",
      "if not os.path.exists('somefile'):\n",
      "    with open('somefile', 'wt') as f:\n",
      "        f.write('Hello\\n')\n",
      "else:\n",
      "    print('File already exists!')"
     ],
     "language": "python",
     "metadata": {},
     "outputs": [
      {
       "output_type": "stream",
       "stream": "stdout",
       "text": [
        "File already exists!\n"
       ]
      }
     ],
     "prompt_number": 3
    },
    {
     "cell_type": "markdown",
     "metadata": {},
     "source": [
      "Clearly, using the `x` file mode is a lot more straightforward. It is important to note that\n",
      "the `x` mode is a Python 3 specific extension to the `open()` function. In particular, no\n",
      "such mode exists in earlier Python versions or the underlying C libraries used in Python\u2019s\n",
      "implementation."
     ]
    }
   ],
   "metadata": {}
  }
 ]
}