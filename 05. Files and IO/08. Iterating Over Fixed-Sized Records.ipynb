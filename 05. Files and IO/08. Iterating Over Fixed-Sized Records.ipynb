{
 "metadata": {
  "name": ""
 },
 "nbformat": 3,
 "nbformat_minor": 0,
 "worksheets": [
  {
   "cells": [
    {
     "cell_type": "heading",
     "level": 1,
     "metadata": {},
     "source": [
      "5.8. Iterating Over Fixed-Sized Records"
     ]
    },
    {
     "cell_type": "markdown",
     "metadata": {},
     "source": [
      "# Problem\n",
      "Instead of iterating over a file by lines, you want to iterate over a collection of fixedsized\n",
      "records or chunks.\n",
      "\n",
      "# Solution\n",
      "Use the `iter()` function and `functools.partial()` using this neat trick:\n",
      "```python\n",
      "from functools import partial\n",
      "\n",
      "RECORD_SIZE = 32\n",
      "\n",
      "with open('somefile.data', 'rb') as f:\n",
      "    records = iter(partial(f.read, RECORD_SIZE), b'')\n",
      "    for r in records:\n",
      "        \u2026\n",
      "```\n",
      "The `records` object in this example is an iterable that will produce fixed-sized chunks\n",
      "until the end of the file is reached. However, be aware that the last item may have fewer\n",
      "bytes than expected if the file size is not an exact multiple of the record size."
     ]
    },
    {
     "cell_type": "markdown",
     "metadata": {},
     "source": [
      "# Discussion\n",
      "A little-known feature of the `iter()` function is that it can create an iterator if you pass\n",
      "it a callable and a sentinel value. The resulting iterator simply calls the supplied callable\n",
      "over and over again until it returns the sentinel, at which point iteration stops.\n",
      "\n",
      "In the solution, the `functools.partial` is used to create a callable that reads a fixed\n",
      "number of bytes from a file each time it\u2019s called. The sentinel of `b''` is what gets returned\n",
      "when a file is read but the end of file has been reached.\n",
      "\n",
      "Last, but not least, the solution shows the file being opened in binary mode. For reading\n",
      "fixed-sized records, this would probably be the most common case. For text files, reading\n",
      "line by line (the default iteration behavior) is more common."
     ]
    }
   ],
   "metadata": {}
  }
 ]
}