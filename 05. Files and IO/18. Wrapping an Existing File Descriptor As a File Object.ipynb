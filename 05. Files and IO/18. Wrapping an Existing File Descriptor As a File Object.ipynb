{
 "metadata": {
  "name": ""
 },
 "nbformat": 3,
 "nbformat_minor": 0,
 "worksheets": [
  {
   "cells": [
    {
     "cell_type": "heading",
     "level": 1,
     "metadata": {},
     "source": [
      "5.18. Wrapping an Existing File Descriptor As a File Object"
     ]
    },
    {
     "cell_type": "markdown",
     "metadata": {},
     "source": [
      "# Problem\n",
      "You have an integer file descriptor correponding to an already open I/O channel on the\n",
      "operating system (e.g., file, pipe, socket, etc.), and you want to wrap a higher-level\n",
      "Python file object around it.\n",
      "\n",
      "# Solution\n",
      "A file descriptor is different than a normal open file in that it is simply an integer handle\n",
      "assigned by the operating system to refer to some kind of system I/O channel. If you\n",
      "happen to have such a file descriptor, you can wrap a Python file object around it using\n",
      "the `open()` function. However, you simply supply the integer file descriptor as the first\n",
      "argument instead of the filename. For example:\n",
      "```python\n",
      "# Open a low-level file descriptor\n",
      "import os\n",
      "fd = os.open('somefile.txt', os.O_WRONLY | os.O_CREAT)\n",
      "# Turn into a proper file\n",
      "f = open(fd, 'wt')\n",
      "f.write('hello world\\n')\n",
      "f.close()\n",
      "```\n",
      "When the high-level file object is closed or destroyed, the underlying file descriptor will\n",
      "also be closed. If this is not desired, supply the optional `closefd=False` argument to\n",
      "`open()`. For example:\n",
      "```python\n",
      "# Create a file object, but don't close underlying fd when done\n",
      "f = open(fd, 'wt', closefd=False)\n",
      "\u2026\n",
      "```"
     ]
    },
    {
     "cell_type": "markdown",
     "metadata": {},
     "source": [
      "# Discussion\n",
      "On Unix systems, this technique of wrapping a file descriptor can be a convenient means\n",
      "for putting a file-like interface on an existing I/O channel that was opened in a different\n",
      "way (e.g., pipes, sockets, etc.). For instance, here is an example involving sockets:\n",
      "```python\n",
      "from socket import socket, AF_INET, SOCK_STREAM\n",
      "\n",
      "def echo_client(client_sock, addr):\n",
      "    print('Got connection from', addr)\n",
      "\n",
      "    # Make text-mode file wrappers for socket reading/writing\n",
      "    client_in = open(client_sock.fileno(), 'rt', encoding='latin-1',\n",
      "                     closefd=False)\n",
      "    client_out = open(client_sock.fileno(), 'wt', encoding='latin-1',\n",
      "                      closefd=False)\n",
      "    # Echo lines back to the client using file I/O\n",
      "    for line in client_in:\n",
      "        client_out.write(line)\n",
      "        client_out.flush()\n",
      "        client_sock.close()\n",
      "\n",
      "def echo_server(address):\n",
      "    sock = socket(AF_INET, SOCK_STREAM)\n",
      "    sock.bind(address)\n",
      "    sock.listen(1)\n",
      "    while True:\n",
      "        client, addr = sock.accept()\n",
      "        echo_client(client, addr)\n",
      "```\n",
      "It\u2019s important to emphasize that the above example is only meant to illustrate a feature\n",
      "of the built-in `open()` function and that it only works on Unix-based systems. If you are\n",
      "trying to put a file-like interface on a socket and need your code to be cross platform,\n",
      "use the `makefile()` method of sockets instead. However, if portability is not a concern,\n",
      "you\u2019ll find that the above solution provides much better performance than using `makefile()`.\n",
      "\n",
      "You can also use this to make a kind of alias that allows an already open file to be used\n",
      "in a slightly different way than how it was first opened. For example, here\u2019s how you\n",
      "could create a file object that allows you to emit binary data on `stdout` (which is normally\n",
      "opened in text mode):\n",
      "```python\n",
      "import sys\n",
      "# Create a binary-mode file for stdout\n",
      "bstdout = open(sys.stdout.fileno(), 'wb', closefd=False)\n",
      "bstdout.write(b'Hello World\\n')\n",
      "bstdout.flush()\n",
      "```\n",
      "Although it\u2019s possible to wrap an existing file descriptor as a proper file, be aware that\n",
      "not all file modes may be supported and that certain kinds of file descriptors may have\n",
      "funny side effects (especially with respect to error handling, end-of-file conditions, etc.).\n",
      "The behavior can also vary according to operating system. In particular, none of the\n",
      "examples are likely to work on non-Unix systems. The bottom line is that you\u2019ll need\n",
      "to thoroughly test your implementation to make sure it works as expected."
     ]
    }
   ],
   "metadata": {}
  }
 ]
}