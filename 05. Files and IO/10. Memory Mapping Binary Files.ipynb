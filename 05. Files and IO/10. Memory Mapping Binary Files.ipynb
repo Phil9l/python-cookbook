{
 "metadata": {
  "name": ""
 },
 "nbformat": 3,
 "nbformat_minor": 0,
 "worksheets": [
  {
   "cells": [
    {
     "cell_type": "heading",
     "level": 1,
     "metadata": {},
     "source": [
      "5.10. Memory Mapping Binary Files"
     ]
    },
    {
     "cell_type": "markdown",
     "metadata": {},
     "source": [
      "# Problem\n",
      "You want to memory map a binary file into a mutable byte array, possibly for random\n",
      "access to its contents or to make in-place modifications.\n",
      "\n",
      "# Solution\n",
      "Use the `mmap` module to memory map files. Here is a utility function that shows how to\n",
      "open a file and memory map it in a portable manner:"
     ]
    },
    {
     "cell_type": "code",
     "collapsed": false,
     "input": [
      "import os\n",
      "import mmap\n",
      "\n",
      "def memory_map(filename, access=mmap.ACCESS_WRITE):\n",
      "    size = os.path.getsize(filename)\n",
      "    fd = os.open(filename, os.O_RDWR)\n",
      "    return mmap.mmap(fd, size, access=access)"
     ],
     "language": "python",
     "metadata": {},
     "outputs": [],
     "prompt_number": 1
    },
    {
     "cell_type": "markdown",
     "metadata": {},
     "source": [
      "To use this function, you would need to have a file already created and filled with data.\n",
      "Here is an example of how you could initially create a file and expand it to a desired\n",
      "size:"
     ]
    },
    {
     "cell_type": "code",
     "collapsed": false,
     "input": [
      "size = 1000000\n",
      "with open('data', 'wb') as f:\n",
      "    f.seek(size - 1)\n",
      "    f.write(b'\\x00')"
     ],
     "language": "python",
     "metadata": {},
     "outputs": [],
     "prompt_number": 2
    },
    {
     "cell_type": "markdown",
     "metadata": {},
     "source": [
      "Now here is an example of memory mapping the contents using the `memory_map()`\n",
      "function:"
     ]
    },
    {
     "cell_type": "code",
     "collapsed": false,
     "input": [
      "m = memory_map('data')\n",
      "len(m)"
     ],
     "language": "python",
     "metadata": {},
     "outputs": [
      {
       "metadata": {},
       "output_type": "pyout",
       "prompt_number": 3,
       "text": [
        "1000000"
       ]
      }
     ],
     "prompt_number": 3
    },
    {
     "cell_type": "code",
     "collapsed": false,
     "input": [
      "m[0:10]"
     ],
     "language": "python",
     "metadata": {},
     "outputs": [
      {
       "metadata": {},
       "output_type": "pyout",
       "prompt_number": 4,
       "text": [
        "b'\\x00\\x00\\x00\\x00\\x00\\x00\\x00\\x00\\x00\\x00'"
       ]
      }
     ],
     "prompt_number": 4
    },
    {
     "cell_type": "code",
     "collapsed": false,
     "input": [
      "m[0]"
     ],
     "language": "python",
     "metadata": {},
     "outputs": [
      {
       "metadata": {},
       "output_type": "pyout",
       "prompt_number": 5,
       "text": [
        "0"
       ]
      }
     ],
     "prompt_number": 5
    },
    {
     "cell_type": "code",
     "collapsed": false,
     "input": [
      "# Reassign a slice\n",
      "m[0:11] = b'Hello World'\n",
      "m.close()"
     ],
     "language": "python",
     "metadata": {},
     "outputs": [],
     "prompt_number": 6
    },
    {
     "cell_type": "code",
     "collapsed": false,
     "input": [
      "# Verify that changes were made\n",
      "with open('data', 'rb') as f:\n",
      "    print(f.read(11))"
     ],
     "language": "python",
     "metadata": {},
     "outputs": [
      {
       "output_type": "stream",
       "stream": "stdout",
       "text": [
        "b'Hello World'\n"
       ]
      }
     ],
     "prompt_number": 7
    },
    {
     "cell_type": "markdown",
     "metadata": {},
     "source": [
      "The `mmap` object returned by `mmap()` can also be used as a context manager, in which\n",
      "case the underlying file is closed automatically. For example:"
     ]
    },
    {
     "cell_type": "code",
     "collapsed": false,
     "input": [
      "with memory_map('data') as m:\n",
      "    print(len(m))\n",
      "    print(m[0:10])"
     ],
     "language": "python",
     "metadata": {},
     "outputs": [
      {
       "output_type": "stream",
       "stream": "stdout",
       "text": [
        "1000000\n",
        "b'Hello Worl'\n"
       ]
      }
     ],
     "prompt_number": 8
    },
    {
     "cell_type": "code",
     "collapsed": false,
     "input": [
      "m.closed"
     ],
     "language": "python",
     "metadata": {},
     "outputs": [
      {
       "metadata": {},
       "output_type": "pyout",
       "prompt_number": 9,
       "text": [
        "True"
       ]
      }
     ],
     "prompt_number": 9
    },
    {
     "cell_type": "markdown",
     "metadata": {},
     "source": [
      "By default, the `memory_map()` function shown opens a file for both reading and writing.\n",
      "Any modifications made to the data are copied back to the original file. If read-only\n",
      "access is needed instead, supply `mmap.ACCESS_READ` for the `access` argument. For\n",
      "example:\n",
      "```python\n",
      "m = memory_map(filename, mmap.ACCESS_READ)\n",
      "```\n",
      "If you intend to modify the data locally, but don\u2019t want those changes written back to\n",
      "the original file, use `mmap.ACCESS_COPY`:\n",
      "```python\n",
      "m = memory_map(filename, mmap.ACCESS_COPY)\n",
      "```"
     ]
    },
    {
     "cell_type": "markdown",
     "metadata": {},
     "source": [
      "# Discussion\n",
      "\n",
      "Using `mmap` to map files into memory can be an efficient and elegant means for randomly\n",
      "accessing the contents of a file. For example, instead of opening a file and performing\n",
      "various combinations of `seek()`, `read()`, and `write()` calls, you can simply map the\n",
      "file and access the data using slicing operations.\n",
      "\n",
      "Normally, the memory exposed by `mmap()` looks like a `bytearray` object. However, you\n",
      "can interpret the data differently using a memoryview. For example:"
     ]
    },
    {
     "cell_type": "code",
     "collapsed": false,
     "input": [
      "m = memory_map('data')\n",
      "# Memoryview of unsigned integers\n",
      "v = memoryview(m).cast('I')\n",
      "v[0] = 7\n",
      "m[0:4]"
     ],
     "language": "python",
     "metadata": {},
     "outputs": [
      {
       "metadata": {},
       "output_type": "pyout",
       "prompt_number": 10,
       "text": [
        "b'\\x07\\x00\\x00\\x00'"
       ]
      }
     ],
     "prompt_number": 10
    },
    {
     "cell_type": "code",
     "collapsed": false,
     "input": [
      "m[0:4] = b'\\x07\\x01\\x00\\x00'\n",
      "v[0]"
     ],
     "language": "python",
     "metadata": {},
     "outputs": [
      {
       "metadata": {},
       "output_type": "pyout",
       "prompt_number": 11,
       "text": [
        "263"
       ]
      }
     ],
     "prompt_number": 11
    },
    {
     "cell_type": "markdown",
     "metadata": {},
     "source": [
      "It should be emphasized that memory mapping a file does not cause the entire file to be\n",
      "read into memory. That is, it\u2019s not copied into some kind of memory buffer or array.\n",
      "Instead, the operating system merely reserves a section of virtual memory for the file\n",
      "contents. As you access different regions, those portions of the file will be read and\n",
      "mapped into the memory region as needed. However, parts of the file that are never\n",
      "accessed simply stay on disk. This all happens transparently, behind the scenes.\n",
      "\n",
      "If more than one Python interpreter memory maps the same file, the resulting `mmap`\n",
      "object can be used to exchange data between interpreters. That is, all interpreters can\n",
      "read/write data simultaneously, and changes made to the data in one interpreter will\n",
      "automatically appear in the others. Obviously, some extra care is required to synchronize\n",
      "things, but this kind of approach is sometimes used as an alternative to transmitting\n",
      "data in messages over pipes or sockets.\n",
      "\n",
      "As shown, this recipe has been written to be as general purpose as possible, working on\n",
      "both Unix and Windows. Be aware that there are some platform differences concerning\n",
      "the use of the `mmap()` call hidden behind the scenes. In addition, there are options to\n",
      "create anonymously mapped memory regions. If this is of interest to you, make sure\n",
      "you carefully read the Python documentation on the subject."
     ]
    }
   ],
   "metadata": {}
  }
 ]
}