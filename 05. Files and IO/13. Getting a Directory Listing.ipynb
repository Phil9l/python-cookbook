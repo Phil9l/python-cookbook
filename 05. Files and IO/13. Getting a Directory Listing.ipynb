{
 "metadata": {
  "name": ""
 },
 "nbformat": 3,
 "nbformat_minor": 0,
 "worksheets": [
  {
   "cells": [
    {
     "cell_type": "heading",
     "level": 1,
     "metadata": {},
     "source": [
      "5.13. Getting a Directory Listing"
     ]
    },
    {
     "cell_type": "markdown",
     "metadata": {},
     "source": [
      "# Problem\n",
      "You want to get a list of the files contained in a directory on the filesystem.\n",
      "\n",
      "# Solution\n",
      "Use the `os.listdir()` function to obtain a list of files in a directory:\n",
      "```python\n",
      "import os\n",
      "names = os.listdir('somedir')\n",
      "```\n",
      "This will give you the raw directory listing, including all files, subdirectories, symbolic\n",
      "links, and so forth. If you need to filter the data in some way, consider using a list\n",
      "comprehension combined with various functions in the `os.path` library. For example:\n",
      "```python\n",
      "import os.path\n",
      "# Get all regular files\n",
      "names = [name for name in os.listdir('somedir')\n",
      "         if os.path.isfile(os.path.join('somedir', name))]\n",
      "\n",
      "# Get all dirs\n",
      "dirnames = [name for name in os.listdir('somedir')\n",
      "            if os.path.isdir(os.path.join('somedir', name))]\n",
      "```\n",
      "The `startswith()` and `endswith()` methods of strings can be useful for filtering the\n",
      "contents of a directory as well. For example:\n",
      "```python\n",
      "pyfiles = [name for name in os.listdir('somedir')\n",
      "           if name.endswith('.py')]\n",
      "```\n",
      "For filename matching, you may want to use the glob or fnmatch modules instead. For\n",
      "example:\n",
      "```python\n",
      "import glob\n",
      "pyfiles = glob.glob('somedir/*.py')\n",
      "\n",
      "from fnmatch import fnmatch\n",
      "pyfiles = [name for name in os.listdir('somedir')\n",
      "           if fnmatch(name, '*.py')]\n",
      "```"
     ]
    },
    {
     "cell_type": "markdown",
     "metadata": {},
     "source": [
      "# Discussion\n",
      "Getting a directory listing is easy, but it only gives you the names of entries in the\n",
      "directory. If you want to get additional metadata, such as file sizes, modification dates,\n",
      "and so forth, you either need to use additional functions in the `os.path` module or use\n",
      "the `os.stat()` function. To collect the data. For example:\n",
      "```python\n",
      "# Example of getting a directory listing\n",
      "\n",
      "import os\n",
      "import os.path\n",
      "import glob\n",
      "\n",
      "pyfiles = glob.glob('*.py')\n",
      "\n",
      "# Get file sizes and modification dates\n",
      "name_sz_date = [(name, os.path.getsize(name), os.path.getmtime(name))\n",
      "                for name in pyfiles]\n",
      "\n",
      "for name, size, mtime in name_sz_date:\n",
      "    print(name, size, mtime)\n",
      "\n",
      "# Alternative: Get file metadata\n",
      "file_metadata = [(name, os.stat(name)) for name in pyfiles]\n",
      "for name, meta in file_metadata:\n",
      "    print(name, meta.st_size, meta.st_mtime)\n",
      "```\n",
      "Last, but not least, be aware that there are subtle issues that can arise in filename handling\n",
      "related to encodings. Normally, the entries returned by a function such as `os.listdir() \n",
      "are decoded according to the system default filename encoding. However, it\u2019s\n",
      "possible under certain circumstances to encounter un-decodable filenames. Recipes\n",
      "5.14 and 5.15 have more details about handling such names."
     ]
    }
   ],
   "metadata": {}
  }
 ]
}