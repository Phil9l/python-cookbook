{
 "metadata": {
  "name": ""
 },
 "nbformat": 3,
 "nbformat_minor": 0,
 "worksheets": [
  {
   "cells": [
    {
     "cell_type": "heading",
     "level": 1,
     "metadata": {},
     "source": [
      "5.4. Reading and Writing Binary Data"
     ]
    },
    {
     "cell_type": "markdown",
     "metadata": {},
     "source": [
      "# Problem\n",
      "You need to read or write binary data, such as that found in images, sound files, and so\n",
      "on.\n",
      "\n",
      "# Solution\n",
      "Use the `open()` function with mode `rb` or `wb` to read or write binary data. For example:\n",
      "```python\n",
      "# Read the entire file as a single byte string\n",
      "with open('somefile.bin', 'rb') as f:\n",
      "    data = f.read()\n",
      "\n",
      "# Write binary data to a file\n",
      "with open('somefile.bin', 'wb') as f:\n",
      "    f.write(b'Hello World')\n",
      "```\n",
      "When reading binary, it is important to stress that all data returned will be in the form\n",
      "of byte strings, not text strings. Similarly, when writing, you must supply data in the\n",
      "form of objects that expose data as bytes (e.g., byte strings, `bytearray` objects, etc.)."
     ]
    },
    {
     "cell_type": "markdown",
     "metadata": {},
     "source": [
      "# Discussion\n",
      "When reading binary data, the subtle semantic differences between byte strings and text\n",
      "strings pose a potential gotcha. In particular, be aware that indexing and iteration return\n",
      "integer byte values instead of byte strings. For example:"
     ]
    },
    {
     "cell_type": "code",
     "collapsed": false,
     "input": [
      "# Text string\n",
      "t = 'Hello World'\n",
      "t[0]"
     ],
     "language": "python",
     "metadata": {},
     "outputs": [
      {
       "metadata": {},
       "output_type": "pyout",
       "prompt_number": 1,
       "text": [
        "'H'"
       ]
      }
     ],
     "prompt_number": 1
    },
    {
     "cell_type": "code",
     "collapsed": false,
     "input": [
      "for c in t:\n",
      "    print(c)"
     ],
     "language": "python",
     "metadata": {},
     "outputs": [
      {
       "output_type": "stream",
       "stream": "stdout",
       "text": [
        "H\n",
        "e\n",
        "l\n",
        "l\n",
        "o\n",
        " \n",
        "W\n",
        "o\n",
        "r\n",
        "l\n",
        "d\n"
       ]
      }
     ],
     "prompt_number": 2
    },
    {
     "cell_type": "code",
     "collapsed": false,
     "input": [
      "# Byte string\n",
      "b = b'Hello World'\n",
      "b[0]"
     ],
     "language": "python",
     "metadata": {},
     "outputs": [
      {
       "metadata": {},
       "output_type": "pyout",
       "prompt_number": 3,
       "text": [
        "72"
       ]
      }
     ],
     "prompt_number": 3
    },
    {
     "cell_type": "code",
     "collapsed": false,
     "input": [
      "for c in b:\n",
      "    print(c)"
     ],
     "language": "python",
     "metadata": {},
     "outputs": [
      {
       "output_type": "stream",
       "stream": "stdout",
       "text": [
        "72\n",
        "101\n",
        "108\n",
        "108\n",
        "111\n",
        "32\n",
        "87\n",
        "111\n",
        "114\n",
        "108\n",
        "100\n"
       ]
      }
     ],
     "prompt_number": 4
    },
    {
     "cell_type": "markdown",
     "metadata": {},
     "source": [
      "If you ever need to read or write text from a binary-mode file, make sure you remember\n",
      "to decode or encode it. For example:\n",
      "```python\n",
      "with open('somefile.bin', 'rb') as f:\n",
      "    data = f.read(16)\n",
      "    text = data.decode('utf-8')\n",
      "\n",
      "with open('somefile.bin', 'wb') as f:\n",
      "    text = 'Hello World'\n",
      "    f.write(text.encode('utf-8'))\n",
      "```\n",
      "A lesser-known aspect of binary I/O is that objects such as arrays and C structures can\n",
      "be used for writing without any kind of intermediate conversion to a `bytes` object. For\n",
      "example:"
     ]
    },
    {
     "cell_type": "code",
     "collapsed": false,
     "input": [
      "import array\n",
      "nums = array.array('i', [1, 2, 3, 4])\n",
      "with open('data.bin','wb') as f:\n",
      "    f.write(nums)"
     ],
     "language": "python",
     "metadata": {},
     "outputs": [],
     "prompt_number": 5
    },
    {
     "cell_type": "markdown",
     "metadata": {},
     "source": [
      "This applies to any object that implements the so-called \u201cbuffer interface,\u201d which directly\n",
      "exposes an underlying memory buffer to operations that can work with it. Writing\n",
      "binary data is one such operation.\n",
      "\n",
      "Many objects also allow binary data to be directly read into their underlying memory\n",
      "using the `readinto()` method of files. For example:"
     ]
    },
    {
     "cell_type": "code",
     "collapsed": false,
     "input": [
      "import array\n",
      "a = array.array('i', [0, 0, 0, 0, 0, 0, 0, 0])\n",
      "with open('data.bin', 'rb') as f:\n",
      "    f.readinto(a)\n",
      "a"
     ],
     "language": "python",
     "metadata": {},
     "outputs": [
      {
       "metadata": {},
       "output_type": "pyout",
       "prompt_number": 6,
       "text": [
        "array('i', [1, 2, 3, 4, 0, 0, 0, 0])"
       ]
      }
     ],
     "prompt_number": 6
    },
    {
     "cell_type": "markdown",
     "metadata": {},
     "source": [
      "However, great care should be taken when using this technique, as it is often platform\n",
      "specific and may depend on such things as the word size and byte ordering (i.e., big\n",
      "endian versus little endian). See Recipe 5.9 for another example of reading binary data\n",
      "into a mutable buffer."
     ]
    }
   ],
   "metadata": {}
  }
 ]
}