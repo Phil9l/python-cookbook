{
 "metadata": {
  "name": ""
 },
 "nbformat": 3,
 "nbformat_minor": 0,
 "worksheets": [
  {
   "cells": [
    {
     "cell_type": "heading",
     "level": 1,
     "metadata": {},
     "source": [
      "1.12. Determining the Most Frequently Occurring Items in\n",
      "a Sequence"
     ]
    },
    {
     "cell_type": "markdown",
     "metadata": {},
     "source": [
      "# Problem\n",
      "You have a sequence of items, and you\u2019d like to determine the most frequently occurring\n",
      "items in the sequence.\n",
      "\n",
      "# Solution\n",
      "The `collections.Counter` class is designed for just such a problem. It even comes with\n",
      "a handy `most_common()` method that will give you the answer.\n",
      "To illustrate, let\u2019s say you have a list of words and you want to find out which words\n",
      "occur most often. Here\u2019s how you would do it:"
     ]
    },
    {
     "cell_type": "code",
     "collapsed": false,
     "input": [
      "words = [\n",
      "    'look', 'into', 'my', 'eyes', 'look', 'into', 'my', 'eyes',\n",
      "    'the', 'eyes', 'the', 'eyes', 'the', 'eyes', 'not', 'around', 'the',\n",
      "    'eyes', \"don't\", 'look', 'around', 'the', 'eyes', 'look', 'into',\n",
      "    'my', 'eyes', \"you're\", 'under'\n",
      "]\n",
      "\n",
      "from collections import Counter\n",
      "word_counts = Counter(words)\n",
      "top_three = word_counts.most_common(3)\n",
      "print(top_three)  # Outputs [('eyes', 8), ('the', 5), ('look', 4)]"
     ],
     "language": "python",
     "metadata": {},
     "outputs": [
      {
       "output_type": "stream",
       "stream": "stdout",
       "text": [
        "[('eyes', 8), ('the', 5), ('look', 4)]\n"
       ]
      }
     ],
     "prompt_number": 1
    },
    {
     "cell_type": "markdown",
     "metadata": {},
     "source": [
      "# Discussion\n",
      "As input, `Counter` objects can be fed any sequence of hashable input items. Under the\n",
      "covers, a `Counter` is a dictionary that maps the items to the number of occurrences. For\n",
      "example:"
     ]
    },
    {
     "cell_type": "code",
     "collapsed": false,
     "input": [
      "word_counts['not']"
     ],
     "language": "python",
     "metadata": {},
     "outputs": [
      {
       "metadata": {},
       "output_type": "pyout",
       "prompt_number": 2,
       "text": [
        "1"
       ]
      }
     ],
     "prompt_number": 2
    },
    {
     "cell_type": "code",
     "collapsed": false,
     "input": [
      "word_counts['eyes']"
     ],
     "language": "python",
     "metadata": {},
     "outputs": [
      {
       "metadata": {},
       "output_type": "pyout",
       "prompt_number": 3,
       "text": [
        "8"
       ]
      }
     ],
     "prompt_number": 3
    },
    {
     "cell_type": "markdown",
     "metadata": {},
     "source": [
      "If you want to increment the count manually, simply use addition:"
     ]
    },
    {
     "cell_type": "code",
     "collapsed": false,
     "input": [
      "morewords = ['why','are','you','not','looking','in','my','eyes']\n",
      "for word in morewords:\n",
      "    word_counts[word] += 1\n",
      "word_counts['eyes']"
     ],
     "language": "python",
     "metadata": {},
     "outputs": [
      {
       "metadata": {},
       "output_type": "pyout",
       "prompt_number": 4,
       "text": [
        "9"
       ]
      }
     ],
     "prompt_number": 4
    },
    {
     "cell_type": "markdown",
     "metadata": {},
     "source": [
      "Or, alternatively, you could use the update() method:"
     ]
    },
    {
     "cell_type": "code",
     "collapsed": false,
     "input": [
      "word_counts.update(morewords)"
     ],
     "language": "python",
     "metadata": {},
     "outputs": [],
     "prompt_number": 5
    },
    {
     "cell_type": "markdown",
     "metadata": {},
     "source": [
      "A little-known feature of Counter instances is that they can be easily combined using\n",
      "various mathematical operations. For example:"
     ]
    },
    {
     "cell_type": "code",
     "collapsed": false,
     "input": [
      "a = Counter(words)\n",
      "b = Counter(morewords)\n",
      "a"
     ],
     "language": "python",
     "metadata": {},
     "outputs": [
      {
       "metadata": {},
       "output_type": "pyout",
       "prompt_number": 6,
       "text": [
        "Counter({'eyes': 8, 'the': 5, 'look': 4, 'into': 3, 'my': 3, 'around': 2, 'not': 1, \"you're\": 1, \"don't\": 1, 'under': 1})"
       ]
      }
     ],
     "prompt_number": 6
    },
    {
     "cell_type": "code",
     "collapsed": false,
     "input": [
      "b"
     ],
     "language": "python",
     "metadata": {},
     "outputs": [
      {
       "metadata": {},
       "output_type": "pyout",
       "prompt_number": 7,
       "text": [
        "Counter({'not': 1, 'looking': 1, 'in': 1, 'why': 1, 'eyes': 1, 'are': 1, 'you': 1, 'my': 1})"
       ]
      }
     ],
     "prompt_number": 7
    },
    {
     "cell_type": "code",
     "collapsed": false,
     "input": [
      "c = a + b\n",
      "c"
     ],
     "language": "python",
     "metadata": {},
     "outputs": [
      {
       "metadata": {},
       "output_type": "pyout",
       "prompt_number": 8,
       "text": [
        "Counter({'eyes': 9, 'the': 5, 'look': 4, 'my': 4, 'into': 3, 'not': 2, 'around': 2, \"don't\": 1, 'under': 1, 'you': 1, 'looking': 1, 'in': 1, \"you're\": 1, 'why': 1, 'are': 1})"
       ]
      }
     ],
     "prompt_number": 8
    },
    {
     "cell_type": "code",
     "collapsed": false,
     "input": [
      "d = a - b\n",
      "d"
     ],
     "language": "python",
     "metadata": {},
     "outputs": [
      {
       "metadata": {},
       "output_type": "pyout",
       "prompt_number": 9,
       "text": [
        "Counter({'eyes': 7, 'the': 5, 'look': 4, 'into': 3, 'around': 2, 'my': 2, \"you're\": 1, \"don't\": 1, 'under': 1})"
       ]
      }
     ],
     "prompt_number": 9
    },
    {
     "cell_type": "markdown",
     "metadata": {},
     "source": [
      "Needless to say, `Counter` objects are a tremendously useful tool for almost any kind of\n",
      "problem where you need to tabulate and count data. You should prefer this over manually \n",
      "written solutions involving dictionaries."
     ]
    }
   ],
   "metadata": {}
  }
 ]
}