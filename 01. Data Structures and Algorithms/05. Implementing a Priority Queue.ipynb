{
 "metadata": {
  "name": ""
 },
 "nbformat": 3,
 "nbformat_minor": 0,
 "worksheets": [
  {
   "cells": [
    {
     "cell_type": "heading",
     "level": 1,
     "metadata": {},
     "source": [
      "1.5. Implementing a Priority Queue"
     ]
    },
    {
     "cell_type": "markdown",
     "metadata": {},
     "source": [
      "# Problem\n",
      "You want to implement a queue that sorts items by a given priority and always returns\n",
      "the item with the highest priority on each pop operation.\n",
      "\n",
      "# Solution\n",
      "The following class uses the heapq module to implement a simple priority queue:"
     ]
    },
    {
     "cell_type": "code",
     "collapsed": false,
     "input": [
      "import heapq\n",
      "\n",
      "class PriorityQueue:\n",
      "    def __init__(self):\n",
      "        self._queue = []\n",
      "        self._index = 0\n",
      "\n",
      "    def push(self, item, priority):\n",
      "        heapq.heappush(self._queue, (-priority, self._index, item))\n",
      "        self._index += 1\n",
      "\n",
      "    def pop(self):\n",
      "        return heapq.heappop(self._queue)[-1]"
     ],
     "language": "python",
     "metadata": {},
     "outputs": [],
     "prompt_number": 1
    },
    {
     "cell_type": "markdown",
     "metadata": {},
     "source": [
      "Here is an example of how it might be used:"
     ]
    },
    {
     "cell_type": "code",
     "collapsed": false,
     "input": [
      "class Item:\n",
      "    def __init__(self, name):\n",
      "        self.name = name\n",
      "    \n",
      "    def __repr__(self):\n",
      "        return 'Item({!r})'.format(self.name)\n",
      "\n",
      "q = PriorityQueue()\n",
      "q.push(Item('foo'), 1)\n",
      "q.push(Item('bar'), 5)\n",
      "q.push(Item('spam'), 4)\n",
      "q.push(Item('grok'), 1)\n",
      "q.pop()"
     ],
     "language": "python",
     "metadata": {},
     "outputs": [
      {
       "metadata": {},
       "output_type": "pyout",
       "prompt_number": 2,
       "text": [
        "Item('bar')"
       ]
      }
     ],
     "prompt_number": 2
    },
    {
     "cell_type": "code",
     "collapsed": false,
     "input": [
      "q.pop()"
     ],
     "language": "python",
     "metadata": {},
     "outputs": [
      {
       "metadata": {},
       "output_type": "pyout",
       "prompt_number": 3,
       "text": [
        "Item('spam')"
       ]
      }
     ],
     "prompt_number": 3
    },
    {
     "cell_type": "code",
     "collapsed": false,
     "input": [
      "q.pop()"
     ],
     "language": "python",
     "metadata": {},
     "outputs": [
      {
       "metadata": {},
       "output_type": "pyout",
       "prompt_number": 4,
       "text": [
        "Item('foo')"
       ]
      }
     ],
     "prompt_number": 4
    },
    {
     "cell_type": "code",
     "collapsed": false,
     "input": [
      "q.pop()"
     ],
     "language": "python",
     "metadata": {},
     "outputs": [
      {
       "metadata": {},
       "output_type": "pyout",
       "prompt_number": 5,
       "text": [
        "Item('grok')"
       ]
      }
     ],
     "prompt_number": 5
    },
    {
     "cell_type": "markdown",
     "metadata": {},
     "source": [
      "Observe how the first `pop()` operation returned the item with the highest priority. Also\n",
      "observe how the two items with the same priority (foo and grok) were returned in the\n",
      "same order in which they were inserted into the queue."
     ]
    },
    {
     "cell_type": "markdown",
     "metadata": {},
     "source": [
      "# Discussion\n",
      "The core of this recipe concerns the use of the heapq module. The functions `heapq.heap`\n",
      "`push()` and `heapq.heappop()` insert and remove items from a list `_queue` in a way such\n",
      "that the first item in the list has the smallest priority (as discussed in Recipe 1.4). The\n",
      "`heappop()` method always returns the \u201csmallest\u201d item, so that is the key to making the\n",
      "queue pop the correct items. Moreover, since the push and pop operations have \n",
      "$O(logN)$ complexity where $N$ is the number of items in the heap, they are fairly efficient even\n",
      "for fairly large values of $N$.\n",
      "\n",
      "In this recipe, the queue consists of tuples of the form `(-priority, index, item)`. The\n",
      "priority value is negated to get the queue to sort items from highest priority to lowest\n",
      "priority. This is opposite of the normal heap ordering, which sorts from lowest to highest\n",
      "value.\n",
      "\n",
      "The role of the index variable is to properly order items with the same priority level.\n",
      "By keeping a constantly increasing index, the items will be sorted according to the order\n",
      "in which they were inserted. However, the index also serves an important role in making\n",
      "the comparison operations work for items that have the same priority level.\n",
      "\n",
      "To elaborate on that, instances of Item in the example can\u2019t be ordered. For example:"
     ]
    },
    {
     "cell_type": "code",
     "collapsed": false,
     "input": [
      "a = Item('foo')\n",
      "b = Item('bar')\n",
      "a < b"
     ],
     "language": "python",
     "metadata": {},
     "outputs": [
      {
       "ename": "TypeError",
       "evalue": "unorderable types: Item() < Item()",
       "output_type": "pyerr",
       "traceback": [
        "\u001b[0;31m---------------------------------------------------------------------------\u001b[0m\n\u001b[0;31mTypeError\u001b[0m                                 Traceback (most recent call last)",
        "\u001b[0;32m<ipython-input-6-3bf0061fd9c0>\u001b[0m in \u001b[0;36m<module>\u001b[0;34m()\u001b[0m\n\u001b[1;32m      1\u001b[0m \u001b[0ma\u001b[0m \u001b[0;34m=\u001b[0m \u001b[0mItem\u001b[0m\u001b[0;34m(\u001b[0m\u001b[0;34m'foo'\u001b[0m\u001b[0;34m)\u001b[0m\u001b[0;34m\u001b[0m\u001b[0m\n\u001b[1;32m      2\u001b[0m \u001b[0mb\u001b[0m \u001b[0;34m=\u001b[0m \u001b[0mItem\u001b[0m\u001b[0;34m(\u001b[0m\u001b[0;34m'bar'\u001b[0m\u001b[0;34m)\u001b[0m\u001b[0;34m\u001b[0m\u001b[0m\n\u001b[0;32m----> 3\u001b[0;31m \u001b[0ma\u001b[0m \u001b[0;34m<\u001b[0m \u001b[0mb\u001b[0m\u001b[0;34m\u001b[0m\u001b[0m\n\u001b[0m",
        "\u001b[0;31mTypeError\u001b[0m: unorderable types: Item() < Item()"
       ]
      }
     ],
     "prompt_number": 6
    },
    {
     "cell_type": "markdown",
     "metadata": {},
     "source": [
      "If you make `(priority, item)` tuples, they can be compared as long as the priorities\n",
      "are different. However, if two tuples with equal priorities are compared, the comparison\n",
      "fails as before. For example:"
     ]
    },
    {
     "cell_type": "code",
     "collapsed": false,
     "input": [
      "a = (1, Item('foo'))\n",
      "b = (5, Item('bar'))\n",
      "a < b"
     ],
     "language": "python",
     "metadata": {},
     "outputs": [
      {
       "metadata": {},
       "output_type": "pyout",
       "prompt_number": 7,
       "text": [
        "True"
       ]
      }
     ],
     "prompt_number": 7
    },
    {
     "cell_type": "code",
     "collapsed": false,
     "input": [
      "c = (1, Item('grok'))\n",
      "a < c"
     ],
     "language": "python",
     "metadata": {},
     "outputs": [
      {
       "ename": "TypeError",
       "evalue": "unorderable types: Item() < Item()",
       "output_type": "pyerr",
       "traceback": [
        "\u001b[0;31m---------------------------------------------------------------------------\u001b[0m\n\u001b[0;31mTypeError\u001b[0m                                 Traceback (most recent call last)",
        "\u001b[0;32m<ipython-input-8-914192ad79e6>\u001b[0m in \u001b[0;36m<module>\u001b[0;34m()\u001b[0m\n\u001b[1;32m      1\u001b[0m \u001b[0mc\u001b[0m \u001b[0;34m=\u001b[0m \u001b[0;34m(\u001b[0m\u001b[0;36m1\u001b[0m\u001b[0;34m,\u001b[0m \u001b[0mItem\u001b[0m\u001b[0;34m(\u001b[0m\u001b[0;34m'grok'\u001b[0m\u001b[0;34m)\u001b[0m\u001b[0;34m)\u001b[0m\u001b[0;34m\u001b[0m\u001b[0m\n\u001b[0;32m----> 2\u001b[0;31m \u001b[0ma\u001b[0m \u001b[0;34m<\u001b[0m \u001b[0mc\u001b[0m\u001b[0;34m\u001b[0m\u001b[0m\n\u001b[0m",
        "\u001b[0;31mTypeError\u001b[0m: unorderable types: Item() < Item()"
       ]
      }
     ],
     "prompt_number": 8
    },
    {
     "cell_type": "markdown",
     "metadata": {},
     "source": [
      "By introducing the extra index and making `(priority, index, item)` tuples, you avoid\n",
      "this problem entirely since no two tuples will ever have the same value for index (and\n",
      "Python never bothers to compare the remaining tuple values once the result of comparison \n",
      "can be determined):"
     ]
    },
    {
     "cell_type": "code",
     "collapsed": false,
     "input": [
      "a = (1, 0, Item('foo'))\n",
      "b = (5, 1, Item('bar'))\n",
      "c = (1, 2, Item('grok'))\n",
      "a < b"
     ],
     "language": "python",
     "metadata": {},
     "outputs": [
      {
       "metadata": {},
       "output_type": "pyout",
       "prompt_number": 9,
       "text": [
        "True"
       ]
      }
     ],
     "prompt_number": 9
    },
    {
     "cell_type": "code",
     "collapsed": false,
     "input": [
      "a < c"
     ],
     "language": "python",
     "metadata": {},
     "outputs": [
      {
       "metadata": {},
       "output_type": "pyout",
       "prompt_number": 10,
       "text": [
        "True"
       ]
      }
     ],
     "prompt_number": 10
    },
    {
     "cell_type": "markdown",
     "metadata": {},
     "source": [
      "If you want to use this queue for communication between threads, you need to add\n",
      "appropriate locking and signaling. See Recipe 12.3 for an example of how to do this.\n",
      "\n",
      "The documentation for the heapq module has further examples and discussion concerning \n",
      "the theory and implementation of heaps."
     ]
    }
   ],
   "metadata": {}
  }
 ]
}