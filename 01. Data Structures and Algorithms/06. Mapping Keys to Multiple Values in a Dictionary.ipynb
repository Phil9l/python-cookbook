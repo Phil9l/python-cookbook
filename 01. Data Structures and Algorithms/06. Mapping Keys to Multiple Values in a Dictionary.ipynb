{
 "metadata": {
  "name": ""
 },
 "nbformat": 3,
 "nbformat_minor": 0,
 "worksheets": [
  {
   "cells": [
    {
     "cell_type": "heading",
     "level": 1,
     "metadata": {},
     "source": [
      "1.6. Mapping Keys to Multiple Values in a Dictionary"
     ]
    },
    {
     "cell_type": "markdown",
     "metadata": {},
     "source": [
      "# Problem\n",
      "You want to make a dictionary that maps keys to more than one value (a so-called\n",
      "\u201cmultidict\u201d).\n",
      "\n",
      "# Solution\n",
      "A dictionary is a mapping where each key is mapped to a single value. If you want to\n",
      "map keys to multiple values, you need to store the multiple values in another container\n",
      "such as a list or set. For example, you might make dictionaries like this:\n",
      "```python\n",
      "d = {\n",
      "    'a' : [1, 2, 3],\n",
      "    'b' : [4, 5]\n",
      "}\n",
      "e = {\n",
      "    'a' : {1, 2, 3},\n",
      "    'b' : {4, 5}\n",
      "}\n",
      "```\n",
      "The choice of whether or not to use lists or sets depends on intended use. Use a list if\n",
      "you want to preserve the insertion order of the items. Use a set if you want to eliminate\n",
      "duplicates (and don\u2019t care about the order).\n",
      "\n",
      "To easily construct such dictionaries, you can use defaultdict in the collections\n",
      "module. A feature of defaultdict is that it automatically initializes the first value so\n",
      "you can simply focus on adding items. For example:\n",
      "\n",
      "```python\n",
      "from collections import defaultdict\n",
      "\n",
      "d = defaultdict(list)\n",
      "d['a'].append(1)\n",
      "d['a'].append(2)\n",
      "d['b'].append(4)\n",
      "\u2026\n",
      "d = defaultdict(set)\n",
      "d['a'].add(1)\n",
      "d['a'].add(2)\n",
      "d['b'].add(4)\n",
      "\u2026\n",
      "```\n",
      "\n",
      "One caution with defaultdict is that it will automatically create dictionary entries for\n",
      "keys accessed later on (even if they aren\u2019t currently found in the dictionary). If you don\u2019t\n",
      "want this behavior, you might use `setdefault()` on an ordinary dictionary instead. For\n",
      "example:\n",
      "\n",
      "```python\n",
      "d = {} #  A regular dictionary\n",
      "d.setdefault('a', []).append(1)\n",
      "d.setdefault('a', []).append(2)\n",
      "d.setdefault('b', []).append(4)\n",
      "```\n",
      "\n",
      "However, many programmers find `setdefault()` to be a little unnatural\u2014not to mention\n",
      "the fact that it always creates a new instance of the initial value on each invocation\n",
      "(the empty list `[]` in the example)."
     ]
    },
    {
     "cell_type": "markdown",
     "metadata": {},
     "source": [
      "# Discussion\n",
      "In principle, constructing a multivalued dictionary is simple. However, initialization of\n",
      "the first value can be messy if you try to do it yourself. For example, you might have\n",
      "code that looks like this:\n",
      "```python\n",
      "d = {}\n",
      "for key, value in pairs:\n",
      "    if key not in d:\n",
      "        d[key] = []\n",
      "    d[key].append(value)\n",
      "```\n",
      "\n",
      "Using a defaultdict simply leads to much cleaner code:\n",
      "```python\n",
      "d = defaultdict(list)\n",
      "for key, value in pairs:\n",
      "    d[key].append(value)\n",
      "```\n",
      "This recipe is strongly related to the problem of grouping records together in data processing \n",
      "problems. See Recipe 1.15 for an example."
     ]
    }
   ],
   "metadata": {}
  }
 ]
}