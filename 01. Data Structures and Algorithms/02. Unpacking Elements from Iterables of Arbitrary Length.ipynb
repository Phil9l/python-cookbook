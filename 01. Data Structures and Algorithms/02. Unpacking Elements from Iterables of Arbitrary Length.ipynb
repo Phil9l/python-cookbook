{
 "metadata": {
  "name": ""
 },
 "nbformat": 3,
 "nbformat_minor": 0,
 "worksheets": [
  {
   "cells": [
    {
     "cell_type": "heading",
     "level": 1,
     "metadata": {},
     "source": [
      "1.2. Unpacking Elements from Iterables of Arbitrary\n",
      "Length"
     ]
    },
    {
     "cell_type": "markdown",
     "metadata": {},
     "source": [
      "# Problem\n",
      "You need to unpack $N$ elements from an iterable, but the iterable may be longer than $N$ elements, causing a \u201ctoo many values to unpack\u201d exception.\n",
      "\n",
      "# Solution\n",
      "Python \u201cstar expressions\u201d can be used to address this problem. For example, suppose you run a course and decide at the end of the semester that you\u2019re going to drop the first and last homework grades, and only average the rest of them. If there are only four assignments, maybe you simply unpack all four, but what if there are $24$? A star expression makes it easy:\n",
      "\n",
      "```python\n",
      "def drop_first_last(grades):\n",
      "    first, *middle, last = grades\n",
      "    return avg(middle)\n",
      "```\n",
      "\n",
      "As another use case, suppose you have user records that consist of a name and email address, followed by an arbitrary number of phone numbers. You could unpack the records like this:"
     ]
    },
    {
     "cell_type": "code",
     "collapsed": false,
     "input": [
      "user_record = ('Dave', 'dave@example.com', '773-555-1212', '847-555-1212')\n",
      "name, email, *phone_numbers = user_record"
     ],
     "language": "python",
     "metadata": {},
     "outputs": [],
     "prompt_number": 1
    },
    {
     "cell_type": "code",
     "collapsed": false,
     "input": [
      "name"
     ],
     "language": "python",
     "metadata": {},
     "outputs": [
      {
       "metadata": {},
       "output_type": "pyout",
       "prompt_number": 2,
       "text": [
        "'Dave'"
       ]
      }
     ],
     "prompt_number": 2
    },
    {
     "cell_type": "code",
     "collapsed": false,
     "input": [
      "email"
     ],
     "language": "python",
     "metadata": {},
     "outputs": [
      {
       "metadata": {},
       "output_type": "pyout",
       "prompt_number": 3,
       "text": [
        "'dave@example.com'"
       ]
      }
     ],
     "prompt_number": 3
    },
    {
     "cell_type": "code",
     "collapsed": false,
     "input": [
      "phone_numbers"
     ],
     "language": "python",
     "metadata": {},
     "outputs": [
      {
       "metadata": {},
       "output_type": "pyout",
       "prompt_number": 4,
       "text": [
        "['773-555-1212', '847-555-1212']"
       ]
      }
     ],
     "prompt_number": 4
    },
    {
     "cell_type": "markdown",
     "metadata": {},
     "source": [
      "It\u2019s worth noting that the phone_numbers variable will always be a list, regardless of how many phone numbers are unpacked (including none). Thus, any code that uses phone_numbers won\u2019t have to account for the possibility that it might not be a list or perform any kind of additional type checking.\n",
      "\n",
      "The starred variable can also be the first one in the list. For example, say you have a sequence of values representing your company\u2019s sales figures for the last eight quarters. If you want to see how the most recent quarter stacks up to the average of the first seven, you could do something like this:\n",
      "\n",
      "```python\n",
      "*trailing_qtrs, current_qtr = sales_record\n",
      "trailing_avg = sum(trailing_qtrs) / len(trailing_qtrs)\n",
      "return avg_comparison(trailing_avg, current_qtr)\n",
      "```\n",
      "\n",
      "Here\u2019s a view of the operation from the Python interpreter:"
     ]
    },
    {
     "cell_type": "code",
     "collapsed": false,
     "input": [
      "*trailing, current = [10, 8, 7, 1, 9, 5, 10, 3]"
     ],
     "language": "python",
     "metadata": {},
     "outputs": [],
     "prompt_number": 5
    },
    {
     "cell_type": "code",
     "collapsed": false,
     "input": [
      "trailing"
     ],
     "language": "python",
     "metadata": {},
     "outputs": [
      {
       "metadata": {},
       "output_type": "pyout",
       "prompt_number": 6,
       "text": [
        "[10, 8, 7, 1, 9, 5, 10]"
       ]
      }
     ],
     "prompt_number": 6
    },
    {
     "cell_type": "code",
     "collapsed": false,
     "input": [
      "current"
     ],
     "language": "python",
     "metadata": {},
     "outputs": [
      {
       "metadata": {},
       "output_type": "pyout",
       "prompt_number": 7,
       "text": [
        "3"
       ]
      }
     ],
     "prompt_number": 7
    },
    {
     "cell_type": "markdown",
     "metadata": {},
     "source": [
      "# Discussion\n",
      "Extended iterable unpacking is tailor-made for unpacking iterables of unknown or arbitrary length. Oftentimes, these iterables have some known component or pattern in their construction (e.g. \u201ceverything after element 1 is a phone number\u201d), and star unpacking lets the developer leverage those patterns easily instead of performing acrobatics to get at the relevant elements in the iterable.\n",
      "\n",
      "It is worth noting that the star syntax can be especially useful when iterating over a sequence of tuples of varying length. For example, perhaps a sequence of tagged tuples:\n",
      "\n",
      "```python\n",
      "records = [\n",
      "    ('foo', 1, 2),\n",
      "    ('bar', 'hello'),\n",
      "    ('foo', 3, 4),\n",
      "]\n",
      "\n",
      "def do_foo(x, y):\n",
      "    print('foo', x, y)\n",
      "\n",
      "def do_bar(s):\n",
      "    print('bar', s)\n",
      "\n",
      "for tag, *args in records:\n",
      "    if tag == 'foo':\n",
      "        do_foo(*args)\n",
      "    elif tag == 'bar':\n",
      "        do_bar(*args)\n",
      "```\n",
      "\n",
      "Star unpacking can also be useful when combined with certain kinds of string processing operations, such as splitting. For example:"
     ]
    },
    {
     "cell_type": "code",
     "collapsed": false,
     "input": [
      "line = 'nobody:*:-2:-2:Unprivileged User:/var/empty:/usr/bin/false'\n",
      "uname, *fields, homedir, sh = line.split(':')"
     ],
     "language": "python",
     "metadata": {},
     "outputs": [],
     "prompt_number": 8
    },
    {
     "cell_type": "code",
     "collapsed": false,
     "input": [
      "uname"
     ],
     "language": "python",
     "metadata": {},
     "outputs": [
      {
       "metadata": {},
       "output_type": "pyout",
       "prompt_number": 9,
       "text": [
        "'nobody'"
       ]
      }
     ],
     "prompt_number": 9
    },
    {
     "cell_type": "code",
     "collapsed": false,
     "input": [
      "homedir"
     ],
     "language": "python",
     "metadata": {},
     "outputs": [
      {
       "metadata": {},
       "output_type": "pyout",
       "prompt_number": 10,
       "text": [
        "'/var/empty'"
       ]
      }
     ],
     "prompt_number": 10
    },
    {
     "cell_type": "code",
     "collapsed": false,
     "input": [
      "sh"
     ],
     "language": "python",
     "metadata": {},
     "outputs": [
      {
       "metadata": {},
       "output_type": "pyout",
       "prompt_number": 11,
       "text": [
        "'/usr/bin/false'"
       ]
      }
     ],
     "prompt_number": 11
    },
    {
     "cell_type": "markdown",
     "metadata": {},
     "source": [
      "Sometimes you might want to unpack values and throw them away. You can\u2019t just specify a bare `*` when unpacking, but you could use a common throwaway variable name, such as `_` or `ign` (ignored). For example:"
     ]
    },
    {
     "cell_type": "code",
     "collapsed": false,
     "input": [
      "record = ('ACME', 50, 123.45, (12, 18, 2012))\n",
      "name, *_, (*_, year) = record"
     ],
     "language": "python",
     "metadata": {},
     "outputs": [],
     "prompt_number": 12
    },
    {
     "cell_type": "code",
     "collapsed": false,
     "input": [
      "name"
     ],
     "language": "python",
     "metadata": {},
     "outputs": [
      {
       "metadata": {},
       "output_type": "pyout",
       "prompt_number": 13,
       "text": [
        "'ACME'"
       ]
      }
     ],
     "prompt_number": 13
    },
    {
     "cell_type": "code",
     "collapsed": false,
     "input": [
      "year"
     ],
     "language": "python",
     "metadata": {},
     "outputs": [
      {
       "metadata": {},
       "output_type": "pyout",
       "prompt_number": 14,
       "text": [
        "2012"
       ]
      }
     ],
     "prompt_number": 14
    },
    {
     "cell_type": "markdown",
     "metadata": {},
     "source": [
      "There is a certain similarity between star unpacking and list-processing features of various functional languages. For example, if you have a list, you can easily split it into head and tail components like this:"
     ]
    },
    {
     "cell_type": "code",
     "collapsed": false,
     "input": [
      "items = [1, 10, 7, 4, 5, 9]\n",
      "head, *tail = items"
     ],
     "language": "python",
     "metadata": {},
     "outputs": [],
     "prompt_number": 15
    },
    {
     "cell_type": "code",
     "collapsed": false,
     "input": [
      "head"
     ],
     "language": "python",
     "metadata": {},
     "outputs": [
      {
       "metadata": {},
       "output_type": "pyout",
       "prompt_number": 16,
       "text": [
        "1"
       ]
      }
     ],
     "prompt_number": 16
    },
    {
     "cell_type": "code",
     "collapsed": false,
     "input": [
      "tail"
     ],
     "language": "python",
     "metadata": {},
     "outputs": [
      {
       "metadata": {},
       "output_type": "pyout",
       "prompt_number": 17,
       "text": [
        "[10, 7, 4, 5, 9]"
       ]
      }
     ],
     "prompt_number": 17
    },
    {
     "cell_type": "markdown",
     "metadata": {},
     "source": [
      "One could imagine writing functions that perform such splitting in order to carry out some kind of clever recursive algorithm. For example:"
     ]
    },
    {
     "cell_type": "code",
     "collapsed": false,
     "input": [
      "def sum(items):\n",
      "    head, *tail = items\n",
      "    return head + sum(tail) if tail else head"
     ],
     "language": "python",
     "metadata": {},
     "outputs": [],
     "prompt_number": 18
    },
    {
     "cell_type": "code",
     "collapsed": false,
     "input": [
      "sum(items)"
     ],
     "language": "python",
     "metadata": {},
     "outputs": [
      {
       "metadata": {},
       "output_type": "pyout",
       "prompt_number": 19,
       "text": [
        "36"
       ]
      }
     ],
     "prompt_number": 19
    },
    {
     "cell_type": "markdown",
     "metadata": {},
     "source": [
      "However, be aware that recursion really isn\u2019t a strong Python feature due to the inherent recursion limit. Thus, this last example might be nothing more than an academic curiosity in practice."
     ]
    }
   ],
   "metadata": {}
  }
 ]
}