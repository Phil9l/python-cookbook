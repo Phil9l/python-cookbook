{
 "metadata": {
  "name": ""
 },
 "nbformat": 3,
 "nbformat_minor": 0,
 "worksheets": [
  {
   "cells": [
    {
     "cell_type": "heading",
     "level": 1,
     "metadata": {},
     "source": [
      "1.4. Finding the Largest or Smallest N Items"
     ]
    },
    {
     "cell_type": "markdown",
     "metadata": {},
     "source": [
      "# Problem\n",
      "You want to make a list of the largest or smallest $N$ items in a collection.\n",
      "\n",
      "# Solution\n",
      "The heapq module has two functions\u2014 `nlargest()` and `nsmallest()` \u2014 that do exactly what you want. For example:\n",
      "\n",
      "```python\n",
      "import heapq\n",
      "nums = [1, 8, 2, 23, 7, -4, 18, 23, 42, 37, 2]\n",
      "print(heapq.nlargest(3, nums)) # Prints [42, 37, 23]\n",
      "print(heapq.nsmallest(3, nums)) # Prints [-4, 1, 2]\n",
      "```\n",
      "\n",
      "Both functions also accept a key parameter that allows them to be used with more complicated data structures. For example:\n",
      "\n",
      "```python\n",
      "portfolio = [\n",
      "    {'name': 'IBM', 'shares': 100, 'price': 91.1},\n",
      "    {'name': 'AAPL', 'shares': 50, 'price': 543.22},\n",
      "    {'name': 'FB', 'shares': 200, 'price': 21.09},\n",
      "    {'name': 'HPQ', 'shares': 35, 'price': 31.75},\n",
      "    {'name': 'YHOO', 'shares': 45, 'price': 16.35},\n",
      "    {'name': 'ACME', 'shares': 75, 'price': 115.65}\n",
      "]\n",
      "\n",
      "cheap = heapq.nsmallest(3, portfolio, key=lambda s: s['price'])\n",
      "expensive = heapq.nlargest(3, portfolio, key=lambda s: s['price'])\n",
      "```"
     ]
    },
    {
     "cell_type": "markdown",
     "metadata": {},
     "source": [
      "# Discussion\n",
      "If you are looking for the $N$ smallest or largest items and $N$ is small compared to the overall size of the collection, these functions provide superior performance. Underneath the covers, they work by first converting the data into a list where items are ordered as a heap. For example:"
     ]
    },
    {
     "cell_type": "code",
     "collapsed": false,
     "input": [
      "nums = [1, 8, 2, 23, 7, -4, 18, 23, 42, 37, 2]\n",
      "import heapq\n",
      "heap = list(nums)\n",
      "heapq.heapify(heap)\n",
      "heap\n",
      "[-4, 2, 1, 23, 7, 2, 18, 23, 42, 37, 8]"
     ],
     "language": "python",
     "metadata": {},
     "outputs": [
      {
       "metadata": {},
       "output_type": "pyout",
       "prompt_number": 1,
       "text": [
        "[-4, 2, 1, 23, 7, 2, 18, 23, 42, 37, 8]"
       ]
      }
     ],
     "prompt_number": 1
    },
    {
     "cell_type": "markdown",
     "metadata": {},
     "source": [
      "The most important feature of a heap is that `heap[0]` is always the smallest item. Moreover, subsequent items can be easily found using the `heapq.heappop()` method, which pops off the first item and replaces it with the next smallest item (an operation that requires `O(log N)` operations where `N` is the size of the heap). For example, to find the three smallest items, you would do this:"
     ]
    },
    {
     "cell_type": "code",
     "collapsed": false,
     "input": [
      "heapq.heappop(heap)"
     ],
     "language": "python",
     "metadata": {},
     "outputs": [
      {
       "metadata": {},
       "output_type": "pyout",
       "prompt_number": 2,
       "text": [
        "-4"
       ]
      }
     ],
     "prompt_number": 2
    },
    {
     "cell_type": "code",
     "collapsed": false,
     "input": [
      "heapq.heappop(heap)"
     ],
     "language": "python",
     "metadata": {},
     "outputs": [
      {
       "metadata": {},
       "output_type": "pyout",
       "prompt_number": 3,
       "text": [
        "1"
       ]
      }
     ],
     "prompt_number": 3
    },
    {
     "cell_type": "code",
     "collapsed": false,
     "input": [
      "heapq.heappop(heap)"
     ],
     "language": "python",
     "metadata": {},
     "outputs": [
      {
       "metadata": {},
       "output_type": "pyout",
       "prompt_number": 4,
       "text": [
        "2"
       ]
      }
     ],
     "prompt_number": 4
    },
    {
     "cell_type": "markdown",
     "metadata": {},
     "source": [
      "The `nlargest()` and `nsmallest()` functions are most appropriate if you are trying to find a relatively small number of items. If you are simply trying to find the single smallest or largest item ($N=1$), it is faster to use `min()` and `max()` . Similarly, if $N$ is about the same size as the collection itself, it is usually faster to sort it first and \n",
      "take a slice (i.e., use `sorted(items)[:N]` or `sorted(items)[-N:]`). It should be noted that the actual\n",
      "implementation of `nlargest()` and `nsmallest()` is adaptive in how it operates and will\n",
      "carry out some of these optimizations on your behalf (e.g., using sorting if $N$ is close to the same size as the input).\n",
      "\n",
      "Although it\u2019s not necessary to use this recipe, the implementation of a heap is an interesting and worthwhile \n",
      "subject of study. This can usually be found in any decent bookon algorithms and data structures. \n",
      "The documentation for the heapq module also discusses the underlying implementation details."
     ]
    }
   ],
   "metadata": {}
  }
 ]
}