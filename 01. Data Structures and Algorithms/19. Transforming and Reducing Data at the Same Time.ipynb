{
 "metadata": {
  "name": ""
 },
 "nbformat": 3,
 "nbformat_minor": 0,
 "worksheets": [
  {
   "cells": [
    {
     "cell_type": "heading",
     "level": 1,
     "metadata": {},
     "source": [
      "1.19. Transforming and Reducing Data at the Same Time"
     ]
    },
    {
     "cell_type": "markdown",
     "metadata": {},
     "source": [
      "# Problem\n",
      "You need to execute a reduction function (e.g., `sum()`, `min()`, `max()`), but first need to\n",
      "transform or filter the data.\n",
      "\n",
      "# Solution\n",
      "A very elegant way to combine a data reduction and a transformation is to use a\n",
      "generator-expression argument. For example, if you want to calculate the sum of\n",
      "squares, do the following:"
     ]
    },
    {
     "cell_type": "code",
     "collapsed": false,
     "input": [
      "nums = [1, 2, 3, 4, 5]\n",
      "s = sum(x * x for x in nums)\n",
      "s"
     ],
     "language": "python",
     "metadata": {},
     "outputs": [
      {
       "metadata": {},
       "output_type": "pyout",
       "prompt_number": 1,
       "text": [
        "55"
       ]
      }
     ],
     "prompt_number": 1
    },
    {
     "cell_type": "markdown",
     "metadata": {},
     "source": [
      "Here are a few other examples:"
     ]
    },
    {
     "cell_type": "code",
     "collapsed": false,
     "input": [
      "# Determine if any .py files exist in a directory\n",
      "import os\n",
      "\n",
      "files = os.listdir('.')\n",
      "if any(name.endswith('.py') for name in files):\n",
      "    print('There be python!')\n",
      "else:\n",
      "    print('Sorry, no python.')"
     ],
     "language": "python",
     "metadata": {},
     "outputs": [
      {
       "output_type": "stream",
       "stream": "stdout",
       "text": [
        "Sorry, no python.\n"
       ]
      }
     ],
     "prompt_number": 2
    },
    {
     "cell_type": "code",
     "collapsed": false,
     "input": [
      "# Output a tuple as CSV\n",
      "s = ('ACME', 50, 123.45)\n",
      "print(','.join(str(x) for x in s))"
     ],
     "language": "python",
     "metadata": {},
     "outputs": [
      {
       "output_type": "stream",
       "stream": "stdout",
       "text": [
        "ACME,50,123.45\n"
       ]
      }
     ],
     "prompt_number": 3
    },
    {
     "cell_type": "code",
     "collapsed": false,
     "input": [
      "portfolio = [\n",
      "    {'name': 'GOOG', 'shares': 50},\n",
      "    {'name': 'YHOO', 'shares': 75},\n",
      "    {'name': 'AOL', 'shares': 20},\n",
      "    {'name':'SCOX', 'shares': 65},\n",
      "]\n",
      "min_shares = min(s['shares'] for s in portfolio)\n",
      "min_shares"
     ],
     "language": "python",
     "metadata": {},
     "outputs": [
      {
       "metadata": {},
       "output_type": "pyout",
       "prompt_number": 4,
       "text": [
        "20"
       ]
      }
     ],
     "prompt_number": 4
    },
    {
     "cell_type": "markdown",
     "metadata": {},
     "source": [
      "# Discussion\n",
      "The solution shows a subtle syntactic aspect of generator expressions when supplied as\n",
      "the single argument to a function (i.e., you don\u2019t need repeated parentheses). For example, \n",
      "these statements are the same:\n",
      "```\n",
      "pythons = sum((x * x for x in nums))  # Pass generator-expr as argument\n",
      "s = sum(x * x for x in nums)          # More elegant syntax\n",
      "```\n",
      "\n",
      "Using a generator argument is often a more efficient and elegant approach than first\n",
      "creating a temporary list. For example, if you didn\u2019t use a generator expression, you\n",
      "might consider this alternative implementation:\n",
      "```python\n",
      "nums = [1, 2, 3, 4, 5]\n",
      "s = sum([x * x for x in nums])\n",
      "```\n",
      "\n",
      "This works, but it introduces an extra step and creates an extra list. For such a small list,\n",
      "it might not matter, but if nums was huge, you would end up creating a large temporary\n",
      "data structure to only be used once and discarded. The generator solution transforms\n",
      "the data iteratively and is therefore much more memory-efficient.\n",
      "\n",
      "Certain reduction functions such as `min()` and `max()` accept a key argument that might\n",
      "be useful in situations where you might be inclined to use a generator. For example, in\n",
      "the portfolio example, you might consider this alternative:"
     ]
    },
    {
     "cell_type": "code",
     "collapsed": false,
     "input": [
      "# Original: Returns 20\n",
      "min_shares = min(s['shares'] for s in portfolio)\n",
      "min_shares"
     ],
     "language": "python",
     "metadata": {},
     "outputs": [
      {
       "metadata": {},
       "output_type": "pyout",
       "prompt_number": 5,
       "text": [
        "20"
       ]
      }
     ],
     "prompt_number": 5
    },
    {
     "cell_type": "code",
     "collapsed": false,
     "input": [
      "# Alternative: Returns {'name': 'AOL', 'shares': 20}\n",
      "min_shares = min(portfolio, key=lambda s: s['shares'])\n",
      "min_shares"
     ],
     "language": "python",
     "metadata": {},
     "outputs": [
      {
       "metadata": {},
       "output_type": "pyout",
       "prompt_number": 6,
       "text": [
        "{'name': 'AOL', 'shares': 20}"
       ]
      }
     ],
     "prompt_number": 6
    },
    {
     "cell_type": "code",
     "collapsed": false,
     "input": [],
     "language": "python",
     "metadata": {},
     "outputs": []
    }
   ],
   "metadata": {}
  }
 ]
}