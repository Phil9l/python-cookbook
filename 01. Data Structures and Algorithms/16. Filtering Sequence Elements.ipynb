{
 "metadata": {
  "name": ""
 },
 "nbformat": 3,
 "nbformat_minor": 0,
 "worksheets": [
  {
   "cells": [
    {
     "cell_type": "heading",
     "level": 1,
     "metadata": {},
     "source": [
      "1.16. Filtering Sequence Elements"
     ]
    },
    {
     "cell_type": "markdown",
     "metadata": {},
     "source": [
      "# Problem\n",
      "You have data inside of a sequence, and need to extract values or reduce the sequence\n",
      "using some criteria.\n",
      "\n",
      "# Solution\n",
      "The easiest way to filter sequence data is often to use a list comprehension. For example:"
     ]
    },
    {
     "cell_type": "code",
     "collapsed": false,
     "input": [
      "mylist = [1, 4, -5, 10, -7, 2, 3, -1]\n",
      "[n for n in mylist if n > 0]"
     ],
     "language": "python",
     "metadata": {},
     "outputs": [
      {
       "metadata": {},
       "output_type": "pyout",
       "prompt_number": 1,
       "text": [
        "[1, 4, 10, 2, 3]"
       ]
      }
     ],
     "prompt_number": 1
    },
    {
     "cell_type": "code",
     "collapsed": false,
     "input": [
      "[n for n in mylist if n < 0]"
     ],
     "language": "python",
     "metadata": {},
     "outputs": [
      {
       "metadata": {},
       "output_type": "pyout",
       "prompt_number": 2,
       "text": [
        "[-5, -7, -1]"
       ]
      }
     ],
     "prompt_number": 2
    },
    {
     "cell_type": "markdown",
     "metadata": {},
     "source": [
      "One potential downside of using a list comprehension is that it might produce a large\n",
      "result if the original input is large. If this is a concern, you can use generator expressions\n",
      "to produce the filtered values iteratively. For example:"
     ]
    },
    {
     "cell_type": "code",
     "collapsed": false,
     "input": [
      "pos = (n for n in mylist if n > 0)\n",
      "pos"
     ],
     "language": "python",
     "metadata": {},
     "outputs": [
      {
       "metadata": {},
       "output_type": "pyout",
       "prompt_number": 3,
       "text": [
        "<generator object <genexpr> at 0x7ff53c0be0d8>"
       ]
      }
     ],
     "prompt_number": 3
    },
    {
     "cell_type": "code",
     "collapsed": false,
     "input": [
      "for x in pos:\n",
      "    print(x)"
     ],
     "language": "python",
     "metadata": {},
     "outputs": [
      {
       "output_type": "stream",
       "stream": "stdout",
       "text": [
        "1\n",
        "4\n",
        "10\n",
        "2\n",
        "3\n"
       ]
      }
     ],
     "prompt_number": 4
    },
    {
     "cell_type": "markdown",
     "metadata": {},
     "source": [
      "Sometimes, the filtering criteria cannot be easily expressed in a list comprehension or\n",
      "generator expression. For example, suppose that the filtering process involves exception\n",
      "handling or some other complicated detail. For this, put the filtering code into its own\n",
      "function and use the built-in `filter()` function. For example:"
     ]
    },
    {
     "cell_type": "code",
     "collapsed": false,
     "input": [
      "values = ['1', '2', '-3', '-', '4', 'N/A', '5']\n",
      "\n",
      "def is_int(val):\n",
      "    try:\n",
      "        x = int(val)\n",
      "        return True\n",
      "    except ValueError:\n",
      "        return False\n",
      "\n",
      "ivals = list(filter(is_int, values))\n",
      "print(ivals)  # Outputs ['1', '2', '-3', '4', '5']"
     ],
     "language": "python",
     "metadata": {},
     "outputs": [
      {
       "output_type": "stream",
       "stream": "stdout",
       "text": [
        "['1', '2', '-3', '4', '5']\n"
       ]
      }
     ],
     "prompt_number": 5
    },
    {
     "cell_type": "markdown",
     "metadata": {},
     "source": [
      "`filter()` creates an iterator, so if you want to create a list of results, make sure you also\n",
      "use `list()` as shown."
     ]
    },
    {
     "cell_type": "markdown",
     "metadata": {},
     "source": [
      "# Discussion\n",
      "List comprehensions and generator expressions are often the easiest and most straight\u2010\n",
      "forward ways to filter simple data. They also have the added power to transform the\n",
      "data at the same time. For example:"
     ]
    },
    {
     "cell_type": "code",
     "collapsed": false,
     "input": [
      "mylist = [1, 4, -5, 10, -7, 2, 3, -1]\n",
      "import math\n",
      "[math.sqrt(n) for n in mylist if n > 0]"
     ],
     "language": "python",
     "metadata": {},
     "outputs": [
      {
       "metadata": {},
       "output_type": "pyout",
       "prompt_number": 6,
       "text": [
        "[1.0, 2.0, 3.1622776601683795, 1.4142135623730951, 1.7320508075688772]"
       ]
      }
     ],
     "prompt_number": 6
    },
    {
     "cell_type": "markdown",
     "metadata": {},
     "source": [
      "One variation on filtering involves replacing the values that don\u2019t meet the criteria with\n",
      "a new value instead of discarding them. For example, perhaps instead of just finding\n",
      "positive values, you want to also clip bad values to fit within a specified range. This is\n",
      "often easily accomplished by moving the filter criterion into a conditional expression\n",
      "like this:"
     ]
    },
    {
     "cell_type": "code",
     "collapsed": false,
     "input": [
      "clip_neg = [n if n > 0 else 0 for n in mylist]\n",
      "clip_neg"
     ],
     "language": "python",
     "metadata": {},
     "outputs": [
      {
       "metadata": {},
       "output_type": "pyout",
       "prompt_number": 7,
       "text": [
        "[1, 4, 0, 10, 0, 2, 3, 0]"
       ]
      }
     ],
     "prompt_number": 7
    },
    {
     "cell_type": "code",
     "collapsed": false,
     "input": [
      "clip_pos = [n if n < 0 else 0 for n in mylist]\n",
      "clip_pos"
     ],
     "language": "python",
     "metadata": {},
     "outputs": [
      {
       "metadata": {},
       "output_type": "pyout",
       "prompt_number": 8,
       "text": [
        "[0, 0, -5, 0, -7, 0, 0, -1]"
       ]
      }
     ],
     "prompt_number": 8
    },
    {
     "cell_type": "markdown",
     "metadata": {},
     "source": [
      "Another notable filtering tool is `itertools.compress()`, which takes an iterable and\n",
      "an accompanying `Boolean` selector sequence as input. As output, it gives you all of the\n",
      "items in the iterable where the corresponding element in the selector is `True`. This can\n",
      "be useful if you\u2019re trying to apply the results of filtering one sequence to another related\n",
      "sequence. For example, suppose you have the following two columns of data:"
     ]
    },
    {
     "cell_type": "code",
     "collapsed": false,
     "input": [
      "addresses = [\n",
      "'5412 N CLARK',\n",
      "'5148 N CLARK',\n",
      "'5800 E 58TH',\n",
      "'2122 N CLARK'\n",
      "'5645 N RAVENSWOOD',\n",
      "'1060 W ADDISON',\n",
      "'4801 N BROADWAY',\n",
      "'1039 W GRANVILLE',\n",
      "]\n",
      "\n",
      "counts = [0, 3, 10, 4, 1, 7, 6, 1]"
     ],
     "language": "python",
     "metadata": {},
     "outputs": [],
     "prompt_number": 9
    },
    {
     "cell_type": "code",
     "collapsed": false,
     "input": [
      "from itertools import compress\n",
      "more5 = [n > 5 for n in counts]\n",
      "more5"
     ],
     "language": "python",
     "metadata": {},
     "outputs": [
      {
       "metadata": {},
       "output_type": "pyout",
       "prompt_number": 10,
       "text": [
        "[False, False, True, False, False, True, True, False]"
       ]
      }
     ],
     "prompt_number": 10
    },
    {
     "cell_type": "markdown",
     "metadata": {},
     "source": [
      "Now suppose you want to make a list of all addresses where the corresponding count\n",
      "value was greater than 5. Here\u2019s how you could do it:"
     ]
    },
    {
     "cell_type": "code",
     "collapsed": false,
     "input": [
      "from itertools import compress\n",
      "more5 = [n > 5 for n in counts]\n",
      "more5"
     ],
     "language": "python",
     "metadata": {},
     "outputs": [
      {
       "metadata": {},
       "output_type": "pyout",
       "prompt_number": 11,
       "text": [
        "[False, False, True, False, False, True, True, False]"
       ]
      }
     ],
     "prompt_number": 11
    },
    {
     "cell_type": "code",
     "collapsed": false,
     "input": [
      "list(compress(addresses, more5))"
     ],
     "language": "python",
     "metadata": {},
     "outputs": [
      {
       "metadata": {},
       "output_type": "pyout",
       "prompt_number": 12,
       "text": [
        "['5800 E 58TH', '4801 N BROADWAY', '1039 W GRANVILLE']"
       ]
      }
     ],
     "prompt_number": 12
    },
    {
     "cell_type": "markdown",
     "metadata": {},
     "source": [
      "The key here is to first create a sequence of `Booleans` that indicates which elements\n",
      "satisfy the desired condition. The `compress()` function then picks out the items corre\u2010\n",
      "sponding to `True` values.\n",
      "\n",
      "Like `filter()`, `compress()` normally returns an iterator. Thus, you need to use `list()`\n",
      "to turn the results into a list if desired."
     ]
    }
   ],
   "metadata": {}
  }
 ]
}