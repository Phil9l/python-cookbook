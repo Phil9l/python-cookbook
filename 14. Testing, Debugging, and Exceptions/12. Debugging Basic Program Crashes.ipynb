{
 "metadata": {
  "name": ""
 },
 "nbformat": 3,
 "nbformat_minor": 0,
 "worksheets": [
  {
   "cells": [
    {
     "cell_type": "heading",
     "level": 1,
     "metadata": {},
     "source": [
      "14.12. Debugging Basic Program Crashes"
     ]
    },
    {
     "cell_type": "markdown",
     "metadata": {},
     "source": [
      "# Problem\n",
      "Your program is broken and you\u2019d like some simple strategies for debugging it.\n",
      "\n",
      "# Solution\n",
      "If your program is crashing with an exception, running your program as \n",
      "`python3 -i someprogram.py` can be a useful tool for simply looking around. The `-i` option starts\n",
      "an interactive shell as soon as a program terminates. From there, you can explore the\n",
      "environment. For example, suppose you have this code:"
     ]
    },
    {
     "cell_type": "code",
     "collapsed": false,
     "input": [
      "# sample.py\n",
      "\n",
      "def func(n):\n",
      "    return n + 10"
     ],
     "language": "python",
     "metadata": {},
     "outputs": [],
     "prompt_number": 1
    },
    {
     "cell_type": "markdown",
     "metadata": {},
     "source": [
      "Running `python3 -i` produces the following:"
     ]
    },
    {
     "cell_type": "code",
     "collapsed": false,
     "input": [
      "func('Hello')"
     ],
     "language": "python",
     "metadata": {},
     "outputs": [
      {
       "ename": "TypeError",
       "evalue": "Can't convert 'int' object to str implicitly",
       "output_type": "pyerr",
       "traceback": [
        "\u001b[0;31m---------------------------------------------------------------------------\u001b[0m\n\u001b[0;31mTypeError\u001b[0m                                 Traceback (most recent call last)",
        "\u001b[0;32m<ipython-input-4-8b55b2dbc9f7>\u001b[0m in \u001b[0;36m<module>\u001b[0;34m()\u001b[0m\n\u001b[0;32m----> 1\u001b[0;31m \u001b[0mfunc\u001b[0m\u001b[0;34m(\u001b[0m\u001b[0;34m'Hello'\u001b[0m\u001b[0;34m)\u001b[0m\u001b[0;34m\u001b[0m\u001b[0m\n\u001b[0m",
        "\u001b[0;32m<ipython-input-1-4f0be6382701>\u001b[0m in \u001b[0;36mfunc\u001b[0;34m(n)\u001b[0m\n\u001b[1;32m      2\u001b[0m \u001b[0;34m\u001b[0m\u001b[0m\n\u001b[1;32m      3\u001b[0m \u001b[0;32mdef\u001b[0m \u001b[0mfunc\u001b[0m\u001b[0;34m(\u001b[0m\u001b[0mn\u001b[0m\u001b[0;34m)\u001b[0m\u001b[0;34m:\u001b[0m\u001b[0;34m\u001b[0m\u001b[0m\n\u001b[0;32m----> 4\u001b[0;31m     \u001b[0;32mreturn\u001b[0m \u001b[0mn\u001b[0m \u001b[0;34m+\u001b[0m \u001b[0;36m10\u001b[0m\u001b[0;34m\u001b[0m\u001b[0m\n\u001b[0m",
        "\u001b[0;31mTypeError\u001b[0m: Can't convert 'int' object to str implicitly"
       ]
      }
     ],
     "prompt_number": 4
    },
    {
     "cell_type": "code",
     "collapsed": false,
     "input": [
      "func(10)"
     ],
     "language": "python",
     "metadata": {},
     "outputs": [
      {
       "metadata": {},
       "output_type": "pyout",
       "prompt_number": 5,
       "text": [
        "20"
       ]
      }
     ],
     "prompt_number": 5
    },
    {
     "cell_type": "markdown",
     "metadata": {},
     "source": [
      "If you don\u2019t see anything obvious, a further step is to launch the Python debugger after\n",
      "a crash. For example:"
     ]
    },
    {
     "cell_type": "code",
     "collapsed": false,
     "input": [
      "import pdb\n",
      "pdb.pm()"
     ],
     "language": "python",
     "metadata": {},
     "outputs": [
      {
       "output_type": "stream",
       "stream": "stdout",
       "text": [
        "> <ipython-input-1-4f0be6382701>(4)func()\n",
        "-> return n + 10\n"
       ]
      },
      {
       "name": "stdout",
       "output_type": "stream",
       "stream": "stdout",
       "text": [
        "(Pdb) w\n"
       ]
      },
      {
       "output_type": "stream",
       "stream": "stdout",
       "text": [
        "  /usr/lib/python3/dist-packages/IPython/core/interactiveshell.py(2821)run_code()\n",
        "-> exec(code_obj, self.user_global_ns, self.user_ns)\n",
        "  <ipython-input-4-8b55b2dbc9f7>(1)<module>()\n",
        "-> func('Hello')\n",
        "> <ipython-input-1-4f0be6382701>(4)func()\n",
        "-> return n + 10\n"
       ]
      },
      {
       "name": "stdout",
       "output_type": "stream",
       "stream": "stdout",
       "text": [
        "(Pdb) print n\n"
       ]
      },
      {
       "output_type": "stream",
       "stream": "stdout",
       "text": [
        "*** SyntaxError: Missing parentheses in call to 'print'\n"
       ]
      },
      {
       "name": "stdout",
       "output_type": "stream",
       "stream": "stdout",
       "text": [
        "(Pdb) print(n)\n"
       ]
      },
      {
       "output_type": "stream",
       "stream": "stdout",
       "text": [
        "Hello\n"
       ]
      },
      {
       "name": "stdout",
       "output_type": "stream",
       "stream": "stdout",
       "text": [
        "(Pdb) q\n"
       ]
      }
     ],
     "prompt_number": 6
    },
    {
     "cell_type": "markdown",
     "metadata": {},
     "source": [
      "If your code is deeply buried in an environment where it is difficult to obtain an interactive \n",
      "shell (e.g., in a server), you can often catch errors and produce tracebacks yourself.\n",
      "For example:"
     ]
    },
    {
     "cell_type": "code",
     "collapsed": false,
     "input": [
      "import traceback\n",
      "import sys\n",
      "\n",
      "try:\n",
      "    func(arg)\n",
      "except:\n",
      "    print('**** AN ERROR OCCURRED ****')\n",
      "    traceback.print_exc(file=sys.stderr)"
     ],
     "language": "python",
     "metadata": {},
     "outputs": [
      {
       "output_type": "stream",
       "stream": "stdout",
       "text": [
        "**** AN ERROR OCCURRED ****\n"
       ]
      },
      {
       "output_type": "stream",
       "stream": "stderr",
       "text": [
        "Traceback (most recent call last):\n",
        "  File \"<ipython-input-7-0042a18801da>\", line 5, in <module>\n",
        "    func(arg)\n",
        "NameError: name 'arg' is not defined\n"
       ]
      }
     ],
     "prompt_number": 7
    },
    {
     "cell_type": "markdown",
     "metadata": {},
     "source": [
      "If your program isn\u2019t crashing, but it\u2019s producing wrong answers or you\u2019re mystified by\n",
      "how it works, there is often nothing wrong with just injecting a few `print()` calls in\n",
      "places of interest. However, if you\u2019re going to do that, there are a few related techniques\n",
      "of interest. First, the `traceback.print_stack()` function will create a stack track of\n",
      "your program immediately at that point. For example:"
     ]
    },
    {
     "cell_type": "code",
     "collapsed": false,
     "input": [
      "def sample(n):\n",
      "    if n > 0:\n",
      "        sample(n - 1)\n",
      "    else:\n",
      "        traceback.print_stack(file=sys.stderr)"
     ],
     "language": "python",
     "metadata": {},
     "outputs": [],
     "prompt_number": 8
    },
    {
     "cell_type": "code",
     "collapsed": false,
     "input": [
      "sample(5)"
     ],
     "language": "python",
     "metadata": {},
     "outputs": [
      {
       "output_type": "stream",
       "stream": "stderr",
       "text": [
        "  File \"<string>\", line 1, in <module>\n",
        "  File \"/usr/lib/python3/dist-packages/IPython/kernel/zmq/kernelapp.py\", line 468, in main\n",
        "    app.start()\n",
        "  File \"/usr/lib/python3/dist-packages/IPython/kernel/zmq/kernelapp.py\", line 458, in start\n",
        "    ioloop.IOLoop.instance().start()\n",
        "  File \"/usr/lib/python3/dist-packages/zmq/eventloop/ioloop.py\", line 160, in start\n",
        "    super(ZMQIOLoop, self).start()\n",
        "  File \"/usr/lib/python3/dist-packages/tornado/ioloop.py\", line 672, in start\n",
        "    self._handlers[fd](fd, events)\n",
        "  File \"/usr/lib/python3/dist-packages/tornado/stack_context.py\", line 302, in wrapped\n",
        "    ret = fn(*args, **kwargs)\n",
        "  File \"/usr/lib/python3/dist-packages/zmq/eventloop/zmqstream.py\", line 433, in _handle_events\n",
        "    self._handle_recv()\n",
        "  File \"/usr/lib/python3/dist-packages/zmq/eventloop/zmqstream.py\", line 465, in _handle_recv\n",
        "    self._run_callback(callback, msg)\n",
        "  File \"/usr/lib/python3/dist-packages/zmq/eventloop/zmqstream.py\", line 407, in _run_callback\n",
        "    callback(*args, **kwargs)\n",
        "  File \"/usr/lib/python3/dist-packages/tornado/stack_context.py\", line 302, in wrapped\n",
        "    ret = fn(*args, **kwargs)\n",
        "  File \"/usr/lib/python3/dist-packages/IPython/kernel/zmq/ipkernel.py\", line 279, in dispatcher\n",
        "    return self.dispatch_shell(stream, msg)\n",
        "  File \"/usr/lib/python3/dist-packages/IPython/kernel/zmq/ipkernel.py\", line 247, in dispatch_shell\n",
        "    handler(stream, idents, msg)\n",
        "  File \"/usr/lib/python3/dist-packages/IPython/kernel/zmq/ipkernel.py\", line 396, in execute_request\n",
        "    shell.run_cell(code, store_history=store_history, silent=silent)\n",
        "  File \"/usr/lib/python3/dist-packages/IPython/core/interactiveshell.py\", line 2661, in run_cell\n",
        "    interactivity=interactivity, compiler=compiler)\n",
        "  File \"/usr/lib/python3/dist-packages/IPython/core/interactiveshell.py\", line 2771, in run_ast_nodes\n",
        "    if self.run_code(code):\n",
        "  File \"/usr/lib/python3/dist-packages/IPython/core/interactiveshell.py\", line 2821, in run_code\n",
        "    exec(code_obj, self.user_global_ns, self.user_ns)\n",
        "  File \"<ipython-input-9-dd1ba42fc5d4>\", line 1, in <module>\n",
        "    sample(5)\n",
        "  File \"<ipython-input-8-6241744643f1>\", line 3, in sample\n",
        "    sample(n - 1)\n",
        "  File \"<ipython-input-8-6241744643f1>\", line 3, in sample\n",
        "    sample(n - 1)\n",
        "  File \"<ipython-input-8-6241744643f1>\", line 3, in sample\n",
        "    sample(n - 1)\n",
        "  File \"<ipython-input-8-6241744643f1>\", line 3, in sample\n",
        "    sample(n - 1)\n",
        "  File \"<ipython-input-8-6241744643f1>\", line 3, in sample\n",
        "    sample(n - 1)\n",
        "  File \"<ipython-input-8-6241744643f1>\", line 5, in sample\n",
        "    traceback.print_stack(file=sys.stderr)\n"
       ]
      }
     ],
     "prompt_number": 9
    },
    {
     "cell_type": "markdown",
     "metadata": {},
     "source": [
      "Alternatively, you can also manually launch the debugger at any point in your program\n",
      "using `pdb.set_trace()` like this:\n",
      "```python\n",
      "import pdb\n",
      "\n",
      "def func(arg):\n",
      "    \u2026\n",
      "    pdb.set_trace()\n",
      "    \u2026\n",
      "```\n",
      "This can be a useful technique for poking around in the internals of a large program\n",
      "and answering questions about the control flow or arguments to functions. For instance,\n",
      "once the debugger starts, you can inspect variables using `print` or type a command such\n",
      "as `w` to get the stack traceback."
     ]
    },
    {
     "cell_type": "markdown",
     "metadata": {},
     "source": [
      "# Discussion\n",
      "Don\u2019t make debugging more complicated than it needs to be. Simple errors can often\n",
      "be resolved by merely knowing how to read program tracebacks (e.g., the actual error\n",
      "is usually the last line of the traceback). Inserting a few selected `print()` functions in\n",
      "your code can also work well if you\u2019re in the process of developing it and you simply\n",
      "want some diagnostics (just remember to remove the statements later).\n",
      "\n",
      "A common use of the debugger is to inspect variables inside a function that has crashed.\n",
      "Knowing how to enter the debugger after such a crash has occurred is a useful skill to\n",
      "know.\n",
      "Inserting statements such as pdb.set_trace() can be useful if you\u2019re trying to unravel\n",
      "an extremely complicated program where the underlying control flow isn\u2019t obvious.\n",
      "Essentially, the program will run until it hits the `set_trace()` call, at which point it will\n",
      "immediately enter the debugger. From there, you can try to make more sense of it.\n",
      "\n",
      "If you\u2019re using an IDE for Python development, the IDE will typically provide its own\n",
      "debugging interface on top of or in place of `pdb`. Consult the manual for your IDE for\n",
      "more information."
     ]
    }
   ],
   "metadata": {}
  }
 ]
}