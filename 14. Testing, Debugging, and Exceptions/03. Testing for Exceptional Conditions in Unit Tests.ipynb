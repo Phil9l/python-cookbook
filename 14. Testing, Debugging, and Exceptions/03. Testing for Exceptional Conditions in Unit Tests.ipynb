{
 "metadata": {
  "name": ""
 },
 "nbformat": 3,
 "nbformat_minor": 0,
 "worksheets": [
  {
   "cells": [
    {
     "cell_type": "heading",
     "level": 1,
     "metadata": {},
     "source": [
      "14.3. Testing for Exceptional Conditions in Unit Tests"
     ]
    },
    {
     "cell_type": "markdown",
     "metadata": {},
     "source": [
      "# Problem\n",
      "You want to write a unit test that cleanly tests if an exception is raised.\n",
      "\n",
      "# Solution\n",
      "To test for exceptions, use the `assertRaises()` method. For example, if you want to test\n",
      "that a function raised a `ValueError` exception, use this code:\n",
      "```python\n",
      "import unittest\n",
      "# A simple function to illustrate\n",
      "def parse_int(s):\n",
      "    return int(s)\n",
      "    \n",
      "class TestConversion(unittest.TestCase):\n",
      "    def test_bad_int(self):\n",
      "        self.assertRaises(ValueError, parse_int, 'N/A')\n",
      "```\n",
      "If you need to test the exception\u2019s value in some way, then a different approach is needed.\n",
      "For example:\n",
      "```python\n",
      "import errno\n",
      "\n",
      "class TestIO(unittest.TestCase):\n",
      "    def test_file_not_found(self):\n",
      "        try:\n",
      "            f = open('/file/not/found')\n",
      "        except IOError as e:\n",
      "            self.assertEqual(e.errno, errno.ENOENT)\n",
      "        else:\n",
      "            self.fail('IOError not raised')\n",
      "```"
     ]
    },
    {
     "cell_type": "markdown",
     "metadata": {},
     "source": [
      "# Discussion\n",
      "The `assertRaises()` method provides a convenient way to test for the presence of an\n",
      "exception. A common pitfall is to write tests that manually try to do things with \n",
      "exceptions on their own. For instance:\n",
      "```python\n",
      "class TestConversion(unittest.TestCase):\n",
      "    def test_bad_int(self):\n",
      "        try:\n",
      "            r = parse_int('N/A')\n",
      "        except ValueError as e:\n",
      "            self.assertEqual(type(e), ValueError)\n",
      "```\n",
      "The problem with such approaches is that it is easy to forget about corner cases, such\n",
      "as that when no exception is raised at all. To do that, you need to add an extra check for\n",
      "that situation, as shown here:\n",
      "```python\n",
      "class TestConversion(unittest.TestCase):\n",
      "    def test_bad_int(self):\n",
      "        try:\n",
      "            r = parse_int('N/A')\n",
      "        except ValueError as e:\n",
      "            self.assertEqual(type(e), ValueError)\n",
      "        else:\n",
      "            self.fail('ValueError not raised')\n",
      "```\n",
      "The `assertRaises()` method simply takes care of these details, so you should prefer to\n",
      "use it.\n",
      "\n",
      "The one limitation of `assertRaises()` is that it doesn\u2019t provide a means for testing the\n",
      "value of the exception object that\u2019s created. To do that, you have to manually test it, as\n",
      "shown. Somewhere in between these two extremes, you might consider using the \n",
      "`assertRaisesRegex()` method, which allows you to test for an exception and perform a\n",
      "regular expression match against the exception\u2019s string representation at the same time.\n",
      "For example:\n",
      "```python\n",
      "class TestConversion(unittest.TestCase):\n",
      "    def test_bad_int(self):\n",
      "        self.assertRaisesRegex(ValueError, 'invalid literal .*',\n",
      "                               parse_int, 'N/A')\n",
      "```\n",
      "A little-known fact about `assertRaises()` and `assertRaisesRegex()` is that they can\n",
      "also be used as context managers:\n",
      "```python\n",
      "class TestConversion(unittest.TestCase):\n",
      "def test_bad_int(self):\n",
      "    with self.assertRaisesRegex(ValueError, 'invalid literal .*'):\n",
      "        r = parse_int('N/A')\n",
      "```\n",
      "This form can be useful if your test involves multiple steps (e.g., setup) besides that of\n",
      "simply executing a callable."
     ]
    }
   ],
   "metadata": {}
  }
 ]
}