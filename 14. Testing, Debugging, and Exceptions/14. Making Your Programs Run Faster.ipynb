{
 "metadata": {
  "name": ""
 },
 "nbformat": 3,
 "nbformat_minor": 0,
 "worksheets": [
  {
   "cells": [
    {
     "cell_type": "heading",
     "level": 1,
     "metadata": {},
     "source": [
      "14.14. Making Your Programs Run Faster"
     ]
    },
    {
     "cell_type": "markdown",
     "metadata": {},
     "source": [
      "# Problem\n",
      "Your program runs too slow and you\u2019d like to speed it up without the assistance of more\n",
      "extreme solutions, such as C extensions or a just-in-time (JIT) compiler.\n",
      "\n",
      "# Solution\n",
      "While the first rule of optimization might be to \u201cnot do it,\u201d the second rule is almost\n",
      "certainly \u201cdon\u2019t optimize the unimportant.\u201d To that end, if your program is running slow,\n",
      "you might start by profiling your code as discussed in Recipe 14.13.\n",
      "\n",
      "More often than not, you\u2019ll find that your program spends its time in a few hotspots,\n",
      "such as inner data processing loops. Once you\u2019ve identified those locations, you can use\n",
      "the no-nonsense techniques presented in the following sections to make your program\n",
      "run faster.\n",
      "\n",
      "## Use functions\n",
      "A lot of programmers start using Python as a language for writing simple scripts. When\n",
      "writing scripts, it is easy to fall into a practice of simply writing code with very little\n",
      "structure. For example:\n",
      "```python\n",
      "# somescript.py\n",
      "import sys\n",
      "import csv\n",
      "with open(sys.argv[1]) as f:\n",
      "    for row in csv.reader(f):\n",
      "        # Some kind of processing\n",
      "        \u2026\n",
      "```\n",
      "A little-known fact is that code defined in the global scope like this runs slower than\n",
      "code defined in a function. The speed difference has to do with the implementation of\n",
      "local versus global variables (operations involving locals are faster). So, if you want to\n",
      "make the program run faster, simply put the scripting statements in a function:\n",
      "```python\n",
      "# somescript.py\n",
      "\n",
      "import sys\n",
      "import csv\n",
      "\n",
      "def main(filename):\n",
      "    with open(filename) as f:\n",
      "    for row in csv.reader(f):\n",
      "        # Some kind of processing\n",
      "        \u2026\n",
      "\n",
      "main(sys.argv[1])\n",
      "```\n",
      "The speed difference depends heavily on the processing being performed, but in our\n",
      "experience, speedups of 15-30% are not uncommon.\n",
      "\n",
      "# Selectively eliminate attribute access\n",
      "Every use of the dot (`.`) operator to access attributes comes with a cost. Under the covers,\n",
      "this triggers special methods, such as `__getattribute__()` and `__getattr__()`, which\n",
      "often lead to dictionary lookups.\n",
      "\n",
      "You can often avoid attribute lookups by using the `from module import name` form of\n",
      "import as well as making selected use of bound methods. To illustrate, consider the\n",
      "following code fragment:"
     ]
    },
    {
     "cell_type": "code",
     "collapsed": false,
     "input": [
      "import math\n",
      "\n",
      "def compute_roots(nums):\n",
      "    result = []\n",
      "    for n in nums:\n",
      "        result.append(math.sqrt(n))\n",
      "    return result"
     ],
     "language": "python",
     "metadata": {},
     "outputs": [],
     "prompt_number": 1
    },
    {
     "cell_type": "code",
     "collapsed": false,
     "input": [
      "%%timeit\n",
      "# Test\n",
      "nums = range(1000000)\n",
      "for n in range(100):\n",
      "    r = compute_roots(nums)"
     ],
     "language": "python",
     "metadata": {},
     "outputs": [
      {
       "output_type": "stream",
       "stream": "stdout",
       "text": [
        "1 loops, best of 3: 22.1 s per loop\n"
       ]
      }
     ],
     "prompt_number": 2
    },
    {
     "cell_type": "markdown",
     "metadata": {},
     "source": [
      "When tested on our machine, this program runs in about 40 seconds. Now change the\n",
      "`compute_roots()` function as follows:"
     ]
    },
    {
     "cell_type": "code",
     "collapsed": false,
     "input": [
      "from math import sqrt\n",
      "\n",
      "def compute_roots(nums):\n",
      "    result = []\n",
      "    result_append = result.append\n",
      "    for n in nums:\n",
      "        result_append(sqrt(n))\n",
      "    return result"
     ],
     "language": "python",
     "metadata": {},
     "outputs": [],
     "prompt_number": 3
    },
    {
     "cell_type": "code",
     "collapsed": false,
     "input": [
      "%%timeit\n",
      "# Test\n",
      "nums = range(1000000)\n",
      "for n in range(100):\n",
      "    r = compute_roots(nums)"
     ],
     "language": "python",
     "metadata": {},
     "outputs": [
      {
       "output_type": "stream",
       "stream": "stdout",
       "text": [
        "1 loops, best of 3: 17.4 s per loop\n"
       ]
      }
     ],
     "prompt_number": 4
    },
    {
     "cell_type": "markdown",
     "metadata": {},
     "source": [
      "This version runs in about $29$ seconds. The only difference between the two versions of\n",
      "code is the elimination of attribute access. Instead of using `math.sqrt()`, the code uses\n",
      "`sqrt()`. The `result.append()` method is additionally placed into a local variable \n",
      "`result_append` and reused in the inner loop.\n",
      "\n",
      "However, it must be emphasized that these changes only make sense in frequently executed \n",
      "code, such as loops. So, this optimization really only makes sense in carefully\n",
      "selected places."
     ]
    },
    {
     "cell_type": "markdown",
     "metadata": {},
     "source": [
      "## Understand locality of variables\n",
      "As previously noted, local variables are faster than global variables. For frequently \n",
      "accessed names, speedups can be obtained by making those names as local as possible.\n",
      "For example, consider this modified version of the `compute_roots()` function just\n",
      "discussed:"
     ]
    },
    {
     "cell_type": "code",
     "collapsed": false,
     "input": [
      "import math\n",
      "def compute_roots(nums):\n",
      "    sqrt = math.sqrt\n",
      "    result = []\n",
      "    result_append = result.append\n",
      "    for n in nums:\n",
      "        result_append(sqrt(n))\n",
      "    return result"
     ],
     "language": "python",
     "metadata": {},
     "outputs": [],
     "prompt_number": 5
    },
    {
     "cell_type": "code",
     "collapsed": false,
     "input": [
      "%%timeit\n",
      "# Test\n",
      "nums = range(1000000)\n",
      "for n in range(100):\n",
      "    r = compute_roots(nums)"
     ],
     "language": "python",
     "metadata": {},
     "outputs": [
      {
       "output_type": "stream",
       "stream": "stdout",
       "text": [
        "1 loops, best of 3: 15.3 s per loop\n"
       ]
      }
     ],
     "prompt_number": 6
    },
    {
     "cell_type": "markdown",
     "metadata": {},
     "source": [
      "In this version, `sqrt` has been lifted from the `math` module and placed into a local\n",
      "variable. If you run this code, it now runs in about $25$ seconds (an improvement over\n",
      "the previous version, which took $29$ seconds). That additional speedup is due to a local\n",
      "lookup of `sqrt` being a bit faster than a global lookup of `sqrt`.\n",
      "\n",
      "Locality arguments also apply when working in classes. In general, looking up a value\n",
      "such as `self.name` will be considerably slower than accessing a local variable. In inner\n",
      "loops, it might pay to lift commonly accessed attributes into a local variable. For example:\n",
      "```python\n",
      "# Slower\n",
      "class SomeClass:\n",
      "    \u2026\n",
      "    def method(self):\n",
      "        for x in s:\n",
      "            op(self.value)\n",
      "\n",
      "# Faster\n",
      "class SomeClass:\n",
      "    \u2026\n",
      "    def method(self):\n",
      "        value = self.value\n",
      "        for x in s:\n",
      "            op(value)\n",
      "```"
     ]
    },
    {
     "cell_type": "markdown",
     "metadata": {},
     "source": [
      "## Avoid gratuitous abstraction\n",
      "Any time you wrap up code with extra layers of processing, such as decorators, prop\u2010\n",
      "erties, or descriptors, you\u2019re going to make it slower. As an example, consider this class:"
     ]
    },
    {
     "cell_type": "code",
     "collapsed": false,
     "input": [
      "class A:\n",
      "    def __init__(self, x, y):\n",
      "        self.x = x\n",
      "        self.y = y\n",
      "\n",
      "    @property\n",
      "    def y(self):\n",
      "        return self._y\n",
      "\n",
      "    @y.setter\n",
      "    def y(self, value):\n",
      "        self._y = value"
     ],
     "language": "python",
     "metadata": {},
     "outputs": [],
     "prompt_number": 7
    },
    {
     "cell_type": "markdown",
     "metadata": {},
     "source": [
      "Now, try a simple timing test:"
     ]
    },
    {
     "cell_type": "code",
     "collapsed": false,
     "input": [
      "from timeit import timeit\n",
      "a = A(1,2)\n",
      "timeit('a.x', 'from __main__ import a')"
     ],
     "language": "python",
     "metadata": {},
     "outputs": [
      {
       "metadata": {},
       "output_type": "pyout",
       "prompt_number": 8,
       "text": [
        "0.07048460500004694"
       ]
      }
     ],
     "prompt_number": 8
    },
    {
     "cell_type": "code",
     "collapsed": false,
     "input": [
      "timeit('a.y', 'from __main__ import a')"
     ],
     "language": "python",
     "metadata": {},
     "outputs": [
      {
       "metadata": {},
       "output_type": "pyout",
       "prompt_number": 9,
       "text": [
        "0.19584456199982014"
       ]
      }
     ],
     "prompt_number": 9
    },
    {
     "cell_type": "markdown",
     "metadata": {},
     "source": [
      "As you can observe, accessing the property `y` is not just slightly slower than a simple\n",
      "attribute `x`, it\u2019s about $4.5$ times slower. If this difference matters, you should ask yourself\n",
      "if the definition of `y` as a property was really necessary. If not, simply get rid of it and\n",
      "go back to using a simple attribute instead. Just because it might be common for pro\u2010\n",
      "grams in another programming language to use getter/setter functions, that doesn\u2019t\n",
      "mean you should adopt that programming style for Python."
     ]
    },
    {
     "cell_type": "markdown",
     "metadata": {},
     "source": [
      "## Use the built-in containers\n",
      "Built-in data types such as strings, tuples, lists, sets, and dicts are all implemented in C,\n",
      "and are rather fast. If you\u2019re inclined to make your own data structures as a replacement\n",
      "(e.g., linked lists, balanced trees, etc.), it may be rather difficult if not impossible to match\n",
      "the speed of the built-ins. Thus, you\u2019re often better off just using them."
     ]
    },
    {
     "cell_type": "markdown",
     "metadata": {},
     "source": [
      "## Avoid making unnecessary data structures or copies\n",
      "Sometimes programmers get carried away with making unnecessary data structures\n",
      "when they just don\u2019t have to. For example, someone might write code like this:\n",
      "```python\n",
      "values = [x for x in sequence]\n",
      "squares = [x*x for x in values]\n",
      "```\n",
      "Perhaps the thinking here is to first collect a bunch of values into a list and then to start\n",
      "applying operations such as list comprehensions to it. However, the first list is \n",
      "completely unnecessary. Simply write the code like this:\n",
      "```python\n",
      "squares = [x*x for x in sequence]\n",
      "```\n",
      "Related to this, be on the lookout for code written by programmers who are overly\n",
      "paranoid about Python\u2019s sharing of values. Overuse of functions such as `copy.deepcopy()` \n",
      "may be a sign of code that\u2019s been written by someone who doesn\u2019t fully understand \n",
      "or trust Python\u2019s memory model. In such code, it may be safe to eliminate many\n",
      "of the copies."
     ]
    },
    {
     "cell_type": "markdown",
     "metadata": {},
     "source": [
      "# Discussion\n",
      "Before optimizing, it\u2019s usually worthwhile to study the algorithms that you\u2019re using first.\n",
      "You\u2019ll get a much bigger speedup by switching to an `O(n log n)` algorithm than by\n",
      "trying to tweak the implementation of an an `O(n**2)` algorithm.\n",
      "\n",
      "If you\u2019ve decided that you still must optimize, it pays to consider the big picture. As a\n",
      "general rule, you don\u2019t want to apply optimizations to every part of your program,\n",
      "because such changes are going to make the code hard to read and understand. Instead,\n",
      "focus only on known performance bottlenecks, such as inner loops.\n",
      "\n",
      "You need to be especially wary interpreting the results of micro-optimizations. For\n",
      "example, consider these two techniques for creating a dictionary:\n",
      "```python\n",
      "a = {\n",
      "    'name' : 'AAPL',\n",
      "    'shares' : 100,\n",
      "    'price' : 534.22\n",
      "}\n",
      "b = dict(name='AAPL', shares=100, price=534.22)\n",
      "```\n",
      "The latter choice has the benefit of less typing (you don\u2019t need to quote the key names).\n",
      "However, if you put the two code fragments in a head-to-head performance battle, you\u2019ll\n",
      "find that using dict() runs three times slower! With this knowledge, you might be\n",
      "inclined to scan your code and replace every use of dict() with its more verbose al\u2010\n",
      "ternative. However, a smart programmer will only focus on parts of a program where\n",
      "it might actually matter, such as an inner loop. In other places, the speed difference just\n",
      "isn\u2019t going to matter at all.\n",
      "\n",
      "If, on the other hand, your performance needs go far beyond the simple techniques in\n",
      "this recipe, you might investigate the use of tools based on just-in-time (JIT) compilation\n",
      "techniques. For example, the [PyPy project](http://pypy.org/) is an alternate implementation of the Python\n",
      "interpreter that analyzes the execution of your program and generates native machine\n",
      "code for frequently executed parts. It can sometimes make Python programs run an\n",
      "order of magnitude faster, often approaching (or even exceeding) the speed of code\n",
      "written in C. Unfortunately, as of this writing, PyPy does not yet fully support Python\n",
      "3. So, that is something to look for in the future. You might also consider the \n",
      "[Numba project](http://numba.pydata.org/). Numba is a dynamic compiler where you \n",
      "annotate selected Python functions\n",
      "that you want to optimize with a decorator. Those functions are then compiled into\n",
      "native machine code through the use of [LLVM](http://llvm.org/). \n",
      "It too can produce signficant performance gains. However, like PyPy, \n",
      "support for Python 3 should be viewed as somewhat experimental."
     ]
    }
   ],
   "metadata": {}
  }
 ]
}