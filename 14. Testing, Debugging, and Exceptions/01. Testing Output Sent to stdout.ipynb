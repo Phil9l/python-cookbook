{
 "metadata": {
  "name": ""
 },
 "nbformat": 3,
 "nbformat_minor": 0,
 "worksheets": [
  {
   "cells": [
    {
     "cell_type": "heading",
     "level": 1,
     "metadata": {},
     "source": [
      "14.1. Testing Output Sent to stdout"
     ]
    },
    {
     "cell_type": "markdown",
     "metadata": {},
     "source": [
      "# Problem\n",
      "You have a program that has a method whose output goes to standard Output\n",
      "(`sys.stdout`). This almost always means that it emits text to the screen. You\u2019d like to\n",
      "write a test for your code to prove that, given the proper input, the proper output is\n",
      "displayed.\n",
      "\n",
      "# Solution\n",
      "Using the `unittest.mock` module\u2019s `patch()` function, it\u2019s pretty simple to mock out\n",
      "`sys.stdout` for just a single test, and put it back again, without messy temporary variables \n",
      "or leaking mocked-out state between test cases.\n",
      "\n",
      "Consider, as an example, the following function in a module mymodule:\n",
      "```python\n",
      "# mymodule.py\n",
      "def urlprint(protocol, host, domain):\n",
      "    url = '{}://{}.{}'.format(protocol, host, domain)\n",
      "    print(url)\n",
      "```\n",
      "The built-in `print` function, by default, sends output to `sys.stdout`. In order to test\n",
      "that output is actually getting there, you can mock it out using a stand-in object, and\n",
      "then make assertions about what happened. Using the `unittest.mock` module\u2019s `patch()`\n",
      "method makes it convenient to replace objects only within the context of a running test,\n",
      "returning things to their original state immediately after the test is complete. Here\u2019s the\n",
      "test code for `mymodule`:\n",
      "```python\n",
      "from io import StringIO\n",
      "from unittest import TestCase\n",
      "from unittest.mock import patch\n",
      "import mymodule\n",
      "\n",
      "class TestURLPrint(TestCase):\n",
      "    def test_url_gets_to_stdout(self):\n",
      "        protocol = 'http'\n",
      "        host = 'www'\n",
      "        domain = 'example.com'\n",
      "        expected_url = '{}://{}.{}\\n'.format(protocol, host, domain)\n",
      "        \n",
      "        with patch('sys.stdout', new=StringIO()) as fake_out:\n",
      "            mymodule.urlprint(protocol, host, domain)\n",
      "            self.assertEqual(fake_out.getvalue(), expected_url)\n",
      "```"
     ]
    },
    {
     "cell_type": "markdown",
     "metadata": {},
     "source": [
      "# Discussion\n",
      "The `urlprint()` function takes three arguments, and the test starts by setting up dummy\n",
      "arguments for each one. The `expected_url` variable is set to a string containing the\n",
      "expected output.\n",
      "\n",
      "To run the test, the `unittest.mock.patch()` function is used as a context manager to\n",
      "replace the value of `sys.stdout` with a `StringIO` object as a substitute. The `fake_out`\n",
      "variable is the mock object that\u2019s created in this process. This can be used inside the\n",
      "body of the `with` statement to perform various checks. When the `with` statement completes, \n",
      "patch conveniently puts everything back the way it was before the test ever ran.\n",
      "\n",
      "It\u2019s worth noting that certain C extensions to Python may write directly to standard\n",
      "output, bypassing the setting of `sys.stdout`. This recipe won\u2019t help with that scenario,\n",
      "but it should work fine with pure Python code (if you need to capture I/O from such C\n",
      "extensions, you can do it by opening a temporary file and performing various tricks\n",
      "involving file descriptors to have standard output temporarily redirected to that file).\n",
      "\n",
      "More information about capturing IO in a string and `StringIO` objects can be found in\n",
      "Recipe 5.6. "
     ]
    }
   ],
   "metadata": {}
  }
 ]
}