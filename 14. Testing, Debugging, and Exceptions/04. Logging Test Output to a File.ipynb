{
 "metadata": {
  "name": ""
 },
 "nbformat": 3,
 "nbformat_minor": 0,
 "worksheets": [
  {
   "cells": [
    {
     "cell_type": "heading",
     "level": 1,
     "metadata": {},
     "source": [
      "14.4. Logging Test Output to a File"
     ]
    },
    {
     "cell_type": "markdown",
     "metadata": {},
     "source": [
      "# Problem\n",
      "You want the results of running unit tests written to a file instead of printed to standard\n",
      "output.\n",
      "\n",
      "# Solution\n",
      "A very common technique for running unit tests is to include a small code fragment\n",
      "like this at the bottom of your testing file:\n",
      "```python\n",
      "import unittest\n",
      "class MyTest(unittest.TestCase):\n",
      "    \u2026\n",
      "\n",
      "if __name__ == '__main__':\n",
      "    unittest.main()\n",
      "```\n",
      "This makes the test file executable, and prints the results of running tests to standard\n",
      "output. If you would like to redirect this output, you need to unwind the `main()` call a\n",
      "bit and write your own `main()` function like this:\n",
      "```python\n",
      "import sys\n",
      "\n",
      "def main(out=sys.stderr, verbosity=2):\n",
      "    loader = unittest.TestLoader()\n",
      "    suite = loader.loadTestsFromModule(sys.modules[__name__])\n",
      "    unittest.TextTestRunner(out, verbosity=verbosity).run(suite)\n",
      "\n",
      "if __name__ == '__main__':\n",
      "    with open('testing.out', 'w') as f:\n",
      "        main(f)\n",
      "```"
     ]
    },
    {
     "cell_type": "markdown",
     "metadata": {},
     "source": [
      "# Discussion\n",
      "The interesting thing about this recipe is not so much the task of getting test results\n",
      "redirected to a file, but the fact that doing so exposes some notable inner workings of\n",
      "the unittest module.\n",
      "\n",
      "At a basic level, the `unittest` module works by first assembling a test suite. This test\n",
      "suite consists of the different testing methods you defined. Once the suite has been\n",
      "assembled, the tests it contains are executed.\n",
      "\n",
      "These two parts of unit testing are separate from each other. The `unittest.TestLoader` \n",
      "instance created in the solution is used to assemble a test suite. The `loadTestsFromModule()` \n",
      "is one of several methods it defines to gather tests. In this case, it scans a\n",
      "module for `TestCase` classes and extracts test methods from them. If you want something \n",
      "more fine-grained, the `loadTestsFromTestCase()` method (not shown) can be\n",
      "used to pull test methods from an individual class that inherits from TestCase.\n",
      "\n",
      "The `TextTestRunner` class is an example of a test runner class. The main purpose of\n",
      "this class is to execute the tests contained in a test suite. This class is the same test runner\n",
      "that sits behind the `unittest.main()` function. However, here we\u2019re giving it a bit of\n",
      "low-level configuration, including an output file and an elevated verbosity level.\n",
      "\n",
      "Although this recipe only consists of a few lines of code, it gives a hint as to how you\n",
      "might further customize the `unittest` framework. To customize how test suites are\n",
      "assembled, you would perform various operations using the `TestLoader` class. To customize \n",
      "how tests execute, you could make custom test runner classes that emulate the\n",
      "functionality of `TextTestRunner`. Both topics are beyond the scope of what can be cov\u2010\n",
      "ered here. However, documentation for the `unittest` module has extensive coverage\n",
      "of the underlying protocols. "
     ]
    }
   ],
   "metadata": {}
  }
 ]
}