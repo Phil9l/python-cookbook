{
 "metadata": {
  "name": ""
 },
 "nbformat": 3,
 "nbformat_minor": 0,
 "worksheets": [
  {
   "cells": [
    {
     "cell_type": "heading",
     "level": 1,
     "metadata": {},
     "source": [
      "14.5. Skipping or Anticipating Test Failures"
     ]
    },
    {
     "cell_type": "markdown",
     "metadata": {},
     "source": [
      "# Problem\n",
      "You want to skip or mark selected tests as an anticipated failure in your unit tests.\n",
      "\n",
      "# Solution\n",
      "The `unittest` module has decorators that can be applied to selected test methods to\n",
      "control their handling. For example:\n",
      "```python\n",
      "import unittest\n",
      "import os\n",
      "import platform\n",
      "\n",
      "class Tests(unittest.TestCase):\n",
      "    def test_0(self):\n",
      "        self.assertTrue(True)\n",
      "\n",
      "    @unittest.skip('skipped test')\n",
      "    def test_1(self):\n",
      "        self.fail('should have failed!')\n",
      "\n",
      "    @unittest.skipIf(os.name=='posix', 'Not supported on Unix')\n",
      "    def test_2(self):\n",
      "        import winreg\n",
      "        \n",
      "    @unittest.skipUnless(platform.system() == 'Darwin', 'Mac specific test')\n",
      "    def test_3(self):\n",
      "        self.assertTrue(True)\n",
      "        \n",
      "    @unittest.expectedFailure\n",
      "    def test_4(self):\n",
      "        self.assertEqual(2+2, 5)\n",
      "\n",
      "if __name__ == '__main__':\n",
      "    unittest.main()\n",
      "```\n",
      "If you run this code on a Mac, you\u2019ll get this output:\n",
      "```\n",
      "bash % python3 testsample.py -v\n",
      "test_0 (__main__.Tests) ... ok\n",
      "test_1 (__main__.Tests) ... skipped 'skipped test'\n",
      "test_2 (__main__.Tests) ... skipped 'Not supported on Unix'\n",
      "test_3 (__main__.Tests) ... ok\n",
      "test_4 (__main__.Tests) ... expected failure\n",
      "----------------------------------------------------------------------\n",
      "Ran 5 tests in 0.002s\n",
      "OK (skipped=2, expected failures=1)\n",
      "```"
     ]
    },
    {
     "cell_type": "markdown",
     "metadata": {},
     "source": [
      "# Discussion\n",
      "The `skip()` decorator can be used to skip over a test that you don\u2019t want to run at all.\n",
      "`skipIf()` and `skipUnless()` can be a useful way to write tests that only apply to certain\n",
      "platforms or Python versions, or which have other dependencies. Use the \n",
      "`@expectedFailure` decorator to mark tests that are known failures, but for which you don\u2019t want\n",
      "the test framework to report more information.\n",
      "The decorators for skipping methods can also be applied to entire testing classes. For\n",
      "example:\n",
      "```python\n",
      "@unittest.skipUnless(platform.system() == 'Darwin', 'Mac specific tests')\n",
      "class DarwinTests(unittest.TestCase):\n",
      "    \u2026\n",
      "```"
     ]
    }
   ],
   "metadata": {}
  }
 ]
}