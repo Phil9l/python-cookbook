{
 "metadata": {
  "name": ""
 },
 "nbformat": 3,
 "nbformat_minor": 0,
 "worksheets": [
  {
   "cells": [
    {
     "cell_type": "heading",
     "level": 1,
     "metadata": {},
     "source": [
      "14.6. Handling Multiple Exceptions"
     ]
    },
    {
     "cell_type": "markdown",
     "metadata": {},
     "source": [
      "# Problem\n",
      "You have a piece of code that can throw any of several different exceptions, and you\n",
      "need to account for all of the potential exceptions that could be raised without creating\n",
      "duplicate code or long, meandering code passages.\n",
      "\n",
      "# Solution\n",
      "If you can handle different exceptions all using a single block of code, they can be\n",
      "grouped together in a tuple like this:\n",
      "```python\n",
      "try:\n",
      "    client_obj.get_url(url)\n",
      "except (URLError, ValueError, SocketTimeout):\n",
      "    client_obj.remove_url(url)\n",
      "```\n",
      "In the preceding example, the `remove_url()` method will be called if any one of the\n",
      "listed exceptions occurs. If, on the other hand, you need to handle one of the exceptions\n",
      "differently, put it into its own `except` clause:\n",
      "```python\n",
      "try:\n",
      "    client_obj.get_url(url)\n",
      "except (URLError, ValueError):\n",
      "    client_obj.remove_url(url)\n",
      "except SocketTimeout:\n",
      "    client_obj.handle_url_timeout(url)\n",
      "```\n",
      "Many exceptions are grouped into an inheritance hierarchy. For such exceptions, you\n",
      "can catch all of them by simply specifying a base class. For example, instead of writing\n",
      "code like this:\n",
      "```python\n",
      "try:\n",
      "    f = open(filename)\n",
      "except (FileNotFoundError, PermissionError):\n",
      "    \u2026\n",
      "```\n",
      "you could rewrite the `except` statement as:\n",
      "```python\n",
      "try:\n",
      "    f = open(filename)\n",
      "except OSError:\n",
      "    \u2026\n",
      "```\n",
      "This works because `OSError` is a base class that\u2019s common to both the `FileNotFoundError`\n",
      "and `PermissionError` exceptions."
     ]
    },
    {
     "cell_type": "markdown",
     "metadata": {},
     "source": [
      "# Discussion\n",
      "Although it\u2019s not specific to handling `multiple` exceptions per se, it\u2019s worth noting that\n",
      "you can get a handle to the thrown exception using the `as` keyword:\n",
      "```python\n",
      "try:\n",
      "    f = open(filename)\n",
      "except OSError as e:\n",
      "    if e.errno == errno.ENOENT:\n",
      "        logger.error('File not found')\n",
      "    elif e.errno == errno.EACCES:\n",
      "        logger.error('Permission denied')\n",
      "    else:\n",
      "        logger.error('Unexpected error: %d', e.errno)\n",
      "```\n",
      "In this example, the `e` variable holds an instance of the raised `OSError`. This is useful if\n",
      "you need to inspect the exception further, such as processing it based on the value of an\n",
      "additional status code.\n",
      "\n",
      "Be aware that `except` clauses are checked in the order listed and that the first match\n",
      "executes. It may be a bit pathological, but you can easily create situations where multiple\n",
      "`except` clauses might match. For example:"
     ]
    },
    {
     "cell_type": "code",
     "collapsed": false,
     "input": [
      "f = open('missing')"
     ],
     "language": "python",
     "metadata": {},
     "outputs": [
      {
       "ename": "FileNotFoundError",
       "evalue": "[Errno 2] No such file or directory: 'missing'",
       "output_type": "pyerr",
       "traceback": [
        "\u001b[0;31m---------------------------------------------------------------------------\u001b[0m\n\u001b[0;31mFileNotFoundError\u001b[0m                         Traceback (most recent call last)",
        "\u001b[0;32m<ipython-input-1-7017ba4c9e29>\u001b[0m in \u001b[0;36m<module>\u001b[0;34m()\u001b[0m\n\u001b[0;32m----> 1\u001b[0;31m \u001b[0mf\u001b[0m \u001b[0;34m=\u001b[0m \u001b[0mopen\u001b[0m\u001b[0;34m(\u001b[0m\u001b[0;34m'missing'\u001b[0m\u001b[0;34m)\u001b[0m\u001b[0;34m\u001b[0m\u001b[0m\n\u001b[0m",
        "\u001b[0;31mFileNotFoundError\u001b[0m: [Errno 2] No such file or directory: 'missing'"
       ]
      }
     ],
     "prompt_number": 1
    },
    {
     "cell_type": "code",
     "collapsed": false,
     "input": [
      "try:\n",
      "    f = open('missing')\n",
      "except OSError:\n",
      "    print('It failed')\n",
      "except FileNotFoundError:\n",
      "    print('File not found')"
     ],
     "language": "python",
     "metadata": {},
     "outputs": [
      {
       "output_type": "stream",
       "stream": "stdout",
       "text": [
        "It failed\n"
       ]
      }
     ],
     "prompt_number": 2
    },
    {
     "cell_type": "markdown",
     "metadata": {},
     "source": [
      "Here the except `FileNotFoundError` clause doesn\u2019t execute because the `OSError` is\n",
      "more general, matches the `FileNotFoundError` exception, and was listed first.\n",
      "\n",
      "As a debugging tip, if you\u2019re not entirely sure about the class hierarchy of a particular\n",
      "exception, you can quickly view it by inspecting the exception\u2019s `__mro__` attribute. For\n",
      "example:"
     ]
    },
    {
     "cell_type": "code",
     "collapsed": false,
     "input": [
      "FileNotFoundError.__mro__"
     ],
     "language": "python",
     "metadata": {},
     "outputs": [
      {
       "metadata": {},
       "output_type": "pyout",
       "prompt_number": 3,
       "text": [
        "(builtins.FileNotFoundError,\n",
        " builtins.OSError,\n",
        " builtins.Exception,\n",
        " builtins.BaseException,\n",
        " builtins.object)"
       ]
      }
     ],
     "prompt_number": 3
    },
    {
     "cell_type": "markdown",
     "metadata": {},
     "source": [
      "Any one of the listed classes up to `BaseException` can be used with the `except` statement."
     ]
    }
   ],
   "metadata": {}
  }
 ]
}