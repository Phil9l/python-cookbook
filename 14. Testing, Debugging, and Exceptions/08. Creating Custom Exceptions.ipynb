{
 "metadata": {
  "name": ""
 },
 "nbformat": 3,
 "nbformat_minor": 0,
 "worksheets": [
  {
   "cells": [
    {
     "cell_type": "heading",
     "level": 1,
     "metadata": {},
     "source": [
      "14.8. Creating Custom Exceptions"
     ]
    },
    {
     "cell_type": "markdown",
     "metadata": {},
     "source": [
      "# Problem\n",
      "You\u2019re building an application and would like to wrap lower-level exceptions with custom \n",
      "ones that have more meaning in the context of your application.\n",
      "\n",
      "# Solution\n",
      "Creating new exceptions is easy\u2014just define them as classes that inherit from \n",
      "`Exception` (or one of the other existing exception types if it makes more sense). For example,\n",
      "if you are writing code related to network programming, you might define some custom\n",
      "exceptions like this:\n",
      "```python\n",
      "class NetworkError(Exception):\n",
      "    pass\n",
      "\n",
      "class HostnameError(NetworkError):\n",
      "    pass\n",
      "\n",
      "class TimeoutError(NetworkError):\n",
      "    pass\n",
      "\n",
      "class ProtocolError(NetworkError):\n",
      "    pass\n",
      "```\n",
      "Users could then use these exceptions in the normal way. For example:\n",
      "```python\n",
      "try:\n",
      "    msg = s.recv()\n",
      "except TimeoutError as e:\n",
      "    \u2026\n",
      "except ProtocolError as e:\n",
      "    \u2026\n",
      "```"
     ]
    },
    {
     "cell_type": "markdown",
     "metadata": {},
     "source": [
      "# Discussion\n",
      "Custom exception classes should almost always inherit from the built-in `Exception`\n",
      "class, or inherit from some locally defined base exception that itself inherits from \n",
      "`Exception`. Although all exceptions also derive from `BaseException`, you should not use\n",
      "this as a base class for new exceptions. `BaseException` is reserved for system-exiting\n",
      "exceptions, such as `KeyboardInterrupt` or `SystemExit`, and other exceptions that\n",
      "should signal the application to exit. Therefore, catching these exceptions is not the\n",
      "intended use case. Assuming you follow this convention, it follows that inheriting from\n",
      "`BaseException` causes your custom exceptions to not be caught and to signal an \n",
      "imminent application shutdown!\n",
      "\n",
      "Having custom exceptions in your application and using them as shown makes your\n",
      "application code tell a more coherent story to whoever may need to read the code. One\n",
      "design consideration involves the grouping of custom exceptions via inheritance. In\n",
      "complicated applications, it may make sense to introduce further base classes that group\n",
      "different classes of exceptions together. This gives the user a choice of catching a nar\u2010\n",
      "rowly specified error, such as this:\n",
      "```python\n",
      "try:\n",
      "    s.send(msg)\n",
      "except ProtocolError:\n",
      "    \u2026\n",
      "```\n",
      "It also gives the ability to catch a broad range of errors, such as the following:\n",
      "```python\n",
      "try:\n",
      "    s.send(msg)\n",
      "except NetworkError:\n",
      "    \u2026\n",
      "```\n",
      "If you are going to define a new exception that overrides the `__init__()` method of\n",
      "`Exception`, make sure you always call `Exception.__init__()` with all of the passed\n",
      "arguments. For example:\n",
      "```python\n",
      "class CustomError(Exception):\n",
      "    def __init__(self, message, status):\n",
      "        super().__init__(message, status)\n",
      "        self.message = message\n",
      "        self.status = status\n",
      "```\n",
      "This might look a little weird, but the default behavior of `Exception` is to accept all\n",
      "arguments passed and to store them in the `.args` attribute as a tuple. Various other\n",
      "libraries and parts of Python expect all exceptions to have the `.args` attribute, so if you\n",
      "skip this step, you might find that your new exception doesn\u2019t behave quite right in\n",
      "certain contexts. To illustrate the use of `.args`, consider this interactive session with the\n",
      "built-in `RuntimeError` exception, and notice how any number of arguments can be used\n",
      "with the `raise` statement:"
     ]
    },
    {
     "cell_type": "code",
     "collapsed": false,
     "input": [
      "try:\n",
      "    raise RuntimeError('It failed')\n",
      "except RuntimeError as e:\n",
      "    print(e.args)"
     ],
     "language": "python",
     "metadata": {},
     "outputs": [
      {
       "output_type": "stream",
       "stream": "stdout",
       "text": [
        "('It failed',)\n"
       ]
      }
     ],
     "prompt_number": 1
    },
    {
     "cell_type": "code",
     "collapsed": false,
     "input": [
      "try:\n",
      "    raise RuntimeError('It failed', 42, 'spam')\n",
      "except RuntimeError as e:\n",
      "    print(e.args)"
     ],
     "language": "python",
     "metadata": {},
     "outputs": [
      {
       "output_type": "stream",
       "stream": "stdout",
       "text": [
        "('It failed', 42, 'spam')\n"
       ]
      }
     ],
     "prompt_number": 2
    },
    {
     "cell_type": "markdown",
     "metadata": {},
     "source": [
      "For more information on creating your own exceptions, see the [12](http://docs.python.org/3/tutorial/errors.html)."
     ]
    }
   ],
   "metadata": {}
  }
 ]
}