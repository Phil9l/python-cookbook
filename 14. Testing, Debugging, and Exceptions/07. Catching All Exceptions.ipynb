{
 "metadata": {
  "name": ""
 },
 "nbformat": 3,
 "nbformat_minor": 0,
 "worksheets": [
  {
   "cells": [
    {
     "cell_type": "heading",
     "level": 1,
     "metadata": {},
     "source": [
      "14.7. Catching All Exceptions"
     ]
    },
    {
     "cell_type": "markdown",
     "metadata": {},
     "source": [
      "# Problem\n",
      "You want to write code that catches all exceptions.\n",
      "\n",
      "# Solution\n",
      "To catch all exceptions, write an exception handler for `Exception`, as shown here:\n",
      "```python\n",
      "try:\n",
      "    \u2026\n",
      "except Exception as e:\n",
      "    \u2026\n",
      "    log('Reason:', e) # Important!\n",
      "```\n",
      "This will catch all exceptions save `SystemExit`, `KeyboardInterrupt`, and `GeneratorExit`. \n",
      "If you also want to catch those exceptions, change Exception to BaseException."
     ]
    },
    {
     "cell_type": "markdown",
     "metadata": {},
     "source": [
      "# Discussion\n",
      "Catching all exceptions is sometimes used as a crutch by programmers who can\u2019t remember \n",
      "all of the possible exceptions that might occur in complicated operations. As\n",
      "such, it is also a very good way to write undebuggable code if you are not careful.\n",
      "\n",
      "Because of this, if you choose to catch all exceptions, it is absolutely critical to log or\n",
      "report the actual reason for the exception somewhere (e.g., log file, error message print\u2010\n",
      "ed to screen, etc.). If you don\u2019t do this, your head will likely explode at some point.\n",
      "Consider this example:"
     ]
    },
    {
     "cell_type": "code",
     "collapsed": false,
     "input": [
      "def parse_int(s):\n",
      "    try:\n",
      "        n = int(v)\n",
      "    except Exception:\n",
      "        print(\"Couldn't parse\")"
     ],
     "language": "python",
     "metadata": {},
     "outputs": [],
     "prompt_number": 1
    },
    {
     "cell_type": "markdown",
     "metadata": {},
     "source": [
      "If you try this function, it behaves like this:"
     ]
    },
    {
     "cell_type": "code",
     "collapsed": false,
     "input": [
      "parse_int('n/a')"
     ],
     "language": "python",
     "metadata": {},
     "outputs": [
      {
       "output_type": "stream",
       "stream": "stdout",
       "text": [
        "Couldn't parse\n"
       ]
      }
     ],
     "prompt_number": 2
    },
    {
     "cell_type": "code",
     "collapsed": false,
     "input": [
      "parse_int('42')"
     ],
     "language": "python",
     "metadata": {},
     "outputs": [
      {
       "output_type": "stream",
       "stream": "stdout",
       "text": [
        "Couldn't parse\n"
       ]
      }
     ],
     "prompt_number": 3
    },
    {
     "cell_type": "markdown",
     "metadata": {},
     "source": [
      "At this point, you might be left scratching your head as to why it doesn\u2019t work. Now\n",
      "suppose the function had been written like this:"
     ]
    },
    {
     "cell_type": "code",
     "collapsed": false,
     "input": [
      "def parse_int(s):\n",
      "    try:\n",
      "        n = int(v)\n",
      "    except Exception as e:\n",
      "        print(\"Couldn't parse\")\n",
      "        print('Reason:', e)"
     ],
     "language": "python",
     "metadata": {},
     "outputs": [],
     "prompt_number": 4
    },
    {
     "cell_type": "markdown",
     "metadata": {},
     "source": [
      "In this case, you get the following output, which indicates that a programming mistake\n",
      "has been made:"
     ]
    },
    {
     "cell_type": "code",
     "collapsed": false,
     "input": [
      "parse_int('42')"
     ],
     "language": "python",
     "metadata": {},
     "outputs": [
      {
       "output_type": "stream",
       "stream": "stdout",
       "text": [
        "Couldn't parse\n",
        "Reason: name 'v' is not defined\n"
       ]
      }
     ],
     "prompt_number": 5
    },
    {
     "cell_type": "markdown",
     "metadata": {},
     "source": [
      "All things being equal, it\u2019s probably better to be as precise as possible in your exception\n",
      "handling. However, if you must catch all exceptions, just make sure you give good diagnostic \n",
      "information or propagate the exception so that cause doesn\u2019t get lost."
     ]
    }
   ],
   "metadata": {}
  }
 ]
}