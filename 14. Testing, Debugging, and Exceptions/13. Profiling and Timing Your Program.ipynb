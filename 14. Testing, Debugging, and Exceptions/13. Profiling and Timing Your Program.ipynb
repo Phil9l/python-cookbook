{
 "metadata": {
  "name": ""
 },
 "nbformat": 3,
 "nbformat_minor": 0,
 "worksheets": [
  {
   "cells": [
    {
     "cell_type": "heading",
     "level": 1,
     "metadata": {},
     "source": [
      "14.13. Profiling and Timing Your Program"
     ]
    },
    {
     "cell_type": "markdown",
     "metadata": {},
     "source": [
      "# Problem\n",
      "You would like to find out where your program spends its time and make timing\n",
      "measurements.\n",
      "\n",
      "# Solution\n",
      "If you simply want to time your whole program, it\u2019s usually easy enough to use something\n",
      "like the Unix `time` command. For example:\n",
      "```\n",
      "bash % time python3 someprogram.py\n",
      "real 0m13.937s\n",
      "user 0m12.162s\n",
      "sys 0m0.098s\n",
      "bash %\n",
      "```\n",
      "On the other extreme, if you want a detailed report showing what your program is doing,\n",
      "you can use the `cProfile` module:\n",
      "```\n",
      "bash % python3 -m cProfile someprogram.py\n",
      "    859647 function calls in 16.016 CPU seconds\n",
      "\n",
      "  Ordered by: standard name\n",
      "\n",
      "\n",
      "  ncalls tottime percall cumtime percall filename:lineno(function)\n",
      "  263169  0.080   0.000   0.080  0.000  someprogram.py:16(frange)\n",
      "     513  0.001   0.000   0.002  0.000  someprogram.py:30(generate_mandel)\n",
      "  262656  0.194   0.000  15.295  0.000  someprogram.py:32(<genexpr>)\n",
      "       1  0.036   0.036  16.077 16.077  someprogram.py:4(<module>)\n",
      "  262144 15.021   0.000  15.021  0.000  someprogram.py:4(in_mandelbrot)\n",
      "       1  0.000   0.000   0.000  0.000  os.py:746(urandom)\n",
      "       1  0.000   0.000   0.000  0.000  png.py:1056(_readable)\n",
      "       1  0.000   0.000   0.000  0.000  png.py:1073(Reader)\n",
      "       1  0.227   0.227   0.438  0.438  png.py:163(<module>)\n",
      "     512  0.010   0.000   0.010  0.000  png.py:200(group)\n",
      "    ...\n",
      "bash %\n",
      "```\n",
      "More often than not, profiling your code lies somewhere in between these two extremes.\n",
      "For example, you may already know that your code spends most of its time in a few\n",
      "selected functions. For selected profiling of functions, a short decorator can be useful.\n",
      "For example:"
     ]
    },
    {
     "cell_type": "code",
     "collapsed": false,
     "input": [
      "# timethis.py\n",
      "\n",
      "import time\n",
      "from functools import wraps\n",
      "\n",
      "def timethis(func):\n",
      "    @wraps(func)\n",
      "    def wrapper(*args, **kwargs):\n",
      "        start = time.perf_counter()\n",
      "        r = func(*args, **kwargs)\n",
      "        end = time.perf_counter()\n",
      "        print('{}.{} : {}'.format(func.__module__, func.__name__, end - start))\n",
      "        return r\n",
      "    return wrapper"
     ],
     "language": "python",
     "metadata": {},
     "outputs": [],
     "prompt_number": 1
    },
    {
     "cell_type": "markdown",
     "metadata": {},
     "source": [
      "To use this decorator, you simply place it in front of a function definition to get timings\n",
      "from it. For example:"
     ]
    },
    {
     "cell_type": "code",
     "collapsed": false,
     "input": [
      "@timethis\n",
      "def countdown(n):\n",
      "    while n > 0:\n",
      "        n -= 1"
     ],
     "language": "python",
     "metadata": {},
     "outputs": [],
     "prompt_number": 2
    },
    {
     "cell_type": "code",
     "collapsed": false,
     "input": [
      "countdown(10000000)"
     ],
     "language": "python",
     "metadata": {},
     "outputs": [
      {
       "output_type": "stream",
       "stream": "stdout",
       "text": [
        "__main__.countdown : 0.7061865930008935\n"
       ]
      }
     ],
     "prompt_number": 3
    },
    {
     "cell_type": "markdown",
     "metadata": {},
     "source": [
      "To time a block of statements, you can define a context manager. For example:"
     ]
    },
    {
     "cell_type": "code",
     "collapsed": false,
     "input": [
      "from contextlib import contextmanager\n",
      "\n",
      "@contextmanager\n",
      "def timeblock(label):\n",
      "    start = time.perf_counter()\n",
      "    try:\n",
      "        yield\n",
      "    finally:\n",
      "        end = time.perf_counter()\n",
      "        print('{} : {}'.format(label, end - start))"
     ],
     "language": "python",
     "metadata": {},
     "outputs": [],
     "prompt_number": 4
    },
    {
     "cell_type": "markdown",
     "metadata": {},
     "source": [
      "Here is an example of how the context manager works:"
     ]
    },
    {
     "cell_type": "code",
     "collapsed": false,
     "input": [
      "with timeblock('counting'):\n",
      "    n = 10000000\n",
      "    while n > 0:\n",
      "        n -= 1"
     ],
     "language": "python",
     "metadata": {},
     "outputs": [
      {
       "output_type": "stream",
       "stream": "stdout",
       "text": [
        "counting : 1.0354040620004525\n"
       ]
      }
     ],
     "prompt_number": 5
    },
    {
     "cell_type": "markdown",
     "metadata": {},
     "source": [
      "For studying the performance of small code fragments, the `timeit` module can be useful.\n",
      "For example:"
     ]
    },
    {
     "cell_type": "code",
     "collapsed": false,
     "input": [
      "from timeit import timeit\n",
      "timeit('math.sqrt(2)', 'import math')"
     ],
     "language": "python",
     "metadata": {},
     "outputs": [
      {
       "metadata": {},
       "output_type": "pyout",
       "prompt_number": 6,
       "text": [
        "0.15606485000171233"
       ]
      }
     ],
     "prompt_number": 6
    },
    {
     "cell_type": "code",
     "collapsed": false,
     "input": [
      "timeit('sqrt(2)', 'from math import sqrt')"
     ],
     "language": "python",
     "metadata": {},
     "outputs": [
      {
       "metadata": {},
       "output_type": "pyout",
       "prompt_number": 7,
       "text": [
        "0.15546814601111691"
       ]
      }
     ],
     "prompt_number": 7
    },
    {
     "cell_type": "markdown",
     "metadata": {},
     "source": [
      "`timeit` works by executing the statement specified in the first argument a million times\n",
      "and measuring the time. The second argument is a setup string that is executed to set\n",
      "up the environment prior to running the test. If you need to change the number of\n",
      "iterations, supply a `number` argument like this:"
     ]
    },
    {
     "cell_type": "code",
     "collapsed": false,
     "input": [
      "timeit('math.sqrt(2)', 'import math', number=10000000)"
     ],
     "language": "python",
     "metadata": {},
     "outputs": [
      {
       "metadata": {},
       "output_type": "pyout",
       "prompt_number": 8,
       "text": [
        "1.4752561200002674"
       ]
      }
     ],
     "prompt_number": 8
    },
    {
     "cell_type": "code",
     "collapsed": false,
     "input": [
      "timeit('sqrt(2)', 'from math import sqrt', number=10000000)"
     ],
     "language": "python",
     "metadata": {},
     "outputs": [
      {
       "metadata": {},
       "output_type": "pyout",
       "prompt_number": 9,
       "text": [
        "1.1111395000043558"
       ]
      }
     ],
     "prompt_number": 9
    },
    {
     "cell_type": "markdown",
     "metadata": {},
     "source": [
      "# Discussion\n",
      "When making performance measurements, be aware that any results you get are \n",
      "approximations. The `time.perf_counter()` function used in the solution provides the\n",
      "highest-resolution timer possible on a given platform. However, it still measures wallclock\n",
      "time, and can be impacted by many different factors, such as machine load.\n",
      "If you are interested in process time as opposed to wall-clock time, use \n",
      "`time.process_time()` instead. For example:"
     ]
    },
    {
     "cell_type": "code",
     "collapsed": false,
     "input": [
      "from functools import wraps\n",
      "def timethis(func):\n",
      "    @wraps(func)\n",
      "    def wrapper(*args, **kwargs):\n",
      "        start = time.process_time()\n",
      "        r = func(*args, **kwargs)\n",
      "        end = time.process_time()\n",
      "        print('{}.{} : {}'.format(func.__module__, func.__name__, end - start))\n",
      "        return r\n",
      "    return wrapper"
     ],
     "language": "python",
     "metadata": {},
     "outputs": [],
     "prompt_number": 10
    },
    {
     "cell_type": "markdown",
     "metadata": {},
     "source": [
      "Last, but not least, if you\u2019re going to perform detailed timing analysis, make sure to read\n",
      "the documentation for the `time`, `timeit`, and other associated modules, so that you have\n",
      "an understanding of important platform-related differences and other pitfalls.\n",
      "See Recipe 13.13 for a related recipe on creating a stopwatch timer class."
     ]
    }
   ],
   "metadata": {}
  }
 ]
}