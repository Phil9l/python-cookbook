{
 "metadata": {
  "name": ""
 },
 "nbformat": 3,
 "nbformat_minor": 0,
 "worksheets": [
  {
   "cells": [
    {
     "cell_type": "heading",
     "level": 1,
     "metadata": {},
     "source": [
      "14.2. Patching Objects in Unit Tests"
     ]
    },
    {
     "cell_type": "markdown",
     "metadata": {},
     "source": [
      "# Problem\n",
      "You\u2019re writing unit tests and need to apply patches to selected objects in order to make\n",
      "assertions about how they were used in the test (e.g., assertions about being called with\n",
      "certain parameters, access to selected attributes, etc.).\n",
      "\n",
      "# Solution\n",
      "The `unittest.mock.patch()` function can be used to help with this problem. It\u2019s a little\n",
      "unusual, but `patch()` can be used as a decorator, a context manager, or stand-alone. For\n",
      "example, here\u2019s an example of how it\u2019s used as a decorator:\n",
      "```python\n",
      "from unittest.mock import patch\n",
      "import example\n",
      "\n",
      "@patch('example.func')\n",
      "def test1(x, mock_func):\n",
      "    example.func(x)  # Uses patched example.func\n",
      "    mock_func.assert_called_with(x)\n",
      "```\n",
      "It can also be used as a context manager:\n",
      "```python\n",
      "with patch('example.func') as mock_func:\n",
      "    example.func(x)  # Uses patched example.func\n",
      "    mock_func.assert_called_with(x)\n",
      "```\n",
      "Last, but not least, you can use it to patch things manually:\n",
      "```python\n",
      "p = patch('example.func')\n",
      "mock_func = p.start()\n",
      "example.func(x)\n",
      "mock_func.assert_called_with(x)\n",
      "p.stop()\n",
      "```\n",
      "If necessary, you can stack decorators and context managers to patch multiple objects.\n",
      "For example:\n",
      "```python\n",
      "@patch('example.func1')\n",
      "@patch('example.func2')\n",
      "@patch('example.func3')\n",
      "def test1(mock1, mock2, mock3):\n",
      "    \u2026\n",
      "\n",
      "def test2():\n",
      "    with patch('example.patch1') as mock1, \\\n",
      "         patch('example.patch2') as mock2, \\\n",
      "         patch('example.patch3') as mock3:\n",
      "        \u2026\n",
      "```"
     ]
    },
    {
     "cell_type": "markdown",
     "metadata": {},
     "source": [
      "# Discussion\n",
      "`patch()` works by taking an existing object with the fully qualified name that you provide \n",
      "and replacing it with a new value. The original value is then restored after the\n",
      "completion of the decorated function or context manager. By default, values are replaced\n",
      "with `MagicMock` instances. For example:"
     ]
    },
    {
     "cell_type": "code",
     "collapsed": false,
     "input": [
      "from unittest.mock import patch\n",
      "\n",
      "x = 42\n",
      "with patch('__main__.x'):\n",
      "    print(x)"
     ],
     "language": "python",
     "metadata": {},
     "outputs": [
      {
       "output_type": "stream",
       "stream": "stdout",
       "text": [
        "<MagicMock name='x' id='140662864724320'>\n"
       ]
      }
     ],
     "prompt_number": 1
    },
    {
     "cell_type": "code",
     "collapsed": false,
     "input": [
      "x"
     ],
     "language": "python",
     "metadata": {},
     "outputs": [
      {
       "metadata": {},
       "output_type": "pyout",
       "prompt_number": 2,
       "text": [
        "42"
       ]
      }
     ],
     "prompt_number": 2
    },
    {
     "cell_type": "markdown",
     "metadata": {},
     "source": [
      "However, you can actually replace the value with anything that you wish by supplying\n",
      "it as a second argument to `patch()`:"
     ]
    },
    {
     "cell_type": "code",
     "collapsed": false,
     "input": [
      "with patch('__main__.x', 'patched_value'):\n",
      "    print(x)"
     ],
     "language": "python",
     "metadata": {},
     "outputs": [
      {
       "output_type": "stream",
       "stream": "stdout",
       "text": [
        "patched_value\n"
       ]
      }
     ],
     "prompt_number": 3
    },
    {
     "cell_type": "code",
     "collapsed": false,
     "input": [
      "x"
     ],
     "language": "python",
     "metadata": {},
     "outputs": [
      {
       "metadata": {},
       "output_type": "pyout",
       "prompt_number": 4,
       "text": [
        "42"
       ]
      }
     ],
     "prompt_number": 4
    },
    {
     "cell_type": "markdown",
     "metadata": {},
     "source": [
      "The `MagicMock` instances that are normally used as replacement values are meant to\n",
      "mimic callables and instances. They record information about usage and allow you to\n",
      "make assertions. For example:"
     ]
    },
    {
     "cell_type": "code",
     "collapsed": false,
     "input": [
      "from unittest.mock import MagicMock\n",
      "m = MagicMock(return_value=10)\n",
      "m(1, 2, debug=True)"
     ],
     "language": "python",
     "metadata": {},
     "outputs": [
      {
       "metadata": {},
       "output_type": "pyout",
       "prompt_number": 5,
       "text": [
        "10"
       ]
      }
     ],
     "prompt_number": 5
    },
    {
     "cell_type": "code",
     "collapsed": false,
     "input": [
      "m.assert_called_with(1, 2, debug=True)"
     ],
     "language": "python",
     "metadata": {},
     "outputs": [],
     "prompt_number": 6
    },
    {
     "cell_type": "code",
     "collapsed": false,
     "input": [
      "m.assert_called_with(1, 2)"
     ],
     "language": "python",
     "metadata": {},
     "outputs": [
      {
       "ename": "AssertionError",
       "evalue": "Expected call: mock(1, 2)\nActual call: mock(1, 2, debug=True)",
       "output_type": "pyerr",
       "traceback": [
        "\u001b[0;31m---------------------------------------------------------------------------\u001b[0m\n\u001b[0;31mAssertionError\u001b[0m                            Traceback (most recent call last)",
        "\u001b[0;32m<ipython-input-7-4b979669dc9b>\u001b[0m in \u001b[0;36m<module>\u001b[0;34m()\u001b[0m\n\u001b[0;32m----> 1\u001b[0;31m \u001b[0mm\u001b[0m\u001b[0;34m.\u001b[0m\u001b[0massert_called_with\u001b[0m\u001b[0;34m(\u001b[0m\u001b[0;36m1\u001b[0m\u001b[0;34m,\u001b[0m \u001b[0;36m2\u001b[0m\u001b[0;34m)\u001b[0m\u001b[0;34m\u001b[0m\u001b[0m\n\u001b[0m",
        "\u001b[0;32m/usr/lib/python3.4/unittest/mock.py\u001b[0m in \u001b[0;36massert_called_with\u001b[0;34m(_mock_self, *args, **kwargs)\u001b[0m\n\u001b[1;32m    769\u001b[0m         \u001b[0;32mif\u001b[0m \u001b[0mexpected\u001b[0m \u001b[0;34m!=\u001b[0m \u001b[0mactual\u001b[0m\u001b[0;34m:\u001b[0m\u001b[0;34m\u001b[0m\u001b[0m\n\u001b[1;32m    770\u001b[0m             \u001b[0mcause\u001b[0m \u001b[0;34m=\u001b[0m \u001b[0mexpected\u001b[0m \u001b[0;32mif\u001b[0m \u001b[0misinstance\u001b[0m\u001b[0;34m(\u001b[0m\u001b[0mexpected\u001b[0m\u001b[0;34m,\u001b[0m \u001b[0mException\u001b[0m\u001b[0;34m)\u001b[0m \u001b[0;32melse\u001b[0m \u001b[0;32mNone\u001b[0m\u001b[0;34m\u001b[0m\u001b[0m\n\u001b[0;32m--> 771\u001b[0;31m             \u001b[0;32mraise\u001b[0m \u001b[0mAssertionError\u001b[0m\u001b[0;34m(\u001b[0m\u001b[0m_error_message\u001b[0m\u001b[0;34m(\u001b[0m\u001b[0;34m)\u001b[0m\u001b[0;34m)\u001b[0m \u001b[0;32mfrom\u001b[0m \u001b[0mcause\u001b[0m\u001b[0;34m\u001b[0m\u001b[0m\n\u001b[0m\u001b[1;32m    772\u001b[0m \u001b[0;34m\u001b[0m\u001b[0m\n\u001b[1;32m    773\u001b[0m \u001b[0;34m\u001b[0m\u001b[0m\n",
        "\u001b[0;31mAssertionError\u001b[0m: Expected call: mock(1, 2)\nActual call: mock(1, 2, debug=True)"
       ]
      }
     ],
     "prompt_number": 7
    },
    {
     "cell_type": "code",
     "collapsed": false,
     "input": [
      "m.upper.return_value = 'HELLO'"
     ],
     "language": "python",
     "metadata": {},
     "outputs": [],
     "prompt_number": 8
    },
    {
     "cell_type": "code",
     "collapsed": false,
     "input": [
      "m.upper('hello')"
     ],
     "language": "python",
     "metadata": {},
     "outputs": [
      {
       "metadata": {},
       "output_type": "pyout",
       "prompt_number": 9,
       "text": [
        "'HELLO'"
       ]
      }
     ],
     "prompt_number": 9
    },
    {
     "cell_type": "code",
     "collapsed": false,
     "input": [
      "assert m.upper.called"
     ],
     "language": "python",
     "metadata": {},
     "outputs": [],
     "prompt_number": 10
    },
    {
     "cell_type": "code",
     "collapsed": false,
     "input": [
      "m.split.return_value = ['hello', 'world']\n",
      "m.split('hello world')"
     ],
     "language": "python",
     "metadata": {},
     "outputs": [
      {
       "metadata": {},
       "output_type": "pyout",
       "prompt_number": 11,
       "text": [
        "['hello', 'world']"
       ]
      }
     ],
     "prompt_number": 11
    },
    {
     "cell_type": "code",
     "collapsed": false,
     "input": [
      "m.split.assert_called_with('hello world')"
     ],
     "language": "python",
     "metadata": {},
     "outputs": [],
     "prompt_number": 12
    },
    {
     "cell_type": "code",
     "collapsed": false,
     "input": [
      "m['blah']"
     ],
     "language": "python",
     "metadata": {},
     "outputs": [
      {
       "metadata": {},
       "output_type": "pyout",
       "prompt_number": 13,
       "text": [
        "<MagicMock name='mock.__getitem__()' id='140662863770680'>"
       ]
      }
     ],
     "prompt_number": 13
    },
    {
     "cell_type": "code",
     "collapsed": false,
     "input": [
      "m.__getitem__.called"
     ],
     "language": "python",
     "metadata": {},
     "outputs": [
      {
       "metadata": {},
       "output_type": "pyout",
       "prompt_number": 14,
       "text": [
        "True"
       ]
      }
     ],
     "prompt_number": 14
    },
    {
     "cell_type": "code",
     "collapsed": false,
     "input": [
      "m.__getitem__.assert_called_with('blah')"
     ],
     "language": "python",
     "metadata": {},
     "outputs": [],
     "prompt_number": 15
    },
    {
     "cell_type": "markdown",
     "metadata": {},
     "source": [
      "Typically, these kinds of operations are carried out in a unit test. For example, suppose\n",
      "you have some function like this:\n",
      "```python\n",
      "# example.py\n",
      "from urllib.request import urlopen\n",
      "import csv\n",
      "\n",
      "def dowprices():\n",
      "    u = urlopen('http://finance.yahoo.com/d/quotes.csv?s=@^DJI&f=sl1')\n",
      "    lines = (line.decode('utf-8') for line in u)\n",
      "    rows = (row for row in csv.reader(lines) if len(row) == 2)\n",
      "    prices = { name:float(price) for name, price in rows }\n",
      "    return prices\n",
      "```\n",
      "Normally, this function uses `urlopen()` to go fetch data off the Web and parse it. To\n",
      "unit test it, you might want to give it a more predictable dataset of your own creation,\n",
      "however. Here\u2019s an example using patching:\n",
      "```python\n",
      "import unittest\n",
      "from unittest.mock import patch\n",
      "import io\n",
      "import example\n",
      "\n",
      "sample_data = io.BytesIO(b'''\\\n",
      "\"IBM\",91.1\\r\n",
      "\"AA\",13.25\\r\n",
      "\"MSFT\",27.72\\r\n",
      "\\r\n",
      "''')\n",
      "\n",
      "class Tests(unittest.TestCase):\n",
      "    @patch('example.urlopen', return_value=sample_data)\n",
      "    def test_dowprices(self, mock_urlopen):\n",
      "        p = example.dowprices()\n",
      "        self.assertTrue(mock_urlopen.called)\n",
      "        self.assertEqual(p,\n",
      "                         {'IBM': 91.1,\n",
      "                          'AA': 13.25,\n",
      "                          'MSFT' : 27.72})\n",
      "\n",
      "if __name__ == '__main__':\n",
      "    unittest.main()\n",
      "```\n",
      "In this example, the `urlopen()` function in the example module is replaced with a mock\n",
      "object that returns a `BytesIO()` containing sample data as a substitute.\n",
      "\n",
      "An important but subtle facet of this test is the patching of `example.urlopen` instead of\n",
      "`urllib.request.urlopen`. When you are making patches, you have to use the names\n",
      "as they are used in the code being tested. Since the example code uses \n",
      "`from urllib.request import urlopen`, the `urlopen()` function used by the \n",
      "`dowprices()` function is actually located in `example`.\n",
      "\n",
      "This recipe has really only given a very small taste of what\u2019s possible with the \n",
      "`unittest.mock` module. The official documentation is a must-read for more advanced\n",
      "features."
     ]
    }
   ],
   "metadata": {}
  }
 ]
}